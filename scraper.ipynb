{
 "cells": [
  {
   "cell_type": "code",
   "execution_count": 22,
   "id": "28e3b69f-46c2-46e5-a5fa-d93d5604ece6",
   "metadata": {},
   "outputs": [],
   "source": [
    "import os\n",
    "\n",
    "from dotenv import load_dotenv\n",
    "\n",
    "from modules.wunderground import Wunderground\n",
    "from modules.plotly_graphs import Graphs"
   ]
  },
  {
   "cell_type": "code",
   "execution_count": 23,
   "id": "32436c1c-db0e-4120-b9a8-cd283d1d26f8",
   "metadata": {},
   "outputs": [
    {
     "data": {
      "text/plain": [
       "True"
      ]
     },
     "execution_count": 23,
     "metadata": {},
     "output_type": "execute_result"
    }
   ],
   "source": [
    "load_dotenv()"
   ]
  },
  {
   "cell_type": "code",
   "execution_count": 24,
   "id": "36235a60-8f41-4e4b-8109-baa8f4a9ec69",
   "metadata": {},
   "outputs": [],
   "source": [
    "station = os.getenv('STATION')\n",
    "attempts = int(os.getenv('ATTEMPTS'))\n",
    "wait_time = os.getenv('WAIT_TIME')\n",
    "freq = os.getenv('FREQ')"
   ]
  },
  {
   "cell_type": "code",
   "execution_count": 25,
   "id": "a27df824-4a46-4d41-b773-8c1c59155f82",
   "metadata": {},
   "outputs": [],
   "source": [
    "wunderground = Wunderground(station, attempts, wait_time, freq)\n",
    "df = wunderground.scrape()"
   ]
  },
  {
   "cell_type": "code",
   "execution_count": 26,
   "id": "e23aac11-6c7e-476d-91f6-67131c6a8f6a",
   "metadata": {},
   "outputs": [],
   "source": [
    "graphs = Graphs()\n",
    "all_graphs = graphs.create_graphs(df)"
   ]
  },
  {
   "cell_type": "code",
   "execution_count": 27,
   "id": "74b72f1f-d34f-4068-92c2-56f237f9ab38",
   "metadata": {},
   "outputs": [],
   "source": [
    "temperature_dewpoint_graph = all_graphs['temperature_dewpoint']\n",
    "humidity_graph = all_graphs['humidity']\n",
    "wind_graph = all_graphs['wind']\n",
    "rain_graph = all_graphs['rain']\n",
    "pressure_graph = all_graphs['pressure']"
   ]
  },
  {
   "cell_type": "code",
   "execution_count": 28,
   "id": "90ee1330-50dc-4121-abf4-57edab3256d4",
   "metadata": {},
   "outputs": [
    {
     "data": {
      "application/vnd.plotly.v1+json": {
       "config": {
        "plotlyServerURL": "https://plot.ly"
       },
       "data": [
        {
         "line": {
          "color": "red"
         },
         "mode": "lines",
         "name": "Temperature",
         "type": "scatter",
         "x": [
          "2025-08-11T00:04:00.000000000",
          "2025-08-11T00:09:00.000000000",
          "2025-08-11T00:14:00.000000000",
          "2025-08-11T00:19:00.000000000",
          "2025-08-11T00:24:00.000000000",
          "2025-08-11T00:29:00.000000000",
          "2025-08-11T00:34:00.000000000",
          "2025-08-11T00:39:00.000000000",
          "2025-08-11T00:44:00.000000000",
          "2025-08-11T00:49:00.000000000",
          "2025-08-11T00:54:00.000000000",
          "2025-08-11T00:59:00.000000000",
          "2025-08-11T01:04:00.000000000",
          "2025-08-11T01:09:00.000000000",
          "2025-08-11T01:14:00.000000000",
          "2025-08-11T01:19:00.000000000",
          "2025-08-11T01:24:00.000000000",
          "2025-08-11T01:29:00.000000000",
          "2025-08-11T01:34:00.000000000",
          "2025-08-11T01:39:00.000000000",
          "2025-08-11T01:44:00.000000000",
          "2025-08-11T01:49:00.000000000",
          "2025-08-11T01:54:00.000000000",
          "2025-08-11T01:59:00.000000000",
          "2025-08-11T02:04:00.000000000",
          "2025-08-11T02:09:00.000000000",
          "2025-08-11T02:14:00.000000000",
          "2025-08-11T02:19:00.000000000",
          "2025-08-11T02:24:00.000000000",
          "2025-08-11T02:29:00.000000000",
          "2025-08-11T02:34:00.000000000",
          "2025-08-11T02:39:00.000000000",
          "2025-08-11T02:44:00.000000000",
          "2025-08-11T02:49:00.000000000",
          "2025-08-11T02:54:00.000000000",
          "2025-08-11T02:59:00.000000000",
          "2025-08-11T03:04:00.000000000",
          "2025-08-11T03:09:00.000000000",
          "2025-08-11T03:14:00.000000000",
          "2025-08-11T03:19:00.000000000",
          "2025-08-11T03:24:00.000000000",
          "2025-08-11T03:29:00.000000000",
          "2025-08-11T03:34:00.000000000",
          "2025-08-11T03:39:00.000000000",
          "2025-08-11T03:44:00.000000000",
          "2025-08-11T03:49:00.000000000",
          "2025-08-11T03:54:00.000000000",
          "2025-08-11T03:59:00.000000000",
          "2025-08-11T04:04:00.000000000",
          "2025-08-11T04:09:00.000000000",
          "2025-08-11T04:14:00.000000000",
          "2025-08-11T04:19:00.000000000",
          "2025-08-11T04:24:00.000000000",
          "2025-08-11T04:29:00.000000000",
          "2025-08-11T04:34:00.000000000",
          "2025-08-11T04:39:00.000000000",
          "2025-08-11T04:44:00.000000000",
          "2025-08-11T04:49:00.000000000",
          "2025-08-11T04:54:00.000000000",
          "2025-08-11T04:59:00.000000000",
          "2025-08-11T05:04:00.000000000",
          "2025-08-11T05:09:00.000000000",
          "2025-08-11T05:14:00.000000000",
          "2025-08-11T05:19:00.000000000",
          "2025-08-11T05:24:00.000000000",
          "2025-08-11T05:29:00.000000000",
          "2025-08-11T05:34:00.000000000",
          "2025-08-11T05:39:00.000000000",
          "2025-08-11T05:44:00.000000000",
          "2025-08-11T05:49:00.000000000",
          "2025-08-11T05:54:00.000000000",
          "2025-08-11T05:59:00.000000000",
          "2025-08-11T06:04:00.000000000",
          "2025-08-11T06:09:00.000000000",
          "2025-08-11T06:14:00.000000000",
          "2025-08-11T06:19:00.000000000",
          "2025-08-11T06:24:00.000000000",
          "2025-08-11T06:29:00.000000000",
          "2025-08-11T06:34:00.000000000",
          "2025-08-11T06:39:00.000000000",
          "2025-08-11T06:44:00.000000000",
          "2025-08-11T06:49:00.000000000",
          "2025-08-11T06:54:00.000000000",
          "2025-08-11T06:59:00.000000000",
          "2025-08-11T07:04:00.000000000",
          "2025-08-11T07:09:00.000000000",
          "2025-08-11T07:14:00.000000000",
          "2025-08-11T07:19:00.000000000",
          "2025-08-11T07:24:00.000000000",
          "2025-08-11T07:29:00.000000000",
          "2025-08-11T07:34:00.000000000",
          "2025-08-11T07:39:00.000000000",
          "2025-08-11T07:44:00.000000000",
          "2025-08-11T07:49:00.000000000",
          "2025-08-11T07:54:00.000000000",
          "2025-08-11T07:59:00.000000000",
          "2025-08-11T08:04:00.000000000",
          "2025-08-11T08:09:00.000000000",
          "2025-08-11T08:14:00.000000000",
          "2025-08-11T08:19:00.000000000",
          "2025-08-11T08:24:00.000000000",
          "2025-08-11T08:29:00.000000000",
          "2025-08-11T08:34:00.000000000",
          "2025-08-11T08:39:00.000000000",
          "2025-08-11T08:44:00.000000000",
          "2025-08-11T08:49:00.000000000",
          "2025-08-11T08:54:00.000000000",
          "2025-08-11T08:59:00.000000000",
          "2025-08-11T09:04:00.000000000",
          "2025-08-11T09:09:00.000000000",
          "2025-08-11T09:14:00.000000000",
          "2025-08-11T09:19:00.000000000",
          "2025-08-11T09:24:00.000000000",
          "2025-08-11T09:29:00.000000000",
          "2025-08-11T09:34:00.000000000",
          "2025-08-11T09:39:00.000000000",
          "2025-08-11T09:44:00.000000000",
          "2025-08-11T09:49:00.000000000",
          "2025-08-11T09:54:00.000000000",
          "2025-08-11T09:59:00.000000000",
          "2025-08-11T10:04:00.000000000",
          "2025-08-11T10:09:00.000000000",
          "2025-08-11T10:14:00.000000000",
          "2025-08-11T10:19:00.000000000",
          "2025-08-11T10:24:00.000000000",
          "2025-08-11T10:29:00.000000000",
          "2025-08-11T10:34:00.000000000",
          "2025-08-11T10:39:00.000000000",
          "2025-08-11T10:44:00.000000000",
          "2025-08-11T10:49:00.000000000",
          "2025-08-11T10:54:00.000000000",
          "2025-08-11T10:59:00.000000000",
          "2025-08-11T11:04:00.000000000",
          "2025-08-11T11:09:00.000000000",
          "2025-08-11T11:14:00.000000000",
          "2025-08-11T11:19:00.000000000",
          "2025-08-11T11:24:00.000000000",
          "2025-08-11T11:29:00.000000000",
          "2025-08-11T11:34:00.000000000",
          "2025-08-11T11:39:00.000000000",
          "2025-08-11T11:44:00.000000000",
          "2025-08-11T11:49:00.000000000",
          "2025-08-11T11:54:00.000000000",
          "2025-08-11T11:59:00.000000000",
          "2025-08-11T12:04:00.000000000",
          "2025-08-11T12:09:00.000000000",
          "2025-08-11T12:14:00.000000000"
         ],
         "y": {
          "bdata": "zczMzMwsU0AzMzMzM/NSQM3MzMzMrFJAmpmZmZmZUkDNzMzMzIxSQGZmZmZmhlJAMzMzMzNzUkAzMzMzM3NSQJqZmZmZeVJAmpmZmZl5UkCamZmZmXlSQJqZmZmZeVJAZmZmZmZmUkAAAAAAAGBSQAAAAAAAYFJAAAAAAABgUkCamZmZmVlSQJqZmZmZWVJAzczMzMxMUkDNzMzMzExSQGZmZmZmRlJAAAAAAABAUkAAAAAAAEBSQDMzMzMzM1JAZmZmZmYmUkAzMzMzMxNSQDMzMzMz81FAMzMzMzPzUUDNzMzMzOxRQAAAAAAA4FFAMzMzMzPTUUDNzMzMzMxRQM3MzMzMzFFAzczMzMzMUUAAAAAAAMBRQDMzMzMzs1FAZmZmZmamUUAAAAAAAKBRQDMzMzMzk1FAMzMzMzOTUUAzMzMzM5NRQDMzMzMzk1FAmpmZmZmZUUDNzMzMzIxRQDMzMzMzk1FAzczMzMyMUUAAAAAAAIBRQJqZmZmZeVFAmpmZmZl5UUAzMzMzM3NRQDMzMzMzU1FAMzMzMzNTUUCamZmZmVlRQJqZmZmZWVFAmpmZmZlZUUCamZmZmVlRQAAAAAAAYFFAAAAAAABgUUAAAAAAAGBRQJqZmZmZWVFAmpmZmZlZUUAzMzMzM1NRQJqZmZmZOVFAzczMzMwsUUAzMzMzMxNRQGZmZmZmBlFAAAAAAAAAUUDNzMzMzOxQQM3MzMzM7FBAZmZmZmbmUEBmZmZmZuZQQGZmZmZm5lBAZmZmZmbmUEBmZmZmZuZQQGZmZmZm5lBAZmZmZmbmUEBmZmZmZuZQQGZmZmZm5lBAZmZmZmbmUEBmZmZmZuZQQAAAAAAA4FBAAAAAAADgUEAAAAAAAOBQQAAAAAAA4FBAmpmZmZnZUEAzMzMzM9NQQGZmZmZmxlBAZmZmZmbGUEDNzMzMzMxQQJqZmZmZ2VBAAAAAAADgUEAAAAAAAOBQQAAAAAAA4FBAZmZmZmbmUEDNzMzMzOxQQAAAAAAAAFFAzczMzMwMUUCamZmZmRlRQJqZmZmZGVFAMzMzMzMTUUCamZmZmRlRQAAAAAAAIFFAzczMzMwsUUAzMzMzMzNRQJqZmZmZOVFAmpmZmZk5UUCamZmZmTlRQM3MzMzMTFFAzczMzMxMUUCamZmZmVlRQM3MzMzMbFFAZmZmZmaGUUBmZmZmZoZRQM3MzMzMjFFAZmZmZmaGUUDNzMzMzIxRQM3MzMzMrFFAzczMzMzMUUAAAAAAAABSQDMzMzMzE1JAmpmZmZkZUkBmZmZmZiZSQGZmZmZmRlJAZmZmZmYmUkBmZmZmZgZSQAAAAAAAIFJAzczMzMxMUkAAAAAAAGBSQM3MzMzMLFJAZmZmZmZGUkCamZmZmVlSQJqZmZmZeVJAzczMzMyMUkAzMzMzM5NSQJqZmZmZmVJAZmZmZmamUkAAAAAAAKBSQJqZmZmZmVJAmpmZmZmZUkBmZmZmZqZSQM3MzMzMrFJAZmZmZmamUkAAAAAAAKBSQM3MzMzMrFJAMzMzMzOzUkCamZmZmblSQM3MzMzMrFJA",
          "dtype": "f8"
         }
        },
        {
         "line": {
          "color": "green"
         },
         "mode": "lines",
         "name": "Dew Point",
         "type": "scatter",
         "x": [
          "2025-08-11T00:04:00.000000000",
          "2025-08-11T00:09:00.000000000",
          "2025-08-11T00:14:00.000000000",
          "2025-08-11T00:19:00.000000000",
          "2025-08-11T00:24:00.000000000",
          "2025-08-11T00:29:00.000000000",
          "2025-08-11T00:34:00.000000000",
          "2025-08-11T00:39:00.000000000",
          "2025-08-11T00:44:00.000000000",
          "2025-08-11T00:49:00.000000000",
          "2025-08-11T00:54:00.000000000",
          "2025-08-11T00:59:00.000000000",
          "2025-08-11T01:04:00.000000000",
          "2025-08-11T01:09:00.000000000",
          "2025-08-11T01:14:00.000000000",
          "2025-08-11T01:19:00.000000000",
          "2025-08-11T01:24:00.000000000",
          "2025-08-11T01:29:00.000000000",
          "2025-08-11T01:34:00.000000000",
          "2025-08-11T01:39:00.000000000",
          "2025-08-11T01:44:00.000000000",
          "2025-08-11T01:49:00.000000000",
          "2025-08-11T01:54:00.000000000",
          "2025-08-11T01:59:00.000000000",
          "2025-08-11T02:04:00.000000000",
          "2025-08-11T02:09:00.000000000",
          "2025-08-11T02:14:00.000000000",
          "2025-08-11T02:19:00.000000000",
          "2025-08-11T02:24:00.000000000",
          "2025-08-11T02:29:00.000000000",
          "2025-08-11T02:34:00.000000000",
          "2025-08-11T02:39:00.000000000",
          "2025-08-11T02:44:00.000000000",
          "2025-08-11T02:49:00.000000000",
          "2025-08-11T02:54:00.000000000",
          "2025-08-11T02:59:00.000000000",
          "2025-08-11T03:04:00.000000000",
          "2025-08-11T03:09:00.000000000",
          "2025-08-11T03:14:00.000000000",
          "2025-08-11T03:19:00.000000000",
          "2025-08-11T03:24:00.000000000",
          "2025-08-11T03:29:00.000000000",
          "2025-08-11T03:34:00.000000000",
          "2025-08-11T03:39:00.000000000",
          "2025-08-11T03:44:00.000000000",
          "2025-08-11T03:49:00.000000000",
          "2025-08-11T03:54:00.000000000",
          "2025-08-11T03:59:00.000000000",
          "2025-08-11T04:04:00.000000000",
          "2025-08-11T04:09:00.000000000",
          "2025-08-11T04:14:00.000000000",
          "2025-08-11T04:19:00.000000000",
          "2025-08-11T04:24:00.000000000",
          "2025-08-11T04:29:00.000000000",
          "2025-08-11T04:34:00.000000000",
          "2025-08-11T04:39:00.000000000",
          "2025-08-11T04:44:00.000000000",
          "2025-08-11T04:49:00.000000000",
          "2025-08-11T04:54:00.000000000",
          "2025-08-11T04:59:00.000000000",
          "2025-08-11T05:04:00.000000000",
          "2025-08-11T05:09:00.000000000",
          "2025-08-11T05:14:00.000000000",
          "2025-08-11T05:19:00.000000000",
          "2025-08-11T05:24:00.000000000",
          "2025-08-11T05:29:00.000000000",
          "2025-08-11T05:34:00.000000000",
          "2025-08-11T05:39:00.000000000",
          "2025-08-11T05:44:00.000000000",
          "2025-08-11T05:49:00.000000000",
          "2025-08-11T05:54:00.000000000",
          "2025-08-11T05:59:00.000000000",
          "2025-08-11T06:04:00.000000000",
          "2025-08-11T06:09:00.000000000",
          "2025-08-11T06:14:00.000000000",
          "2025-08-11T06:19:00.000000000",
          "2025-08-11T06:24:00.000000000",
          "2025-08-11T06:29:00.000000000",
          "2025-08-11T06:34:00.000000000",
          "2025-08-11T06:39:00.000000000",
          "2025-08-11T06:44:00.000000000",
          "2025-08-11T06:49:00.000000000",
          "2025-08-11T06:54:00.000000000",
          "2025-08-11T06:59:00.000000000",
          "2025-08-11T07:04:00.000000000",
          "2025-08-11T07:09:00.000000000",
          "2025-08-11T07:14:00.000000000",
          "2025-08-11T07:19:00.000000000",
          "2025-08-11T07:24:00.000000000",
          "2025-08-11T07:29:00.000000000",
          "2025-08-11T07:34:00.000000000",
          "2025-08-11T07:39:00.000000000",
          "2025-08-11T07:44:00.000000000",
          "2025-08-11T07:49:00.000000000",
          "2025-08-11T07:54:00.000000000",
          "2025-08-11T07:59:00.000000000",
          "2025-08-11T08:04:00.000000000",
          "2025-08-11T08:09:00.000000000",
          "2025-08-11T08:14:00.000000000",
          "2025-08-11T08:19:00.000000000",
          "2025-08-11T08:24:00.000000000",
          "2025-08-11T08:29:00.000000000",
          "2025-08-11T08:34:00.000000000",
          "2025-08-11T08:39:00.000000000",
          "2025-08-11T08:44:00.000000000",
          "2025-08-11T08:49:00.000000000",
          "2025-08-11T08:54:00.000000000",
          "2025-08-11T08:59:00.000000000",
          "2025-08-11T09:04:00.000000000",
          "2025-08-11T09:09:00.000000000",
          "2025-08-11T09:14:00.000000000",
          "2025-08-11T09:19:00.000000000",
          "2025-08-11T09:24:00.000000000",
          "2025-08-11T09:29:00.000000000",
          "2025-08-11T09:34:00.000000000",
          "2025-08-11T09:39:00.000000000",
          "2025-08-11T09:44:00.000000000",
          "2025-08-11T09:49:00.000000000",
          "2025-08-11T09:54:00.000000000",
          "2025-08-11T09:59:00.000000000",
          "2025-08-11T10:04:00.000000000",
          "2025-08-11T10:09:00.000000000",
          "2025-08-11T10:14:00.000000000",
          "2025-08-11T10:19:00.000000000",
          "2025-08-11T10:24:00.000000000",
          "2025-08-11T10:29:00.000000000",
          "2025-08-11T10:34:00.000000000",
          "2025-08-11T10:39:00.000000000",
          "2025-08-11T10:44:00.000000000",
          "2025-08-11T10:49:00.000000000",
          "2025-08-11T10:54:00.000000000",
          "2025-08-11T10:59:00.000000000",
          "2025-08-11T11:04:00.000000000",
          "2025-08-11T11:09:00.000000000",
          "2025-08-11T11:14:00.000000000",
          "2025-08-11T11:19:00.000000000",
          "2025-08-11T11:24:00.000000000",
          "2025-08-11T11:29:00.000000000",
          "2025-08-11T11:34:00.000000000",
          "2025-08-11T11:39:00.000000000",
          "2025-08-11T11:44:00.000000000",
          "2025-08-11T11:49:00.000000000",
          "2025-08-11T11:54:00.000000000",
          "2025-08-11T11:59:00.000000000",
          "2025-08-11T12:04:00.000000000",
          "2025-08-11T12:09:00.000000000",
          "2025-08-11T12:14:00.000000000"
         ],
         "y": {
          "bdata": "AAAAAACgUUAAAAAAAKBRQJqZmZmZmVFAzczMzMysUUDNzMzMzKxRQDMzMzMzs1FAzczMzMysUUAAAAAAAKBRQDMzMzMzk1FAZmZmZmaGUUBmZmZmZoZRQM3MzMzMjFFAAAAAAACAUUDNzMzMzGxRQM3MzMzMbFFAzczMzMxsUUBmZmZmZmZRQM3MzMzMbFFAmpmZmZlZUUCamZmZmVlRQDMzMzMzU1FAzczMzMxMUUCamZmZmTlRQM3MzMzMTFFAzczMzMxMUUDNzMzMzExRQM3MzMzMLFFAmpmZmZk5UUCamZmZmTlRQM3MzMzMLFFAAAAAAAAgUUCamZmZmRlRQJqZmZmZGVFAmpmZmZkZUUDNzMzMzAxRQJqZmZmZ+VBAzczMzMzsUECamZmZmdlQQM3MzMzMzFBAMzMzMzPTUEDNzMzMzMxQQDMzMzMz01BAZmZmZmbmUECamZmZmdlQQAAAAAAA4FBAmpmZmZnZUEBmZmZmZuZQQAAAAAAA4FBAMzMzMzPzUEDNzMzMzOxQQM3MzMzMzFBAMzMzMzPTUEBmZmZmZuZQQGZmZmZm5lBAZmZmZmbmUEBmZmZmZuZQQM3MzMzM7FBAzczMzMzsUEDNzMzMzOxQQGZmZmZm5lBAZmZmZmbmUEAAAAAAAOBQQGZmZmZmxlBAmpmZmZm5UEAAAAAAAKBQQDMzMzMzk1BAzczMzMyMUECamZmZmXlQQJqZmZmZeVBAMzMzMzNzUEAzMzMzM3NQQDMzMzMzc1BAMzMzMzNzUEAzMzMzM3NQQJqZmZmZeVBAAAAAAACAUECamZmZmXlQQGZmZmZmhlBAZmZmZmaGUEBmZmZmZoZQQAAAAAAAgFBAAAAAAACAUEAAAAAAAIBQQJqZmZmZeVBAZmZmZmZmUEAAAAAAAGBQQDMzMzMzU1BAMzMzMzNTUECamZmZmVlQQGZmZmZmZlBAzczMzMxsUEDNzMzMzGxQQM3MzMzMbFBAMzMzMzNzUECamZmZmXlQQAAAAAAAoFBAZmZmZmamUEDNzMzMzKxQQGZmZmZmplBAAAAAAACgUEBmZmZmZqZQQM3MzMzMrFBAmpmZmZm5UEAAAAAAAMBQQJqZmZmZuVBAMzMzMzOzUEAzMzMzM7NQQGZmZmZmxlBAMzMzMzOzUEAAAAAAAMBQQDMzMzMz01BAAAAAAADgUEAzMzMzM9NQQJqZmZmZ2VBAMzMzMzPTUEDNzMzMzMxQQGZmZmZm5lBAMzMzMzPzUEBmZmZmZgZRQAAAAAAAAFFAAAAAAAAAUUDNzMzMzAxRQAAAAAAAIFFAMzMzMzPzUEDNzMzMzMxQQM3MzMzMzFBAMzMzMzPzUEDNzMzMzOxQQJqZmZmZuVBAZmZmZmbGUEBmZmZmZsZQQJqZmZmZ2VBAMzMzMzPTUEBmZmZmZsZQQAAAAAAAwFBAMzMzMzPTUEDNzMzMzMxQQJqZmZmZ2VBAMzMzMzPTUEAzMzMzM9NQQM3MzMzMzFBAMzMzMzPTUEBmZmZmZsZQQM3MzMzMzFBAZmZmZmbGUEAAAAAAAMBQQAAAAAAAwFBA",
          "dtype": "f8"
         }
        }
       ],
       "layout": {
        "autosize": true,
        "hovermode": "x",
        "legend": {
         "orientation": "h",
         "x": 0.5,
         "xanchor": "center",
         "y": -0.3,
         "yanchor": "bottom"
        },
        "margin": {
         "b": 20,
         "l": 20,
         "r": 20,
         "t": 30
        },
        "template": {
         "data": {
          "bar": [
           {
            "error_x": {
             "color": "#2a3f5f"
            },
            "error_y": {
             "color": "#2a3f5f"
            },
            "marker": {
             "line": {
              "color": "#E5ECF6",
              "width": 0.5
             },
             "pattern": {
              "fillmode": "overlay",
              "size": 10,
              "solidity": 0.2
             }
            },
            "type": "bar"
           }
          ],
          "barpolar": [
           {
            "marker": {
             "line": {
              "color": "#E5ECF6",
              "width": 0.5
             },
             "pattern": {
              "fillmode": "overlay",
              "size": 10,
              "solidity": 0.2
             }
            },
            "type": "barpolar"
           }
          ],
          "carpet": [
           {
            "aaxis": {
             "endlinecolor": "#2a3f5f",
             "gridcolor": "white",
             "linecolor": "white",
             "minorgridcolor": "white",
             "startlinecolor": "#2a3f5f"
            },
            "baxis": {
             "endlinecolor": "#2a3f5f",
             "gridcolor": "white",
             "linecolor": "white",
             "minorgridcolor": "white",
             "startlinecolor": "#2a3f5f"
            },
            "type": "carpet"
           }
          ],
          "choropleth": [
           {
            "colorbar": {
             "outlinewidth": 0,
             "ticks": ""
            },
            "type": "choropleth"
           }
          ],
          "contour": [
           {
            "colorbar": {
             "outlinewidth": 0,
             "ticks": ""
            },
            "colorscale": [
             [
              0,
              "#0d0887"
             ],
             [
              0.1111111111111111,
              "#46039f"
             ],
             [
              0.2222222222222222,
              "#7201a8"
             ],
             [
              0.3333333333333333,
              "#9c179e"
             ],
             [
              0.4444444444444444,
              "#bd3786"
             ],
             [
              0.5555555555555556,
              "#d8576b"
             ],
             [
              0.6666666666666666,
              "#ed7953"
             ],
             [
              0.7777777777777778,
              "#fb9f3a"
             ],
             [
              0.8888888888888888,
              "#fdca26"
             ],
             [
              1,
              "#f0f921"
             ]
            ],
            "type": "contour"
           }
          ],
          "contourcarpet": [
           {
            "colorbar": {
             "outlinewidth": 0,
             "ticks": ""
            },
            "type": "contourcarpet"
           }
          ],
          "heatmap": [
           {
            "colorbar": {
             "outlinewidth": 0,
             "ticks": ""
            },
            "colorscale": [
             [
              0,
              "#0d0887"
             ],
             [
              0.1111111111111111,
              "#46039f"
             ],
             [
              0.2222222222222222,
              "#7201a8"
             ],
             [
              0.3333333333333333,
              "#9c179e"
             ],
             [
              0.4444444444444444,
              "#bd3786"
             ],
             [
              0.5555555555555556,
              "#d8576b"
             ],
             [
              0.6666666666666666,
              "#ed7953"
             ],
             [
              0.7777777777777778,
              "#fb9f3a"
             ],
             [
              0.8888888888888888,
              "#fdca26"
             ],
             [
              1,
              "#f0f921"
             ]
            ],
            "type": "heatmap"
           }
          ],
          "histogram": [
           {
            "marker": {
             "pattern": {
              "fillmode": "overlay",
              "size": 10,
              "solidity": 0.2
             }
            },
            "type": "histogram"
           }
          ],
          "histogram2d": [
           {
            "colorbar": {
             "outlinewidth": 0,
             "ticks": ""
            },
            "colorscale": [
             [
              0,
              "#0d0887"
             ],
             [
              0.1111111111111111,
              "#46039f"
             ],
             [
              0.2222222222222222,
              "#7201a8"
             ],
             [
              0.3333333333333333,
              "#9c179e"
             ],
             [
              0.4444444444444444,
              "#bd3786"
             ],
             [
              0.5555555555555556,
              "#d8576b"
             ],
             [
              0.6666666666666666,
              "#ed7953"
             ],
             [
              0.7777777777777778,
              "#fb9f3a"
             ],
             [
              0.8888888888888888,
              "#fdca26"
             ],
             [
              1,
              "#f0f921"
             ]
            ],
            "type": "histogram2d"
           }
          ],
          "histogram2dcontour": [
           {
            "colorbar": {
             "outlinewidth": 0,
             "ticks": ""
            },
            "colorscale": [
             [
              0,
              "#0d0887"
             ],
             [
              0.1111111111111111,
              "#46039f"
             ],
             [
              0.2222222222222222,
              "#7201a8"
             ],
             [
              0.3333333333333333,
              "#9c179e"
             ],
             [
              0.4444444444444444,
              "#bd3786"
             ],
             [
              0.5555555555555556,
              "#d8576b"
             ],
             [
              0.6666666666666666,
              "#ed7953"
             ],
             [
              0.7777777777777778,
              "#fb9f3a"
             ],
             [
              0.8888888888888888,
              "#fdca26"
             ],
             [
              1,
              "#f0f921"
             ]
            ],
            "type": "histogram2dcontour"
           }
          ],
          "mesh3d": [
           {
            "colorbar": {
             "outlinewidth": 0,
             "ticks": ""
            },
            "type": "mesh3d"
           }
          ],
          "parcoords": [
           {
            "line": {
             "colorbar": {
              "outlinewidth": 0,
              "ticks": ""
             }
            },
            "type": "parcoords"
           }
          ],
          "pie": [
           {
            "automargin": true,
            "type": "pie"
           }
          ],
          "scatter": [
           {
            "fillpattern": {
             "fillmode": "overlay",
             "size": 10,
             "solidity": 0.2
            },
            "type": "scatter"
           }
          ],
          "scatter3d": [
           {
            "line": {
             "colorbar": {
              "outlinewidth": 0,
              "ticks": ""
             }
            },
            "marker": {
             "colorbar": {
              "outlinewidth": 0,
              "ticks": ""
             }
            },
            "type": "scatter3d"
           }
          ],
          "scattercarpet": [
           {
            "marker": {
             "colorbar": {
              "outlinewidth": 0,
              "ticks": ""
             }
            },
            "type": "scattercarpet"
           }
          ],
          "scattergeo": [
           {
            "marker": {
             "colorbar": {
              "outlinewidth": 0,
              "ticks": ""
             }
            },
            "type": "scattergeo"
           }
          ],
          "scattergl": [
           {
            "marker": {
             "colorbar": {
              "outlinewidth": 0,
              "ticks": ""
             }
            },
            "type": "scattergl"
           }
          ],
          "scattermap": [
           {
            "marker": {
             "colorbar": {
              "outlinewidth": 0,
              "ticks": ""
             }
            },
            "type": "scattermap"
           }
          ],
          "scattermapbox": [
           {
            "marker": {
             "colorbar": {
              "outlinewidth": 0,
              "ticks": ""
             }
            },
            "type": "scattermapbox"
           }
          ],
          "scatterpolar": [
           {
            "marker": {
             "colorbar": {
              "outlinewidth": 0,
              "ticks": ""
             }
            },
            "type": "scatterpolar"
           }
          ],
          "scatterpolargl": [
           {
            "marker": {
             "colorbar": {
              "outlinewidth": 0,
              "ticks": ""
             }
            },
            "type": "scatterpolargl"
           }
          ],
          "scatterternary": [
           {
            "marker": {
             "colorbar": {
              "outlinewidth": 0,
              "ticks": ""
             }
            },
            "type": "scatterternary"
           }
          ],
          "surface": [
           {
            "colorbar": {
             "outlinewidth": 0,
             "ticks": ""
            },
            "colorscale": [
             [
              0,
              "#0d0887"
             ],
             [
              0.1111111111111111,
              "#46039f"
             ],
             [
              0.2222222222222222,
              "#7201a8"
             ],
             [
              0.3333333333333333,
              "#9c179e"
             ],
             [
              0.4444444444444444,
              "#bd3786"
             ],
             [
              0.5555555555555556,
              "#d8576b"
             ],
             [
              0.6666666666666666,
              "#ed7953"
             ],
             [
              0.7777777777777778,
              "#fb9f3a"
             ],
             [
              0.8888888888888888,
              "#fdca26"
             ],
             [
              1,
              "#f0f921"
             ]
            ],
            "type": "surface"
           }
          ],
          "table": [
           {
            "cells": {
             "fill": {
              "color": "#EBF0F8"
             },
             "line": {
              "color": "white"
             }
            },
            "header": {
             "fill": {
              "color": "#C8D4E3"
             },
             "line": {
              "color": "white"
             }
            },
            "type": "table"
           }
          ]
         },
         "layout": {
          "annotationdefaults": {
           "arrowcolor": "#2a3f5f",
           "arrowhead": 0,
           "arrowwidth": 1
          },
          "autotypenumbers": "strict",
          "coloraxis": {
           "colorbar": {
            "outlinewidth": 0,
            "ticks": ""
           }
          },
          "colorscale": {
           "diverging": [
            [
             0,
             "#8e0152"
            ],
            [
             0.1,
             "#c51b7d"
            ],
            [
             0.2,
             "#de77ae"
            ],
            [
             0.3,
             "#f1b6da"
            ],
            [
             0.4,
             "#fde0ef"
            ],
            [
             0.5,
             "#f7f7f7"
            ],
            [
             0.6,
             "#e6f5d0"
            ],
            [
             0.7,
             "#b8e186"
            ],
            [
             0.8,
             "#7fbc41"
            ],
            [
             0.9,
             "#4d9221"
            ],
            [
             1,
             "#276419"
            ]
           ],
           "sequential": [
            [
             0,
             "#0d0887"
            ],
            [
             0.1111111111111111,
             "#46039f"
            ],
            [
             0.2222222222222222,
             "#7201a8"
            ],
            [
             0.3333333333333333,
             "#9c179e"
            ],
            [
             0.4444444444444444,
             "#bd3786"
            ],
            [
             0.5555555555555556,
             "#d8576b"
            ],
            [
             0.6666666666666666,
             "#ed7953"
            ],
            [
             0.7777777777777778,
             "#fb9f3a"
            ],
            [
             0.8888888888888888,
             "#fdca26"
            ],
            [
             1,
             "#f0f921"
            ]
           ],
           "sequentialminus": [
            [
             0,
             "#0d0887"
            ],
            [
             0.1111111111111111,
             "#46039f"
            ],
            [
             0.2222222222222222,
             "#7201a8"
            ],
            [
             0.3333333333333333,
             "#9c179e"
            ],
            [
             0.4444444444444444,
             "#bd3786"
            ],
            [
             0.5555555555555556,
             "#d8576b"
            ],
            [
             0.6666666666666666,
             "#ed7953"
            ],
            [
             0.7777777777777778,
             "#fb9f3a"
            ],
            [
             0.8888888888888888,
             "#fdca26"
            ],
            [
             1,
             "#f0f921"
            ]
           ]
          },
          "colorway": [
           "#636efa",
           "#EF553B",
           "#00cc96",
           "#ab63fa",
           "#FFA15A",
           "#19d3f3",
           "#FF6692",
           "#B6E880",
           "#FF97FF",
           "#FECB52"
          ],
          "font": {
           "color": "#2a3f5f"
          },
          "geo": {
           "bgcolor": "white",
           "lakecolor": "white",
           "landcolor": "#E5ECF6",
           "showlakes": true,
           "showland": true,
           "subunitcolor": "white"
          },
          "hoverlabel": {
           "align": "left"
          },
          "hovermode": "closest",
          "mapbox": {
           "style": "light"
          },
          "paper_bgcolor": "white",
          "plot_bgcolor": "#E5ECF6",
          "polar": {
           "angularaxis": {
            "gridcolor": "white",
            "linecolor": "white",
            "ticks": ""
           },
           "bgcolor": "#E5ECF6",
           "radialaxis": {
            "gridcolor": "white",
            "linecolor": "white",
            "ticks": ""
           }
          },
          "scene": {
           "xaxis": {
            "backgroundcolor": "#E5ECF6",
            "gridcolor": "white",
            "gridwidth": 2,
            "linecolor": "white",
            "showbackground": true,
            "ticks": "",
            "zerolinecolor": "white"
           },
           "yaxis": {
            "backgroundcolor": "#E5ECF6",
            "gridcolor": "white",
            "gridwidth": 2,
            "linecolor": "white",
            "showbackground": true,
            "ticks": "",
            "zerolinecolor": "white"
           },
           "zaxis": {
            "backgroundcolor": "#E5ECF6",
            "gridcolor": "white",
            "gridwidth": 2,
            "linecolor": "white",
            "showbackground": true,
            "ticks": "",
            "zerolinecolor": "white"
           }
          },
          "shapedefaults": {
           "line": {
            "color": "#2a3f5f"
           }
          },
          "ternary": {
           "aaxis": {
            "gridcolor": "white",
            "linecolor": "white",
            "ticks": ""
           },
           "baxis": {
            "gridcolor": "white",
            "linecolor": "white",
            "ticks": ""
           },
           "bgcolor": "#E5ECF6",
           "caxis": {
            "gridcolor": "white",
            "linecolor": "white",
            "ticks": ""
           }
          },
          "title": {
           "x": 0.05
          },
          "xaxis": {
           "automargin": true,
           "gridcolor": "white",
           "linecolor": "white",
           "ticks": "",
           "title": {
            "standoff": 15
           },
           "zerolinecolor": "white",
           "zerolinewidth": 2
          },
          "yaxis": {
           "automargin": true,
           "gridcolor": "white",
           "linecolor": "white",
           "ticks": "",
           "title": {
            "standoff": 15
           },
           "zerolinecolor": "white",
           "zerolinewidth": 2
          }
         }
        },
        "xaxis": {
         "showgrid": false
        },
        "yaxis": {
         "showgrid": false,
         "title": {
          "text": "Degrees (°)"
         }
        }
       }
      },
      "image/png": "[encoded data removed]"
     },
     "metadata": {},
     "output_type": "display_data"
    },
    {
     "data": {
      "application/vnd.plotly.v1+json": {
       "config": {
        "plotlyServerURL": "https://plot.ly"
       },
       "data": [
        {
         "line": {
          "color": "lightgreen"
         },
         "mode": "lines",
         "name": "Humidity",
         "type": "scatter",
         "x": [
          "2025-08-11T00:04:00.000000000",
          "2025-08-11T00:09:00.000000000",
          "2025-08-11T00:14:00.000000000",
          "2025-08-11T00:19:00.000000000",
          "2025-08-11T00:24:00.000000000",
          "2025-08-11T00:29:00.000000000",
          "2025-08-11T00:34:00.000000000",
          "2025-08-11T00:39:00.000000000",
          "2025-08-11T00:44:00.000000000",
          "2025-08-11T00:49:00.000000000",
          "2025-08-11T00:54:00.000000000",
          "2025-08-11T00:59:00.000000000",
          "2025-08-11T01:04:00.000000000",
          "2025-08-11T01:09:00.000000000",
          "2025-08-11T01:14:00.000000000",
          "2025-08-11T01:19:00.000000000",
          "2025-08-11T01:24:00.000000000",
          "2025-08-11T01:29:00.000000000",
          "2025-08-11T01:34:00.000000000",
          "2025-08-11T01:39:00.000000000",
          "2025-08-11T01:44:00.000000000",
          "2025-08-11T01:49:00.000000000",
          "2025-08-11T01:54:00.000000000",
          "2025-08-11T01:59:00.000000000",
          "2025-08-11T02:04:00.000000000",
          "2025-08-11T02:09:00.000000000",
          "2025-08-11T02:14:00.000000000",
          "2025-08-11T02:19:00.000000000",
          "2025-08-11T02:24:00.000000000",
          "2025-08-11T02:29:00.000000000",
          "2025-08-11T02:34:00.000000000",
          "2025-08-11T02:39:00.000000000",
          "2025-08-11T02:44:00.000000000",
          "2025-08-11T02:49:00.000000000",
          "2025-08-11T02:54:00.000000000",
          "2025-08-11T02:59:00.000000000",
          "2025-08-11T03:04:00.000000000",
          "2025-08-11T03:09:00.000000000",
          "2025-08-11T03:14:00.000000000",
          "2025-08-11T03:19:00.000000000",
          "2025-08-11T03:24:00.000000000",
          "2025-08-11T03:29:00.000000000",
          "2025-08-11T03:34:00.000000000",
          "2025-08-11T03:39:00.000000000",
          "2025-08-11T03:44:00.000000000",
          "2025-08-11T03:49:00.000000000",
          "2025-08-11T03:54:00.000000000",
          "2025-08-11T03:59:00.000000000",
          "2025-08-11T04:04:00.000000000",
          "2025-08-11T04:09:00.000000000",
          "2025-08-11T04:14:00.000000000",
          "2025-08-11T04:19:00.000000000",
          "2025-08-11T04:24:00.000000000",
          "2025-08-11T04:29:00.000000000",
          "2025-08-11T04:34:00.000000000",
          "2025-08-11T04:39:00.000000000",
          "2025-08-11T04:44:00.000000000",
          "2025-08-11T04:49:00.000000000",
          "2025-08-11T04:54:00.000000000",
          "2025-08-11T04:59:00.000000000",
          "2025-08-11T05:04:00.000000000",
          "2025-08-11T05:09:00.000000000",
          "2025-08-11T05:14:00.000000000",
          "2025-08-11T05:19:00.000000000",
          "2025-08-11T05:24:00.000000000",
          "2025-08-11T05:29:00.000000000",
          "2025-08-11T05:34:00.000000000",
          "2025-08-11T05:39:00.000000000",
          "2025-08-11T05:44:00.000000000",
          "2025-08-11T05:49:00.000000000",
          "2025-08-11T05:54:00.000000000",
          "2025-08-11T05:59:00.000000000",
          "2025-08-11T06:04:00.000000000",
          "2025-08-11T06:09:00.000000000",
          "2025-08-11T06:14:00.000000000",
          "2025-08-11T06:19:00.000000000",
          "2025-08-11T06:24:00.000000000",
          "2025-08-11T06:29:00.000000000",
          "2025-08-11T06:34:00.000000000",
          "2025-08-11T06:39:00.000000000",
          "2025-08-11T06:44:00.000000000",
          "2025-08-11T06:49:00.000000000",
          "2025-08-11T06:54:00.000000000",
          "2025-08-11T06:59:00.000000000",
          "2025-08-11T07:04:00.000000000",
          "2025-08-11T07:09:00.000000000",
          "2025-08-11T07:14:00.000000000",
          "2025-08-11T07:19:00.000000000",
          "2025-08-11T07:24:00.000000000",
          "2025-08-11T07:29:00.000000000",
          "2025-08-11T07:34:00.000000000",
          "2025-08-11T07:39:00.000000000",
          "2025-08-11T07:44:00.000000000",
          "2025-08-11T07:49:00.000000000",
          "2025-08-11T07:54:00.000000000",
          "2025-08-11T07:59:00.000000000",
          "2025-08-11T08:04:00.000000000",
          "2025-08-11T08:09:00.000000000",
          "2025-08-11T08:14:00.000000000",
          "2025-08-11T08:19:00.000000000",
          "2025-08-11T08:24:00.000000000",
          "2025-08-11T08:29:00.000000000",
          "2025-08-11T08:34:00.000000000",
          "2025-08-11T08:39:00.000000000",
          "2025-08-11T08:44:00.000000000",
          "2025-08-11T08:49:00.000000000",
          "2025-08-11T08:54:00.000000000",
          "2025-08-11T08:59:00.000000000",
          "2025-08-11T09:04:00.000000000",
          "2025-08-11T09:09:00.000000000",
          "2025-08-11T09:14:00.000000000",
          "2025-08-11T09:19:00.000000000",
          "2025-08-11T09:24:00.000000000",
          "2025-08-11T09:29:00.000000000",
          "2025-08-11T09:34:00.000000000",
          "2025-08-11T09:39:00.000000000",
          "2025-08-11T09:44:00.000000000",
          "2025-08-11T09:49:00.000000000",
          "2025-08-11T09:54:00.000000000",
          "2025-08-11T09:59:00.000000000",
          "2025-08-11T10:04:00.000000000",
          "2025-08-11T10:09:00.000000000",
          "2025-08-11T10:14:00.000000000",
          "2025-08-11T10:19:00.000000000",
          "2025-08-11T10:24:00.000000000",
          "2025-08-11T10:29:00.000000000",
          "2025-08-11T10:34:00.000000000",
          "2025-08-11T10:39:00.000000000",
          "2025-08-11T10:44:00.000000000",
          "2025-08-11T10:49:00.000000000",
          "2025-08-11T10:54:00.000000000",
          "2025-08-11T10:59:00.000000000",
          "2025-08-11T11:04:00.000000000",
          "2025-08-11T11:09:00.000000000",
          "2025-08-11T11:14:00.000000000",
          "2025-08-11T11:19:00.000000000",
          "2025-08-11T11:24:00.000000000",
          "2025-08-11T11:29:00.000000000",
          "2025-08-11T11:34:00.000000000",
          "2025-08-11T11:39:00.000000000",
          "2025-08-11T11:44:00.000000000",
          "2025-08-11T11:49:00.000000000",
          "2025-08-11T11:54:00.000000000",
          "2025-08-11T11:59:00.000000000",
          "2025-08-11T12:04:00.000000000",
          "2025-08-11T12:09:00.000000000",
          "2025-08-11T12:14:00.000000000"
         ],
         "y": {
          "bdata": "AAAAAABAVEAAAAAAAABVQAAAAAAAgFVAAAAAAAAAVkAAAAAAAEBWQAAAAAAAgFZAAAAAAACAVkAAAAAAAEBWQAAAAAAAQFZAAAAAAAAAVkAAAAAAAABWQAAAAAAAAFZAAAAAAAAAVkAAAAAAAABWQAAAAAAAAFZAAAAAAAAAVkAAAAAAAABWQAAAAAAAAFZAAAAAAAAAVkAAAAAAAABWQAAAAAAAAFZAAAAAAAAAVkAAAAAAAMBVQAAAAAAAAFZAAAAAAABAVkAAAAAAAIBWQAAAAAAAgFZAAAAAAADAVkAAAAAAAMBWQAAAAAAAwFZAAAAAAADAVkAAAAAAAMBWQAAAAAAAwFZAAAAAAADAVkAAAAAAAMBWQAAAAAAAwFZAAAAAAADAVkAAAAAAAIBWQAAAAAAAgFZAAAAAAACAVkAAAAAAAIBWQAAAAAAAgFZAAAAAAADAVkAAAAAAAMBWQAAAAAAAwFZAAAAAAADAVkAAAAAAAABXQAAAAAAAAFdAAAAAAABAV0AAAAAAAEBXQAAAAAAAQFdAAAAAAABAV0AAAAAAAIBXQAAAAAAAgFdAAAAAAACAV0AAAAAAAIBXQAAAAAAAgFdAAAAAAACAV0AAAAAAAIBXQAAAAAAAgFdAAAAAAACAV0AAAAAAAIBXQAAAAAAAgFdAAAAAAACAV0AAAAAAAIBXQAAAAAAAgFdAAAAAAACAV0AAAAAAAIBXQAAAAAAAgFdAAAAAAACAV0AAAAAAAIBXQAAAAAAAgFdAAAAAAACAV0AAAAAAAIBXQAAAAAAAgFdAAAAAAADAV0AAAAAAAIBXQAAAAAAAwFdAAAAAAADAV0AAAAAAAMBXQAAAAAAAwFdAAAAAAADAV0AAAAAAAMBXQAAAAAAAwFdAAAAAAACAV0AAAAAAAIBXQAAAAAAAgFdAAAAAAACAV0AAAAAAAIBXQAAAAAAAgFdAAAAAAACAV0AAAAAAAIBXQAAAAAAAgFdAAAAAAACAV0AAAAAAAIBXQAAAAAAAwFdAAAAAAADAV0AAAAAAAIBXQAAAAAAAgFdAAAAAAACAV0AAAAAAAIBXQAAAAAAAgFdAAAAAAACAV0AAAAAAAIBXQAAAAAAAQFdAAAAAAABAV0AAAAAAAEBXQAAAAAAAQFdAAAAAAAAAV0AAAAAAAABXQAAAAAAAAFdAAAAAAAAAV0AAAAAAAMBWQAAAAAAAwFZAAAAAAADAVkAAAAAAAIBWQAAAAAAAgFZAAAAAAABAVkAAAAAAAABWQAAAAAAAgFVAAAAAAACAVUAAAAAAAIBVQAAAAAAAQFVAAAAAAABAVUAAAAAAAEBVQAAAAAAAwFRAAAAAAADAVEAAAAAAAIBUQAAAAAAAgFRAAAAAAACAVEAAAAAAAEBUQAAAAAAAAFRAAAAAAADAU0AAAAAAAIBTQAAAAAAAgFNAAAAAAACAU0AAAAAAAIBTQAAAAAAAwFNAAAAAAADAU0AAAAAAAIBTQAAAAAAAgFNAAAAAAACAU0AAAAAAAIBTQAAAAAAAQFNAAAAAAABAU0AAAAAAAEBTQAAAAAAAQFNA",
          "dtype": "f8"
         }
        }
       ],
       "layout": {
        "autosize": true,
        "hovermode": "x",
        "legend": {
         "orientation": "h",
         "x": 0.5,
         "xanchor": "center",
         "y": -0.3,
         "yanchor": "bottom"
        },
        "margin": {
         "b": 20,
         "l": 20,
         "r": 20,
         "t": 30
        },
        "template": {
         "data": {
          "bar": [
           {
            "error_x": {
             "color": "#2a3f5f"
            },
            "error_y": {
             "color": "#2a3f5f"
            },
            "marker": {
             "line": {
              "color": "#E5ECF6",
              "width": 0.5
             },
             "pattern": {
              "fillmode": "overlay",
              "size": 10,
              "solidity": 0.2
             }
            },
            "type": "bar"
           }
          ],
          "barpolar": [
           {
            "marker": {
             "line": {
              "color": "#E5ECF6",
              "width": 0.5
             },
             "pattern": {
              "fillmode": "overlay",
              "size": 10,
              "solidity": 0.2
             }
            },
            "type": "barpolar"
           }
          ],
          "carpet": [
           {
            "aaxis": {
             "endlinecolor": "#2a3f5f",
             "gridcolor": "white",
             "linecolor": "white",
             "minorgridcolor": "white",
             "startlinecolor": "#2a3f5f"
            },
            "baxis": {
             "endlinecolor": "#2a3f5f",
             "gridcolor": "white",
             "linecolor": "white",
             "minorgridcolor": "white",
             "startlinecolor": "#2a3f5f"
            },
            "type": "carpet"
           }
          ],
          "choropleth": [
           {
            "colorbar": {
             "outlinewidth": 0,
             "ticks": ""
            },
            "type": "choropleth"
           }
          ],
          "contour": [
           {
            "colorbar": {
             "outlinewidth": 0,
             "ticks": ""
            },
            "colorscale": [
             [
              0,
              "#0d0887"
             ],
             [
              0.1111111111111111,
              "#46039f"
             ],
             [
              0.2222222222222222,
              "#7201a8"
             ],
             [
              0.3333333333333333,
              "#9c179e"
             ],
             [
              0.4444444444444444,
              "#bd3786"
             ],
             [
              0.5555555555555556,
              "#d8576b"
             ],
             [
              0.6666666666666666,
              "#ed7953"
             ],
             [
              0.7777777777777778,
              "#fb9f3a"
             ],
             [
              0.8888888888888888,
              "#fdca26"
             ],
             [
              1,
              "#f0f921"
             ]
            ],
            "type": "contour"
           }
          ],
          "contourcarpet": [
           {
            "colorbar": {
             "outlinewidth": 0,
             "ticks": ""
            },
            "type": "contourcarpet"
           }
          ],
          "heatmap": [
           {
            "colorbar": {
             "outlinewidth": 0,
             "ticks": ""
            },
            "colorscale": [
             [
              0,
              "#0d0887"
             ],
             [
              0.1111111111111111,
              "#46039f"
             ],
             [
              0.2222222222222222,
              "#7201a8"
             ],
             [
              0.3333333333333333,
              "#9c179e"
             ],
             [
              0.4444444444444444,
              "#bd3786"
             ],
             [
              0.5555555555555556,
              "#d8576b"
             ],
             [
              0.6666666666666666,
              "#ed7953"
             ],
             [
              0.7777777777777778,
              "#fb9f3a"
             ],
             [
              0.8888888888888888,
              "#fdca26"
             ],
             [
              1,
              "#f0f921"
             ]
            ],
            "type": "heatmap"
           }
          ],
          "histogram": [
           {
            "marker": {
             "pattern": {
              "fillmode": "overlay",
              "size": 10,
              "solidity": 0.2
             }
            },
            "type": "histogram"
           }
          ],
          "histogram2d": [
           {
            "colorbar": {
             "outlinewidth": 0,
             "ticks": ""
            },
            "colorscale": [
             [
              0,
              "#0d0887"
             ],
             [
              0.1111111111111111,
              "#46039f"
             ],
             [
              0.2222222222222222,
              "#7201a8"
             ],
             [
              0.3333333333333333,
              "#9c179e"
             ],
             [
              0.4444444444444444,
              "#bd3786"
             ],
             [
              0.5555555555555556,
              "#d8576b"
             ],
             [
              0.6666666666666666,
              "#ed7953"
             ],
             [
              0.7777777777777778,
              "#fb9f3a"
             ],
             [
              0.8888888888888888,
              "#fdca26"
             ],
             [
              1,
              "#f0f921"
             ]
            ],
            "type": "histogram2d"
           }
          ],
          "histogram2dcontour": [
           {
            "colorbar": {
             "outlinewidth": 0,
             "ticks": ""
            },
            "colorscale": [
             [
              0,
              "#0d0887"
             ],
             [
              0.1111111111111111,
              "#46039f"
             ],
             [
              0.2222222222222222,
              "#7201a8"
             ],
             [
              0.3333333333333333,
              "#9c179e"
             ],
             [
              0.4444444444444444,
              "#bd3786"
             ],
             [
              0.5555555555555556,
              "#d8576b"
             ],
             [
              0.6666666666666666,
              "#ed7953"
             ],
             [
              0.7777777777777778,
              "#fb9f3a"
             ],
             [
              0.8888888888888888,
              "#fdca26"
             ],
             [
              1,
              "#f0f921"
             ]
            ],
            "type": "histogram2dcontour"
           }
          ],
          "mesh3d": [
           {
            "colorbar": {
             "outlinewidth": 0,
             "ticks": ""
            },
            "type": "mesh3d"
           }
          ],
          "parcoords": [
           {
            "line": {
             "colorbar": {
              "outlinewidth": 0,
              "ticks": ""
             }
            },
            "type": "parcoords"
           }
          ],
          "pie": [
           {
            "automargin": true,
            "type": "pie"
           }
          ],
          "scatter": [
           {
            "fillpattern": {
             "fillmode": "overlay",
             "size": 10,
             "solidity": 0.2
            },
            "type": "scatter"
           }
          ],
          "scatter3d": [
           {
            "line": {
             "colorbar": {
              "outlinewidth": 0,
              "ticks": ""
             }
            },
            "marker": {
             "colorbar": {
              "outlinewidth": 0,
              "ticks": ""
             }
            },
            "type": "scatter3d"
           }
          ],
          "scattercarpet": [
           {
            "marker": {
             "colorbar": {
              "outlinewidth": 0,
              "ticks": ""
             }
            },
            "type": "scattercarpet"
           }
          ],
          "scattergeo": [
           {
            "marker": {
             "colorbar": {
              "outlinewidth": 0,
              "ticks": ""
             }
            },
            "type": "scattergeo"
           }
          ],
          "scattergl": [
           {
            "marker": {
             "colorbar": {
              "outlinewidth": 0,
              "ticks": ""
             }
            },
            "type": "scattergl"
           }
          ],
          "scattermap": [
           {
            "marker": {
             "colorbar": {
              "outlinewidth": 0,
              "ticks": ""
             }
            },
            "type": "scattermap"
           }
          ],
          "scattermapbox": [
           {
            "marker": {
             "colorbar": {
              "outlinewidth": 0,
              "ticks": ""
             }
            },
            "type": "scattermapbox"
           }
          ],
          "scatterpolar": [
           {
            "marker": {
             "colorbar": {
              "outlinewidth": 0,
              "ticks": ""
             }
            },
            "type": "scatterpolar"
           }
          ],
          "scatterpolargl": [
           {
            "marker": {
             "colorbar": {
              "outlinewidth": 0,
              "ticks": ""
             }
            },
            "type": "scatterpolargl"
           }
          ],
          "scatterternary": [
           {
            "marker": {
             "colorbar": {
              "outlinewidth": 0,
              "ticks": ""
             }
            },
            "type": "scatterternary"
           }
          ],
          "surface": [
           {
            "colorbar": {
             "outlinewidth": 0,
             "ticks": ""
            },
            "colorscale": [
             [
              0,
              "#0d0887"
             ],
             [
              0.1111111111111111,
              "#46039f"
             ],
             [
              0.2222222222222222,
              "#7201a8"
             ],
             [
              0.3333333333333333,
              "#9c179e"
             ],
             [
              0.4444444444444444,
              "#bd3786"
             ],
             [
              0.5555555555555556,
              "#d8576b"
             ],
             [
              0.6666666666666666,
              "#ed7953"
             ],
             [
              0.7777777777777778,
              "#fb9f3a"
             ],
             [
              0.8888888888888888,
              "#fdca26"
             ],
             [
              1,
              "#f0f921"
             ]
            ],
            "type": "surface"
           }
          ],
          "table": [
           {
            "cells": {
             "fill": {
              "color": "#EBF0F8"
             },
             "line": {
              "color": "white"
             }
            },
            "header": {
             "fill": {
              "color": "#C8D4E3"
             },
             "line": {
              "color": "white"
             }
            },
            "type": "table"
           }
          ]
         },
         "layout": {
          "annotationdefaults": {
           "arrowcolor": "#2a3f5f",
           "arrowhead": 0,
           "arrowwidth": 1
          },
          "autotypenumbers": "strict",
          "coloraxis": {
           "colorbar": {
            "outlinewidth": 0,
            "ticks": ""
           }
          },
          "colorscale": {
           "diverging": [
            [
             0,
             "#8e0152"
            ],
            [
             0.1,
             "#c51b7d"
            ],
            [
             0.2,
             "#de77ae"
            ],
            [
             0.3,
             "#f1b6da"
            ],
            [
             0.4,
             "#fde0ef"
            ],
            [
             0.5,
             "#f7f7f7"
            ],
            [
             0.6,
             "#e6f5d0"
            ],
            [
             0.7,
             "#b8e186"
            ],
            [
             0.8,
             "#7fbc41"
            ],
            [
             0.9,
             "#4d9221"
            ],
            [
             1,
             "#276419"
            ]
           ],
           "sequential": [
            [
             0,
             "#0d0887"
            ],
            [
             0.1111111111111111,
             "#46039f"
            ],
            [
             0.2222222222222222,
             "#7201a8"
            ],
            [
             0.3333333333333333,
             "#9c179e"
            ],
            [
             0.4444444444444444,
             "#bd3786"
            ],
            [
             0.5555555555555556,
             "#d8576b"
            ],
            [
             0.6666666666666666,
             "#ed7953"
            ],
            [
             0.7777777777777778,
             "#fb9f3a"
            ],
            [
             0.8888888888888888,
             "#fdca26"
            ],
            [
             1,
             "#f0f921"
            ]
           ],
           "sequentialminus": [
            [
             0,
             "#0d0887"
            ],
            [
             0.1111111111111111,
             "#46039f"
            ],
            [
             0.2222222222222222,
             "#7201a8"
            ],
            [
             0.3333333333333333,
             "#9c179e"
            ],
            [
             0.4444444444444444,
             "#bd3786"
            ],
            [
             0.5555555555555556,
             "#d8576b"
            ],
            [
             0.6666666666666666,
             "#ed7953"
            ],
            [
             0.7777777777777778,
             "#fb9f3a"
            ],
            [
             0.8888888888888888,
             "#fdca26"
            ],
            [
             1,
             "#f0f921"
            ]
           ]
          },
          "colorway": [
           "#636efa",
           "#EF553B",
           "#00cc96",
           "#ab63fa",
           "#FFA15A",
           "#19d3f3",
           "#FF6692",
           "#B6E880",
           "#FF97FF",
           "#FECB52"
          ],
          "font": {
           "color": "#2a3f5f"
          },
          "geo": {
           "bgcolor": "white",
           "lakecolor": "white",
           "landcolor": "#E5ECF6",
           "showlakes": true,
           "showland": true,
           "subunitcolor": "white"
          },
          "hoverlabel": {
           "align": "left"
          },
          "hovermode": "closest",
          "mapbox": {
           "style": "light"
          },
          "paper_bgcolor": "white",
          "plot_bgcolor": "#E5ECF6",
          "polar": {
           "angularaxis": {
            "gridcolor": "white",
            "linecolor": "white",
            "ticks": ""
           },
           "bgcolor": "#E5ECF6",
           "radialaxis": {
            "gridcolor": "white",
            "linecolor": "white",
            "ticks": ""
           }
          },
          "scene": {
           "xaxis": {
            "backgroundcolor": "#E5ECF6",
            "gridcolor": "white",
            "gridwidth": 2,
            "linecolor": "white",
            "showbackground": true,
            "ticks": "",
            "zerolinecolor": "white"
           },
           "yaxis": {
            "backgroundcolor": "#E5ECF6",
            "gridcolor": "white",
            "gridwidth": 2,
            "linecolor": "white",
            "showbackground": true,
            "ticks": "",
            "zerolinecolor": "white"
           },
           "zaxis": {
            "backgroundcolor": "#E5ECF6",
            "gridcolor": "white",
            "gridwidth": 2,
            "linecolor": "white",
            "showbackground": true,
            "ticks": "",
            "zerolinecolor": "white"
           }
          },
          "shapedefaults": {
           "line": {
            "color": "#2a3f5f"
           }
          },
          "ternary": {
           "aaxis": {
            "gridcolor": "white",
            "linecolor": "white",
            "ticks": ""
           },
           "baxis": {
            "gridcolor": "white",
            "linecolor": "white",
            "ticks": ""
           },
           "bgcolor": "#E5ECF6",
           "caxis": {
            "gridcolor": "white",
            "linecolor": "white",
            "ticks": ""
           }
          },
          "title": {
           "x": 0.05
          },
          "xaxis": {
           "automargin": true,
           "gridcolor": "white",
           "linecolor": "white",
           "ticks": "",
           "title": {
            "standoff": 15
           },
           "zerolinecolor": "white",
           "zerolinewidth": 2
          },
          "yaxis": {
           "automargin": true,
           "gridcolor": "white",
           "linecolor": "white",
           "ticks": "",
           "title": {
            "standoff": 15
           },
           "zerolinecolor": "white",
           "zerolinewidth": 2
          }
         }
        },
        "xaxis": {
         "showgrid": false
        },
        "yaxis": {
         "showgrid": false,
         "title": {
          "text": "Humidity %"
         }
        }
       }
      },
      "image/png": "[encoded data removed]"
     },
     "metadata": {},
     "output_type": "display_data"
    },
    {
     "data": {
      "application/vnd.plotly.v1+json": {
       "config": {
        "plotlyServerURL": "https://plot.ly"
       },
       "data": [
        {
         "line": {
          "color": "navy"
         },
         "mode": "lines",
         "name": "Wind Speed",
         "type": "scatter",
         "x": [
          "2025-08-11T00:04:00.000000000",
          "2025-08-11T00:09:00.000000000",
          "2025-08-11T00:14:00.000000000",
          "2025-08-11T00:19:00.000000000",
          "2025-08-11T00:24:00.000000000",
          "2025-08-11T00:29:00.000000000",
          "2025-08-11T00:34:00.000000000",
          "2025-08-11T00:39:00.000000000",
          "2025-08-11T00:44:00.000000000",
          "2025-08-11T00:49:00.000000000",
          "2025-08-11T00:54:00.000000000",
          "2025-08-11T00:59:00.000000000",
          "2025-08-11T01:04:00.000000000",
          "2025-08-11T01:09:00.000000000",
          "2025-08-11T01:14:00.000000000",
          "2025-08-11T01:19:00.000000000",
          "2025-08-11T01:24:00.000000000",
          "2025-08-11T01:29:00.000000000",
          "2025-08-11T01:34:00.000000000",
          "2025-08-11T01:39:00.000000000",
          "2025-08-11T01:44:00.000000000",
          "2025-08-11T01:49:00.000000000",
          "2025-08-11T01:54:00.000000000",
          "2025-08-11T01:59:00.000000000",
          "2025-08-11T02:04:00.000000000",
          "2025-08-11T02:09:00.000000000",
          "2025-08-11T02:14:00.000000000",
          "2025-08-11T02:19:00.000000000",
          "2025-08-11T02:24:00.000000000",
          "2025-08-11T02:29:00.000000000",
          "2025-08-11T02:34:00.000000000",
          "2025-08-11T02:39:00.000000000",
          "2025-08-11T02:44:00.000000000",
          "2025-08-11T02:49:00.000000000",
          "2025-08-11T02:54:00.000000000",
          "2025-08-11T02:59:00.000000000",
          "2025-08-11T03:04:00.000000000",
          "2025-08-11T03:09:00.000000000",
          "2025-08-11T03:14:00.000000000",
          "2025-08-11T03:19:00.000000000",
          "2025-08-11T03:24:00.000000000",
          "2025-08-11T03:29:00.000000000",
          "2025-08-11T03:34:00.000000000",
          "2025-08-11T03:39:00.000000000",
          "2025-08-11T03:44:00.000000000",
          "2025-08-11T03:49:00.000000000",
          "2025-08-11T03:54:00.000000000",
          "2025-08-11T03:59:00.000000000",
          "2025-08-11T04:04:00.000000000",
          "2025-08-11T04:09:00.000000000",
          "2025-08-11T04:14:00.000000000",
          "2025-08-11T04:19:00.000000000",
          "2025-08-11T04:24:00.000000000",
          "2025-08-11T04:29:00.000000000",
          "2025-08-11T04:34:00.000000000",
          "2025-08-11T04:39:00.000000000",
          "2025-08-11T04:44:00.000000000",
          "2025-08-11T04:49:00.000000000",
          "2025-08-11T04:54:00.000000000",
          "2025-08-11T04:59:00.000000000",
          "2025-08-11T05:04:00.000000000",
          "2025-08-11T05:09:00.000000000",
          "2025-08-11T05:14:00.000000000",
          "2025-08-11T05:19:00.000000000",
          "2025-08-11T05:24:00.000000000",
          "2025-08-11T05:29:00.000000000",
          "2025-08-11T05:34:00.000000000",
          "2025-08-11T05:39:00.000000000",
          "2025-08-11T05:44:00.000000000",
          "2025-08-11T05:49:00.000000000",
          "2025-08-11T05:54:00.000000000",
          "2025-08-11T05:59:00.000000000",
          "2025-08-11T06:04:00.000000000",
          "2025-08-11T06:09:00.000000000",
          "2025-08-11T06:14:00.000000000",
          "2025-08-11T06:19:00.000000000",
          "2025-08-11T06:24:00.000000000",
          "2025-08-11T06:29:00.000000000",
          "2025-08-11T06:34:00.000000000",
          "2025-08-11T06:39:00.000000000",
          "2025-08-11T06:44:00.000000000",
          "2025-08-11T06:49:00.000000000",
          "2025-08-11T06:54:00.000000000",
          "2025-08-11T06:59:00.000000000",
          "2025-08-11T07:04:00.000000000",
          "2025-08-11T07:09:00.000000000",
          "2025-08-11T07:14:00.000000000",
          "2025-08-11T07:19:00.000000000",
          "2025-08-11T07:24:00.000000000",
          "2025-08-11T07:29:00.000000000",
          "2025-08-11T07:34:00.000000000",
          "2025-08-11T07:39:00.000000000",
          "2025-08-11T07:44:00.000000000",
          "2025-08-11T07:49:00.000000000",
          "2025-08-11T07:54:00.000000000",
          "2025-08-11T07:59:00.000000000",
          "2025-08-11T08:04:00.000000000",
          "2025-08-11T08:09:00.000000000",
          "2025-08-11T08:14:00.000000000",
          "2025-08-11T08:19:00.000000000",
          "2025-08-11T08:24:00.000000000",
          "2025-08-11T08:29:00.000000000",
          "2025-08-11T08:34:00.000000000",
          "2025-08-11T08:39:00.000000000",
          "2025-08-11T08:44:00.000000000",
          "2025-08-11T08:49:00.000000000",
          "2025-08-11T08:54:00.000000000",
          "2025-08-11T08:59:00.000000000",
          "2025-08-11T09:04:00.000000000",
          "2025-08-11T09:09:00.000000000",
          "2025-08-11T09:14:00.000000000",
          "2025-08-11T09:19:00.000000000",
          "2025-08-11T09:24:00.000000000",
          "2025-08-11T09:29:00.000000000",
          "2025-08-11T09:34:00.000000000",
          "2025-08-11T09:39:00.000000000",
          "2025-08-11T09:44:00.000000000",
          "2025-08-11T09:49:00.000000000",
          "2025-08-11T09:54:00.000000000",
          "2025-08-11T09:59:00.000000000",
          "2025-08-11T10:04:00.000000000",
          "2025-08-11T10:09:00.000000000",
          "2025-08-11T10:14:00.000000000",
          "2025-08-11T10:19:00.000000000",
          "2025-08-11T10:24:00.000000000",
          "2025-08-11T10:29:00.000000000",
          "2025-08-11T10:34:00.000000000",
          "2025-08-11T10:39:00.000000000",
          "2025-08-11T10:44:00.000000000",
          "2025-08-11T10:49:00.000000000",
          "2025-08-11T10:54:00.000000000",
          "2025-08-11T10:59:00.000000000",
          "2025-08-11T11:04:00.000000000",
          "2025-08-11T11:09:00.000000000",
          "2025-08-11T11:14:00.000000000",
          "2025-08-11T11:19:00.000000000",
          "2025-08-11T11:24:00.000000000",
          "2025-08-11T11:29:00.000000000",
          "2025-08-11T11:34:00.000000000",
          "2025-08-11T11:39:00.000000000",
          "2025-08-11T11:44:00.000000000",
          "2025-08-11T11:49:00.000000000",
          "2025-08-11T11:54:00.000000000",
          "2025-08-11T11:59:00.000000000",
          "2025-08-11T12:04:00.000000000",
          "2025-08-11T12:09:00.000000000",
          "2025-08-11T12:14:00.000000000"
         ],
         "y": {
          "bdata": "mpmZmZmZ6T8zMzMzMzPTP5qZmZmZmfE/zczMzMzMAECamZmZmZkFQDMzMzMzM/s/ZmZmZmZm/j9mZmZmZmYQQDMzMzMzMxVAMzMzMzMzFUBmZmZmZmYQQGZmZmZmZv4/ZmZmZmZmAkDNzMzMzMwIQGZmZmZmZg5AZmZmZmZmFEAAAAAAAAAAQJqZmZmZmQFAmpmZmZmZBUCamZmZmZnxP83MzMzMzOw/MzMzMzMzA0CamZmZmZnpP2ZmZmZmZvY/mpmZmZmZ8T+amZmZmZnZP2ZmZmZmZg5AMzMzMzMzE0CamZmZmZkJQJqZmZmZmfk/AAAAAAAA4D8AAAAAAADwP2ZmZmZmZgJAzczMzMzM/D9mZmZmZmbmPzMzMzMzM+M/zczMzMzMAEDNzMzMzMzsPwAAAAAAAPA/AAAAAAAA+D/NzMzMzMwMQAAAAAAAAAhAzczMzMzM/D/NzMzMzMwIQM3MzMzMzOw/mpmZmZmZ+T8AAAAAAAD4P2ZmZmZmZgpAzczMzMzM/D8zMzMzMzMTQM3MzMzMzAhAZmZmZmZmAkAzMzMzMzP7P2ZmZmZmZuY/mpmZmZmZyT9mZmZmZmbmP5qZmZmZmfE/mpmZmZmZBUBmZmZmZmb2P2ZmZmZmZv4/zczMzMzMBECamZmZmZnpPwAAAAAAAPg/AAAAAAAA+D8zMzMzMzPzP5qZmZmZmck/AAAAAAAA4D8zMzMzMzPTPwAAAAAAAPA/mpmZmZmZBUDNzMzMzMwSQDMzMzMzM/s/AAAAAAAABECamZmZmZnxPwAAAAAAAPg/ZmZmZmZm9j8zMzMzMzP7P83MzMzMzOw/mpmZmZmZ+T8zMzMzMzP7P83MzMzMzABAMzMzMzMz+z/NzMzMzMwAQAAAAAAAABRAmpmZmZmZE0DNzMzMzMwMQGZmZmZmZgpAZmZmZmZmEEDNzMzMzMwQQAAAAAAAAAhAmpmZmZmZF0AAAAAAAAAEQGZmZmZmZgJAmpmZmZmZuT8AAAAAAAAAADMzMzMzM+M/ZmZmZmZm9j+amZmZmZnxPzMzMzMzM/M/zczMzMzM9D8AAAAAAADwP83MzMzMzPQ/MzMzMzMz8z+amZmZmZnpP5qZmZmZmdk/ZmZmZmZm9j8AAAAAAADwP5qZmZmZmfE/zczMzMzMAEAzMzMzMzPzP83MzMzMzPw/zczMzMzM7D8zMzMzMzPzPzMzMzMzM/s/mpmZmZmZAUBmZmZmZmYCQGZmZmZmZv4/AAAAAAAA8D+amZmZmZnxPzMzMzMzM/s/zczMzMzM9D/NzMzMzMz0PwAAAAAAAPA/zczMzMzMDEBmZmZmZmYOQAAAAAAAABBAzczMzMzMCEAAAAAAAAASQGZmZmZmZhRAMzMzMzMzEUCamZmZmZkVQGZmZmZmZhBAzczMzMzMDEDNzMzMzMwIQM3MzMzMzAhAmpmZmZmZDUCamZmZmZkTQM3MzMzMzBJAAAAAAAAAFEDNzMzMzMwSQDMzMzMzMxVAMzMzMzMzFUAzMzMzMzMXQGZmZmZmZhRAAAAAAAAAFkAAAAAAAAAUQM3MzMzMzBhA",
          "dtype": "f8"
         }
        },
        {
         "line": {
          "color": "orange"
         },
         "mode": "lines",
         "name": "Wind Gust",
         "type": "scatter",
         "x": [
          "2025-08-11T00:04:00.000000000",
          "2025-08-11T00:09:00.000000000",
          "2025-08-11T00:14:00.000000000",
          "2025-08-11T00:19:00.000000000",
          "2025-08-11T00:24:00.000000000",
          "2025-08-11T00:29:00.000000000",
          "2025-08-11T00:34:00.000000000",
          "2025-08-11T00:39:00.000000000",
          "2025-08-11T00:44:00.000000000",
          "2025-08-11T00:49:00.000000000",
          "2025-08-11T00:54:00.000000000",
          "2025-08-11T00:59:00.000000000",
          "2025-08-11T01:04:00.000000000",
          "2025-08-11T01:09:00.000000000",
          "2025-08-11T01:14:00.000000000",
          "2025-08-11T01:19:00.000000000",
          "2025-08-11T01:24:00.000000000",
          "2025-08-11T01:29:00.000000000",
          "2025-08-11T01:34:00.000000000",
          "2025-08-11T01:39:00.000000000",
          "2025-08-11T01:44:00.000000000",
          "2025-08-11T01:49:00.000000000",
          "2025-08-11T01:54:00.000000000",
          "2025-08-11T01:59:00.000000000",
          "2025-08-11T02:04:00.000000000",
          "2025-08-11T02:09:00.000000000",
          "2025-08-11T02:14:00.000000000",
          "2025-08-11T02:19:00.000000000",
          "2025-08-11T02:24:00.000000000",
          "2025-08-11T02:29:00.000000000",
          "2025-08-11T02:34:00.000000000",
          "2025-08-11T02:39:00.000000000",
          "2025-08-11T02:44:00.000000000",
          "2025-08-11T02:49:00.000000000",
          "2025-08-11T02:54:00.000000000",
          "2025-08-11T02:59:00.000000000",
          "2025-08-11T03:04:00.000000000",
          "2025-08-11T03:09:00.000000000",
          "2025-08-11T03:14:00.000000000",
          "2025-08-11T03:19:00.000000000",
          "2025-08-11T03:24:00.000000000",
          "2025-08-11T03:29:00.000000000",
          "2025-08-11T03:34:00.000000000",
          "2025-08-11T03:39:00.000000000",
          "2025-08-11T03:44:00.000000000",
          "2025-08-11T03:49:00.000000000",
          "2025-08-11T03:54:00.000000000",
          "2025-08-11T03:59:00.000000000",
          "2025-08-11T04:04:00.000000000",
          "2025-08-11T04:09:00.000000000",
          "2025-08-11T04:14:00.000000000",
          "2025-08-11T04:19:00.000000000",
          "2025-08-11T04:24:00.000000000",
          "2025-08-11T04:29:00.000000000",
          "2025-08-11T04:34:00.000000000",
          "2025-08-11T04:39:00.000000000",
          "2025-08-11T04:44:00.000000000",
          "2025-08-11T04:49:00.000000000",
          "2025-08-11T04:54:00.000000000",
          "2025-08-11T04:59:00.000000000",
          "2025-08-11T05:04:00.000000000",
          "2025-08-11T05:09:00.000000000",
          "2025-08-11T05:14:00.000000000",
          "2025-08-11T05:19:00.000000000",
          "2025-08-11T05:24:00.000000000",
          "2025-08-11T05:29:00.000000000",
          "2025-08-11T05:34:00.000000000",
          "2025-08-11T05:39:00.000000000",
          "2025-08-11T05:44:00.000000000",
          "2025-08-11T05:49:00.000000000",
          "2025-08-11T05:54:00.000000000",
          "2025-08-11T05:59:00.000000000",
          "2025-08-11T06:04:00.000000000",
          "2025-08-11T06:09:00.000000000",
          "2025-08-11T06:14:00.000000000",
          "2025-08-11T06:19:00.000000000",
          "2025-08-11T06:24:00.000000000",
          "2025-08-11T06:29:00.000000000",
          "2025-08-11T06:34:00.000000000",
          "2025-08-11T06:39:00.000000000",
          "2025-08-11T06:44:00.000000000",
          "2025-08-11T06:49:00.000000000",
          "2025-08-11T06:54:00.000000000",
          "2025-08-11T06:59:00.000000000",
          "2025-08-11T07:04:00.000000000",
          "2025-08-11T07:09:00.000000000",
          "2025-08-11T07:14:00.000000000",
          "2025-08-11T07:19:00.000000000",
          "2025-08-11T07:24:00.000000000",
          "2025-08-11T07:29:00.000000000",
          "2025-08-11T07:34:00.000000000",
          "2025-08-11T07:39:00.000000000",
          "2025-08-11T07:44:00.000000000",
          "2025-08-11T07:49:00.000000000",
          "2025-08-11T07:54:00.000000000",
          "2025-08-11T07:59:00.000000000",
          "2025-08-11T08:04:00.000000000",
          "2025-08-11T08:09:00.000000000",
          "2025-08-11T08:14:00.000000000",
          "2025-08-11T08:19:00.000000000",
          "2025-08-11T08:24:00.000000000",
          "2025-08-11T08:29:00.000000000",
          "2025-08-11T08:34:00.000000000",
          "2025-08-11T08:39:00.000000000",
          "2025-08-11T08:44:00.000000000",
          "2025-08-11T08:49:00.000000000",
          "2025-08-11T08:54:00.000000000",
          "2025-08-11T08:59:00.000000000",
          "2025-08-11T09:04:00.000000000",
          "2025-08-11T09:09:00.000000000",
          "2025-08-11T09:14:00.000000000",
          "2025-08-11T09:19:00.000000000",
          "2025-08-11T09:24:00.000000000",
          "2025-08-11T09:29:00.000000000",
          "2025-08-11T09:34:00.000000000",
          "2025-08-11T09:39:00.000000000",
          "2025-08-11T09:44:00.000000000",
          "2025-08-11T09:49:00.000000000",
          "2025-08-11T09:54:00.000000000",
          "2025-08-11T09:59:00.000000000",
          "2025-08-11T10:04:00.000000000",
          "2025-08-11T10:09:00.000000000",
          "2025-08-11T10:14:00.000000000",
          "2025-08-11T10:19:00.000000000",
          "2025-08-11T10:24:00.000000000",
          "2025-08-11T10:29:00.000000000",
          "2025-08-11T10:34:00.000000000",
          "2025-08-11T10:39:00.000000000",
          "2025-08-11T10:44:00.000000000",
          "2025-08-11T10:49:00.000000000",
          "2025-08-11T10:54:00.000000000",
          "2025-08-11T10:59:00.000000000",
          "2025-08-11T11:04:00.000000000",
          "2025-08-11T11:09:00.000000000",
          "2025-08-11T11:14:00.000000000",
          "2025-08-11T11:19:00.000000000",
          "2025-08-11T11:24:00.000000000",
          "2025-08-11T11:29:00.000000000",
          "2025-08-11T11:34:00.000000000",
          "2025-08-11T11:39:00.000000000",
          "2025-08-11T11:44:00.000000000",
          "2025-08-11T11:49:00.000000000",
          "2025-08-11T11:54:00.000000000",
          "2025-08-11T11:59:00.000000000",
          "2025-08-11T12:04:00.000000000",
          "2025-08-11T12:09:00.000000000",
          "2025-08-11T12:14:00.000000000"
         ],
         "y": {
          "bdata": "MzMzMzMz8z8AAAAAAADgP83MzMzMzPw/MzMzMzMzB0CamZmZmZkNQM3MzMzMzARAmpmZmZmZBUAAAAAAAAAYQAAAAAAAACBAzczMzMzMHkDNzMzMzMwYQGZmZmZmZgZAzczMzMzMEECamZmZmZkRQM3MzMzMzBRAmpmZmZmZHUAzMzMzMzMHQDMzMzMzMwtAAAAAAAAAEEAzMzMzMzP7P83MzMzMzPQ/ZmZmZmZmCkBmZmZmZmb2P83MzMzMzABAMzMzMzMz+z/NzMzMzMzsP5qZmZmZmRVAzczMzMzMGEAzMzMzMzMRQDMzMzMzMwNAzczMzMzM7D9mZmZmZmb2P2ZmZmZmZgpAMzMzMzMzB0AAAAAAAADwPzMzMzMzM/M/mpmZmZmZBUAAAAAAAAD4P2ZmZmZmZv4/zczMzMzMAECamZmZmZkRQGZmZmZmZg5AAAAAAAAABEDNzMzMzMwQQDMzMzMzM/M/AAAAAAAAAEDNzMzMzMwAQGZmZmZmZhBAAAAAAAAACEBmZmZmZmYYQDMzMzMzMw9AZmZmZmZmCkAzMzMzMzMDQDMzMzMzM/M/MzMzMzMz0z8zMzMzMzPzPwAAAAAAAPg/MzMzMzMzC0AzMzMzMzP7PzMzMzMzMwNAzczMzMzMCEBmZmZmZmb2P2ZmZmZmZv4/AAAAAAAAAEBmZmZmZmb+PzMzMzMzM+M/mpmZmZmZ8T8zMzMzMzPjPzMzMzMzM/s/mpmZmZmZDUAzMzMzMzMdQM3MzMzMzARAzczMzMzMCECamZmZmZn5PwAAAAAAAABAzczMzMzMAEDNzMzMzMwEQAAAAAAAAPg/MzMzMzMzA0AzMzMzMzMDQGZmZmZmZgpAmpmZmZmZBUDNzMzMzMwIQAAAAAAAABpAMzMzMzMzG0AzMzMzMzMVQDMzMzMzMxFAmpmZmZmZE0DNzMzMzMwUQAAAAAAAABBAmpmZmZmZG0DNzMzMzMwIQJqZmZmZmQlAmpmZmZmZuT8AAAAAAAAAADMzMzMzM/M/AAAAAAAAAECamZmZmZn5P83MzMzMzABAAAAAAAAAAEAzMzMzMzP7PwAAAAAAAABAzczMzMzM/D/NzMzMzMz0P5qZmZmZmfE/zczMzMzMAEDNzMzMzMz0P2ZmZmZmZv4/AAAAAAAACEDNzMzMzMz8P83MzMzMzARAMzMzMzMz+z/NzMzMzMz8P83MzMzMzARAAAAAAAAACEAzMzMzMzMHQDMzMzMzMwdAzczMzMzM/D+amZmZmZn5P83MzMzMzARAAAAAAAAABEDNzMzMzMwAQJqZmZmZmfk/mpmZmZmZEUCamZmZmZkTQJqZmZmZmRNAzczMzMzMEEBmZmZmZmYYQJqZmZmZmRlAAAAAAAAAFEAAAAAAAAAcQGZmZmZmZhRAzczMzMzMEkBmZmZmZmYOQGZmZmZmZhBAZmZmZmZmEkAzMzMzMzMZQM3MzMzMzBhAzczMzMzMGEBmZmZmZmYYQAAAAAAAAB5AmpmZmZmZG0DNzMzMzMwcQAAAAAAAABpAMzMzMzMzG0DNzMzMzMwYQJqZmZmZmSBA",
          "dtype": "f8"
         }
        }
       ],
       "layout": {
        "autosize": true,
        "hovermode": "x",
        "legend": {
         "orientation": "h",
         "x": 0.5,
         "xanchor": "center",
         "y": -0.3,
         "yanchor": "bottom"
        },
        "margin": {
         "b": 20,
         "l": 20,
         "r": 20,
         "t": 30
        },
        "template": {
         "data": {
          "bar": [
           {
            "error_x": {
             "color": "#2a3f5f"
            },
            "error_y": {
             "color": "#2a3f5f"
            },
            "marker": {
             "line": {
              "color": "#E5ECF6",
              "width": 0.5
             },
             "pattern": {
              "fillmode": "overlay",
              "size": 10,
              "solidity": 0.2
             }
            },
            "type": "bar"
           }
          ],
          "barpolar": [
           {
            "marker": {
             "line": {
              "color": "#E5ECF6",
              "width": 0.5
             },
             "pattern": {
              "fillmode": "overlay",
              "size": 10,
              "solidity": 0.2
             }
            },
            "type": "barpolar"
           }
          ],
          "carpet": [
           {
            "aaxis": {
             "endlinecolor": "#2a3f5f",
             "gridcolor": "white",
             "linecolor": "white",
             "minorgridcolor": "white",
             "startlinecolor": "#2a3f5f"
            },
            "baxis": {
             "endlinecolor": "#2a3f5f",
             "gridcolor": "white",
             "linecolor": "white",
             "minorgridcolor": "white",
             "startlinecolor": "#2a3f5f"
            },
            "type": "carpet"
           }
          ],
          "choropleth": [
           {
            "colorbar": {
             "outlinewidth": 0,
             "ticks": ""
            },
            "type": "choropleth"
           }
          ],
          "contour": [
           {
            "colorbar": {
             "outlinewidth": 0,
             "ticks": ""
            },
            "colorscale": [
             [
              0,
              "#0d0887"
             ],
             [
              0.1111111111111111,
              "#46039f"
             ],
             [
              0.2222222222222222,
              "#7201a8"
             ],
             [
              0.3333333333333333,
              "#9c179e"
             ],
             [
              0.4444444444444444,
              "#bd3786"
             ],
             [
              0.5555555555555556,
              "#d8576b"
             ],
             [
              0.6666666666666666,
              "#ed7953"
             ],
             [
              0.7777777777777778,
              "#fb9f3a"
             ],
             [
              0.8888888888888888,
              "#fdca26"
             ],
             [
              1,
              "#f0f921"
             ]
            ],
            "type": "contour"
           }
          ],
          "contourcarpet": [
           {
            "colorbar": {
             "outlinewidth": 0,
             "ticks": ""
            },
            "type": "contourcarpet"
           }
          ],
          "heatmap": [
           {
            "colorbar": {
             "outlinewidth": 0,
             "ticks": ""
            },
            "colorscale": [
             [
              0,
              "#0d0887"
             ],
             [
              0.1111111111111111,
              "#46039f"
             ],
             [
              0.2222222222222222,
              "#7201a8"
             ],
             [
              0.3333333333333333,
              "#9c179e"
             ],
             [
              0.4444444444444444,
              "#bd3786"
             ],
             [
              0.5555555555555556,
              "#d8576b"
             ],
             [
              0.6666666666666666,
              "#ed7953"
             ],
             [
              0.7777777777777778,
              "#fb9f3a"
             ],
             [
              0.8888888888888888,
              "#fdca26"
             ],
             [
              1,
              "#f0f921"
             ]
            ],
            "type": "heatmap"
           }
          ],
          "histogram": [
           {
            "marker": {
             "pattern": {
              "fillmode": "overlay",
              "size": 10,
              "solidity": 0.2
             }
            },
            "type": "histogram"
           }
          ],
          "histogram2d": [
           {
            "colorbar": {
             "outlinewidth": 0,
             "ticks": ""
            },
            "colorscale": [
             [
              0,
              "#0d0887"
             ],
             [
              0.1111111111111111,
              "#46039f"
             ],
             [
              0.2222222222222222,
              "#7201a8"
             ],
             [
              0.3333333333333333,
              "#9c179e"
             ],
             [
              0.4444444444444444,
              "#bd3786"
             ],
             [
              0.5555555555555556,
              "#d8576b"
             ],
             [
              0.6666666666666666,
              "#ed7953"
             ],
             [
              0.7777777777777778,
              "#fb9f3a"
             ],
             [
              0.8888888888888888,
              "#fdca26"
             ],
             [
              1,
              "#f0f921"
             ]
            ],
            "type": "histogram2d"
           }
          ],
          "histogram2dcontour": [
           {
            "colorbar": {
             "outlinewidth": 0,
             "ticks": ""
            },
            "colorscale": [
             [
              0,
              "#0d0887"
             ],
             [
              0.1111111111111111,
              "#46039f"
             ],
             [
              0.2222222222222222,
              "#7201a8"
             ],
             [
              0.3333333333333333,
              "#9c179e"
             ],
             [
              0.4444444444444444,
              "#bd3786"
             ],
             [
              0.5555555555555556,
              "#d8576b"
             ],
             [
              0.6666666666666666,
              "#ed7953"
             ],
             [
              0.7777777777777778,
              "#fb9f3a"
             ],
             [
              0.8888888888888888,
              "#fdca26"
             ],
             [
              1,
              "#f0f921"
             ]
            ],
            "type": "histogram2dcontour"
           }
          ],
          "mesh3d": [
           {
            "colorbar": {
             "outlinewidth": 0,
             "ticks": ""
            },
            "type": "mesh3d"
           }
          ],
          "parcoords": [
           {
            "line": {
             "colorbar": {
              "outlinewidth": 0,
              "ticks": ""
             }
            },
            "type": "parcoords"
           }
          ],
          "pie": [
           {
            "automargin": true,
            "type": "pie"
           }
          ],
          "scatter": [
           {
            "fillpattern": {
             "fillmode": "overlay",
             "size": 10,
             "solidity": 0.2
            },
            "type": "scatter"
           }
          ],
          "scatter3d": [
           {
            "line": {
             "colorbar": {
              "outlinewidth": 0,
              "ticks": ""
             }
            },
            "marker": {
             "colorbar": {
              "outlinewidth": 0,
              "ticks": ""
             }
            },
            "type": "scatter3d"
           }
          ],
          "scattercarpet": [
           {
            "marker": {
             "colorbar": {
              "outlinewidth": 0,
              "ticks": ""
             }
            },
            "type": "scattercarpet"
           }
          ],
          "scattergeo": [
           {
            "marker": {
             "colorbar": {
              "outlinewidth": 0,
              "ticks": ""
             }
            },
            "type": "scattergeo"
           }
          ],
          "scattergl": [
           {
            "marker": {
             "colorbar": {
              "outlinewidth": 0,
              "ticks": ""
             }
            },
            "type": "scattergl"
           }
          ],
          "scattermap": [
           {
            "marker": {
             "colorbar": {
              "outlinewidth": 0,
              "ticks": ""
             }
            },
            "type": "scattermap"
           }
          ],
          "scattermapbox": [
           {
            "marker": {
             "colorbar": {
              "outlinewidth": 0,
              "ticks": ""
             }
            },
            "type": "scattermapbox"
           }
          ],
          "scatterpolar": [
           {
            "marker": {
             "colorbar": {
              "outlinewidth": 0,
              "ticks": ""
             }
            },
            "type": "scatterpolar"
           }
          ],
          "scatterpolargl": [
           {
            "marker": {
             "colorbar": {
              "outlinewidth": 0,
              "ticks": ""
             }
            },
            "type": "scatterpolargl"
           }
          ],
          "scatterternary": [
           {
            "marker": {
             "colorbar": {
              "outlinewidth": 0,
              "ticks": ""
             }
            },
            "type": "scatterternary"
           }
          ],
          "surface": [
           {
            "colorbar": {
             "outlinewidth": 0,
             "ticks": ""
            },
            "colorscale": [
             [
              0,
              "#0d0887"
             ],
             [
              0.1111111111111111,
              "#46039f"
             ],
             [
              0.2222222222222222,
              "#7201a8"
             ],
             [
              0.3333333333333333,
              "#9c179e"
             ],
             [
              0.4444444444444444,
              "#bd3786"
             ],
             [
              0.5555555555555556,
              "#d8576b"
             ],
             [
              0.6666666666666666,
              "#ed7953"
             ],
             [
              0.7777777777777778,
              "#fb9f3a"
             ],
             [
              0.8888888888888888,
              "#fdca26"
             ],
             [
              1,
              "#f0f921"
             ]
            ],
            "type": "surface"
           }
          ],
          "table": [
           {
            "cells": {
             "fill": {
              "color": "#EBF0F8"
             },
             "line": {
              "color": "white"
             }
            },
            "header": {
             "fill": {
              "color": "#C8D4E3"
             },
             "line": {
              "color": "white"
             }
            },
            "type": "table"
           }
          ]
         },
         "layout": {
          "annotationdefaults": {
           "arrowcolor": "#2a3f5f",
           "arrowhead": 0,
           "arrowwidth": 1
          },
          "autotypenumbers": "strict",
          "coloraxis": {
           "colorbar": {
            "outlinewidth": 0,
            "ticks": ""
           }
          },
          "colorscale": {
           "diverging": [
            [
             0,
             "#8e0152"
            ],
            [
             0.1,
             "#c51b7d"
            ],
            [
             0.2,
             "#de77ae"
            ],
            [
             0.3,
             "#f1b6da"
            ],
            [
             0.4,
             "#fde0ef"
            ],
            [
             0.5,
             "#f7f7f7"
            ],
            [
             0.6,
             "#e6f5d0"
            ],
            [
             0.7,
             "#b8e186"
            ],
            [
             0.8,
             "#7fbc41"
            ],
            [
             0.9,
             "#4d9221"
            ],
            [
             1,
             "#276419"
            ]
           ],
           "sequential": [
            [
             0,
             "#0d0887"
            ],
            [
             0.1111111111111111,
             "#46039f"
            ],
            [
             0.2222222222222222,
             "#7201a8"
            ],
            [
             0.3333333333333333,
             "#9c179e"
            ],
            [
             0.4444444444444444,
             "#bd3786"
            ],
            [
             0.5555555555555556,
             "#d8576b"
            ],
            [
             0.6666666666666666,
             "#ed7953"
            ],
            [
             0.7777777777777778,
             "#fb9f3a"
            ],
            [
             0.8888888888888888,
             "#fdca26"
            ],
            [
             1,
             "#f0f921"
            ]
           ],
           "sequentialminus": [
            [
             0,
             "#0d0887"
            ],
            [
             0.1111111111111111,
             "#46039f"
            ],
            [
             0.2222222222222222,
             "#7201a8"
            ],
            [
             0.3333333333333333,
             "#9c179e"
            ],
            [
             0.4444444444444444,
             "#bd3786"
            ],
            [
             0.5555555555555556,
             "#d8576b"
            ],
            [
             0.6666666666666666,
             "#ed7953"
            ],
            [
             0.7777777777777778,
             "#fb9f3a"
            ],
            [
             0.8888888888888888,
             "#fdca26"
            ],
            [
             1,
             "#f0f921"
            ]
           ]
          },
          "colorway": [
           "#636efa",
           "#EF553B",
           "#00cc96",
           "#ab63fa",
           "#FFA15A",
           "#19d3f3",
           "#FF6692",
           "#B6E880",
           "#FF97FF",
           "#FECB52"
          ],
          "font": {
           "color": "#2a3f5f"
          },
          "geo": {
           "bgcolor": "white",
           "lakecolor": "white",
           "landcolor": "#E5ECF6",
           "showlakes": true,
           "showland": true,
           "subunitcolor": "white"
          },
          "hoverlabel": {
           "align": "left"
          },
          "hovermode": "closest",
          "mapbox": {
           "style": "light"
          },
          "paper_bgcolor": "white",
          "plot_bgcolor": "#E5ECF6",
          "polar": {
           "angularaxis": {
            "gridcolor": "white",
            "linecolor": "white",
            "ticks": ""
           },
           "bgcolor": "#E5ECF6",
           "radialaxis": {
            "gridcolor": "white",
            "linecolor": "white",
            "ticks": ""
           }
          },
          "scene": {
           "xaxis": {
            "backgroundcolor": "#E5ECF6",
            "gridcolor": "white",
            "gridwidth": 2,
            "linecolor": "white",
            "showbackground": true,
            "ticks": "",
            "zerolinecolor": "white"
           },
           "yaxis": {
            "backgroundcolor": "#E5ECF6",
            "gridcolor": "white",
            "gridwidth": 2,
            "linecolor": "white",
            "showbackground": true,
            "ticks": "",
            "zerolinecolor": "white"
           },
           "zaxis": {
            "backgroundcolor": "#E5ECF6",
            "gridcolor": "white",
            "gridwidth": 2,
            "linecolor": "white",
            "showbackground": true,
            "ticks": "",
            "zerolinecolor": "white"
           }
          },
          "shapedefaults": {
           "line": {
            "color": "#2a3f5f"
           }
          },
          "ternary": {
           "aaxis": {
            "gridcolor": "white",
            "linecolor": "white",
            "ticks": ""
           },
           "baxis": {
            "gridcolor": "white",
            "linecolor": "white",
            "ticks": ""
           },
           "bgcolor": "#E5ECF6",
           "caxis": {
            "gridcolor": "white",
            "linecolor": "white",
            "ticks": ""
           }
          },
          "title": {
           "x": 0.05
          },
          "xaxis": {
           "automargin": true,
           "gridcolor": "white",
           "linecolor": "white",
           "ticks": "",
           "title": {
            "standoff": 15
           },
           "zerolinecolor": "white",
           "zerolinewidth": 2
          },
          "yaxis": {
           "automargin": true,
           "gridcolor": "white",
           "linecolor": "white",
           "ticks": "",
           "title": {
            "standoff": 15
           },
           "zerolinecolor": "white",
           "zerolinewidth": 2
          }
         }
        },
        "xaxis": {
         "showgrid": false
        },
        "yaxis": {
         "showgrid": false,
         "title": {
          "text": "MPH"
         }
        }
       }
      },
      "image/png": "[encoded data removed]"
     },
     "metadata": {},
     "output_type": "display_data"
    },
    {
     "data": {
      "application/vnd.plotly.v1+json": {
       "config": {
        "plotlyServerURL": "https://plot.ly"
       },
       "data": [
        {
         "marker": {
          "color": "cyan"
         },
         "name": "Accumulation",
         "type": "bar",
         "x": [
          "2025-08-11T00:04:00.000000000",
          "2025-08-11T00:09:00.000000000",
          "2025-08-11T00:14:00.000000000",
          "2025-08-11T00:19:00.000000000",
          "2025-08-11T00:24:00.000000000",
          "2025-08-11T00:29:00.000000000",
          "2025-08-11T00:34:00.000000000",
          "2025-08-11T00:39:00.000000000",
          "2025-08-11T00:44:00.000000000",
          "2025-08-11T00:49:00.000000000",
          "2025-08-11T00:54:00.000000000",
          "2025-08-11T00:59:00.000000000",
          "2025-08-11T01:04:00.000000000",
          "2025-08-11T01:09:00.000000000",
          "2025-08-11T01:14:00.000000000",
          "2025-08-11T01:19:00.000000000",
          "2025-08-11T01:24:00.000000000",
          "2025-08-11T01:29:00.000000000",
          "2025-08-11T01:34:00.000000000",
          "2025-08-11T01:39:00.000000000",
          "2025-08-11T01:44:00.000000000",
          "2025-08-11T01:49:00.000000000",
          "2025-08-11T01:54:00.000000000",
          "2025-08-11T01:59:00.000000000",
          "2025-08-11T02:04:00.000000000",
          "2025-08-11T02:09:00.000000000",
          "2025-08-11T02:14:00.000000000",
          "2025-08-11T02:19:00.000000000",
          "2025-08-11T02:24:00.000000000",
          "2025-08-11T02:29:00.000000000",
          "2025-08-11T02:34:00.000000000",
          "2025-08-11T02:39:00.000000000",
          "2025-08-11T02:44:00.000000000",
          "2025-08-11T02:49:00.000000000",
          "2025-08-11T02:54:00.000000000",
          "2025-08-11T02:59:00.000000000",
          "2025-08-11T03:04:00.000000000",
          "2025-08-11T03:09:00.000000000",
          "2025-08-11T03:14:00.000000000",
          "2025-08-11T03:19:00.000000000",
          "2025-08-11T03:24:00.000000000",
          "2025-08-11T03:29:00.000000000",
          "2025-08-11T03:34:00.000000000",
          "2025-08-11T03:39:00.000000000",
          "2025-08-11T03:44:00.000000000",
          "2025-08-11T03:49:00.000000000",
          "2025-08-11T03:54:00.000000000",
          "2025-08-11T03:59:00.000000000",
          "2025-08-11T04:04:00.000000000",
          "2025-08-11T04:09:00.000000000",
          "2025-08-11T04:14:00.000000000",
          "2025-08-11T04:19:00.000000000",
          "2025-08-11T04:24:00.000000000",
          "2025-08-11T04:29:00.000000000",
          "2025-08-11T04:34:00.000000000",
          "2025-08-11T04:39:00.000000000",
          "2025-08-11T04:44:00.000000000",
          "2025-08-11T04:49:00.000000000",
          "2025-08-11T04:54:00.000000000",
          "2025-08-11T04:59:00.000000000",
          "2025-08-11T05:04:00.000000000",
          "2025-08-11T05:09:00.000000000",
          "2025-08-11T05:14:00.000000000",
          "2025-08-11T05:19:00.000000000",
          "2025-08-11T05:24:00.000000000",
          "2025-08-11T05:29:00.000000000",
          "2025-08-11T05:34:00.000000000",
          "2025-08-11T05:39:00.000000000",
          "2025-08-11T05:44:00.000000000",
          "2025-08-11T05:49:00.000000000",
          "2025-08-11T05:54:00.000000000",
          "2025-08-11T05:59:00.000000000",
          "2025-08-11T06:04:00.000000000",
          "2025-08-11T06:09:00.000000000",
          "2025-08-11T06:14:00.000000000",
          "2025-08-11T06:19:00.000000000",
          "2025-08-11T06:24:00.000000000",
          "2025-08-11T06:29:00.000000000",
          "2025-08-11T06:34:00.000000000",
          "2025-08-11T06:39:00.000000000",
          "2025-08-11T06:44:00.000000000",
          "2025-08-11T06:49:00.000000000",
          "2025-08-11T06:54:00.000000000",
          "2025-08-11T06:59:00.000000000",
          "2025-08-11T07:04:00.000000000",
          "2025-08-11T07:09:00.000000000",
          "2025-08-11T07:14:00.000000000",
          "2025-08-11T07:19:00.000000000",
          "2025-08-11T07:24:00.000000000",
          "2025-08-11T07:29:00.000000000",
          "2025-08-11T07:34:00.000000000",
          "2025-08-11T07:39:00.000000000",
          "2025-08-11T07:44:00.000000000",
          "2025-08-11T07:49:00.000000000",
          "2025-08-11T07:54:00.000000000",
          "2025-08-11T07:59:00.000000000",
          "2025-08-11T08:04:00.000000000",
          "2025-08-11T08:09:00.000000000",
          "2025-08-11T08:14:00.000000000",
          "2025-08-11T08:19:00.000000000",
          "2025-08-11T08:24:00.000000000",
          "2025-08-11T08:29:00.000000000",
          "2025-08-11T08:34:00.000000000",
          "2025-08-11T08:39:00.000000000",
          "2025-08-11T08:44:00.000000000",
          "2025-08-11T08:49:00.000000000",
          "2025-08-11T08:54:00.000000000",
          "2025-08-11T08:59:00.000000000",
          "2025-08-11T09:04:00.000000000",
          "2025-08-11T09:09:00.000000000",
          "2025-08-11T09:14:00.000000000",
          "2025-08-11T09:19:00.000000000",
          "2025-08-11T09:24:00.000000000",
          "2025-08-11T09:29:00.000000000",
          "2025-08-11T09:34:00.000000000",
          "2025-08-11T09:39:00.000000000",
          "2025-08-11T09:44:00.000000000",
          "2025-08-11T09:49:00.000000000",
          "2025-08-11T09:54:00.000000000",
          "2025-08-11T09:59:00.000000000",
          "2025-08-11T10:04:00.000000000",
          "2025-08-11T10:09:00.000000000",
          "2025-08-11T10:14:00.000000000",
          "2025-08-11T10:19:00.000000000",
          "2025-08-11T10:24:00.000000000",
          "2025-08-11T10:29:00.000000000",
          "2025-08-11T10:34:00.000000000",
          "2025-08-11T10:39:00.000000000",
          "2025-08-11T10:44:00.000000000",
          "2025-08-11T10:49:00.000000000",
          "2025-08-11T10:54:00.000000000",
          "2025-08-11T10:59:00.000000000",
          "2025-08-11T11:04:00.000000000",
          "2025-08-11T11:09:00.000000000",
          "2025-08-11T11:14:00.000000000",
          "2025-08-11T11:19:00.000000000",
          "2025-08-11T11:24:00.000000000",
          "2025-08-11T11:29:00.000000000",
          "2025-08-11T11:34:00.000000000",
          "2025-08-11T11:39:00.000000000",
          "2025-08-11T11:44:00.000000000",
          "2025-08-11T11:49:00.000000000",
          "2025-08-11T11:54:00.000000000",
          "2025-08-11T11:59:00.000000000",
          "2025-08-11T12:04:00.000000000",
          "2025-08-11T12:09:00.000000000",
          "2025-08-11T12:14:00.000000000"
         ],
         "y": {
          "bdata": "mpmZmZmZqT/sUbgeheuxP+xRuB6F67E/exSuR+F6tD+kcD0K16PAP5qZmZmZmck/KVyPwvUozD+4HoXrUbjOP7gehetRuM4/uB6F61G4zj+4HoXrUbjOP7gehetRuM4/uB6F61G4zj+4HoXrUbjOP7gehetRuM4/uB6F61G4zj+4HoXrUbjOP7gehetRuM4/uB6F61G4zj+4HoXrUbjOP7gehetRuM4/uB6F61G4zj8AAAAAAADQP6RwPQrXo9A/SOF6FK5H0T9I4XoUrkfRP0jhehSuR9E/SOF6FK5H0T9I4XoUrkfRP0jhehSuR9E/SOF6FK5H0T9I4XoUrkfRP0jhehSuR9E/SOF6FK5H0T9I4XoUrkfRP0jhehSuR9E/SOF6FK5H0T9I4XoUrkfRP0jhehSuR9E/SOF6FK5H0T9I4XoUrkfRP0jhehSuR9E/SOF6FK5H0T9I4XoUrkfRP+xRuB6F69E/exSuR+F61D97FK5H4XrUP3sUrkfhetQ/exSuR+F61D/D9Shcj8LVP/YoXI/C9dg/9ihcj8L12D+amZmZmZnZPz0K16NwPdo/PQrXo3A92j89CtejcD3aPz0K16NwPdo/hetRuB6F2z8pXI/C9SjcP3E9CtejcN0/cT0K16Nw3T8UrkfhehTeP7gehetRuN4/uB6F61G43j+4HoXrUbjePwAAAAAAAOA/UrgehetR4D9SuB6F61HgP/YoXI/C9eA/SOF6FK5H4T/sUbgehevhP+xRuB6F6+E/7FG4HoXr4T89CtejcD3iP4/C9Shcj+I/j8L1KFyP4j+PwvUoXI/iP4/C9Shcj+I/j8L1KFyP4j+PwvUoXI/iP4/C9Shcj+I/j8L1KFyP4j+PwvUoXI/iP4/C9Shcj+I/j8L1KFyP4j+PwvUoXI/iP4/C9Shcj+I/j8L1KFyP4j+PwvUoXI/iP4/C9Shcj+I/j8L1KFyP4j+PwvUoXI/iP4/C9Shcj+I/j8L1KFyP4j+PwvUoXI/iP4/C9Shcj+I/j8L1KFyP4j+PwvUoXI/iP4/C9Shcj+I/j8L1KFyP4j+PwvUoXI/iP4/C9Shcj+I/j8L1KFyP4j+PwvUoXI/iP4/C9Shcj+I/j8L1KFyP4j+PwvUoXI/iP4/C9Shcj+I/j8L1KFyP4j+PwvUoXI/iP4/C9Shcj+I/j8L1KFyP4j+PwvUoXI/iP4/C9Shcj+I/j8L1KFyP4j+PwvUoXI/iP4/C9Shcj+I/j8L1KFyP4j+PwvUoXI/iP4/C9Shcj+I/j8L1KFyP4j+PwvUoXI/iP4/C9Shcj+I/j8L1KFyP4j+PwvUoXI/iP4/C9Shcj+I/j8L1KFyP4j+PwvUoXI/iP4/C9Shcj+I/j8L1KFyP4j+PwvUoXI/iP4/C9Shcj+I/j8L1KFyP4j+PwvUoXI/iP4/C9Shcj+I/j8L1KFyP4j+PwvUoXI/iP4/C9Shcj+I/j8L1KFyP4j+PwvUoXI/iP4/C9Shcj+I/j8L1KFyP4j+PwvUoXI/iP4/C9Shcj+I/j8L1KFyP4j+PwvUoXI/iP4/C9Shcj+I/",
          "dtype": "f8"
         }
        },
        {
         "marker": {
          "color": "lawngreen"
         },
         "name": "Rate",
         "type": "bar",
         "x": [
          "2025-08-11T00:04:00.000000000",
          "2025-08-11T00:09:00.000000000",
          "2025-08-11T00:14:00.000000000",
          "2025-08-11T00:19:00.000000000",
          "2025-08-11T00:24:00.000000000",
          "2025-08-11T00:29:00.000000000",
          "2025-08-11T00:34:00.000000000",
          "2025-08-11T00:39:00.000000000",
          "2025-08-11T00:44:00.000000000",
          "2025-08-11T00:49:00.000000000",
          "2025-08-11T00:54:00.000000000",
          "2025-08-11T00:59:00.000000000",
          "2025-08-11T01:04:00.000000000",
          "2025-08-11T01:09:00.000000000",
          "2025-08-11T01:14:00.000000000",
          "2025-08-11T01:19:00.000000000",
          "2025-08-11T01:24:00.000000000",
          "2025-08-11T01:29:00.000000000",
          "2025-08-11T01:34:00.000000000",
          "2025-08-11T01:39:00.000000000",
          "2025-08-11T01:44:00.000000000",
          "2025-08-11T01:49:00.000000000",
          "2025-08-11T01:54:00.000000000",
          "2025-08-11T01:59:00.000000000",
          "2025-08-11T02:04:00.000000000",
          "2025-08-11T02:09:00.000000000",
          "2025-08-11T02:14:00.000000000",
          "2025-08-11T02:19:00.000000000",
          "2025-08-11T02:24:00.000000000",
          "2025-08-11T02:29:00.000000000",
          "2025-08-11T02:34:00.000000000",
          "2025-08-11T02:39:00.000000000",
          "2025-08-11T02:44:00.000000000",
          "2025-08-11T02:49:00.000000000",
          "2025-08-11T02:54:00.000000000",
          "2025-08-11T02:59:00.000000000",
          "2025-08-11T03:04:00.000000000",
          "2025-08-11T03:09:00.000000000",
          "2025-08-11T03:14:00.000000000",
          "2025-08-11T03:19:00.000000000",
          "2025-08-11T03:24:00.000000000",
          "2025-08-11T03:29:00.000000000",
          "2025-08-11T03:34:00.000000000",
          "2025-08-11T03:39:00.000000000",
          "2025-08-11T03:44:00.000000000",
          "2025-08-11T03:49:00.000000000",
          "2025-08-11T03:54:00.000000000",
          "2025-08-11T03:59:00.000000000",
          "2025-08-11T04:04:00.000000000",
          "2025-08-11T04:09:00.000000000",
          "2025-08-11T04:14:00.000000000",
          "2025-08-11T04:19:00.000000000",
          "2025-08-11T04:24:00.000000000",
          "2025-08-11T04:29:00.000000000",
          "2025-08-11T04:34:00.000000000",
          "2025-08-11T04:39:00.000000000",
          "2025-08-11T04:44:00.000000000",
          "2025-08-11T04:49:00.000000000",
          "2025-08-11T04:54:00.000000000",
          "2025-08-11T04:59:00.000000000",
          "2025-08-11T05:04:00.000000000",
          "2025-08-11T05:09:00.000000000",
          "2025-08-11T05:14:00.000000000",
          "2025-08-11T05:19:00.000000000",
          "2025-08-11T05:24:00.000000000",
          "2025-08-11T05:29:00.000000000",
          "2025-08-11T05:34:00.000000000",
          "2025-08-11T05:39:00.000000000",
          "2025-08-11T05:44:00.000000000",
          "2025-08-11T05:49:00.000000000",
          "2025-08-11T05:54:00.000000000",
          "2025-08-11T05:59:00.000000000",
          "2025-08-11T06:04:00.000000000",
          "2025-08-11T06:09:00.000000000",
          "2025-08-11T06:14:00.000000000",
          "2025-08-11T06:19:00.000000000",
          "2025-08-11T06:24:00.000000000",
          "2025-08-11T06:29:00.000000000",
          "2025-08-11T06:34:00.000000000",
          "2025-08-11T06:39:00.000000000",
          "2025-08-11T06:44:00.000000000",
          "2025-08-11T06:49:00.000000000",
          "2025-08-11T06:54:00.000000000",
          "2025-08-11T06:59:00.000000000",
          "2025-08-11T07:04:00.000000000",
          "2025-08-11T07:09:00.000000000",
          "2025-08-11T07:14:00.000000000",
          "2025-08-11T07:19:00.000000000",
          "2025-08-11T07:24:00.000000000",
          "2025-08-11T07:29:00.000000000",
          "2025-08-11T07:34:00.000000000",
          "2025-08-11T07:39:00.000000000",
          "2025-08-11T07:44:00.000000000",
          "2025-08-11T07:49:00.000000000",
          "2025-08-11T07:54:00.000000000",
          "2025-08-11T07:59:00.000000000",
          "2025-08-11T08:04:00.000000000",
          "2025-08-11T08:09:00.000000000",
          "2025-08-11T08:14:00.000000000",
          "2025-08-11T08:19:00.000000000",
          "2025-08-11T08:24:00.000000000",
          "2025-08-11T08:29:00.000000000",
          "2025-08-11T08:34:00.000000000",
          "2025-08-11T08:39:00.000000000",
          "2025-08-11T08:44:00.000000000",
          "2025-08-11T08:49:00.000000000",
          "2025-08-11T08:54:00.000000000",
          "2025-08-11T08:59:00.000000000",
          "2025-08-11T09:04:00.000000000",
          "2025-08-11T09:09:00.000000000",
          "2025-08-11T09:14:00.000000000",
          "2025-08-11T09:19:00.000000000",
          "2025-08-11T09:24:00.000000000",
          "2025-08-11T09:29:00.000000000",
          "2025-08-11T09:34:00.000000000",
          "2025-08-11T09:39:00.000000000",
          "2025-08-11T09:44:00.000000000",
          "2025-08-11T09:49:00.000000000",
          "2025-08-11T09:54:00.000000000",
          "2025-08-11T09:59:00.000000000",
          "2025-08-11T10:04:00.000000000",
          "2025-08-11T10:09:00.000000000",
          "2025-08-11T10:14:00.000000000",
          "2025-08-11T10:19:00.000000000",
          "2025-08-11T10:24:00.000000000",
          "2025-08-11T10:29:00.000000000",
          "2025-08-11T10:34:00.000000000",
          "2025-08-11T10:39:00.000000000",
          "2025-08-11T10:44:00.000000000",
          "2025-08-11T10:49:00.000000000",
          "2025-08-11T10:54:00.000000000",
          "2025-08-11T10:59:00.000000000",
          "2025-08-11T11:04:00.000000000",
          "2025-08-11T11:09:00.000000000",
          "2025-08-11T11:14:00.000000000",
          "2025-08-11T11:19:00.000000000",
          "2025-08-11T11:24:00.000000000",
          "2025-08-11T11:29:00.000000000",
          "2025-08-11T11:34:00.000000000",
          "2025-08-11T11:39:00.000000000",
          "2025-08-11T11:44:00.000000000",
          "2025-08-11T11:49:00.000000000",
          "2025-08-11T11:54:00.000000000",
          "2025-08-11T11:59:00.000000000",
          "2025-08-11T12:04:00.000000000",
          "2025-08-11T12:09:00.000000000",
          "2025-08-11T12:14:00.000000000"
         ],
         "y": {
          "bdata": "7FG4HoXr0T+F61G4HoXbP4XrUbgehds/7FG4HoXrwT9mZmZmZmbWP7gehetRuOY/uB6F61G45j8AAAAAAADgP+F6FK5H4co/7FG4HoXrsT8AAAAAAAAAAAAAAAAAAAAAAAAAAAAAAAAAAAAAAAAAAAAAAAAAAAAAAAAAAAAAAAAAAAAAAAAAAAAAAAAAAAAAAAAAAAAAAAAAAAAAAAAAAAAAAAAAAAAAAAAAAAAAAADsUbgeheuxP+xRuB6F68E/7FG4HoXrwT/sUbgehevBP+xRuB6F67E/AAAAAAAAAAAAAAAAAAAAAAAAAAAAAAAAAAAAAAAAAAAAAAAAAAAAAAAAAAAAAAAAAAAAAAAAAAAAAAAAAAAAAAAAAAAAAAAAAAAAAAAAAAAAAAAAAAAAAAAAAAAAAAAAAAAAAAAAAAAAAAAAAAAAAAAAAAAAAAAAAAAAAAAAAAAAAAAAAAAAAOxRuB6F67E/7FG4HoXr0T/sUbgehevRP+xRuB6F68E/AAAAAAAAAADsUbgehevBP4XrUbgehds/hetRuB6F2z/sUbgehevBP+xRuB6F68E/7FG4HoXrwT/sUbgeheuxPwAAAAAAAAAA7FG4HoXrsT/sUbgehevBP+F6FK5H4co/4XoUrkfhyj/sUbgehevBP+xRuB6F68E/7FG4HoXrwT/sUbgeheuxP+xRuB6F67E/7FG4HoXrwT/sUbgehevBP+xRuB6F68E/4XoUrkfhyj/sUbgehevRP+xRuB6F68E/7FG4HoXrsT/sUbgeheuxP+xRuB6F68E/7FG4HoXrwT/sUbgeheuxPwAAAAAAAAAAAAAAAAAAAAAAAAAAAAAAAAAAAAAAAAAAAAAAAAAAAAAAAAAAAAAAAAAAAAAAAAAAAAAAAAAAAAAAAAAAAAAAAAAAAAAAAAAAAAAAAAAAAAAAAAAAAAAAAAAAAAAAAAAAAAAAAAAAAAAAAAAAAAAAAAAAAAAAAAAAAAAAAAAAAAAAAAAAAAAAAAAAAAAAAAAAAAAAAAAAAAAAAAAAAAAAAAAAAAAAAAAAAAAAAAAAAAAAAAAAAAAAAAAAAAAAAAAAAAAAAAAAAAAAAAAAAAAAAAAAAAAAAAAAAAAAAAAAAAAAAAAAAAAAAAAAAAAAAAAAAAAAAAAAAAAAAAAAAAAAAAAAAAAAAAAAAAAAAAAAAAAAAAAAAAAAAAAAAAAAAAAAAAAAAAAAAAAAAAAAAAAAAAAAAAAAAAAAAAAAAAAAAAAAAAAAAAAAAAAAAAAAAAAAAAAAAAAAAAAAAAAAAAAAAAAAAAAAAAAAAAAAAAAAAAAAAAAAAAAAAAAAAAAAAAAAAAAAAAAAAAAAAAAAAAAAAAAAAAAAAAAAAAAAAAAAAAAAAAAAAAAAAAAAAAAAAAAAAAAAAAAAAAAAAAAAAAAAAAAAAAAAAAAAAAAAAAAAAAAAAAAAAAAAAAAAAAAAAAAAAAAAAAAAAAAAAAAAAAAAAAAAAAAAAAAAAAAAAAAAAAAAAAAAAAAAAAAAAAAAAAAAAAAAAAAAAAAAAAAAAAAAAAAAAAAAAAAA",
          "dtype": "f8"
         }
        },
        {
         "line": {
          "color": "lawngreen"
         },
         "mode": "lines",
         "name": "Rate Line",
         "type": "scatter",
         "x": [
          "2025-08-11T00:04:00.000000000",
          "2025-08-11T00:09:00.000000000",
          "2025-08-11T00:14:00.000000000",
          "2025-08-11T00:19:00.000000000",
          "2025-08-11T00:24:00.000000000",
          "2025-08-11T00:29:00.000000000",
          "2025-08-11T00:34:00.000000000",
          "2025-08-11T00:39:00.000000000",
          "2025-08-11T00:44:00.000000000",
          "2025-08-11T00:49:00.000000000",
          "2025-08-11T00:54:00.000000000",
          "2025-08-11T00:59:00.000000000",
          "2025-08-11T01:04:00.000000000",
          "2025-08-11T01:09:00.000000000",
          "2025-08-11T01:14:00.000000000",
          "2025-08-11T01:19:00.000000000",
          "2025-08-11T01:24:00.000000000",
          "2025-08-11T01:29:00.000000000",
          "2025-08-11T01:34:00.000000000",
          "2025-08-11T01:39:00.000000000",
          "2025-08-11T01:44:00.000000000",
          "2025-08-11T01:49:00.000000000",
          "2025-08-11T01:54:00.000000000",
          "2025-08-11T01:59:00.000000000",
          "2025-08-11T02:04:00.000000000",
          "2025-08-11T02:09:00.000000000",
          "2025-08-11T02:14:00.000000000",
          "2025-08-11T02:19:00.000000000",
          "2025-08-11T02:24:00.000000000",
          "2025-08-11T02:29:00.000000000",
          "2025-08-11T02:34:00.000000000",
          "2025-08-11T02:39:00.000000000",
          "2025-08-11T02:44:00.000000000",
          "2025-08-11T02:49:00.000000000",
          "2025-08-11T02:54:00.000000000",
          "2025-08-11T02:59:00.000000000",
          "2025-08-11T03:04:00.000000000",
          "2025-08-11T03:09:00.000000000",
          "2025-08-11T03:14:00.000000000",
          "2025-08-11T03:19:00.000000000",
          "2025-08-11T03:24:00.000000000",
          "2025-08-11T03:29:00.000000000",
          "2025-08-11T03:34:00.000000000",
          "2025-08-11T03:39:00.000000000",
          "2025-08-11T03:44:00.000000000",
          "2025-08-11T03:49:00.000000000",
          "2025-08-11T03:54:00.000000000",
          "2025-08-11T03:59:00.000000000",
          "2025-08-11T04:04:00.000000000",
          "2025-08-11T04:09:00.000000000",
          "2025-08-11T04:14:00.000000000",
          "2025-08-11T04:19:00.000000000",
          "2025-08-11T04:24:00.000000000",
          "2025-08-11T04:29:00.000000000",
          "2025-08-11T04:34:00.000000000",
          "2025-08-11T04:39:00.000000000",
          "2025-08-11T04:44:00.000000000",
          "2025-08-11T04:49:00.000000000",
          "2025-08-11T04:54:00.000000000",
          "2025-08-11T04:59:00.000000000",
          "2025-08-11T05:04:00.000000000",
          "2025-08-11T05:09:00.000000000",
          "2025-08-11T05:14:00.000000000",
          "2025-08-11T05:19:00.000000000",
          "2025-08-11T05:24:00.000000000",
          "2025-08-11T05:29:00.000000000",
          "2025-08-11T05:34:00.000000000",
          "2025-08-11T05:39:00.000000000",
          "2025-08-11T05:44:00.000000000",
          "2025-08-11T05:49:00.000000000",
          "2025-08-11T05:54:00.000000000",
          "2025-08-11T05:59:00.000000000",
          "2025-08-11T06:04:00.000000000",
          "2025-08-11T06:09:00.000000000",
          "2025-08-11T06:14:00.000000000",
          "2025-08-11T06:19:00.000000000",
          "2025-08-11T06:24:00.000000000",
          "2025-08-11T06:29:00.000000000",
          "2025-08-11T06:34:00.000000000",
          "2025-08-11T06:39:00.000000000",
          "2025-08-11T06:44:00.000000000",
          "2025-08-11T06:49:00.000000000",
          "2025-08-11T06:54:00.000000000",
          "2025-08-11T06:59:00.000000000",
          "2025-08-11T07:04:00.000000000",
          "2025-08-11T07:09:00.000000000",
          "2025-08-11T07:14:00.000000000",
          "2025-08-11T07:19:00.000000000",
          "2025-08-11T07:24:00.000000000",
          "2025-08-11T07:29:00.000000000",
          "2025-08-11T07:34:00.000000000",
          "2025-08-11T07:39:00.000000000",
          "2025-08-11T07:44:00.000000000",
          "2025-08-11T07:49:00.000000000",
          "2025-08-11T07:54:00.000000000",
          "2025-08-11T07:59:00.000000000",
          "2025-08-11T08:04:00.000000000",
          "2025-08-11T08:09:00.000000000",
          "2025-08-11T08:14:00.000000000",
          "2025-08-11T08:19:00.000000000",
          "2025-08-11T08:24:00.000000000",
          "2025-08-11T08:29:00.000000000",
          "2025-08-11T08:34:00.000000000",
          "2025-08-11T08:39:00.000000000",
          "2025-08-11T08:44:00.000000000",
          "2025-08-11T08:49:00.000000000",
          "2025-08-11T08:54:00.000000000",
          "2025-08-11T08:59:00.000000000",
          "2025-08-11T09:04:00.000000000",
          "2025-08-11T09:09:00.000000000",
          "2025-08-11T09:14:00.000000000",
          "2025-08-11T09:19:00.000000000",
          "2025-08-11T09:24:00.000000000",
          "2025-08-11T09:29:00.000000000",
          "2025-08-11T09:34:00.000000000",
          "2025-08-11T09:39:00.000000000",
          "2025-08-11T09:44:00.000000000",
          "2025-08-11T09:49:00.000000000",
          "2025-08-11T09:54:00.000000000",
          "2025-08-11T09:59:00.000000000",
          "2025-08-11T10:04:00.000000000",
          "2025-08-11T10:09:00.000000000",
          "2025-08-11T10:14:00.000000000",
          "2025-08-11T10:19:00.000000000",
          "2025-08-11T10:24:00.000000000",
          "2025-08-11T10:29:00.000000000",
          "2025-08-11T10:34:00.000000000",
          "2025-08-11T10:39:00.000000000",
          "2025-08-11T10:44:00.000000000",
          "2025-08-11T10:49:00.000000000",
          "2025-08-11T10:54:00.000000000",
          "2025-08-11T10:59:00.000000000",
          "2025-08-11T11:04:00.000000000",
          "2025-08-11T11:09:00.000000000",
          "2025-08-11T11:14:00.000000000",
          "2025-08-11T11:19:00.000000000",
          "2025-08-11T11:24:00.000000000",
          "2025-08-11T11:29:00.000000000",
          "2025-08-11T11:34:00.000000000",
          "2025-08-11T11:39:00.000000000",
          "2025-08-11T11:44:00.000000000",
          "2025-08-11T11:49:00.000000000",
          "2025-08-11T11:54:00.000000000",
          "2025-08-11T11:59:00.000000000",
          "2025-08-11T12:04:00.000000000",
          "2025-08-11T12:09:00.000000000",
          "2025-08-11T12:14:00.000000000"
         ],
         "y": {
          "bdata": "7FG4HoXr0T+F61G4HoXbP4XrUbgehds/7FG4HoXrwT9mZmZmZmbWP7gehetRuOY/uB6F61G45j8AAAAAAADgP+F6FK5H4co/7FG4HoXrsT8AAAAAAAAAAAAAAAAAAAAAAAAAAAAAAAAAAAAAAAAAAAAAAAAAAAAAAAAAAAAAAAAAAAAAAAAAAAAAAAAAAAAAAAAAAAAAAAAAAAAAAAAAAAAAAAAAAAAAAAAAAAAAAADsUbgeheuxP+xRuB6F68E/7FG4HoXrwT/sUbgehevBP+xRuB6F67E/AAAAAAAAAAAAAAAAAAAAAAAAAAAAAAAAAAAAAAAAAAAAAAAAAAAAAAAAAAAAAAAAAAAAAAAAAAAAAAAAAAAAAAAAAAAAAAAAAAAAAAAAAAAAAAAAAAAAAAAAAAAAAAAAAAAAAAAAAAAAAAAAAAAAAAAAAAAAAAAAAAAAAAAAAAAAAAAAAAAAAOxRuB6F67E/7FG4HoXr0T/sUbgehevRP+xRuB6F68E/AAAAAAAAAADsUbgehevBP4XrUbgehds/hetRuB6F2z/sUbgehevBP+xRuB6F68E/7FG4HoXrwT/sUbgeheuxPwAAAAAAAAAA7FG4HoXrsT/sUbgehevBP+F6FK5H4co/4XoUrkfhyj/sUbgehevBP+xRuB6F68E/7FG4HoXrwT/sUbgeheuxP+xRuB6F67E/7FG4HoXrwT/sUbgehevBP+xRuB6F68E/4XoUrkfhyj/sUbgehevRP+xRuB6F68E/7FG4HoXrsT/sUbgeheuxP+xRuB6F68E/7FG4HoXrwT/sUbgeheuxPwAAAAAAAAAAAAAAAAAAAAAAAAAAAAAAAAAAAAAAAAAAAAAAAAAAAAAAAAAAAAAAAAAAAAAAAAAAAAAAAAAAAAAAAAAAAAAAAAAAAAAAAAAAAAAAAAAAAAAAAAAAAAAAAAAAAAAAAAAAAAAAAAAAAAAAAAAAAAAAAAAAAAAAAAAAAAAAAAAAAAAAAAAAAAAAAAAAAAAAAAAAAAAAAAAAAAAAAAAAAAAAAAAAAAAAAAAAAAAAAAAAAAAAAAAAAAAAAAAAAAAAAAAAAAAAAAAAAAAAAAAAAAAAAAAAAAAAAAAAAAAAAAAAAAAAAAAAAAAAAAAAAAAAAAAAAAAAAAAAAAAAAAAAAAAAAAAAAAAAAAAAAAAAAAAAAAAAAAAAAAAAAAAAAAAAAAAAAAAAAAAAAAAAAAAAAAAAAAAAAAAAAAAAAAAAAAAAAAAAAAAAAAAAAAAAAAAAAAAAAAAAAAAAAAAAAAAAAAAAAAAAAAAAAAAAAAAAAAAAAAAAAAAAAAAAAAAAAAAAAAAAAAAAAAAAAAAAAAAAAAAAAAAAAAAAAAAAAAAAAAAAAAAAAAAAAAAAAAAAAAAAAAAAAAAAAAAAAAAAAAAAAAAAAAAAAAAAAAAAAAAAAAAAAAAAAAAAAAAAAAAAAAAAAAAAAAAAAAAAAAAAAAAAAAAAAAAAAAAAAAAAAAAAAAAAAAAAAAAAAAAAAAAAAAAAAAAAAAAAAAAAAAAAAAAAAAAAAAAAAAAAAAAA",
          "dtype": "f8"
         }
        }
       ],
       "layout": {
        "autosize": true,
        "barmode": "group",
        "hovermode": "x",
        "legend": {
         "orientation": "h",
         "x": 0.5,
         "xanchor": "center",
         "y": -0.3,
         "yanchor": "bottom"
        },
        "margin": {
         "b": 20,
         "l": 20,
         "r": 20,
         "t": 30
        },
        "template": {
         "data": {
          "bar": [
           {
            "error_x": {
             "color": "#2a3f5f"
            },
            "error_y": {
             "color": "#2a3f5f"
            },
            "marker": {
             "line": {
              "color": "#E5ECF6",
              "width": 0.5
             },
             "pattern": {
              "fillmode": "overlay",
              "size": 10,
              "solidity": 0.2
             }
            },
            "type": "bar"
           }
          ],
          "barpolar": [
           {
            "marker": {
             "line": {
              "color": "#E5ECF6",
              "width": 0.5
             },
             "pattern": {
              "fillmode": "overlay",
              "size": 10,
              "solidity": 0.2
             }
            },
            "type": "barpolar"
           }
          ],
          "carpet": [
           {
            "aaxis": {
             "endlinecolor": "#2a3f5f",
             "gridcolor": "white",
             "linecolor": "white",
             "minorgridcolor": "white",
             "startlinecolor": "#2a3f5f"
            },
            "baxis": {
             "endlinecolor": "#2a3f5f",
             "gridcolor": "white",
             "linecolor": "white",
             "minorgridcolor": "white",
             "startlinecolor": "#2a3f5f"
            },
            "type": "carpet"
           }
          ],
          "choropleth": [
           {
            "colorbar": {
             "outlinewidth": 0,
             "ticks": ""
            },
            "type": "choropleth"
           }
          ],
          "contour": [
           {
            "colorbar": {
             "outlinewidth": 0,
             "ticks": ""
            },
            "colorscale": [
             [
              0,
              "#0d0887"
             ],
             [
              0.1111111111111111,
              "#46039f"
             ],
             [
              0.2222222222222222,
              "#7201a8"
             ],
             [
              0.3333333333333333,
              "#9c179e"
             ],
             [
              0.4444444444444444,
              "#bd3786"
             ],
             [
              0.5555555555555556,
              "#d8576b"
             ],
             [
              0.6666666666666666,
              "#ed7953"
             ],
             [
              0.7777777777777778,
              "#fb9f3a"
             ],
             [
              0.8888888888888888,
              "#fdca26"
             ],
             [
              1,
              "#f0f921"
             ]
            ],
            "type": "contour"
           }
          ],
          "contourcarpet": [
           {
            "colorbar": {
             "outlinewidth": 0,
             "ticks": ""
            },
            "type": "contourcarpet"
           }
          ],
          "heatmap": [
           {
            "colorbar": {
             "outlinewidth": 0,
             "ticks": ""
            },
            "colorscale": [
             [
              0,
              "#0d0887"
             ],
             [
              0.1111111111111111,
              "#46039f"
             ],
             [
              0.2222222222222222,
              "#7201a8"
             ],
             [
              0.3333333333333333,
              "#9c179e"
             ],
             [
              0.4444444444444444,
              "#bd3786"
             ],
             [
              0.5555555555555556,
              "#d8576b"
             ],
             [
              0.6666666666666666,
              "#ed7953"
             ],
             [
              0.7777777777777778,
              "#fb9f3a"
             ],
             [
              0.8888888888888888,
              "#fdca26"
             ],
             [
              1,
              "#f0f921"
             ]
            ],
            "type": "heatmap"
           }
          ],
          "histogram": [
           {
            "marker": {
             "pattern": {
              "fillmode": "overlay",
              "size": 10,
              "solidity": 0.2
             }
            },
            "type": "histogram"
           }
          ],
          "histogram2d": [
           {
            "colorbar": {
             "outlinewidth": 0,
             "ticks": ""
            },
            "colorscale": [
             [
              0,
              "#0d0887"
             ],
             [
              0.1111111111111111,
              "#46039f"
             ],
             [
              0.2222222222222222,
              "#7201a8"
             ],
             [
              0.3333333333333333,
              "#9c179e"
             ],
             [
              0.4444444444444444,
              "#bd3786"
             ],
             [
              0.5555555555555556,
              "#d8576b"
             ],
             [
              0.6666666666666666,
              "#ed7953"
             ],
             [
              0.7777777777777778,
              "#fb9f3a"
             ],
             [
              0.8888888888888888,
              "#fdca26"
             ],
             [
              1,
              "#f0f921"
             ]
            ],
            "type": "histogram2d"
           }
          ],
          "histogram2dcontour": [
           {
            "colorbar": {
             "outlinewidth": 0,
             "ticks": ""
            },
            "colorscale": [
             [
              0,
              "#0d0887"
             ],
             [
              0.1111111111111111,
              "#46039f"
             ],
             [
              0.2222222222222222,
              "#7201a8"
             ],
             [
              0.3333333333333333,
              "#9c179e"
             ],
             [
              0.4444444444444444,
              "#bd3786"
             ],
             [
              0.5555555555555556,
              "#d8576b"
             ],
             [
              0.6666666666666666,
              "#ed7953"
             ],
             [
              0.7777777777777778,
              "#fb9f3a"
             ],
             [
              0.8888888888888888,
              "#fdca26"
             ],
             [
              1,
              "#f0f921"
             ]
            ],
            "type": "histogram2dcontour"
           }
          ],
          "mesh3d": [
           {
            "colorbar": {
             "outlinewidth": 0,
             "ticks": ""
            },
            "type": "mesh3d"
           }
          ],
          "parcoords": [
           {
            "line": {
             "colorbar": {
              "outlinewidth": 0,
              "ticks": ""
             }
            },
            "type": "parcoords"
           }
          ],
          "pie": [
           {
            "automargin": true,
            "type": "pie"
           }
          ],
          "scatter": [
           {
            "fillpattern": {
             "fillmode": "overlay",
             "size": 10,
             "solidity": 0.2
            },
            "type": "scatter"
           }
          ],
          "scatter3d": [
           {
            "line": {
             "colorbar": {
              "outlinewidth": 0,
              "ticks": ""
             }
            },
            "marker": {
             "colorbar": {
              "outlinewidth": 0,
              "ticks": ""
             }
            },
            "type": "scatter3d"
           }
          ],
          "scattercarpet": [
           {
            "marker": {
             "colorbar": {
              "outlinewidth": 0,
              "ticks": ""
             }
            },
            "type": "scattercarpet"
           }
          ],
          "scattergeo": [
           {
            "marker": {
             "colorbar": {
              "outlinewidth": 0,
              "ticks": ""
             }
            },
            "type": "scattergeo"
           }
          ],
          "scattergl": [
           {
            "marker": {
             "colorbar": {
              "outlinewidth": 0,
              "ticks": ""
             }
            },
            "type": "scattergl"
           }
          ],
          "scattermap": [
           {
            "marker": {
             "colorbar": {
              "outlinewidth": 0,
              "ticks": ""
             }
            },
            "type": "scattermap"
           }
          ],
          "scattermapbox": [
           {
            "marker": {
             "colorbar": {
              "outlinewidth": 0,
              "ticks": ""
             }
            },
            "type": "scattermapbox"
           }
          ],
          "scatterpolar": [
           {
            "marker": {
             "colorbar": {
              "outlinewidth": 0,
              "ticks": ""
             }
            },
            "type": "scatterpolar"
           }
          ],
          "scatterpolargl": [
           {
            "marker": {
             "colorbar": {
              "outlinewidth": 0,
              "ticks": ""
             }
            },
            "type": "scatterpolargl"
           }
          ],
          "scatterternary": [
           {
            "marker": {
             "colorbar": {
              "outlinewidth": 0,
              "ticks": ""
             }
            },
            "type": "scatterternary"
           }
          ],
          "surface": [
           {
            "colorbar": {
             "outlinewidth": 0,
             "ticks": ""
            },
            "colorscale": [
             [
              0,
              "#0d0887"
             ],
             [
              0.1111111111111111,
              "#46039f"
             ],
             [
              0.2222222222222222,
              "#7201a8"
             ],
             [
              0.3333333333333333,
              "#9c179e"
             ],
             [
              0.4444444444444444,
              "#bd3786"
             ],
             [
              0.5555555555555556,
              "#d8576b"
             ],
             [
              0.6666666666666666,
              "#ed7953"
             ],
             [
              0.7777777777777778,
              "#fb9f3a"
             ],
             [
              0.8888888888888888,
              "#fdca26"
             ],
             [
              1,
              "#f0f921"
             ]
            ],
            "type": "surface"
           }
          ],
          "table": [
           {
            "cells": {
             "fill": {
              "color": "#EBF0F8"
             },
             "line": {
              "color": "white"
             }
            },
            "header": {
             "fill": {
              "color": "#C8D4E3"
             },
             "line": {
              "color": "white"
             }
            },
            "type": "table"
           }
          ]
         },
         "layout": {
          "annotationdefaults": {
           "arrowcolor": "#2a3f5f",
           "arrowhead": 0,
           "arrowwidth": 1
          },
          "autotypenumbers": "strict",
          "coloraxis": {
           "colorbar": {
            "outlinewidth": 0,
            "ticks": ""
           }
          },
          "colorscale": {
           "diverging": [
            [
             0,
             "#8e0152"
            ],
            [
             0.1,
             "#c51b7d"
            ],
            [
             0.2,
             "#de77ae"
            ],
            [
             0.3,
             "#f1b6da"
            ],
            [
             0.4,
             "#fde0ef"
            ],
            [
             0.5,
             "#f7f7f7"
            ],
            [
             0.6,
             "#e6f5d0"
            ],
            [
             0.7,
             "#b8e186"
            ],
            [
             0.8,
             "#7fbc41"
            ],
            [
             0.9,
             "#4d9221"
            ],
            [
             1,
             "#276419"
            ]
           ],
           "sequential": [
            [
             0,
             "#0d0887"
            ],
            [
             0.1111111111111111,
             "#46039f"
            ],
            [
             0.2222222222222222,
             "#7201a8"
            ],
            [
             0.3333333333333333,
             "#9c179e"
            ],
            [
             0.4444444444444444,
             "#bd3786"
            ],
            [
             0.5555555555555556,
             "#d8576b"
            ],
            [
             0.6666666666666666,
             "#ed7953"
            ],
            [
             0.7777777777777778,
             "#fb9f3a"
            ],
            [
             0.8888888888888888,
             "#fdca26"
            ],
            [
             1,
             "#f0f921"
            ]
           ],
           "sequentialminus": [
            [
             0,
             "#0d0887"
            ],
            [
             0.1111111111111111,
             "#46039f"
            ],
            [
             0.2222222222222222,
             "#7201a8"
            ],
            [
             0.3333333333333333,
             "#9c179e"
            ],
            [
             0.4444444444444444,
             "#bd3786"
            ],
            [
             0.5555555555555556,
             "#d8576b"
            ],
            [
             0.6666666666666666,
             "#ed7953"
            ],
            [
             0.7777777777777778,
             "#fb9f3a"
            ],
            [
             0.8888888888888888,
             "#fdca26"
            ],
            [
             1,
             "#f0f921"
            ]
           ]
          },
          "colorway": [
           "#636efa",
           "#EF553B",
           "#00cc96",
           "#ab63fa",
           "#FFA15A",
           "#19d3f3",
           "#FF6692",
           "#B6E880",
           "#FF97FF",
           "#FECB52"
          ],
          "font": {
           "color": "#2a3f5f"
          },
          "geo": {
           "bgcolor": "white",
           "lakecolor": "white",
           "landcolor": "#E5ECF6",
           "showlakes": true,
           "showland": true,
           "subunitcolor": "white"
          },
          "hoverlabel": {
           "align": "left"
          },
          "hovermode": "closest",
          "mapbox": {
           "style": "light"
          },
          "paper_bgcolor": "white",
          "plot_bgcolor": "#E5ECF6",
          "polar": {
           "angularaxis": {
            "gridcolor": "white",
            "linecolor": "white",
            "ticks": ""
           },
           "bgcolor": "#E5ECF6",
           "radialaxis": {
            "gridcolor": "white",
            "linecolor": "white",
            "ticks": ""
           }
          },
          "scene": {
           "xaxis": {
            "backgroundcolor": "#E5ECF6",
            "gridcolor": "white",
            "gridwidth": 2,
            "linecolor": "white",
            "showbackground": true,
            "ticks": "",
            "zerolinecolor": "white"
           },
           "yaxis": {
            "backgroundcolor": "#E5ECF6",
            "gridcolor": "white",
            "gridwidth": 2,
            "linecolor": "white",
            "showbackground": true,
            "ticks": "",
            "zerolinecolor": "white"
           },
           "zaxis": {
            "backgroundcolor": "#E5ECF6",
            "gridcolor": "white",
            "gridwidth": 2,
            "linecolor": "white",
            "showbackground": true,
            "ticks": "",
            "zerolinecolor": "white"
           }
          },
          "shapedefaults": {
           "line": {
            "color": "#2a3f5f"
           }
          },
          "ternary": {
           "aaxis": {
            "gridcolor": "white",
            "linecolor": "white",
            "ticks": ""
           },
           "baxis": {
            "gridcolor": "white",
            "linecolor": "white",
            "ticks": ""
           },
           "bgcolor": "#E5ECF6",
           "caxis": {
            "gridcolor": "white",
            "linecolor": "white",
            "ticks": ""
           }
          },
          "title": {
           "x": 0.05
          },
          "xaxis": {
           "automargin": true,
           "gridcolor": "white",
           "linecolor": "white",
           "ticks": "",
           "title": {
            "standoff": 15
           },
           "zerolinecolor": "white",
           "zerolinewidth": 2
          },
          "yaxis": {
           "automargin": true,
           "gridcolor": "white",
           "linecolor": "white",
           "ticks": "",
           "title": {
            "standoff": 15
           },
           "zerolinecolor": "white",
           "zerolinewidth": 2
          }
         }
        },
        "xaxis": {
         "showgrid": false
        },
        "yaxis": {
         "showgrid": false,
         "title": {
          "text": "Inches"
         }
        }
       }
      },
      "image/png": "[encoded data removed]"
     },
     "metadata": {},
     "output_type": "display_data"
    },
    {
     "data": {
      "application/vnd.plotly.v1+json": {
       "config": {
        "plotlyServerURL": "https://plot.ly"
       },
       "data": [
        {
         "line": {
          "color": "black"
         },
         "mode": "lines",
         "name": "Pressure",
         "type": "scatter",
         "x": [
          "2025-08-11T00:04:00.000000000",
          "2025-08-11T00:09:00.000000000",
          "2025-08-11T00:14:00.000000000",
          "2025-08-11T00:19:00.000000000",
          "2025-08-11T00:24:00.000000000",
          "2025-08-11T00:29:00.000000000",
          "2025-08-11T00:34:00.000000000",
          "2025-08-11T00:39:00.000000000",
          "2025-08-11T00:44:00.000000000",
          "2025-08-11T00:49:00.000000000",
          "2025-08-11T00:54:00.000000000",
          "2025-08-11T00:59:00.000000000",
          "2025-08-11T01:04:00.000000000",
          "2025-08-11T01:09:00.000000000",
          "2025-08-11T01:14:00.000000000",
          "2025-08-11T01:19:00.000000000",
          "2025-08-11T01:24:00.000000000",
          "2025-08-11T01:29:00.000000000",
          "2025-08-11T01:34:00.000000000",
          "2025-08-11T01:39:00.000000000",
          "2025-08-11T01:44:00.000000000",
          "2025-08-11T01:49:00.000000000",
          "2025-08-11T01:54:00.000000000",
          "2025-08-11T01:59:00.000000000",
          "2025-08-11T02:04:00.000000000",
          "2025-08-11T02:09:00.000000000",
          "2025-08-11T02:14:00.000000000",
          "2025-08-11T02:19:00.000000000",
          "2025-08-11T02:24:00.000000000",
          "2025-08-11T02:29:00.000000000",
          "2025-08-11T02:34:00.000000000",
          "2025-08-11T02:39:00.000000000",
          "2025-08-11T02:44:00.000000000",
          "2025-08-11T02:49:00.000000000",
          "2025-08-11T02:54:00.000000000",
          "2025-08-11T02:59:00.000000000",
          "2025-08-11T03:04:00.000000000",
          "2025-08-11T03:09:00.000000000",
          "2025-08-11T03:14:00.000000000",
          "2025-08-11T03:19:00.000000000",
          "2025-08-11T03:24:00.000000000",
          "2025-08-11T03:29:00.000000000",
          "2025-08-11T03:34:00.000000000",
          "2025-08-11T03:39:00.000000000",
          "2025-08-11T03:44:00.000000000",
          "2025-08-11T03:49:00.000000000",
          "2025-08-11T03:54:00.000000000",
          "2025-08-11T03:59:00.000000000",
          "2025-08-11T04:04:00.000000000",
          "2025-08-11T04:09:00.000000000",
          "2025-08-11T04:14:00.000000000",
          "2025-08-11T04:19:00.000000000",
          "2025-08-11T04:24:00.000000000",
          "2025-08-11T04:29:00.000000000",
          "2025-08-11T04:34:00.000000000",
          "2025-08-11T04:39:00.000000000",
          "2025-08-11T04:44:00.000000000",
          "2025-08-11T04:49:00.000000000",
          "2025-08-11T04:54:00.000000000",
          "2025-08-11T04:59:00.000000000",
          "2025-08-11T05:04:00.000000000",
          "2025-08-11T05:09:00.000000000",
          "2025-08-11T05:14:00.000000000",
          "2025-08-11T05:19:00.000000000",
          "2025-08-11T05:24:00.000000000",
          "2025-08-11T05:29:00.000000000",
          "2025-08-11T05:34:00.000000000",
          "2025-08-11T05:39:00.000000000",
          "2025-08-11T05:44:00.000000000",
          "2025-08-11T05:49:00.000000000",
          "2025-08-11T05:54:00.000000000",
          "2025-08-11T05:59:00.000000000",
          "2025-08-11T06:04:00.000000000",
          "2025-08-11T06:09:00.000000000",
          "2025-08-11T06:14:00.000000000",
          "2025-08-11T06:19:00.000000000",
          "2025-08-11T06:24:00.000000000",
          "2025-08-11T06:29:00.000000000",
          "2025-08-11T06:34:00.000000000",
          "2025-08-11T06:39:00.000000000",
          "2025-08-11T06:44:00.000000000",
          "2025-08-11T06:49:00.000000000",
          "2025-08-11T06:54:00.000000000",
          "2025-08-11T06:59:00.000000000",
          "2025-08-11T07:04:00.000000000",
          "2025-08-11T07:09:00.000000000",
          "2025-08-11T07:14:00.000000000",
          "2025-08-11T07:19:00.000000000",
          "2025-08-11T07:24:00.000000000",
          "2025-08-11T07:29:00.000000000",
          "2025-08-11T07:34:00.000000000",
          "2025-08-11T07:39:00.000000000",
          "2025-08-11T07:44:00.000000000",
          "2025-08-11T07:49:00.000000000",
          "2025-08-11T07:54:00.000000000",
          "2025-08-11T07:59:00.000000000",
          "2025-08-11T08:04:00.000000000",
          "2025-08-11T08:09:00.000000000",
          "2025-08-11T08:14:00.000000000",
          "2025-08-11T08:19:00.000000000",
          "2025-08-11T08:24:00.000000000",
          "2025-08-11T08:29:00.000000000",
          "2025-08-11T08:34:00.000000000",
          "2025-08-11T08:39:00.000000000",
          "2025-08-11T08:44:00.000000000",
          "2025-08-11T08:49:00.000000000",
          "2025-08-11T08:54:00.000000000",
          "2025-08-11T08:59:00.000000000",
          "2025-08-11T09:04:00.000000000",
          "2025-08-11T09:09:00.000000000",
          "2025-08-11T09:14:00.000000000",
          "2025-08-11T09:19:00.000000000",
          "2025-08-11T09:24:00.000000000",
          "2025-08-11T09:29:00.000000000",
          "2025-08-11T09:34:00.000000000",
          "2025-08-11T09:39:00.000000000",
          "2025-08-11T09:44:00.000000000",
          "2025-08-11T09:49:00.000000000",
          "2025-08-11T09:54:00.000000000",
          "2025-08-11T09:59:00.000000000",
          "2025-08-11T10:04:00.000000000",
          "2025-08-11T10:09:00.000000000",
          "2025-08-11T10:14:00.000000000",
          "2025-08-11T10:19:00.000000000",
          "2025-08-11T10:24:00.000000000",
          "2025-08-11T10:29:00.000000000",
          "2025-08-11T10:34:00.000000000",
          "2025-08-11T10:39:00.000000000",
          "2025-08-11T10:44:00.000000000",
          "2025-08-11T10:49:00.000000000",
          "2025-08-11T10:54:00.000000000",
          "2025-08-11T10:59:00.000000000",
          "2025-08-11T11:04:00.000000000",
          "2025-08-11T11:09:00.000000000",
          "2025-08-11T11:14:00.000000000",
          "2025-08-11T11:19:00.000000000",
          "2025-08-11T11:24:00.000000000",
          "2025-08-11T11:29:00.000000000",
          "2025-08-11T11:34:00.000000000",
          "2025-08-11T11:39:00.000000000",
          "2025-08-11T11:44:00.000000000",
          "2025-08-11T11:49:00.000000000",
          "2025-08-11T11:54:00.000000000",
          "2025-08-11T11:59:00.000000000",
          "2025-08-11T12:04:00.000000000",
          "2025-08-11T12:09:00.000000000",
          "2025-08-11T12:14:00.000000000"
         ],
         "y": {
          "bdata": "XI/C9SgcPkAfhetRuB4+QFyPwvUoHD5AXI/C9SgcPkBcj8L1KBw+QFyPwvUoHD5AXI/C9SgcPkDXo3A9Chc+QNejcD0KFz5AFK5H4XoUPkAUrkfhehQ+QBSuR+F6FD5AFK5H4XoUPkCamZmZmRk+QFyPwvUoHD5AmpmZmZkZPkBcj8L1KBw+QFyPwvUoHD5AmpmZmZkZPkAfhetRuB4+QOF6FK5HIT5ApHA9CtcjPkCkcD0K1yM+QKRwPQrXIz5AXI/C9SgcPkBcj8L1KBw+QFyPwvUoHD5AmpmZmZkZPkDXo3A9Chc+QJqZmZmZGT5AXI/C9SgcPkBcj8L1KBw+QJqZmZmZGT5A16NwPQoXPkCamZmZmRk+QFyPwvUoHD5AXI/C9SgcPkDhehSuRyE+QOF6FK5HIT5A4XoUrkchPkCkcD0K1yM+QOF6FK5HIT5A4XoUrkchPkCkcD0K1yM+QGZmZmZmJj5ApHA9CtcjPkCkcD0K1yM+QKRwPQrXIz5AKVyPwvUoPkCuR+F6FC4+QK5H4XoULj5A7FG4HoUrPkApXI/C9Sg+QClcj8L1KD5AKVyPwvUoPkApXI/C9Sg+QClcj8L1KD5A7FG4HoUrPkDsUbgehSs+QOxRuB6FKz5A7FG4HoUrPkDsUbgehSs+QOxRuB6FKz5ArkfhehQuPkCuR+F6FC4+QOxRuB6FKz5A7FG4HoUrPkDsUbgehSs+QClcj8L1KD5AZmZmZmYmPkAfhetRuB4+QB+F61G4Hj5AH4XrUbgePkAfhetRuB4+QFyPwvUoHD5AXI/C9SgcPkCamZmZmRk+QJqZmZmZGT5A16NwPQoXPkDXo3A9Chc+QJqZmZmZGT5AmpmZmZkZPkBcj8L1KBw+QFyPwvUoHD5AmpmZmZkZPkCamZmZmRk+QNejcD0KFz5A16NwPQoXPkDXo3A9Chc+QNejcD0KFz5A16NwPQoXPkBSuB6F6xE+QM3MzMzMDD5ACtejcD0KPkDNzMzMzAw+QI/C9ShcDz5AUrgehesRPkDXo3A9Chc+QNejcD0KFz5AmpmZmZkZPkDXo3A9Chc+QJqZmZmZGT5AmpmZmZkZPkCamZmZmRk+QJqZmZmZGT5AmpmZmZkZPkCamZmZmRk+QJqZmZmZGT5AmpmZmZkZPkBcj8L1KBw+QFyPwvUoHD5AXI/C9SgcPkBcj8L1KBw+QB+F61G4Hj5AH4XrUbgePkAfhetRuB4+QB+F61G4Hj5AH4XrUbgePkAfhetRuB4+QOF6FK5HIT5A4XoUrkchPkDhehSuRyE+QOF6FK5HIT5A4XoUrkchPkDhehSuRyE+QOF6FK5HIT5ApHA9CtcjPkCkcD0K1yM+QKRwPQrXIz5ApHA9CtcjPkCkcD0K1yM+QKRwPQrXIz5ApHA9CtcjPkCkcD0K1yM+QKRwPQrXIz5ApHA9CtcjPkCkcD0K1yM+QGZmZmZmJj5AZmZmZmYmPkBmZmZmZiY+QKRwPQrXIz5AZmZmZmYmPkCkcD0K1yM+QKRwPQrXIz5AZmZmZmYmPkBmZmZmZiY+QGZmZmZmJj5A",
          "dtype": "f8"
         }
        }
       ],
       "layout": {
        "autosize": true,
        "hovermode": "x",
        "legend": {
         "orientation": "h",
         "x": 0.5,
         "xanchor": "center",
         "y": -0.3,
         "yanchor": "bottom"
        },
        "margin": {
         "b": 20,
         "l": 20,
         "r": 20,
         "t": 30
        },
        "template": {
         "data": {
          "bar": [
           {
            "error_x": {
             "color": "#2a3f5f"
            },
            "error_y": {
             "color": "#2a3f5f"
            },
            "marker": {
             "line": {
              "color": "#E5ECF6",
              "width": 0.5
             },
             "pattern": {
              "fillmode": "overlay",
              "size": 10,
              "solidity": 0.2
             }
            },
            "type": "bar"
           }
          ],
          "barpolar": [
           {
            "marker": {
             "line": {
              "color": "#E5ECF6",
              "width": 0.5
             },
             "pattern": {
              "fillmode": "overlay",
              "size": 10,
              "solidity": 0.2
             }
            },
            "type": "barpolar"
           }
          ],
          "carpet": [
           {
            "aaxis": {
             "endlinecolor": "#2a3f5f",
             "gridcolor": "white",
             "linecolor": "white",
             "minorgridcolor": "white",
             "startlinecolor": "#2a3f5f"
            },
            "baxis": {
             "endlinecolor": "#2a3f5f",
             "gridcolor": "white",
             "linecolor": "white",
             "minorgridcolor": "white",
             "startlinecolor": "#2a3f5f"
            },
            "type": "carpet"
           }
          ],
          "choropleth": [
           {
            "colorbar": {
             "outlinewidth": 0,
             "ticks": ""
            },
            "type": "choropleth"
           }
          ],
          "contour": [
           {
            "colorbar": {
             "outlinewidth": 0,
             "ticks": ""
            },
            "colorscale": [
             [
              0,
              "#0d0887"
             ],
             [
              0.1111111111111111,
              "#46039f"
             ],
             [
              0.2222222222222222,
              "#7201a8"
             ],
             [
              0.3333333333333333,
              "#9c179e"
             ],
             [
              0.4444444444444444,
              "#bd3786"
             ],
             [
              0.5555555555555556,
              "#d8576b"
             ],
             [
              0.6666666666666666,
              "#ed7953"
             ],
             [
              0.7777777777777778,
              "#fb9f3a"
             ],
             [
              0.8888888888888888,
              "#fdca26"
             ],
             [
              1,
              "#f0f921"
             ]
            ],
            "type": "contour"
           }
          ],
          "contourcarpet": [
           {
            "colorbar": {
             "outlinewidth": 0,
             "ticks": ""
            },
            "type": "contourcarpet"
           }
          ],
          "heatmap": [
           {
            "colorbar": {
             "outlinewidth": 0,
             "ticks": ""
            },
            "colorscale": [
             [
              0,
              "#0d0887"
             ],
             [
              0.1111111111111111,
              "#46039f"
             ],
             [
              0.2222222222222222,
              "#7201a8"
             ],
             [
              0.3333333333333333,
              "#9c179e"
             ],
             [
              0.4444444444444444,
              "#bd3786"
             ],
             [
              0.5555555555555556,
              "#d8576b"
             ],
             [
              0.6666666666666666,
              "#ed7953"
             ],
             [
              0.7777777777777778,
              "#fb9f3a"
             ],
             [
              0.8888888888888888,
              "#fdca26"
             ],
             [
              1,
              "#f0f921"
             ]
            ],
            "type": "heatmap"
           }
          ],
          "histogram": [
           {
            "marker": {
             "pattern": {
              "fillmode": "overlay",
              "size": 10,
              "solidity": 0.2
             }
            },
            "type": "histogram"
           }
          ],
          "histogram2d": [
           {
            "colorbar": {
             "outlinewidth": 0,
             "ticks": ""
            },
            "colorscale": [
             [
              0,
              "#0d0887"
             ],
             [
              0.1111111111111111,
              "#46039f"
             ],
             [
              0.2222222222222222,
              "#7201a8"
             ],
             [
              0.3333333333333333,
              "#9c179e"
             ],
             [
              0.4444444444444444,
              "#bd3786"
             ],
             [
              0.5555555555555556,
              "#d8576b"
             ],
             [
              0.6666666666666666,
              "#ed7953"
             ],
             [
              0.7777777777777778,
              "#fb9f3a"
             ],
             [
              0.8888888888888888,
              "#fdca26"
             ],
             [
              1,
              "#f0f921"
             ]
            ],
            "type": "histogram2d"
           }
          ],
          "histogram2dcontour": [
           {
            "colorbar": {
             "outlinewidth": 0,
             "ticks": ""
            },
            "colorscale": [
             [
              0,
              "#0d0887"
             ],
             [
              0.1111111111111111,
              "#46039f"
             ],
             [
              0.2222222222222222,
              "#7201a8"
             ],
             [
              0.3333333333333333,
              "#9c179e"
             ],
             [
              0.4444444444444444,
              "#bd3786"
             ],
             [
              0.5555555555555556,
              "#d8576b"
             ],
             [
              0.6666666666666666,
              "#ed7953"
             ],
             [
              0.7777777777777778,
              "#fb9f3a"
             ],
             [
              0.8888888888888888,
              "#fdca26"
             ],
             [
              1,
              "#f0f921"
             ]
            ],
            "type": "histogram2dcontour"
           }
          ],
          "mesh3d": [
           {
            "colorbar": {
             "outlinewidth": 0,
             "ticks": ""
            },
            "type": "mesh3d"
           }
          ],
          "parcoords": [
           {
            "line": {
             "colorbar": {
              "outlinewidth": 0,
              "ticks": ""
             }
            },
            "type": "parcoords"
           }
          ],
          "pie": [
           {
            "automargin": true,
            "type": "pie"
           }
          ],
          "scatter": [
           {
            "fillpattern": {
             "fillmode": "overlay",
             "size": 10,
             "solidity": 0.2
            },
            "type": "scatter"
           }
          ],
          "scatter3d": [
           {
            "line": {
             "colorbar": {
              "outlinewidth": 0,
              "ticks": ""
             }
            },
            "marker": {
             "colorbar": {
              "outlinewidth": 0,
              "ticks": ""
             }
            },
            "type": "scatter3d"
           }
          ],
          "scattercarpet": [
           {
            "marker": {
             "colorbar": {
              "outlinewidth": 0,
              "ticks": ""
             }
            },
            "type": "scattercarpet"
           }
          ],
          "scattergeo": [
           {
            "marker": {
             "colorbar": {
              "outlinewidth": 0,
              "ticks": ""
             }
            },
            "type": "scattergeo"
           }
          ],
          "scattergl": [
           {
            "marker": {
             "colorbar": {
              "outlinewidth": 0,
              "ticks": ""
             }
            },
            "type": "scattergl"
           }
          ],
          "scattermap": [
           {
            "marker": {
             "colorbar": {
              "outlinewidth": 0,
              "ticks": ""
             }
            },
            "type": "scattermap"
           }
          ],
          "scattermapbox": [
           {
            "marker": {
             "colorbar": {
              "outlinewidth": 0,
              "ticks": ""
             }
            },
            "type": "scattermapbox"
           }
          ],
          "scatterpolar": [
           {
            "marker": {
             "colorbar": {
              "outlinewidth": 0,
              "ticks": ""
             }
            },
            "type": "scatterpolar"
           }
          ],
          "scatterpolargl": [
           {
            "marker": {
             "colorbar": {
              "outlinewidth": 0,
              "ticks": ""
             }
            },
            "type": "scatterpolargl"
           }
          ],
          "scatterternary": [
           {
            "marker": {
             "colorbar": {
              "outlinewidth": 0,
              "ticks": ""
             }
            },
            "type": "scatterternary"
           }
          ],
          "surface": [
           {
            "colorbar": {
             "outlinewidth": 0,
             "ticks": ""
            },
            "colorscale": [
             [
              0,
              "#0d0887"
             ],
             [
              0.1111111111111111,
              "#46039f"
             ],
             [
              0.2222222222222222,
              "#7201a8"
             ],
             [
              0.3333333333333333,
              "#9c179e"
             ],
             [
              0.4444444444444444,
              "#bd3786"
             ],
             [
              0.5555555555555556,
              "#d8576b"
             ],
             [
              0.6666666666666666,
              "#ed7953"
             ],
             [
              0.7777777777777778,
              "#fb9f3a"
             ],
             [
              0.8888888888888888,
              "#fdca26"
             ],
             [
              1,
              "#f0f921"
             ]
            ],
            "type": "surface"
           }
          ],
          "table": [
           {
            "cells": {
             "fill": {
              "color": "#EBF0F8"
             },
             "line": {
              "color": "white"
             }
            },
            "header": {
             "fill": {
              "color": "#C8D4E3"
             },
             "line": {
              "color": "white"
             }
            },
            "type": "table"
           }
          ]
         },
         "layout": {
          "annotationdefaults": {
           "arrowcolor": "#2a3f5f",
           "arrowhead": 0,
           "arrowwidth": 1
          },
          "autotypenumbers": "strict",
          "coloraxis": {
           "colorbar": {
            "outlinewidth": 0,
            "ticks": ""
           }
          },
          "colorscale": {
           "diverging": [
            [
             0,
             "#8e0152"
            ],
            [
             0.1,
             "#c51b7d"
            ],
            [
             0.2,
             "#de77ae"
            ],
            [
             0.3,
             "#f1b6da"
            ],
            [
             0.4,
             "#fde0ef"
            ],
            [
             0.5,
             "#f7f7f7"
            ],
            [
             0.6,
             "#e6f5d0"
            ],
            [
             0.7,
             "#b8e186"
            ],
            [
             0.8,
             "#7fbc41"
            ],
            [
             0.9,
             "#4d9221"
            ],
            [
             1,
             "#276419"
            ]
           ],
           "sequential": [
            [
             0,
             "#0d0887"
            ],
            [
             0.1111111111111111,
             "#46039f"
            ],
            [
             0.2222222222222222,
             "#7201a8"
            ],
            [
             0.3333333333333333,
             "#9c179e"
            ],
            [
             0.4444444444444444,
             "#bd3786"
            ],
            [
             0.5555555555555556,
             "#d8576b"
            ],
            [
             0.6666666666666666,
             "#ed7953"
            ],
            [
             0.7777777777777778,
             "#fb9f3a"
            ],
            [
             0.8888888888888888,
             "#fdca26"
            ],
            [
             1,
             "#f0f921"
            ]
           ],
           "sequentialminus": [
            [
             0,
             "#0d0887"
            ],
            [
             0.1111111111111111,
             "#46039f"
            ],
            [
             0.2222222222222222,
             "#7201a8"
            ],
            [
             0.3333333333333333,
             "#9c179e"
            ],
            [
             0.4444444444444444,
             "#bd3786"
            ],
            [
             0.5555555555555556,
             "#d8576b"
            ],
            [
             0.6666666666666666,
             "#ed7953"
            ],
            [
             0.7777777777777778,
             "#fb9f3a"
            ],
            [
             0.8888888888888888,
             "#fdca26"
            ],
            [
             1,
             "#f0f921"
            ]
           ]
          },
          "colorway": [
           "#636efa",
           "#EF553B",
           "#00cc96",
           "#ab63fa",
           "#FFA15A",
           "#19d3f3",
           "#FF6692",
           "#B6E880",
           "#FF97FF",
           "#FECB52"
          ],
          "font": {
           "color": "#2a3f5f"
          },
          "geo": {
           "bgcolor": "white",
           "lakecolor": "white",
           "landcolor": "#E5ECF6",
           "showlakes": true,
           "showland": true,
           "subunitcolor": "white"
          },
          "hoverlabel": {
           "align": "left"
          },
          "hovermode": "closest",
          "mapbox": {
           "style": "light"
          },
          "paper_bgcolor": "white",
          "plot_bgcolor": "#E5ECF6",
          "polar": {
           "angularaxis": {
            "gridcolor": "white",
            "linecolor": "white",
            "ticks": ""
           },
           "bgcolor": "#E5ECF6",
           "radialaxis": {
            "gridcolor": "white",
            "linecolor": "white",
            "ticks": ""
           }
          },
          "scene": {
           "xaxis": {
            "backgroundcolor": "#E5ECF6",
            "gridcolor": "white",
            "gridwidth": 2,
            "linecolor": "white",
            "showbackground": true,
            "ticks": "",
            "zerolinecolor": "white"
           },
           "yaxis": {
            "backgroundcolor": "#E5ECF6",
            "gridcolor": "white",
            "gridwidth": 2,
            "linecolor": "white",
            "showbackground": true,
            "ticks": "",
            "zerolinecolor": "white"
           },
           "zaxis": {
            "backgroundcolor": "#E5ECF6",
            "gridcolor": "white",
            "gridwidth": 2,
            "linecolor": "white",
            "showbackground": true,
            "ticks": "",
            "zerolinecolor": "white"
           }
          },
          "shapedefaults": {
           "line": {
            "color": "#2a3f5f"
           }
          },
          "ternary": {
           "aaxis": {
            "gridcolor": "white",
            "linecolor": "white",
            "ticks": ""
           },
           "baxis": {
            "gridcolor": "white",
            "linecolor": "white",
            "ticks": ""
           },
           "bgcolor": "#E5ECF6",
           "caxis": {
            "gridcolor": "white",
            "linecolor": "white",
            "ticks": ""
           }
          },
          "title": {
           "x": 0.05
          },
          "xaxis": {
           "automargin": true,
           "gridcolor": "white",
           "linecolor": "white",
           "ticks": "",
           "title": {
            "standoff": 15
           },
           "zerolinecolor": "white",
           "zerolinewidth": 2
          },
          "yaxis": {
           "automargin": true,
           "gridcolor": "white",
           "linecolor": "white",
           "ticks": "",
           "title": {
            "standoff": 15
           },
           "zerolinecolor": "white",
           "zerolinewidth": 2
          }
         }
        },
        "xaxis": {
         "showgrid": false
        },
        "yaxis": {
         "showgrid": false,
         "title": {
          "text": "Inches"
         }
        }
       }
      },
      "image/png": "[encoded data removed]"
     },
     "metadata": {},
     "output_type": "display_data"
    }
   ],
   "source": [
    "for name, fig in all_graphs.items():\n",
    "    fig.show()"
   ]
  },
  {
   "cell_type": "code",
   "execution_count": 1,
   "id": "f58ca62b-57b0-49bb-8540-a58fd65ac01a",
   "metadata": {},
   "outputs": [
    {
     "ename": "NameError",
     "evalue": "name 'figs' is not defined",
     "output_type": "error",
     "traceback": [
      "\u001b[31m---------------------------------------------------------------------------\u001b[39m",
      "\u001b[31mNameError\u001b[39m                                 Traceback (most recent call last)",
      "\u001b[36mCell\u001b[39m\u001b[36m \u001b[39m\u001b[32mIn[1]\u001b[39m\u001b[32m, line 1\u001b[39m\n\u001b[32m----> \u001b[39m\u001b[32m1\u001b[39m \u001b[38;5;28;01mfor\u001b[39;00m fig, item \u001b[38;5;129;01min\u001b[39;00m \u001b[43mfigs\u001b[49m.items():\n\u001b[32m      2\u001b[39m     fig.show()\n",
      "\u001b[31mNameError\u001b[39m: name 'figs' is not defined"
     ]
    }
   ],
   "source": [
    "for fig, item in figs.items():\n",
    "    fig.show()\n"
   ]
  },
  {
   "cell_type": "code",
   "execution_count": null,
   "id": "eb0f84af",
   "metadata": {},
   "outputs": [],
   "source": [
    "figs.items()"
   ]
  },
  {
   "cell_type": "code",
   "execution_count": null,
   "id": "78257023",
   "metadata": {},
   "outputs": [],
   "source": []
  }
 ],
 "metadata": {
  "kernelspec": {
   "display_name": ".venv",
   "language": "python",
   "name": "python3"
  },
  "language_info": {
   "codemirror_mode": {
    "name": "ipython",
    "version": 3
   },
   "file_extension": ".py",
   "mimetype": "text/x-python",
   "name": "python",
   "nbconvert_exporter": "python",
   "pygments_lexer": "ipython3",
   "version": "3.12.3"
  }
 },
 "nbformat": 4,
 "nbformat_minor": 5
}
