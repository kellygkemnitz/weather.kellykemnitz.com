{
 "cells": [
  {
   "cell_type": "code",
   "execution_count": 19,
   "id": "043e29f4-451d-4c4e-9a28-a469844a80ce",
   "metadata": {},
   "outputs": [],
   "source": [
    "from datetime import datetime, timedelta\n",
    "import json\n",
    "import numpy as np\n",
    "import pandas as pd\n",
    "import plotly.graph_objects as go\n",
    "import plotly.utils\n",
    "from plotly.subplots import make_subplots\n",
    "from bs4 import BeautifulSoup as BS\n",
    "import time\n",
    "import yaml"
   ]
  },
  {
   "cell_type": "code",
   "execution_count": 20,
   "id": "7626d2df-2fd2-432e-bff2-de89ebad5eaf",
   "metadata": {},
   "outputs": [],
   "source": [
    "class WeatherStation:\n",
    "    def __init__(self):\n",
    "        with open('settings.yaml', 'r') as file:\n",
    "            settings = yaml.safe_load(file)\n",
    "\n",
    "        self.station = settings['station']\n",
    "        self.date = datetime.today().strftime(\"%Y-%m-%d\")\n",
    "        self.freq = settings['freq']\n",
    "        self.attempts = settings['attempts']\n",
    "        self.wait_time = settings['wait_time']\n",
    "\n",
    "        if self.freq == '5min':\n",
    "            self.timespan = 'daily'\n",
    "        if self.freq == 'daily':\n",
    "            self.timespan = 'monthly'\n",
    "\n",
    "        self.url = f'https://www.wunderground.com/dashboard/pws/{self.station}/table/{self.date}/{self.date}/{self.timespan}'\n",
    "\n",
    "    def get_settings(self):\n",
    "        settings = {\n",
    "            'station': self.station,\n",
    "            'url': self.url,\n",
    "            'date': self.date,\n",
    "            'freq': self.freq,\n",
    "            'timespan': self.timespan,\n",
    "            'attempts': self.attempts,\n",
    "            'wait_time': self.wait_time\n",
    "        }\n",
    "\n",
    "        return settings"
   ]
  },
  {
   "cell_type": "code",
   "execution_count": 21,
   "id": "c8ec0d6f-5c8e-4477-a979-88e345c82ba1",
   "metadata": {},
   "outputs": [],
   "source": [
    "ws = WeatherStation()"
   ]
  },
  {
   "cell_type": "code",
   "execution_count": 22,
   "id": "eb1860a0-28e4-4430-a1a5-591036c4aad1",
   "metadata": {},
   "outputs": [
    {
     "data": {
      "text/plain": [
       "{'station': 'KKSWICHI504',\n",
       " 'url': 'https://www.wunderground.com/dashboard/pws/KKSWICHI504/table/2024-10-11/2024-10-11/daily',\n",
       " 'date': '2024-10-11',\n",
       " 'freq': '5min',\n",
       " 'timespan': 'daily',\n",
       " 'attempts': 4,\n",
       " 'wait_time': 5.0}"
      ]
     },
     "execution_count": 22,
     "metadata": {},
     "output_type": "execute_result"
    }
   ],
   "source": [
    "ws.get_settings()"
   ]
  },
  {
   "cell_type": "code",
   "execution_count": 23,
   "id": "774ec495-b709-4a14-b78f-85511081b797",
   "metadata": {},
   "outputs": [],
   "source": [
    "import requests\n",
    "response = requests.get(ws.url)"
   ]
  },
  {
   "cell_type": "code",
   "execution_count": 28,
   "id": "309348d0-31fe-4e08-9be3-f6dc1672d6f0",
   "metadata": {},
   "outputs": [],
   "source": [
    "soup = BS(response.content, 'html.parser')"
   ]
  },
  {
   "cell_type": "code",
   "execution_count": 29,
   "id": "10e02ff3-ef44-4b10-b1ea-60fd5bcac6d0",
   "metadata": {},
   "outputs": [],
   "source": [
    "container = soup.find('lib-history-table')"
   ]
  },
  {
   "cell_type": "code",
   "execution_count": 5,
   "id": "1ab7adb8-8114-4fa2-8eca-48bfab3dcf87",
   "metadata": {},
   "outputs": [],
   "source": [
    "def render_page(ws):\n",
    "    chrome_service = Service(ws.chromedriver_path)\n",
    "    chrome_options = Options()\n",
    "    chrome_options.add_argument(\"--headless=new\")\n",
    "    driver = webdriver.Chrome(service=chrome_service, options=chrome_options)\n",
    "    driver.get(ws.url)\n",
    "    rendered_page = driver.page_source\n",
    "    driver.quit()\n",
    "\n",
    "    return rendered_page"
   ]
  },
  {
   "cell_type": "code",
   "execution_count": 26,
   "id": "61569b3b-706d-4349-b39b-9e323d09f60f",
   "metadata": {},
   "outputs": [
    {
     "ename": "NameError",
     "evalue": "name 'render_page' is not defined",
     "output_type": "error",
     "traceback": [
      "\u001b[0;31m---------------------------------------------------------------------------\u001b[0m",
      "\u001b[0;31mNameError\u001b[0m                                 Traceback (most recent call last)",
      "Cell \u001b[0;32mIn[26], line 1\u001b[0m\n\u001b[0;32m----> 1\u001b[0m r \u001b[38;5;241m=\u001b[39m \u001b[43mrender_page\u001b[49m(ws)\n\u001b[1;32m      2\u001b[0m soup \u001b[38;5;241m=\u001b[39m BS(r, \u001b[38;5;124m'\u001b[39m\u001b[38;5;124mhtml.parser\u001b[39m\u001b[38;5;124m'\u001b[39m)\n\u001b[1;32m      4\u001b[0m container \u001b[38;5;241m=\u001b[39m soup\u001b[38;5;241m.\u001b[39mfind(\u001b[38;5;124m'\u001b[39m\u001b[38;5;124mlib-history-table\u001b[39m\u001b[38;5;124m'\u001b[39m)\n",
      "\u001b[0;31mNameError\u001b[0m: name 'render_page' is not defined"
     ]
    }
   ],
   "source": [
    "r = render_page(ws)\n",
    "soup = BS(r, 'html.parser')\n",
    "\n",
    "container = soup.find('lib-history-table')\n",
    "\n",
    "# Check that lib-history-table is found\n",
    "if container is None:\n",
    "    raise ValueError(f'Could not find lib-history-table in html source for {ws.url}')"
   ]
  },
  {
   "cell_type": "code",
   "execution_count": 30,
   "id": "333ccc67-b263-4816-8cef-a0ef4f764b82",
   "metadata": {},
   "outputs": [],
   "source": [
    "# Get the timestamps and data from two separate 'tbody' tags\n",
    "all_checks = container.find_all('tbody')\n",
    "time_check = all_checks[0]\n",
    "data_check = all_checks[1]\n",
    "\n",
    "# Iterate through 'tr' tags and get the timestamps\n",
    "hours = list(map(lambda i: i.get_text(), time_check.find_all('tr')))\n",
    "\n",
    "# For data, locate both value and no-value (\"--\") classes\n",
    "classes = ['wu-value wu-value-to', 'wu-unit-no-value ng-star-inserted']\n",
    "\n",
    "# Iterate through span tags and get data\n",
    "data = list(map(lambda i: i.get_text(), data_check.find_all('span', class_=classes)))"
   ]
  },
  {
   "cell_type": "code",
   "execution_count": 31,
   "id": "e6d2dd95-57c5-494b-8d04-0516d6386ba6",
   "metadata": {},
   "outputs": [],
   "source": [
    "# Convert NaN values (stings of '--') to np.nan\n",
    "data_nan = list(map(lambda x: np.nan if x == '--' else x, data))"
   ]
  },
  {
   "cell_type": "code",
   "execution_count": 32,
   "id": "2df5d822-0a9f-4a67-8b6a-b72bf7bbffe5",
   "metadata": {},
   "outputs": [],
   "source": [
    "columns = {\n",
    "    '5min': [\n",
    "        'Temperature', 'Dew Point', 'Humidity', 'Wind Speed',\n",
    "        'Wind Gust', 'Pressure', 'Precip. Rate', 'Precip. Accum.'\n",
    "    ],\n",
    "    'daily': [\n",
    "        'Temperature_High', 'Temperature_Avg', 'Temperature_Low',\n",
    "        'DewPoint_High', 'DewPoint_Avg', 'DewPoint_Low',\n",
    "        'Humidity_High', 'Humidity_Avg', 'Humidity_Low',\n",
    "        'WindSpeed_High', 'WindSpeed_Avg', 'WindSpeed_Low',\n",
    "        'Pressure_High', 'Pressure_Low', 'Precip_Sum'\n",
    "    ]\n",
    "}"
   ]
  },
  {
   "cell_type": "code",
   "execution_count": 33,
   "id": "9811897c-f2c9-446c-9f9f-df822d72640d",
   "metadata": {},
   "outputs": [],
   "source": [
    "# Convert list of data to an array\n",
    "data_array = np.array(data_nan, dtype=float)\n",
    "data_array = data_array.reshape(-1, len(columns[ws.freq]))"
   ]
  },
  {
   "cell_type": "code",
   "execution_count": 34,
   "id": "c447eb0b-f6be-4277-8f27-cfb723886344",
   "metadata": {},
   "outputs": [],
   "source": [
    "# Prepend date to HH:MM strings\n",
    "if ws.freq == '5min':\n",
    "    timestamps = list(map(lambda t: f'{ws.date} {t}', hours))\n",
    "else:\n",
    "    timestamps = hours"
   ]
  },
  {
   "cell_type": "code",
   "execution_count": 35,
   "id": "317615fa-621a-4546-8005-e70e0093ff5a",
   "metadata": {},
   "outputs": [],
   "source": [
    "df = pd.DataFrame(index=timestamps, data=data_array, columns=columns[ws.freq])"
   ]
  },
  {
   "cell_type": "code",
   "execution_count": 36,
   "id": "e37e2033-c894-4c3a-ae8f-4233b9c490de",
   "metadata": {},
   "outputs": [],
   "source": [
    "df.index = pd.to_datetime(df.index, format='%Y-%m-%d %I:%M %p')"
   ]
  },
  {
   "cell_type": "code",
   "execution_count": 37,
   "id": "0153c42d-74af-4acf-94d5-08d42ff43da5",
   "metadata": {},
   "outputs": [],
   "source": [
    "df.reset_index(inplace=True)\n",
    "df.rename(columns={'index': 'Timestamp'}, inplace=True)"
   ]
  },
  {
   "cell_type": "code",
   "execution_count": 39,
   "id": "ddd1a8c5-046d-41fd-92b0-dfcfd5fe1a23",
   "metadata": {},
   "outputs": [
    {
     "data": {
      "application/vnd.plotly.v1+json": {
       "config": {
        "plotlyServerURL": "https://plot.ly"
       },
       "data": [
        {
         "hovertemplate": "variable=Temperature<br>Timestamp=%{x}<br>Degrees=%{y}<extra></extra>",
         "legendgroup": "Temperature",
         "line": {
          "color": "red",
          "dash": "solid"
         },
         "marker": {
          "symbol": "circle"
         },
         "mode": "lines",
         "name": "Temperature",
         "orientation": "v",
         "showlegend": true,
         "type": "scatter",
         "x": [
          "2024-10-11T00:04:00",
          "2024-10-11T00:09:00",
          "2024-10-11T00:14:00",
          "2024-10-11T00:19:00",
          "2024-10-11T00:24:00",
          "2024-10-11T00:29:00",
          "2024-10-11T00:34:00",
          "2024-10-11T00:39:00",
          "2024-10-11T00:44:00",
          "2024-10-11T00:49:00",
          "2024-10-11T00:54:00",
          "2024-10-11T00:59:00",
          "2024-10-11T01:04:00",
          "2024-10-11T01:09:00",
          "2024-10-11T01:14:00",
          "2024-10-11T01:19:00",
          "2024-10-11T01:24:00",
          "2024-10-11T01:29:00",
          "2024-10-11T01:34:00",
          "2024-10-11T01:39:00",
          "2024-10-11T01:44:00",
          "2024-10-11T01:49:00",
          "2024-10-11T01:54:00",
          "2024-10-11T01:59:00",
          "2024-10-11T02:04:00",
          "2024-10-11T02:09:00",
          "2024-10-11T02:14:00",
          "2024-10-11T02:19:00",
          "2024-10-11T02:24:00",
          "2024-10-11T02:29:00",
          "2024-10-11T02:34:00",
          "2024-10-11T02:39:00",
          "2024-10-11T02:44:00",
          "2024-10-11T02:49:00",
          "2024-10-11T02:54:00",
          "2024-10-11T02:59:00",
          "2024-10-11T03:04:00",
          "2024-10-11T03:09:00",
          "2024-10-11T03:14:00",
          "2024-10-11T03:19:00",
          "2024-10-11T03:24:00",
          "2024-10-11T03:29:00",
          "2024-10-11T03:34:00",
          "2024-10-11T03:39:00",
          "2024-10-11T03:44:00",
          "2024-10-11T03:49:00",
          "2024-10-11T03:54:00",
          "2024-10-11T03:59:00",
          "2024-10-11T04:04:00",
          "2024-10-11T04:09:00",
          "2024-10-11T04:14:00",
          "2024-10-11T04:19:00",
          "2024-10-11T04:24:00",
          "2024-10-11T04:29:00",
          "2024-10-11T04:34:00",
          "2024-10-11T04:39:00",
          "2024-10-11T04:44:00",
          "2024-10-11T04:49:00",
          "2024-10-11T04:54:00",
          "2024-10-11T04:59:00",
          "2024-10-11T05:04:00",
          "2024-10-11T05:09:00",
          "2024-10-11T05:14:00",
          "2024-10-11T05:19:00",
          "2024-10-11T05:24:00",
          "2024-10-11T05:29:00",
          "2024-10-11T05:34:00",
          "2024-10-11T05:39:00",
          "2024-10-11T05:44:00",
          "2024-10-11T05:49:00",
          "2024-10-11T05:54:00",
          "2024-10-11T05:59:00",
          "2024-10-11T06:04:00",
          "2024-10-11T06:09:00",
          "2024-10-11T06:14:00",
          "2024-10-11T06:19:00",
          "2024-10-11T06:24:00",
          "2024-10-11T06:29:00",
          "2024-10-11T06:34:00",
          "2024-10-11T06:39:00",
          "2024-10-11T06:44:00",
          "2024-10-11T06:49:00",
          "2024-10-11T06:54:00",
          "2024-10-11T06:59:00",
          "2024-10-11T07:04:00",
          "2024-10-11T07:09:00",
          "2024-10-11T07:14:00",
          "2024-10-11T07:19:00",
          "2024-10-11T07:24:00",
          "2024-10-11T07:29:00",
          "2024-10-11T07:34:00",
          "2024-10-11T07:39:00",
          "2024-10-11T07:44:00",
          "2024-10-11T07:49:00",
          "2024-10-11T07:54:00",
          "2024-10-11T07:59:00",
          "2024-10-11T08:04:00",
          "2024-10-11T08:09:00",
          "2024-10-11T08:14:00",
          "2024-10-11T08:19:00",
          "2024-10-11T08:24:00",
          "2024-10-11T08:29:00",
          "2024-10-11T08:34:00",
          "2024-10-11T08:39:00",
          "2024-10-11T08:44:00",
          "2024-10-11T08:49:00",
          "2024-10-11T08:54:00",
          "2024-10-11T08:59:00",
          "2024-10-11T09:04:00",
          "2024-10-11T09:09:00",
          "2024-10-11T09:14:00",
          "2024-10-11T09:19:00",
          "2024-10-11T09:24:00",
          "2024-10-11T09:29:00",
          "2024-10-11T09:34:00",
          "2024-10-11T09:39:00",
          "2024-10-11T09:44:00",
          "2024-10-11T09:49:00",
          "2024-10-11T09:54:00",
          "2024-10-11T09:59:00",
          "2024-10-11T10:04:00",
          "2024-10-11T10:09:00",
          "2024-10-11T10:14:00",
          "2024-10-11T10:19:00",
          "2024-10-11T10:24:00",
          "2024-10-11T10:29:00",
          "2024-10-11T10:34:00",
          "2024-10-11T10:39:00",
          "2024-10-11T10:44:00",
          "2024-10-11T10:49:00",
          "2024-10-11T10:54:00",
          "2024-10-11T10:59:00",
          "2024-10-11T11:04:00",
          "2024-10-11T11:09:00",
          "2024-10-11T11:14:00",
          "2024-10-11T11:19:00",
          "2024-10-11T11:24:00",
          "2024-10-11T11:29:00",
          "2024-10-11T11:34:00",
          "2024-10-11T11:39:00",
          "2024-10-11T11:44:00",
          "2024-10-11T11:49:00",
          "2024-10-11T11:54:00",
          "2024-10-11T11:59:00",
          "2024-10-11T12:04:00",
          "2024-10-11T12:09:00",
          "2024-10-11T12:14:00",
          "2024-10-11T12:19:00",
          "2024-10-11T12:24:00",
          "2024-10-11T12:29:00",
          "2024-10-11T12:34:00",
          "2024-10-11T12:39:00",
          "2024-10-11T12:44:00",
          "2024-10-11T12:49:00",
          "2024-10-11T12:54:00",
          "2024-10-11T12:59:00",
          "2024-10-11T13:04:00",
          "2024-10-11T13:09:00",
          "2024-10-11T13:14:00",
          "2024-10-11T13:19:00",
          "2024-10-11T13:24:00",
          "2024-10-11T13:29:00",
          "2024-10-11T13:34:00",
          "2024-10-11T13:39:00",
          "2024-10-11T13:44:00",
          "2024-10-11T13:49:00",
          "2024-10-11T13:54:00",
          "2024-10-11T13:59:00",
          "2024-10-11T14:04:00",
          "2024-10-11T14:09:00",
          "2024-10-11T14:14:00",
          "2024-10-11T14:19:00",
          "2024-10-11T14:24:00",
          "2024-10-11T14:29:00",
          "2024-10-11T14:34:00",
          "2024-10-11T14:39:00",
          "2024-10-11T14:44:00",
          "2024-10-11T14:49:00",
          "2024-10-11T14:54:00",
          "2024-10-11T14:59:00",
          "2024-10-11T15:04:00",
          "2024-10-11T15:09:00",
          "2024-10-11T15:14:00",
          "2024-10-11T15:19:00",
          "2024-10-11T15:24:00"
         ],
         "xaxis": "x",
         "y": [
          66.1,
          66,
          66.1,
          65.8,
          65.8,
          66.2,
          66.4,
          66.5,
          66,
          65.4,
          65.6,
          65.9,
          66.2,
          66.2,
          66,
          65.7,
          65.6,
          65.5,
          65.4,
          65.2,
          65.3,
          65.5,
          65.6,
          65.2,
          64.8,
          64.7,
          64.5,
          64.6,
          64.4,
          64.2,
          63.7,
          63.5,
          63.2,
          63,
          62.8,
          62.7,
          62.6,
          62.6,
          62.7,
          62.9,
          63.1,
          63.1,
          63,
          63.1,
          63,
          63,
          63,
          62.9,
          62.9,
          62.6,
          62.7,
          63,
          63,
          62.7,
          62.7,
          62.1,
          62.1,
          62.2,
          61.8,
          61.6,
          61.8,
          61.3,
          61.1,
          60.8,
          60.3,
          60.1,
          60,
          60.1,
          60.2,
          60.2,
          60.3,
          60.2,
          60.3,
          60.1,
          60.2,
          60,
          60.1,
          60.3,
          60.7,
          61.2,
          61.2,
          61.3,
          61.3,
          61.3,
          61.1,
          60.9,
          61.3,
          60.9,
          60.5,
          60.2,
          59.6,
          59.4,
          59.2,
          58.4,
          57.7,
          57.5,
          57.5,
          57.5,
          57.5,
          57.4,
          57.6,
          58.1,
          59.1,
          60.6,
          61,
          61.7,
          62.9,
          63.9,
          64.8,
          65.4,
          66,
          66.5,
          67.4,
          67.8,
          68.4,
          69,
          69.1,
          69,
          69.2,
          69.3,
          69.7,
          70.3,
          70.8,
          71.6,
          72,
          72.4,
          73,
          73.8,
          74.3,
          74.7,
          74.9,
          75.4,
          75.8,
          76.4,
          76.9,
          77.1,
          77.6,
          78.2,
          78.5,
          78.6,
          78.8,
          79.2,
          79.7,
          80.1,
          80.4,
          80.5,
          81.1,
          81.4,
          81.8,
          81.9,
          81.9,
          82.6,
          83,
          83.3,
          83.7,
          84.1,
          84.4,
          84.6,
          84.9,
          85.5,
          85.7,
          86.1,
          86.2,
          86.5,
          86.9,
          87.2,
          87.4,
          87.5,
          87.5,
          88,
          88.6,
          88.9,
          89.5,
          89.5,
          89.2,
          89.6,
          90.4,
          91,
          91.2,
          91.3,
          91.2,
          90.5,
          90.7,
          90.5,
          92.2
         ],
         "yaxis": "y"
        },
        {
         "hovertemplate": "variable=Dew Point<br>Timestamp=%{x}<br>Degrees=%{y}<extra></extra>",
         "legendgroup": "Dew Point",
         "line": {
          "color": "green",
          "dash": "solid"
         },
         "marker": {
          "symbol": "circle"
         },
         "mode": "lines",
         "name": "Dew Point",
         "orientation": "v",
         "showlegend": true,
         "type": "scatter",
         "x": [
          "2024-10-11T00:04:00",
          "2024-10-11T00:09:00",
          "2024-10-11T00:14:00",
          "2024-10-11T00:19:00",
          "2024-10-11T00:24:00",
          "2024-10-11T00:29:00",
          "2024-10-11T00:34:00",
          "2024-10-11T00:39:00",
          "2024-10-11T00:44:00",
          "2024-10-11T00:49:00",
          "2024-10-11T00:54:00",
          "2024-10-11T00:59:00",
          "2024-10-11T01:04:00",
          "2024-10-11T01:09:00",
          "2024-10-11T01:14:00",
          "2024-10-11T01:19:00",
          "2024-10-11T01:24:00",
          "2024-10-11T01:29:00",
          "2024-10-11T01:34:00",
          "2024-10-11T01:39:00",
          "2024-10-11T01:44:00",
          "2024-10-11T01:49:00",
          "2024-10-11T01:54:00",
          "2024-10-11T01:59:00",
          "2024-10-11T02:04:00",
          "2024-10-11T02:09:00",
          "2024-10-11T02:14:00",
          "2024-10-11T02:19:00",
          "2024-10-11T02:24:00",
          "2024-10-11T02:29:00",
          "2024-10-11T02:34:00",
          "2024-10-11T02:39:00",
          "2024-10-11T02:44:00",
          "2024-10-11T02:49:00",
          "2024-10-11T02:54:00",
          "2024-10-11T02:59:00",
          "2024-10-11T03:04:00",
          "2024-10-11T03:09:00",
          "2024-10-11T03:14:00",
          "2024-10-11T03:19:00",
          "2024-10-11T03:24:00",
          "2024-10-11T03:29:00",
          "2024-10-11T03:34:00",
          "2024-10-11T03:39:00",
          "2024-10-11T03:44:00",
          "2024-10-11T03:49:00",
          "2024-10-11T03:54:00",
          "2024-10-11T03:59:00",
          "2024-10-11T04:04:00",
          "2024-10-11T04:09:00",
          "2024-10-11T04:14:00",
          "2024-10-11T04:19:00",
          "2024-10-11T04:24:00",
          "2024-10-11T04:29:00",
          "2024-10-11T04:34:00",
          "2024-10-11T04:39:00",
          "2024-10-11T04:44:00",
          "2024-10-11T04:49:00",
          "2024-10-11T04:54:00",
          "2024-10-11T04:59:00",
          "2024-10-11T05:04:00",
          "2024-10-11T05:09:00",
          "2024-10-11T05:14:00",
          "2024-10-11T05:19:00",
          "2024-10-11T05:24:00",
          "2024-10-11T05:29:00",
          "2024-10-11T05:34:00",
          "2024-10-11T05:39:00",
          "2024-10-11T05:44:00",
          "2024-10-11T05:49:00",
          "2024-10-11T05:54:00",
          "2024-10-11T05:59:00",
          "2024-10-11T06:04:00",
          "2024-10-11T06:09:00",
          "2024-10-11T06:14:00",
          "2024-10-11T06:19:00",
          "2024-10-11T06:24:00",
          "2024-10-11T06:29:00",
          "2024-10-11T06:34:00",
          "2024-10-11T06:39:00",
          "2024-10-11T06:44:00",
          "2024-10-11T06:49:00",
          "2024-10-11T06:54:00",
          "2024-10-11T06:59:00",
          "2024-10-11T07:04:00",
          "2024-10-11T07:09:00",
          "2024-10-11T07:14:00",
          "2024-10-11T07:19:00",
          "2024-10-11T07:24:00",
          "2024-10-11T07:29:00",
          "2024-10-11T07:34:00",
          "2024-10-11T07:39:00",
          "2024-10-11T07:44:00",
          "2024-10-11T07:49:00",
          "2024-10-11T07:54:00",
          "2024-10-11T07:59:00",
          "2024-10-11T08:04:00",
          "2024-10-11T08:09:00",
          "2024-10-11T08:14:00",
          "2024-10-11T08:19:00",
          "2024-10-11T08:24:00",
          "2024-10-11T08:29:00",
          "2024-10-11T08:34:00",
          "2024-10-11T08:39:00",
          "2024-10-11T08:44:00",
          "2024-10-11T08:49:00",
          "2024-10-11T08:54:00",
          "2024-10-11T08:59:00",
          "2024-10-11T09:04:00",
          "2024-10-11T09:09:00",
          "2024-10-11T09:14:00",
          "2024-10-11T09:19:00",
          "2024-10-11T09:24:00",
          "2024-10-11T09:29:00",
          "2024-10-11T09:34:00",
          "2024-10-11T09:39:00",
          "2024-10-11T09:44:00",
          "2024-10-11T09:49:00",
          "2024-10-11T09:54:00",
          "2024-10-11T09:59:00",
          "2024-10-11T10:04:00",
          "2024-10-11T10:09:00",
          "2024-10-11T10:14:00",
          "2024-10-11T10:19:00",
          "2024-10-11T10:24:00",
          "2024-10-11T10:29:00",
          "2024-10-11T10:34:00",
          "2024-10-11T10:39:00",
          "2024-10-11T10:44:00",
          "2024-10-11T10:49:00",
          "2024-10-11T10:54:00",
          "2024-10-11T10:59:00",
          "2024-10-11T11:04:00",
          "2024-10-11T11:09:00",
          "2024-10-11T11:14:00",
          "2024-10-11T11:19:00",
          "2024-10-11T11:24:00",
          "2024-10-11T11:29:00",
          "2024-10-11T11:34:00",
          "2024-10-11T11:39:00",
          "2024-10-11T11:44:00",
          "2024-10-11T11:49:00",
          "2024-10-11T11:54:00",
          "2024-10-11T11:59:00",
          "2024-10-11T12:04:00",
          "2024-10-11T12:09:00",
          "2024-10-11T12:14:00",
          "2024-10-11T12:19:00",
          "2024-10-11T12:24:00",
          "2024-10-11T12:29:00",
          "2024-10-11T12:34:00",
          "2024-10-11T12:39:00",
          "2024-10-11T12:44:00",
          "2024-10-11T12:49:00",
          "2024-10-11T12:54:00",
          "2024-10-11T12:59:00",
          "2024-10-11T13:04:00",
          "2024-10-11T13:09:00",
          "2024-10-11T13:14:00",
          "2024-10-11T13:19:00",
          "2024-10-11T13:24:00",
          "2024-10-11T13:29:00",
          "2024-10-11T13:34:00",
          "2024-10-11T13:39:00",
          "2024-10-11T13:44:00",
          "2024-10-11T13:49:00",
          "2024-10-11T13:54:00",
          "2024-10-11T13:59:00",
          "2024-10-11T14:04:00",
          "2024-10-11T14:09:00",
          "2024-10-11T14:14:00",
          "2024-10-11T14:19:00",
          "2024-10-11T14:24:00",
          "2024-10-11T14:29:00",
          "2024-10-11T14:34:00",
          "2024-10-11T14:39:00",
          "2024-10-11T14:44:00",
          "2024-10-11T14:49:00",
          "2024-10-11T14:54:00",
          "2024-10-11T14:59:00",
          "2024-10-11T15:04:00",
          "2024-10-11T15:09:00",
          "2024-10-11T15:14:00",
          "2024-10-11T15:19:00",
          "2024-10-11T15:24:00"
         ],
         "xaxis": "x",
         "y": [
          52.5,
          52.1,
          51.4,
          51.3,
          51.2,
          51.4,
          51.6,
          51.4,
          51.3,
          51.6,
          51.6,
          51.6,
          51.6,
          51.9,
          51.7,
          51.6,
          51.8,
          51.7,
          51.6,
          51.8,
          51.7,
          51.7,
          51.8,
          51.5,
          51.6,
          51.7,
          51.6,
          51.7,
          51.8,
          51.5,
          51.6,
          51.5,
          51.2,
          51.3,
          51.3,
          51.3,
          51.5,
          51.5,
          51.6,
          51.3,
          51.1,
          51.1,
          51,
          50.8,
          50.8,
          50.6,
          50.6,
          50.5,
          50.5,
          50.3,
          50.4,
          50.4,
          50.6,
          50.3,
          50.3,
          50.4,
          50.2,
          50.3,
          50.8,
          50.5,
          50.4,
          50.6,
          50.8,
          50.6,
          50.6,
          50.8,
          50.8,
          50.6,
          50.4,
          50.5,
          50.5,
          50.4,
          50.4,
          50.3,
          50.3,
          50.5,
          50.4,
          49.9,
          49.5,
          49.4,
          49,
          48.6,
          48.5,
          48.5,
          48.6,
          48.5,
          48.4,
          48.8,
          48.7,
          48.8,
          48.8,
          48.6,
          48.4,
          48.5,
          49.1,
          49.4,
          49.5,
          49.5,
          49.3,
          49.8,
          50,
          49.7,
          49.3,
          49.7,
          49.3,
          49.5,
          49.6,
          49.4,
          49.4,
          49.3,
          49.4,
          49.2,
          49.4,
          49.4,
          49.8,
          49.4,
          49.3,
          48.8,
          48.8,
          48.7,
          49,
          48.9,
          48.7,
          49.8,
          49,
          49.8,
          49.5,
          49.8,
          49.7,
          50.3,
          50.4,
          50.4,
          50.5,
          51.1,
          51,
          50.8,
          50.9,
          51.3,
          51.7,
          51.7,
          51.7,
          52.2,
          52.4,
          52.9,
          53,
          53,
          53.3,
          53.8,
          53.4,
          53,
          53.3,
          53.9,
          53.6,
          53.3,
          54.3,
          54.1,
          54.5,
          53.9,
          54,
          55,
          54.7,
          54.6,
          54.5,
          54.6,
          55.1,
          54.9,
          55.6,
          54,
          54,
          54.2,
          54.6,
          55.4,
          55.1,
          55.2,
          54.8,
          55.3,
          55.6,
          55.6,
          55.7,
          56.2,
          54.4,
          53.8,
          54.2,
          54.6,
          56.4
         ],
         "yaxis": "y"
        }
       ],
       "layout": {
        "autosize": true,
        "legend": {
         "title": {
          "text": "variable"
         },
         "tracegroupgap": 0
        },
        "margin": {
         "t": 60
        },
        "template": {
         "data": {
          "bar": [
           {
            "error_x": {
             "color": "#2a3f5f"
            },
            "error_y": {
             "color": "#2a3f5f"
            },
            "marker": {
             "line": {
              "color": "#E5ECF6",
              "width": 0.5
             },
             "pattern": {
              "fillmode": "overlay",
              "size": 10,
              "solidity": 0.2
             }
            },
            "type": "bar"
           }
          ],
          "barpolar": [
           {
            "marker": {
             "line": {
              "color": "#E5ECF6",
              "width": 0.5
             },
             "pattern": {
              "fillmode": "overlay",
              "size": 10,
              "solidity": 0.2
             }
            },
            "type": "barpolar"
           }
          ],
          "carpet": [
           {
            "aaxis": {
             "endlinecolor": "#2a3f5f",
             "gridcolor": "white",
             "linecolor": "white",
             "minorgridcolor": "white",
             "startlinecolor": "#2a3f5f"
            },
            "baxis": {
             "endlinecolor": "#2a3f5f",
             "gridcolor": "white",
             "linecolor": "white",
             "minorgridcolor": "white",
             "startlinecolor": "#2a3f5f"
            },
            "type": "carpet"
           }
          ],
          "choropleth": [
           {
            "colorbar": {
             "outlinewidth": 0,
             "ticks": ""
            },
            "type": "choropleth"
           }
          ],
          "contour": [
           {
            "colorbar": {
             "outlinewidth": 0,
             "ticks": ""
            },
            "colorscale": [
             [
              0,
              "#0d0887"
             ],
             [
              0.1111111111111111,
              "#46039f"
             ],
             [
              0.2222222222222222,
              "#7201a8"
             ],
             [
              0.3333333333333333,
              "#9c179e"
             ],
             [
              0.4444444444444444,
              "#bd3786"
             ],
             [
              0.5555555555555556,
              "#d8576b"
             ],
             [
              0.6666666666666666,
              "#ed7953"
             ],
             [
              0.7777777777777778,
              "#fb9f3a"
             ],
             [
              0.8888888888888888,
              "#fdca26"
             ],
             [
              1,
              "#f0f921"
             ]
            ],
            "type": "contour"
           }
          ],
          "contourcarpet": [
           {
            "colorbar": {
             "outlinewidth": 0,
             "ticks": ""
            },
            "type": "contourcarpet"
           }
          ],
          "heatmap": [
           {
            "colorbar": {
             "outlinewidth": 0,
             "ticks": ""
            },
            "colorscale": [
             [
              0,
              "#0d0887"
             ],
             [
              0.1111111111111111,
              "#46039f"
             ],
             [
              0.2222222222222222,
              "#7201a8"
             ],
             [
              0.3333333333333333,
              "#9c179e"
             ],
             [
              0.4444444444444444,
              "#bd3786"
             ],
             [
              0.5555555555555556,
              "#d8576b"
             ],
             [
              0.6666666666666666,
              "#ed7953"
             ],
             [
              0.7777777777777778,
              "#fb9f3a"
             ],
             [
              0.8888888888888888,
              "#fdca26"
             ],
             [
              1,
              "#f0f921"
             ]
            ],
            "type": "heatmap"
           }
          ],
          "heatmapgl": [
           {
            "colorbar": {
             "outlinewidth": 0,
             "ticks": ""
            },
            "colorscale": [
             [
              0,
              "#0d0887"
             ],
             [
              0.1111111111111111,
              "#46039f"
             ],
             [
              0.2222222222222222,
              "#7201a8"
             ],
             [
              0.3333333333333333,
              "#9c179e"
             ],
             [
              0.4444444444444444,
              "#bd3786"
             ],
             [
              0.5555555555555556,
              "#d8576b"
             ],
             [
              0.6666666666666666,
              "#ed7953"
             ],
             [
              0.7777777777777778,
              "#fb9f3a"
             ],
             [
              0.8888888888888888,
              "#fdca26"
             ],
             [
              1,
              "#f0f921"
             ]
            ],
            "type": "heatmapgl"
           }
          ],
          "histogram": [
           {
            "marker": {
             "pattern": {
              "fillmode": "overlay",
              "size": 10,
              "solidity": 0.2
             }
            },
            "type": "histogram"
           }
          ],
          "histogram2d": [
           {
            "colorbar": {
             "outlinewidth": 0,
             "ticks": ""
            },
            "colorscale": [
             [
              0,
              "#0d0887"
             ],
             [
              0.1111111111111111,
              "#46039f"
             ],
             [
              0.2222222222222222,
              "#7201a8"
             ],
             [
              0.3333333333333333,
              "#9c179e"
             ],
             [
              0.4444444444444444,
              "#bd3786"
             ],
             [
              0.5555555555555556,
              "#d8576b"
             ],
             [
              0.6666666666666666,
              "#ed7953"
             ],
             [
              0.7777777777777778,
              "#fb9f3a"
             ],
             [
              0.8888888888888888,
              "#fdca26"
             ],
             [
              1,
              "#f0f921"
             ]
            ],
            "type": "histogram2d"
           }
          ],
          "histogram2dcontour": [
           {
            "colorbar": {
             "outlinewidth": 0,
             "ticks": ""
            },
            "colorscale": [
             [
              0,
              "#0d0887"
             ],
             [
              0.1111111111111111,
              "#46039f"
             ],
             [
              0.2222222222222222,
              "#7201a8"
             ],
             [
              0.3333333333333333,
              "#9c179e"
             ],
             [
              0.4444444444444444,
              "#bd3786"
             ],
             [
              0.5555555555555556,
              "#d8576b"
             ],
             [
              0.6666666666666666,
              "#ed7953"
             ],
             [
              0.7777777777777778,
              "#fb9f3a"
             ],
             [
              0.8888888888888888,
              "#fdca26"
             ],
             [
              1,
              "#f0f921"
             ]
            ],
            "type": "histogram2dcontour"
           }
          ],
          "mesh3d": [
           {
            "colorbar": {
             "outlinewidth": 0,
             "ticks": ""
            },
            "type": "mesh3d"
           }
          ],
          "parcoords": [
           {
            "line": {
             "colorbar": {
              "outlinewidth": 0,
              "ticks": ""
             }
            },
            "type": "parcoords"
           }
          ],
          "pie": [
           {
            "automargin": true,
            "type": "pie"
           }
          ],
          "scatter": [
           {
            "fillpattern": {
             "fillmode": "overlay",
             "size": 10,
             "solidity": 0.2
            },
            "type": "scatter"
           }
          ],
          "scatter3d": [
           {
            "line": {
             "colorbar": {
              "outlinewidth": 0,
              "ticks": ""
             }
            },
            "marker": {
             "colorbar": {
              "outlinewidth": 0,
              "ticks": ""
             }
            },
            "type": "scatter3d"
           }
          ],
          "scattercarpet": [
           {
            "marker": {
             "colorbar": {
              "outlinewidth": 0,
              "ticks": ""
             }
            },
            "type": "scattercarpet"
           }
          ],
          "scattergeo": [
           {
            "marker": {
             "colorbar": {
              "outlinewidth": 0,
              "ticks": ""
             }
            },
            "type": "scattergeo"
           }
          ],
          "scattergl": [
           {
            "marker": {
             "colorbar": {
              "outlinewidth": 0,
              "ticks": ""
             }
            },
            "type": "scattergl"
           }
          ],
          "scattermapbox": [
           {
            "marker": {
             "colorbar": {
              "outlinewidth": 0,
              "ticks": ""
             }
            },
            "type": "scattermapbox"
           }
          ],
          "scatterpolar": [
           {
            "marker": {
             "colorbar": {
              "outlinewidth": 0,
              "ticks": ""
             }
            },
            "type": "scatterpolar"
           }
          ],
          "scatterpolargl": [
           {
            "marker": {
             "colorbar": {
              "outlinewidth": 0,
              "ticks": ""
             }
            },
            "type": "scatterpolargl"
           }
          ],
          "scatterternary": [
           {
            "marker": {
             "colorbar": {
              "outlinewidth": 0,
              "ticks": ""
             }
            },
            "type": "scatterternary"
           }
          ],
          "surface": [
           {
            "colorbar": {
             "outlinewidth": 0,
             "ticks": ""
            },
            "colorscale": [
             [
              0,
              "#0d0887"
             ],
             [
              0.1111111111111111,
              "#46039f"
             ],
             [
              0.2222222222222222,
              "#7201a8"
             ],
             [
              0.3333333333333333,
              "#9c179e"
             ],
             [
              0.4444444444444444,
              "#bd3786"
             ],
             [
              0.5555555555555556,
              "#d8576b"
             ],
             [
              0.6666666666666666,
              "#ed7953"
             ],
             [
              0.7777777777777778,
              "#fb9f3a"
             ],
             [
              0.8888888888888888,
              "#fdca26"
             ],
             [
              1,
              "#f0f921"
             ]
            ],
            "type": "surface"
           }
          ],
          "table": [
           {
            "cells": {
             "fill": {
              "color": "#EBF0F8"
             },
             "line": {
              "color": "white"
             }
            },
            "header": {
             "fill": {
              "color": "#C8D4E3"
             },
             "line": {
              "color": "white"
             }
            },
            "type": "table"
           }
          ]
         },
         "layout": {
          "annotationdefaults": {
           "arrowcolor": "#2a3f5f",
           "arrowhead": 0,
           "arrowwidth": 1
          },
          "autotypenumbers": "strict",
          "coloraxis": {
           "colorbar": {
            "outlinewidth": 0,
            "ticks": ""
           }
          },
          "colorscale": {
           "diverging": [
            [
             0,
             "#8e0152"
            ],
            [
             0.1,
             "#c51b7d"
            ],
            [
             0.2,
             "#de77ae"
            ],
            [
             0.3,
             "#f1b6da"
            ],
            [
             0.4,
             "#fde0ef"
            ],
            [
             0.5,
             "#f7f7f7"
            ],
            [
             0.6,
             "#e6f5d0"
            ],
            [
             0.7,
             "#b8e186"
            ],
            [
             0.8,
             "#7fbc41"
            ],
            [
             0.9,
             "#4d9221"
            ],
            [
             1,
             "#276419"
            ]
           ],
           "sequential": [
            [
             0,
             "#0d0887"
            ],
            [
             0.1111111111111111,
             "#46039f"
            ],
            [
             0.2222222222222222,
             "#7201a8"
            ],
            [
             0.3333333333333333,
             "#9c179e"
            ],
            [
             0.4444444444444444,
             "#bd3786"
            ],
            [
             0.5555555555555556,
             "#d8576b"
            ],
            [
             0.6666666666666666,
             "#ed7953"
            ],
            [
             0.7777777777777778,
             "#fb9f3a"
            ],
            [
             0.8888888888888888,
             "#fdca26"
            ],
            [
             1,
             "#f0f921"
            ]
           ],
           "sequentialminus": [
            [
             0,
             "#0d0887"
            ],
            [
             0.1111111111111111,
             "#46039f"
            ],
            [
             0.2222222222222222,
             "#7201a8"
            ],
            [
             0.3333333333333333,
             "#9c179e"
            ],
            [
             0.4444444444444444,
             "#bd3786"
            ],
            [
             0.5555555555555556,
             "#d8576b"
            ],
            [
             0.6666666666666666,
             "#ed7953"
            ],
            [
             0.7777777777777778,
             "#fb9f3a"
            ],
            [
             0.8888888888888888,
             "#fdca26"
            ],
            [
             1,
             "#f0f921"
            ]
           ]
          },
          "colorway": [
           "#636efa",
           "#EF553B",
           "#00cc96",
           "#ab63fa",
           "#FFA15A",
           "#19d3f3",
           "#FF6692",
           "#B6E880",
           "#FF97FF",
           "#FECB52"
          ],
          "font": {
           "color": "#2a3f5f"
          },
          "geo": {
           "bgcolor": "white",
           "lakecolor": "white",
           "landcolor": "#E5ECF6",
           "showlakes": true,
           "showland": true,
           "subunitcolor": "white"
          },
          "hoverlabel": {
           "align": "left"
          },
          "hovermode": "closest",
          "mapbox": {
           "style": "light"
          },
          "paper_bgcolor": "white",
          "plot_bgcolor": "#E5ECF6",
          "polar": {
           "angularaxis": {
            "gridcolor": "white",
            "linecolor": "white",
            "ticks": ""
           },
           "bgcolor": "#E5ECF6",
           "radialaxis": {
            "gridcolor": "white",
            "linecolor": "white",
            "ticks": ""
           }
          },
          "scene": {
           "xaxis": {
            "backgroundcolor": "#E5ECF6",
            "gridcolor": "white",
            "gridwidth": 2,
            "linecolor": "white",
            "showbackground": true,
            "ticks": "",
            "zerolinecolor": "white"
           },
           "yaxis": {
            "backgroundcolor": "#E5ECF6",
            "gridcolor": "white",
            "gridwidth": 2,
            "linecolor": "white",
            "showbackground": true,
            "ticks": "",
            "zerolinecolor": "white"
           },
           "zaxis": {
            "backgroundcolor": "#E5ECF6",
            "gridcolor": "white",
            "gridwidth": 2,
            "linecolor": "white",
            "showbackground": true,
            "ticks": "",
            "zerolinecolor": "white"
           }
          },
          "shapedefaults": {
           "line": {
            "color": "#2a3f5f"
           }
          },
          "ternary": {
           "aaxis": {
            "gridcolor": "white",
            "linecolor": "white",
            "ticks": ""
           },
           "baxis": {
            "gridcolor": "white",
            "linecolor": "white",
            "ticks": ""
           },
           "bgcolor": "#E5ECF6",
           "caxis": {
            "gridcolor": "white",
            "linecolor": "white",
            "ticks": ""
           }
          },
          "title": {
           "x": 0.05
          },
          "xaxis": {
           "automargin": true,
           "gridcolor": "white",
           "linecolor": "white",
           "ticks": "",
           "title": {
            "standoff": 15
           },
           "zerolinecolor": "white",
           "zerolinewidth": 2
          },
          "yaxis": {
           "automargin": true,
           "gridcolor": "white",
           "linecolor": "white",
           "ticks": "",
           "title": {
            "standoff": 15
           },
           "zerolinecolor": "white",
           "zerolinewidth": 2
          }
         }
        },
        "xaxis": {
         "anchor": "y",
         "autorange": true,
         "domain": [
          0,
          1
         ],
         "range": [
          "2024-10-11 00:04",
          "2024-10-11 15:24"
         ],
         "title": {
          "text": "Timestamp"
         },
         "type": "date"
        },
        "yaxis": {
         "anchor": "x",
         "autorange": true,
         "domain": [
          0,
          1
         ],
         "range": [
          45.96666666666667,
          94.63333333333334
         ],
         "title": {
          "text": "Degrees"
         },
         "type": "linear"
        }
       }
      },
      "image/png": "[encoded data removed]",
      "text/html": [
       "<div>                            <div id=\"34c8f459-0deb-4459-a11e-f35e67de0578\" class=\"plotly-graph-div\" style=\"height:525px; width:100%;\"></div>            <script type=\"text/javascript\">                require([\"plotly\"], function(Plotly) {                    window.PLOTLYENV=window.PLOTLYENV || {};                                    if (document.getElementById(\"34c8f459-0deb-4459-a11e-f35e67de0578\")) {                    Plotly.newPlot(                        \"34c8f459-0deb-4459-a11e-f35e67de0578\",                        [{\"hovertemplate\":\"variable=Temperature\\u003cbr\\u003eTimestamp=%{x}\\u003cbr\\u003eDegrees=%{y}\\u003cextra\\u003e\\u003c\\u002fextra\\u003e\",\"legendgroup\":\"Temperature\",\"line\":{\"color\":\"red\",\"dash\":\"solid\"},\"marker\":{\"symbol\":\"circle\"},\"mode\":\"lines\",\"name\":\"Temperature\",\"orientation\":\"v\",\"showlegend\":true,\"x\":[\"2024-10-11T00:04:00\",\"2024-10-11T00:09:00\",\"2024-10-11T00:14:00\",\"2024-10-11T00:19:00\",\"2024-10-11T00:24:00\",\"2024-10-11T00:29:00\",\"2024-10-11T00:34:00\",\"2024-10-11T00:39:00\",\"2024-10-11T00:44:00\",\"2024-10-11T00:49:00\",\"2024-10-11T00:54:00\",\"2024-10-11T00:59:00\",\"2024-10-11T01:04:00\",\"2024-10-11T01:09:00\",\"2024-10-11T01:14:00\",\"2024-10-11T01:19:00\",\"2024-10-11T01:24:00\",\"2024-10-11T01:29:00\",\"2024-10-11T01:34:00\",\"2024-10-11T01:39:00\",\"2024-10-11T01:44:00\",\"2024-10-11T01:49:00\",\"2024-10-11T01:54:00\",\"2024-10-11T01:59:00\",\"2024-10-11T02:04:00\",\"2024-10-11T02:09:00\",\"2024-10-11T02:14:00\",\"2024-10-11T02:19:00\",\"2024-10-11T02:24:00\",\"2024-10-11T02:29:00\",\"2024-10-11T02:34:00\",\"2024-10-11T02:39:00\",\"2024-10-11T02:44:00\",\"2024-10-11T02:49:00\",\"2024-10-11T02:54:00\",\"2024-10-11T02:59:00\",\"2024-10-11T03:04:00\",\"2024-10-11T03:09:00\",\"2024-10-11T03:14:00\",\"2024-10-11T03:19:00\",\"2024-10-11T03:24:00\",\"2024-10-11T03:29:00\",\"2024-10-11T03:34:00\",\"2024-10-11T03:39:00\",\"2024-10-11T03:44:00\",\"2024-10-11T03:49:00\",\"2024-10-11T03:54:00\",\"2024-10-11T03:59:00\",\"2024-10-11T04:04:00\",\"2024-10-11T04:09:00\",\"2024-10-11T04:14:00\",\"2024-10-11T04:19:00\",\"2024-10-11T04:24:00\",\"2024-10-11T04:29:00\",\"2024-10-11T04:34:00\",\"2024-10-11T04:39:00\",\"2024-10-11T04:44:00\",\"2024-10-11T04:49:00\",\"2024-10-11T04:54:00\",\"2024-10-11T04:59:00\",\"2024-10-11T05:04:00\",\"2024-10-11T05:09:00\",\"2024-10-11T05:14:00\",\"2024-10-11T05:19:00\",\"2024-10-11T05:24:00\",\"2024-10-11T05:29:00\",\"2024-10-11T05:34:00\",\"2024-10-11T05:39:00\",\"2024-10-11T05:44:00\",\"2024-10-11T05:49:00\",\"2024-10-11T05:54:00\",\"2024-10-11T05:59:00\",\"2024-10-11T06:04:00\",\"2024-10-11T06:09:00\",\"2024-10-11T06:14:00\",\"2024-10-11T06:19:00\",\"2024-10-11T06:24:00\",\"2024-10-11T06:29:00\",\"2024-10-11T06:34:00\",\"2024-10-11T06:39:00\",\"2024-10-11T06:44:00\",\"2024-10-11T06:49:00\",\"2024-10-11T06:54:00\",\"2024-10-11T06:59:00\",\"2024-10-11T07:04:00\",\"2024-10-11T07:09:00\",\"2024-10-11T07:14:00\",\"2024-10-11T07:19:00\",\"2024-10-11T07:24:00\",\"2024-10-11T07:29:00\",\"2024-10-11T07:34:00\",\"2024-10-11T07:39:00\",\"2024-10-11T07:44:00\",\"2024-10-11T07:49:00\",\"2024-10-11T07:54:00\",\"2024-10-11T07:59:00\",\"2024-10-11T08:04:00\",\"2024-10-11T08:09:00\",\"2024-10-11T08:14:00\",\"2024-10-11T08:19:00\",\"2024-10-11T08:24:00\",\"2024-10-11T08:29:00\",\"2024-10-11T08:34:00\",\"2024-10-11T08:39:00\",\"2024-10-11T08:44:00\",\"2024-10-11T08:49:00\",\"2024-10-11T08:54:00\",\"2024-10-11T08:59:00\",\"2024-10-11T09:04:00\",\"2024-10-11T09:09:00\",\"2024-10-11T09:14:00\",\"2024-10-11T09:19:00\",\"2024-10-11T09:24:00\",\"2024-10-11T09:29:00\",\"2024-10-11T09:34:00\",\"2024-10-11T09:39:00\",\"2024-10-11T09:44:00\",\"2024-10-11T09:49:00\",\"2024-10-11T09:54:00\",\"2024-10-11T09:59:00\",\"2024-10-11T10:04:00\",\"2024-10-11T10:09:00\",\"2024-10-11T10:14:00\",\"2024-10-11T10:19:00\",\"2024-10-11T10:24:00\",\"2024-10-11T10:29:00\",\"2024-10-11T10:34:00\",\"2024-10-11T10:39:00\",\"2024-10-11T10:44:00\",\"2024-10-11T10:49:00\",\"2024-10-11T10:54:00\",\"2024-10-11T10:59:00\",\"2024-10-11T11:04:00\",\"2024-10-11T11:09:00\",\"2024-10-11T11:14:00\",\"2024-10-11T11:19:00\",\"2024-10-11T11:24:00\",\"2024-10-11T11:29:00\",\"2024-10-11T11:34:00\",\"2024-10-11T11:39:00\",\"2024-10-11T11:44:00\",\"2024-10-11T11:49:00\",\"2024-10-11T11:54:00\",\"2024-10-11T11:59:00\",\"2024-10-11T12:04:00\",\"2024-10-11T12:09:00\",\"2024-10-11T12:14:00\",\"2024-10-11T12:19:00\",\"2024-10-11T12:24:00\",\"2024-10-11T12:29:00\",\"2024-10-11T12:34:00\",\"2024-10-11T12:39:00\",\"2024-10-11T12:44:00\",\"2024-10-11T12:49:00\",\"2024-10-11T12:54:00\",\"2024-10-11T12:59:00\",\"2024-10-11T13:04:00\",\"2024-10-11T13:09:00\",\"2024-10-11T13:14:00\",\"2024-10-11T13:19:00\",\"2024-10-11T13:24:00\",\"2024-10-11T13:29:00\",\"2024-10-11T13:34:00\",\"2024-10-11T13:39:00\",\"2024-10-11T13:44:00\",\"2024-10-11T13:49:00\",\"2024-10-11T13:54:00\",\"2024-10-11T13:59:00\",\"2024-10-11T14:04:00\",\"2024-10-11T14:09:00\",\"2024-10-11T14:14:00\",\"2024-10-11T14:19:00\",\"2024-10-11T14:24:00\",\"2024-10-11T14:29:00\",\"2024-10-11T14:34:00\",\"2024-10-11T14:39:00\",\"2024-10-11T14:44:00\",\"2024-10-11T14:49:00\",\"2024-10-11T14:54:00\",\"2024-10-11T14:59:00\",\"2024-10-11T15:04:00\",\"2024-10-11T15:09:00\",\"2024-10-11T15:14:00\",\"2024-10-11T15:19:00\",\"2024-10-11T15:24:00\"],\"xaxis\":\"x\",\"y\":[66.1,66.0,66.1,65.8,65.8,66.2,66.4,66.5,66.0,65.4,65.6,65.9,66.2,66.2,66.0,65.7,65.6,65.5,65.4,65.2,65.3,65.5,65.6,65.2,64.8,64.7,64.5,64.6,64.4,64.2,63.7,63.5,63.2,63.0,62.8,62.7,62.6,62.6,62.7,62.9,63.1,63.1,63.0,63.1,63.0,63.0,63.0,62.9,62.9,62.6,62.7,63.0,63.0,62.7,62.7,62.1,62.1,62.2,61.8,61.6,61.8,61.3,61.1,60.8,60.3,60.1,60.0,60.1,60.2,60.2,60.3,60.2,60.3,60.1,60.2,60.0,60.1,60.3,60.7,61.2,61.2,61.3,61.3,61.3,61.1,60.9,61.3,60.9,60.5,60.2,59.6,59.4,59.2,58.4,57.7,57.5,57.5,57.5,57.5,57.4,57.6,58.1,59.1,60.6,61.0,61.7,62.9,63.9,64.8,65.4,66.0,66.5,67.4,67.8,68.4,69.0,69.1,69.0,69.2,69.3,69.7,70.3,70.8,71.6,72.0,72.4,73.0,73.8,74.3,74.7,74.9,75.4,75.8,76.4,76.9,77.1,77.6,78.2,78.5,78.6,78.8,79.2,79.7,80.1,80.4,80.5,81.1,81.4,81.8,81.9,81.9,82.6,83.0,83.3,83.7,84.1,84.4,84.6,84.9,85.5,85.7,86.1,86.2,86.5,86.9,87.2,87.4,87.5,87.5,88.0,88.6,88.9,89.5,89.5,89.2,89.6,90.4,91.0,91.2,91.3,91.2,90.5,90.7,90.5,92.2],\"yaxis\":\"y\",\"type\":\"scatter\"},{\"hovertemplate\":\"variable=Dew Point\\u003cbr\\u003eTimestamp=%{x}\\u003cbr\\u003eDegrees=%{y}\\u003cextra\\u003e\\u003c\\u002fextra\\u003e\",\"legendgroup\":\"Dew Point\",\"line\":{\"color\":\"green\",\"dash\":\"solid\"},\"marker\":{\"symbol\":\"circle\"},\"mode\":\"lines\",\"name\":\"Dew Point\",\"orientation\":\"v\",\"showlegend\":true,\"x\":[\"2024-10-11T00:04:00\",\"2024-10-11T00:09:00\",\"2024-10-11T00:14:00\",\"2024-10-11T00:19:00\",\"2024-10-11T00:24:00\",\"2024-10-11T00:29:00\",\"2024-10-11T00:34:00\",\"2024-10-11T00:39:00\",\"2024-10-11T00:44:00\",\"2024-10-11T00:49:00\",\"2024-10-11T00:54:00\",\"2024-10-11T00:59:00\",\"2024-10-11T01:04:00\",\"2024-10-11T01:09:00\",\"2024-10-11T01:14:00\",\"2024-10-11T01:19:00\",\"2024-10-11T01:24:00\",\"2024-10-11T01:29:00\",\"2024-10-11T01:34:00\",\"2024-10-11T01:39:00\",\"2024-10-11T01:44:00\",\"2024-10-11T01:49:00\",\"2024-10-11T01:54:00\",\"2024-10-11T01:59:00\",\"2024-10-11T02:04:00\",\"2024-10-11T02:09:00\",\"2024-10-11T02:14:00\",\"2024-10-11T02:19:00\",\"2024-10-11T02:24:00\",\"2024-10-11T02:29:00\",\"2024-10-11T02:34:00\",\"2024-10-11T02:39:00\",\"2024-10-11T02:44:00\",\"2024-10-11T02:49:00\",\"2024-10-11T02:54:00\",\"2024-10-11T02:59:00\",\"2024-10-11T03:04:00\",\"2024-10-11T03:09:00\",\"2024-10-11T03:14:00\",\"2024-10-11T03:19:00\",\"2024-10-11T03:24:00\",\"2024-10-11T03:29:00\",\"2024-10-11T03:34:00\",\"2024-10-11T03:39:00\",\"2024-10-11T03:44:00\",\"2024-10-11T03:49:00\",\"2024-10-11T03:54:00\",\"2024-10-11T03:59:00\",\"2024-10-11T04:04:00\",\"2024-10-11T04:09:00\",\"2024-10-11T04:14:00\",\"2024-10-11T04:19:00\",\"2024-10-11T04:24:00\",\"2024-10-11T04:29:00\",\"2024-10-11T04:34:00\",\"2024-10-11T04:39:00\",\"2024-10-11T04:44:00\",\"2024-10-11T04:49:00\",\"2024-10-11T04:54:00\",\"2024-10-11T04:59:00\",\"2024-10-11T05:04:00\",\"2024-10-11T05:09:00\",\"2024-10-11T05:14:00\",\"2024-10-11T05:19:00\",\"2024-10-11T05:24:00\",\"2024-10-11T05:29:00\",\"2024-10-11T05:34:00\",\"2024-10-11T05:39:00\",\"2024-10-11T05:44:00\",\"2024-10-11T05:49:00\",\"2024-10-11T05:54:00\",\"2024-10-11T05:59:00\",\"2024-10-11T06:04:00\",\"2024-10-11T06:09:00\",\"2024-10-11T06:14:00\",\"2024-10-11T06:19:00\",\"2024-10-11T06:24:00\",\"2024-10-11T06:29:00\",\"2024-10-11T06:34:00\",\"2024-10-11T06:39:00\",\"2024-10-11T06:44:00\",\"2024-10-11T06:49:00\",\"2024-10-11T06:54:00\",\"2024-10-11T06:59:00\",\"2024-10-11T07:04:00\",\"2024-10-11T07:09:00\",\"2024-10-11T07:14:00\",\"2024-10-11T07:19:00\",\"2024-10-11T07:24:00\",\"2024-10-11T07:29:00\",\"2024-10-11T07:34:00\",\"2024-10-11T07:39:00\",\"2024-10-11T07:44:00\",\"2024-10-11T07:49:00\",\"2024-10-11T07:54:00\",\"2024-10-11T07:59:00\",\"2024-10-11T08:04:00\",\"2024-10-11T08:09:00\",\"2024-10-11T08:14:00\",\"2024-10-11T08:19:00\",\"2024-10-11T08:24:00\",\"2024-10-11T08:29:00\",\"2024-10-11T08:34:00\",\"2024-10-11T08:39:00\",\"2024-10-11T08:44:00\",\"2024-10-11T08:49:00\",\"2024-10-11T08:54:00\",\"2024-10-11T08:59:00\",\"2024-10-11T09:04:00\",\"2024-10-11T09:09:00\",\"2024-10-11T09:14:00\",\"2024-10-11T09:19:00\",\"2024-10-11T09:24:00\",\"2024-10-11T09:29:00\",\"2024-10-11T09:34:00\",\"2024-10-11T09:39:00\",\"2024-10-11T09:44:00\",\"2024-10-11T09:49:00\",\"2024-10-11T09:54:00\",\"2024-10-11T09:59:00\",\"2024-10-11T10:04:00\",\"2024-10-11T10:09:00\",\"2024-10-11T10:14:00\",\"2024-10-11T10:19:00\",\"2024-10-11T10:24:00\",\"2024-10-11T10:29:00\",\"2024-10-11T10:34:00\",\"2024-10-11T10:39:00\",\"2024-10-11T10:44:00\",\"2024-10-11T10:49:00\",\"2024-10-11T10:54:00\",\"2024-10-11T10:59:00\",\"2024-10-11T11:04:00\",\"2024-10-11T11:09:00\",\"2024-10-11T11:14:00\",\"2024-10-11T11:19:00\",\"2024-10-11T11:24:00\",\"2024-10-11T11:29:00\",\"2024-10-11T11:34:00\",\"2024-10-11T11:39:00\",\"2024-10-11T11:44:00\",\"2024-10-11T11:49:00\",\"2024-10-11T11:54:00\",\"2024-10-11T11:59:00\",\"2024-10-11T12:04:00\",\"2024-10-11T12:09:00\",\"2024-10-11T12:14:00\",\"2024-10-11T12:19:00\",\"2024-10-11T12:24:00\",\"2024-10-11T12:29:00\",\"2024-10-11T12:34:00\",\"2024-10-11T12:39:00\",\"2024-10-11T12:44:00\",\"2024-10-11T12:49:00\",\"2024-10-11T12:54:00\",\"2024-10-11T12:59:00\",\"2024-10-11T13:04:00\",\"2024-10-11T13:09:00\",\"2024-10-11T13:14:00\",\"2024-10-11T13:19:00\",\"2024-10-11T13:24:00\",\"2024-10-11T13:29:00\",\"2024-10-11T13:34:00\",\"2024-10-11T13:39:00\",\"2024-10-11T13:44:00\",\"2024-10-11T13:49:00\",\"2024-10-11T13:54:00\",\"2024-10-11T13:59:00\",\"2024-10-11T14:04:00\",\"2024-10-11T14:09:00\",\"2024-10-11T14:14:00\",\"2024-10-11T14:19:00\",\"2024-10-11T14:24:00\",\"2024-10-11T14:29:00\",\"2024-10-11T14:34:00\",\"2024-10-11T14:39:00\",\"2024-10-11T14:44:00\",\"2024-10-11T14:49:00\",\"2024-10-11T14:54:00\",\"2024-10-11T14:59:00\",\"2024-10-11T15:04:00\",\"2024-10-11T15:09:00\",\"2024-10-11T15:14:00\",\"2024-10-11T15:19:00\",\"2024-10-11T15:24:00\"],\"xaxis\":\"x\",\"y\":[52.5,52.1,51.4,51.3,51.2,51.4,51.6,51.4,51.3,51.6,51.6,51.6,51.6,51.9,51.7,51.6,51.8,51.7,51.6,51.8,51.7,51.7,51.8,51.5,51.6,51.7,51.6,51.7,51.8,51.5,51.6,51.5,51.2,51.3,51.3,51.3,51.5,51.5,51.6,51.3,51.1,51.1,51.0,50.8,50.8,50.6,50.6,50.5,50.5,50.3,50.4,50.4,50.6,50.3,50.3,50.4,50.2,50.3,50.8,50.5,50.4,50.6,50.8,50.6,50.6,50.8,50.8,50.6,50.4,50.5,50.5,50.4,50.4,50.3,50.3,50.5,50.4,49.9,49.5,49.4,49.0,48.6,48.5,48.5,48.6,48.5,48.4,48.8,48.7,48.8,48.8,48.6,48.4,48.5,49.1,49.4,49.5,49.5,49.3,49.8,50.0,49.7,49.3,49.7,49.3,49.5,49.6,49.4,49.4,49.3,49.4,49.2,49.4,49.4,49.8,49.4,49.3,48.8,48.8,48.7,49.0,48.9,48.7,49.8,49.0,49.8,49.5,49.8,49.7,50.3,50.4,50.4,50.5,51.1,51.0,50.8,50.9,51.3,51.7,51.7,51.7,52.2,52.4,52.9,53.0,53.0,53.3,53.8,53.4,53.0,53.3,53.9,53.6,53.3,54.3,54.1,54.5,53.9,54.0,55.0,54.7,54.6,54.5,54.6,55.1,54.9,55.6,54.0,54.0,54.2,54.6,55.4,55.1,55.2,54.8,55.3,55.6,55.6,55.7,56.2,54.4,53.8,54.2,54.6,56.4],\"yaxis\":\"y\",\"type\":\"scatter\"}],                        {\"template\":{\"data\":{\"histogram2dcontour\":[{\"type\":\"histogram2dcontour\",\"colorbar\":{\"outlinewidth\":0,\"ticks\":\"\"},\"colorscale\":[[0.0,\"#0d0887\"],[0.1111111111111111,\"#46039f\"],[0.2222222222222222,\"#7201a8\"],[0.3333333333333333,\"#9c179e\"],[0.4444444444444444,\"#bd3786\"],[0.5555555555555556,\"#d8576b\"],[0.6666666666666666,\"#ed7953\"],[0.7777777777777778,\"#fb9f3a\"],[0.8888888888888888,\"#fdca26\"],[1.0,\"#f0f921\"]]}],\"choropleth\":[{\"type\":\"choropleth\",\"colorbar\":{\"outlinewidth\":0,\"ticks\":\"\"}}],\"histogram2d\":[{\"type\":\"histogram2d\",\"colorbar\":{\"outlinewidth\":0,\"ticks\":\"\"},\"colorscale\":[[0.0,\"#0d0887\"],[0.1111111111111111,\"#46039f\"],[0.2222222222222222,\"#7201a8\"],[0.3333333333333333,\"#9c179e\"],[0.4444444444444444,\"#bd3786\"],[0.5555555555555556,\"#d8576b\"],[0.6666666666666666,\"#ed7953\"],[0.7777777777777778,\"#fb9f3a\"],[0.8888888888888888,\"#fdca26\"],[1.0,\"#f0f921\"]]}],\"heatmap\":[{\"type\":\"heatmap\",\"colorbar\":{\"outlinewidth\":0,\"ticks\":\"\"},\"colorscale\":[[0.0,\"#0d0887\"],[0.1111111111111111,\"#46039f\"],[0.2222222222222222,\"#7201a8\"],[0.3333333333333333,\"#9c179e\"],[0.4444444444444444,\"#bd3786\"],[0.5555555555555556,\"#d8576b\"],[0.6666666666666666,\"#ed7953\"],[0.7777777777777778,\"#fb9f3a\"],[0.8888888888888888,\"#fdca26\"],[1.0,\"#f0f921\"]]}],\"heatmapgl\":[{\"type\":\"heatmapgl\",\"colorbar\":{\"outlinewidth\":0,\"ticks\":\"\"},\"colorscale\":[[0.0,\"#0d0887\"],[0.1111111111111111,\"#46039f\"],[0.2222222222222222,\"#7201a8\"],[0.3333333333333333,\"#9c179e\"],[0.4444444444444444,\"#bd3786\"],[0.5555555555555556,\"#d8576b\"],[0.6666666666666666,\"#ed7953\"],[0.7777777777777778,\"#fb9f3a\"],[0.8888888888888888,\"#fdca26\"],[1.0,\"#f0f921\"]]}],\"contourcarpet\":[{\"type\":\"contourcarpet\",\"colorbar\":{\"outlinewidth\":0,\"ticks\":\"\"}}],\"contour\":[{\"type\":\"contour\",\"colorbar\":{\"outlinewidth\":0,\"ticks\":\"\"},\"colorscale\":[[0.0,\"#0d0887\"],[0.1111111111111111,\"#46039f\"],[0.2222222222222222,\"#7201a8\"],[0.3333333333333333,\"#9c179e\"],[0.4444444444444444,\"#bd3786\"],[0.5555555555555556,\"#d8576b\"],[0.6666666666666666,\"#ed7953\"],[0.7777777777777778,\"#fb9f3a\"],[0.8888888888888888,\"#fdca26\"],[1.0,\"#f0f921\"]]}],\"surface\":[{\"type\":\"surface\",\"colorbar\":{\"outlinewidth\":0,\"ticks\":\"\"},\"colorscale\":[[0.0,\"#0d0887\"],[0.1111111111111111,\"#46039f\"],[0.2222222222222222,\"#7201a8\"],[0.3333333333333333,\"#9c179e\"],[0.4444444444444444,\"#bd3786\"],[0.5555555555555556,\"#d8576b\"],[0.6666666666666666,\"#ed7953\"],[0.7777777777777778,\"#fb9f3a\"],[0.8888888888888888,\"#fdca26\"],[1.0,\"#f0f921\"]]}],\"mesh3d\":[{\"type\":\"mesh3d\",\"colorbar\":{\"outlinewidth\":0,\"ticks\":\"\"}}],\"scatter\":[{\"fillpattern\":{\"fillmode\":\"overlay\",\"size\":10,\"solidity\":0.2},\"type\":\"scatter\"}],\"parcoords\":[{\"type\":\"parcoords\",\"line\":{\"colorbar\":{\"outlinewidth\":0,\"ticks\":\"\"}}}],\"scatterpolargl\":[{\"type\":\"scatterpolargl\",\"marker\":{\"colorbar\":{\"outlinewidth\":0,\"ticks\":\"\"}}}],\"bar\":[{\"error_x\":{\"color\":\"#2a3f5f\"},\"error_y\":{\"color\":\"#2a3f5f\"},\"marker\":{\"line\":{\"color\":\"#E5ECF6\",\"width\":0.5},\"pattern\":{\"fillmode\":\"overlay\",\"size\":10,\"solidity\":0.2}},\"type\":\"bar\"}],\"scattergeo\":[{\"type\":\"scattergeo\",\"marker\":{\"colorbar\":{\"outlinewidth\":0,\"ticks\":\"\"}}}],\"scatterpolar\":[{\"type\":\"scatterpolar\",\"marker\":{\"colorbar\":{\"outlinewidth\":0,\"ticks\":\"\"}}}],\"histogram\":[{\"marker\":{\"pattern\":{\"fillmode\":\"overlay\",\"size\":10,\"solidity\":0.2}},\"type\":\"histogram\"}],\"scattergl\":[{\"type\":\"scattergl\",\"marker\":{\"colorbar\":{\"outlinewidth\":0,\"ticks\":\"\"}}}],\"scatter3d\":[{\"type\":\"scatter3d\",\"line\":{\"colorbar\":{\"outlinewidth\":0,\"ticks\":\"\"}},\"marker\":{\"colorbar\":{\"outlinewidth\":0,\"ticks\":\"\"}}}],\"scattermapbox\":[{\"type\":\"scattermapbox\",\"marker\":{\"colorbar\":{\"outlinewidth\":0,\"ticks\":\"\"}}}],\"scatterternary\":[{\"type\":\"scatterternary\",\"marker\":{\"colorbar\":{\"outlinewidth\":0,\"ticks\":\"\"}}}],\"scattercarpet\":[{\"type\":\"scattercarpet\",\"marker\":{\"colorbar\":{\"outlinewidth\":0,\"ticks\":\"\"}}}],\"carpet\":[{\"aaxis\":{\"endlinecolor\":\"#2a3f5f\",\"gridcolor\":\"white\",\"linecolor\":\"white\",\"minorgridcolor\":\"white\",\"startlinecolor\":\"#2a3f5f\"},\"baxis\":{\"endlinecolor\":\"#2a3f5f\",\"gridcolor\":\"white\",\"linecolor\":\"white\",\"minorgridcolor\":\"white\",\"startlinecolor\":\"#2a3f5f\"},\"type\":\"carpet\"}],\"table\":[{\"cells\":{\"fill\":{\"color\":\"#EBF0F8\"},\"line\":{\"color\":\"white\"}},\"header\":{\"fill\":{\"color\":\"#C8D4E3\"},\"line\":{\"color\":\"white\"}},\"type\":\"table\"}],\"barpolar\":[{\"marker\":{\"line\":{\"color\":\"#E5ECF6\",\"width\":0.5},\"pattern\":{\"fillmode\":\"overlay\",\"size\":10,\"solidity\":0.2}},\"type\":\"barpolar\"}],\"pie\":[{\"automargin\":true,\"type\":\"pie\"}]},\"layout\":{\"autotypenumbers\":\"strict\",\"colorway\":[\"#636efa\",\"#EF553B\",\"#00cc96\",\"#ab63fa\",\"#FFA15A\",\"#19d3f3\",\"#FF6692\",\"#B6E880\",\"#FF97FF\",\"#FECB52\"],\"font\":{\"color\":\"#2a3f5f\"},\"hovermode\":\"closest\",\"hoverlabel\":{\"align\":\"left\"},\"paper_bgcolor\":\"white\",\"plot_bgcolor\":\"#E5ECF6\",\"polar\":{\"bgcolor\":\"#E5ECF6\",\"angularaxis\":{\"gridcolor\":\"white\",\"linecolor\":\"white\",\"ticks\":\"\"},\"radialaxis\":{\"gridcolor\":\"white\",\"linecolor\":\"white\",\"ticks\":\"\"}},\"ternary\":{\"bgcolor\":\"#E5ECF6\",\"aaxis\":{\"gridcolor\":\"white\",\"linecolor\":\"white\",\"ticks\":\"\"},\"baxis\":{\"gridcolor\":\"white\",\"linecolor\":\"white\",\"ticks\":\"\"},\"caxis\":{\"gridcolor\":\"white\",\"linecolor\":\"white\",\"ticks\":\"\"}},\"coloraxis\":{\"colorbar\":{\"outlinewidth\":0,\"ticks\":\"\"}},\"colorscale\":{\"sequential\":[[0.0,\"#0d0887\"],[0.1111111111111111,\"#46039f\"],[0.2222222222222222,\"#7201a8\"],[0.3333333333333333,\"#9c179e\"],[0.4444444444444444,\"#bd3786\"],[0.5555555555555556,\"#d8576b\"],[0.6666666666666666,\"#ed7953\"],[0.7777777777777778,\"#fb9f3a\"],[0.8888888888888888,\"#fdca26\"],[1.0,\"#f0f921\"]],\"sequentialminus\":[[0.0,\"#0d0887\"],[0.1111111111111111,\"#46039f\"],[0.2222222222222222,\"#7201a8\"],[0.3333333333333333,\"#9c179e\"],[0.4444444444444444,\"#bd3786\"],[0.5555555555555556,\"#d8576b\"],[0.6666666666666666,\"#ed7953\"],[0.7777777777777778,\"#fb9f3a\"],[0.8888888888888888,\"#fdca26\"],[1.0,\"#f0f921\"]],\"diverging\":[[0,\"#8e0152\"],[0.1,\"#c51b7d\"],[0.2,\"#de77ae\"],[0.3,\"#f1b6da\"],[0.4,\"#fde0ef\"],[0.5,\"#f7f7f7\"],[0.6,\"#e6f5d0\"],[0.7,\"#b8e186\"],[0.8,\"#7fbc41\"],[0.9,\"#4d9221\"],[1,\"#276419\"]]},\"xaxis\":{\"gridcolor\":\"white\",\"linecolor\":\"white\",\"ticks\":\"\",\"title\":{\"standoff\":15},\"zerolinecolor\":\"white\",\"automargin\":true,\"zerolinewidth\":2},\"yaxis\":{\"gridcolor\":\"white\",\"linecolor\":\"white\",\"ticks\":\"\",\"title\":{\"standoff\":15},\"zerolinecolor\":\"white\",\"automargin\":true,\"zerolinewidth\":2},\"scene\":{\"xaxis\":{\"backgroundcolor\":\"#E5ECF6\",\"gridcolor\":\"white\",\"linecolor\":\"white\",\"showbackground\":true,\"ticks\":\"\",\"zerolinecolor\":\"white\",\"gridwidth\":2},\"yaxis\":{\"backgroundcolor\":\"#E5ECF6\",\"gridcolor\":\"white\",\"linecolor\":\"white\",\"showbackground\":true,\"ticks\":\"\",\"zerolinecolor\":\"white\",\"gridwidth\":2},\"zaxis\":{\"backgroundcolor\":\"#E5ECF6\",\"gridcolor\":\"white\",\"linecolor\":\"white\",\"showbackground\":true,\"ticks\":\"\",\"zerolinecolor\":\"white\",\"gridwidth\":2}},\"shapedefaults\":{\"line\":{\"color\":\"#2a3f5f\"}},\"annotationdefaults\":{\"arrowcolor\":\"#2a3f5f\",\"arrowhead\":0,\"arrowwidth\":1},\"geo\":{\"bgcolor\":\"white\",\"landcolor\":\"#E5ECF6\",\"subunitcolor\":\"white\",\"showland\":true,\"showlakes\":true,\"lakecolor\":\"white\"},\"title\":{\"x\":0.05},\"mapbox\":{\"style\":\"light\"}}},\"xaxis\":{\"anchor\":\"y\",\"domain\":[0.0,1.0],\"title\":{\"text\":\"Timestamp\"}},\"yaxis\":{\"anchor\":\"x\",\"domain\":[0.0,1.0],\"title\":{\"text\":\"Degrees\"}},\"legend\":{\"title\":{\"text\":\"variable\"},\"tracegroupgap\":0},\"margin\":{\"t\":60}},                        {\"responsive\": true}                    ).then(function(){\n",
       "                            \n",
       "var gd = document.getElementById('34c8f459-0deb-4459-a11e-f35e67de0578');\n",
       "var x = new MutationObserver(function (mutations, observer) {{\n",
       "        var display = window.getComputedStyle(gd).display;\n",
       "        if (!display || display === 'none') {{\n",
       "            console.log([gd, 'removed!']);\n",
       "            Plotly.purge(gd);\n",
       "            observer.disconnect();\n",
       "        }}\n",
       "}});\n",
       "\n",
       "// Listen for the removal of the full notebook cells\n",
       "var notebookContainer = gd.closest('#notebook-container');\n",
       "if (notebookContainer) {{\n",
       "    x.observe(notebookContainer, {childList: true});\n",
       "}}\n",
       "\n",
       "// Listen for the clearing of the current output cell\n",
       "var outputEl = gd.closest('.output');\n",
       "if (outputEl) {{\n",
       "    x.observe(outputEl, {childList: true});\n",
       "}}\n",
       "\n",
       "                        })                };                });            </script>        </div>"
      ]
     },
     "metadata": {},
     "output_type": "display_data"
    },
    {
     "data": {
      "application/vnd.plotly.v1+json": {
       "config": {
        "plotlyServerURL": "https://plot.ly"
       },
       "data": [
        {
         "hovertemplate": "Timestamp=%{x}<br>Humidity=%{y}<extra></extra>",
         "legendgroup": "",
         "line": {
          "color": "#636efa",
          "dash": "solid"
         },
         "marker": {
          "symbol": "circle"
         },
         "mode": "lines",
         "name": "",
         "orientation": "v",
         "showlegend": false,
         "type": "scatter",
         "x": [
          "2024-10-11T00:04:00",
          "2024-10-11T00:09:00",
          "2024-10-11T00:14:00",
          "2024-10-11T00:19:00",
          "2024-10-11T00:24:00",
          "2024-10-11T00:29:00",
          "2024-10-11T00:34:00",
          "2024-10-11T00:39:00",
          "2024-10-11T00:44:00",
          "2024-10-11T00:49:00",
          "2024-10-11T00:54:00",
          "2024-10-11T00:59:00",
          "2024-10-11T01:04:00",
          "2024-10-11T01:09:00",
          "2024-10-11T01:14:00",
          "2024-10-11T01:19:00",
          "2024-10-11T01:24:00",
          "2024-10-11T01:29:00",
          "2024-10-11T01:34:00",
          "2024-10-11T01:39:00",
          "2024-10-11T01:44:00",
          "2024-10-11T01:49:00",
          "2024-10-11T01:54:00",
          "2024-10-11T01:59:00",
          "2024-10-11T02:04:00",
          "2024-10-11T02:09:00",
          "2024-10-11T02:14:00",
          "2024-10-11T02:19:00",
          "2024-10-11T02:24:00",
          "2024-10-11T02:29:00",
          "2024-10-11T02:34:00",
          "2024-10-11T02:39:00",
          "2024-10-11T02:44:00",
          "2024-10-11T02:49:00",
          "2024-10-11T02:54:00",
          "2024-10-11T02:59:00",
          "2024-10-11T03:04:00",
          "2024-10-11T03:09:00",
          "2024-10-11T03:14:00",
          "2024-10-11T03:19:00",
          "2024-10-11T03:24:00",
          "2024-10-11T03:29:00",
          "2024-10-11T03:34:00",
          "2024-10-11T03:39:00",
          "2024-10-11T03:44:00",
          "2024-10-11T03:49:00",
          "2024-10-11T03:54:00",
          "2024-10-11T03:59:00",
          "2024-10-11T04:04:00",
          "2024-10-11T04:09:00",
          "2024-10-11T04:14:00",
          "2024-10-11T04:19:00",
          "2024-10-11T04:24:00",
          "2024-10-11T04:29:00",
          "2024-10-11T04:34:00",
          "2024-10-11T04:39:00",
          "2024-10-11T04:44:00",
          "2024-10-11T04:49:00",
          "2024-10-11T04:54:00",
          "2024-10-11T04:59:00",
          "2024-10-11T05:04:00",
          "2024-10-11T05:09:00",
          "2024-10-11T05:14:00",
          "2024-10-11T05:19:00",
          "2024-10-11T05:24:00",
          "2024-10-11T05:29:00",
          "2024-10-11T05:34:00",
          "2024-10-11T05:39:00",
          "2024-10-11T05:44:00",
          "2024-10-11T05:49:00",
          "2024-10-11T05:54:00",
          "2024-10-11T05:59:00",
          "2024-10-11T06:04:00",
          "2024-10-11T06:09:00",
          "2024-10-11T06:14:00",
          "2024-10-11T06:19:00",
          "2024-10-11T06:24:00",
          "2024-10-11T06:29:00",
          "2024-10-11T06:34:00",
          "2024-10-11T06:39:00",
          "2024-10-11T06:44:00",
          "2024-10-11T06:49:00",
          "2024-10-11T06:54:00",
          "2024-10-11T06:59:00",
          "2024-10-11T07:04:00",
          "2024-10-11T07:09:00",
          "2024-10-11T07:14:00",
          "2024-10-11T07:19:00",
          "2024-10-11T07:24:00",
          "2024-10-11T07:29:00",
          "2024-10-11T07:34:00",
          "2024-10-11T07:39:00",
          "2024-10-11T07:44:00",
          "2024-10-11T07:49:00",
          "2024-10-11T07:54:00",
          "2024-10-11T07:59:00",
          "2024-10-11T08:04:00",
          "2024-10-11T08:09:00",
          "2024-10-11T08:14:00",
          "2024-10-11T08:19:00",
          "2024-10-11T08:24:00",
          "2024-10-11T08:29:00",
          "2024-10-11T08:34:00",
          "2024-10-11T08:39:00",
          "2024-10-11T08:44:00",
          "2024-10-11T08:49:00",
          "2024-10-11T08:54:00",
          "2024-10-11T08:59:00",
          "2024-10-11T09:04:00",
          "2024-10-11T09:09:00",
          "2024-10-11T09:14:00",
          "2024-10-11T09:19:00",
          "2024-10-11T09:24:00",
          "2024-10-11T09:29:00",
          "2024-10-11T09:34:00",
          "2024-10-11T09:39:00",
          "2024-10-11T09:44:00",
          "2024-10-11T09:49:00",
          "2024-10-11T09:54:00",
          "2024-10-11T09:59:00",
          "2024-10-11T10:04:00",
          "2024-10-11T10:09:00",
          "2024-10-11T10:14:00",
          "2024-10-11T10:19:00",
          "2024-10-11T10:24:00",
          "2024-10-11T10:29:00",
          "2024-10-11T10:34:00",
          "2024-10-11T10:39:00",
          "2024-10-11T10:44:00",
          "2024-10-11T10:49:00",
          "2024-10-11T10:54:00",
          "2024-10-11T10:59:00",
          "2024-10-11T11:04:00",
          "2024-10-11T11:09:00",
          "2024-10-11T11:14:00",
          "2024-10-11T11:19:00",
          "2024-10-11T11:24:00",
          "2024-10-11T11:29:00",
          "2024-10-11T11:34:00",
          "2024-10-11T11:39:00",
          "2024-10-11T11:44:00",
          "2024-10-11T11:49:00",
          "2024-10-11T11:54:00",
          "2024-10-11T11:59:00",
          "2024-10-11T12:04:00",
          "2024-10-11T12:09:00",
          "2024-10-11T12:14:00",
          "2024-10-11T12:19:00",
          "2024-10-11T12:24:00",
          "2024-10-11T12:29:00",
          "2024-10-11T12:34:00",
          "2024-10-11T12:39:00",
          "2024-10-11T12:44:00",
          "2024-10-11T12:49:00",
          "2024-10-11T12:54:00",
          "2024-10-11T12:59:00",
          "2024-10-11T13:04:00",
          "2024-10-11T13:09:00",
          "2024-10-11T13:14:00",
          "2024-10-11T13:19:00",
          "2024-10-11T13:24:00",
          "2024-10-11T13:29:00",
          "2024-10-11T13:34:00",
          "2024-10-11T13:39:00",
          "2024-10-11T13:44:00",
          "2024-10-11T13:49:00",
          "2024-10-11T13:54:00",
          "2024-10-11T13:59:00",
          "2024-10-11T14:04:00",
          "2024-10-11T14:09:00",
          "2024-10-11T14:14:00",
          "2024-10-11T14:19:00",
          "2024-10-11T14:24:00",
          "2024-10-11T14:29:00",
          "2024-10-11T14:34:00",
          "2024-10-11T14:39:00",
          "2024-10-11T14:44:00",
          "2024-10-11T14:49:00",
          "2024-10-11T14:54:00",
          "2024-10-11T14:59:00",
          "2024-10-11T15:04:00",
          "2024-10-11T15:09:00",
          "2024-10-11T15:14:00",
          "2024-10-11T15:19:00",
          "2024-10-11T15:24:00"
         ],
         "xaxis": "x",
         "y": [
          61,
          61,
          59,
          60,
          59,
          59,
          59,
          58,
          59,
          61,
          61,
          60,
          59,
          60,
          60,
          60,
          61,
          61,
          61,
          62,
          61,
          61,
          61,
          61,
          62,
          63,
          63,
          63,
          64,
          63,
          65,
          65,
          65,
          66,
          66,
          66,
          67,
          67,
          67,
          66,
          65,
          65,
          65,
          64,
          65,
          64,
          64,
          64,
          64,
          64,
          64,
          64,
          64,
          64,
          64,
          65,
          65,
          65,
          67,
          67,
          66,
          68,
          69,
          69,
          70,
          71,
          72,
          71,
          70,
          70,
          70,
          70,
          70,
          70,
          70,
          71,
          70,
          68,
          66,
          65,
          64,
          63,
          63,
          63,
          63,
          64,
          63,
          64,
          65,
          66,
          68,
          67,
          68,
          70,
          73,
          74,
          75,
          75,
          74,
          76,
          76,
          73,
          70,
          67,
          65,
          64,
          62,
          59,
          57,
          56,
          55,
          54,
          53,
          52,
          51,
          50,
          49,
          49,
          48,
          48,
          48,
          47,
          46,
          46,
          44,
          45,
          43,
          43,
          42,
          42,
          42,
          42,
          41,
          41,
          40,
          40,
          39,
          39,
          39,
          39,
          39,
          39,
          39,
          39,
          39,
          39,
          38,
          39,
          38,
          37,
          37,
          37,
          36,
          36,
          37,
          36,
          36,
          35,
          35,
          35,
          35,
          34,
          34,
          34,
          34,
          33,
          34,
          32,
          32,
          32,
          32,
          32,
          31,
          31,
          31,
          31,
          31,
          30,
          30,
          31,
          29,
          29,
          29,
          30,
          30
         ],
         "yaxis": "y"
        }
       ],
       "layout": {
        "autosize": true,
        "legend": {
         "tracegroupgap": 0
        },
        "margin": {
         "t": 60
        },
        "template": {
         "data": {
          "bar": [
           {
            "error_x": {
             "color": "#2a3f5f"
            },
            "error_y": {
             "color": "#2a3f5f"
            },
            "marker": {
             "line": {
              "color": "#E5ECF6",
              "width": 0.5
             },
             "pattern": {
              "fillmode": "overlay",
              "size": 10,
              "solidity": 0.2
             }
            },
            "type": "bar"
           }
          ],
          "barpolar": [
           {
            "marker": {
             "line": {
              "color": "#E5ECF6",
              "width": 0.5
             },
             "pattern": {
              "fillmode": "overlay",
              "size": 10,
              "solidity": 0.2
             }
            },
            "type": "barpolar"
           }
          ],
          "carpet": [
           {
            "aaxis": {
             "endlinecolor": "#2a3f5f",
             "gridcolor": "white",
             "linecolor": "white",
             "minorgridcolor": "white",
             "startlinecolor": "#2a3f5f"
            },
            "baxis": {
             "endlinecolor": "#2a3f5f",
             "gridcolor": "white",
             "linecolor": "white",
             "minorgridcolor": "white",
             "startlinecolor": "#2a3f5f"
            },
            "type": "carpet"
           }
          ],
          "choropleth": [
           {
            "colorbar": {
             "outlinewidth": 0,
             "ticks": ""
            },
            "type": "choropleth"
           }
          ],
          "contour": [
           {
            "colorbar": {
             "outlinewidth": 0,
             "ticks": ""
            },
            "colorscale": [
             [
              0,
              "#0d0887"
             ],
             [
              0.1111111111111111,
              "#46039f"
             ],
             [
              0.2222222222222222,
              "#7201a8"
             ],
             [
              0.3333333333333333,
              "#9c179e"
             ],
             [
              0.4444444444444444,
              "#bd3786"
             ],
             [
              0.5555555555555556,
              "#d8576b"
             ],
             [
              0.6666666666666666,
              "#ed7953"
             ],
             [
              0.7777777777777778,
              "#fb9f3a"
             ],
             [
              0.8888888888888888,
              "#fdca26"
             ],
             [
              1,
              "#f0f921"
             ]
            ],
            "type": "contour"
           }
          ],
          "contourcarpet": [
           {
            "colorbar": {
             "outlinewidth": 0,
             "ticks": ""
            },
            "type": "contourcarpet"
           }
          ],
          "heatmap": [
           {
            "colorbar": {
             "outlinewidth": 0,
             "ticks": ""
            },
            "colorscale": [
             [
              0,
              "#0d0887"
             ],
             [
              0.1111111111111111,
              "#46039f"
             ],
             [
              0.2222222222222222,
              "#7201a8"
             ],
             [
              0.3333333333333333,
              "#9c179e"
             ],
             [
              0.4444444444444444,
              "#bd3786"
             ],
             [
              0.5555555555555556,
              "#d8576b"
             ],
             [
              0.6666666666666666,
              "#ed7953"
             ],
             [
              0.7777777777777778,
              "#fb9f3a"
             ],
             [
              0.8888888888888888,
              "#fdca26"
             ],
             [
              1,
              "#f0f921"
             ]
            ],
            "type": "heatmap"
           }
          ],
          "heatmapgl": [
           {
            "colorbar": {
             "outlinewidth": 0,
             "ticks": ""
            },
            "colorscale": [
             [
              0,
              "#0d0887"
             ],
             [
              0.1111111111111111,
              "#46039f"
             ],
             [
              0.2222222222222222,
              "#7201a8"
             ],
             [
              0.3333333333333333,
              "#9c179e"
             ],
             [
              0.4444444444444444,
              "#bd3786"
             ],
             [
              0.5555555555555556,
              "#d8576b"
             ],
             [
              0.6666666666666666,
              "#ed7953"
             ],
             [
              0.7777777777777778,
              "#fb9f3a"
             ],
             [
              0.8888888888888888,
              "#fdca26"
             ],
             [
              1,
              "#f0f921"
             ]
            ],
            "type": "heatmapgl"
           }
          ],
          "histogram": [
           {
            "marker": {
             "pattern": {
              "fillmode": "overlay",
              "size": 10,
              "solidity": 0.2
             }
            },
            "type": "histogram"
           }
          ],
          "histogram2d": [
           {
            "colorbar": {
             "outlinewidth": 0,
             "ticks": ""
            },
            "colorscale": [
             [
              0,
              "#0d0887"
             ],
             [
              0.1111111111111111,
              "#46039f"
             ],
             [
              0.2222222222222222,
              "#7201a8"
             ],
             [
              0.3333333333333333,
              "#9c179e"
             ],
             [
              0.4444444444444444,
              "#bd3786"
             ],
             [
              0.5555555555555556,
              "#d8576b"
             ],
             [
              0.6666666666666666,
              "#ed7953"
             ],
             [
              0.7777777777777778,
              "#fb9f3a"
             ],
             [
              0.8888888888888888,
              "#fdca26"
             ],
             [
              1,
              "#f0f921"
             ]
            ],
            "type": "histogram2d"
           }
          ],
          "histogram2dcontour": [
           {
            "colorbar": {
             "outlinewidth": 0,
             "ticks": ""
            },
            "colorscale": [
             [
              0,
              "#0d0887"
             ],
             [
              0.1111111111111111,
              "#46039f"
             ],
             [
              0.2222222222222222,
              "#7201a8"
             ],
             [
              0.3333333333333333,
              "#9c179e"
             ],
             [
              0.4444444444444444,
              "#bd3786"
             ],
             [
              0.5555555555555556,
              "#d8576b"
             ],
             [
              0.6666666666666666,
              "#ed7953"
             ],
             [
              0.7777777777777778,
              "#fb9f3a"
             ],
             [
              0.8888888888888888,
              "#fdca26"
             ],
             [
              1,
              "#f0f921"
             ]
            ],
            "type": "histogram2dcontour"
           }
          ],
          "mesh3d": [
           {
            "colorbar": {
             "outlinewidth": 0,
             "ticks": ""
            },
            "type": "mesh3d"
           }
          ],
          "parcoords": [
           {
            "line": {
             "colorbar": {
              "outlinewidth": 0,
              "ticks": ""
             }
            },
            "type": "parcoords"
           }
          ],
          "pie": [
           {
            "automargin": true,
            "type": "pie"
           }
          ],
          "scatter": [
           {
            "fillpattern": {
             "fillmode": "overlay",
             "size": 10,
             "solidity": 0.2
            },
            "type": "scatter"
           }
          ],
          "scatter3d": [
           {
            "line": {
             "colorbar": {
              "outlinewidth": 0,
              "ticks": ""
             }
            },
            "marker": {
             "colorbar": {
              "outlinewidth": 0,
              "ticks": ""
             }
            },
            "type": "scatter3d"
           }
          ],
          "scattercarpet": [
           {
            "marker": {
             "colorbar": {
              "outlinewidth": 0,
              "ticks": ""
             }
            },
            "type": "scattercarpet"
           }
          ],
          "scattergeo": [
           {
            "marker": {
             "colorbar": {
              "outlinewidth": 0,
              "ticks": ""
             }
            },
            "type": "scattergeo"
           }
          ],
          "scattergl": [
           {
            "marker": {
             "colorbar": {
              "outlinewidth": 0,
              "ticks": ""
             }
            },
            "type": "scattergl"
           }
          ],
          "scattermapbox": [
           {
            "marker": {
             "colorbar": {
              "outlinewidth": 0,
              "ticks": ""
             }
            },
            "type": "scattermapbox"
           }
          ],
          "scatterpolar": [
           {
            "marker": {
             "colorbar": {
              "outlinewidth": 0,
              "ticks": ""
             }
            },
            "type": "scatterpolar"
           }
          ],
          "scatterpolargl": [
           {
            "marker": {
             "colorbar": {
              "outlinewidth": 0,
              "ticks": ""
             }
            },
            "type": "scatterpolargl"
           }
          ],
          "scatterternary": [
           {
            "marker": {
             "colorbar": {
              "outlinewidth": 0,
              "ticks": ""
             }
            },
            "type": "scatterternary"
           }
          ],
          "surface": [
           {
            "colorbar": {
             "outlinewidth": 0,
             "ticks": ""
            },
            "colorscale": [
             [
              0,
              "#0d0887"
             ],
             [
              0.1111111111111111,
              "#46039f"
             ],
             [
              0.2222222222222222,
              "#7201a8"
             ],
             [
              0.3333333333333333,
              "#9c179e"
             ],
             [
              0.4444444444444444,
              "#bd3786"
             ],
             [
              0.5555555555555556,
              "#d8576b"
             ],
             [
              0.6666666666666666,
              "#ed7953"
             ],
             [
              0.7777777777777778,
              "#fb9f3a"
             ],
             [
              0.8888888888888888,
              "#fdca26"
             ],
             [
              1,
              "#f0f921"
             ]
            ],
            "type": "surface"
           }
          ],
          "table": [
           {
            "cells": {
             "fill": {
              "color": "#EBF0F8"
             },
             "line": {
              "color": "white"
             }
            },
            "header": {
             "fill": {
              "color": "#C8D4E3"
             },
             "line": {
              "color": "white"
             }
            },
            "type": "table"
           }
          ]
         },
         "layout": {
          "annotationdefaults": {
           "arrowcolor": "#2a3f5f",
           "arrowhead": 0,
           "arrowwidth": 1
          },
          "autotypenumbers": "strict",
          "coloraxis": {
           "colorbar": {
            "outlinewidth": 0,
            "ticks": ""
           }
          },
          "colorscale": {
           "diverging": [
            [
             0,
             "#8e0152"
            ],
            [
             0.1,
             "#c51b7d"
            ],
            [
             0.2,
             "#de77ae"
            ],
            [
             0.3,
             "#f1b6da"
            ],
            [
             0.4,
             "#fde0ef"
            ],
            [
             0.5,
             "#f7f7f7"
            ],
            [
             0.6,
             "#e6f5d0"
            ],
            [
             0.7,
             "#b8e186"
            ],
            [
             0.8,
             "#7fbc41"
            ],
            [
             0.9,
             "#4d9221"
            ],
            [
             1,
             "#276419"
            ]
           ],
           "sequential": [
            [
             0,
             "#0d0887"
            ],
            [
             0.1111111111111111,
             "#46039f"
            ],
            [
             0.2222222222222222,
             "#7201a8"
            ],
            [
             0.3333333333333333,
             "#9c179e"
            ],
            [
             0.4444444444444444,
             "#bd3786"
            ],
            [
             0.5555555555555556,
             "#d8576b"
            ],
            [
             0.6666666666666666,
             "#ed7953"
            ],
            [
             0.7777777777777778,
             "#fb9f3a"
            ],
            [
             0.8888888888888888,
             "#fdca26"
            ],
            [
             1,
             "#f0f921"
            ]
           ],
           "sequentialminus": [
            [
             0,
             "#0d0887"
            ],
            [
             0.1111111111111111,
             "#46039f"
            ],
            [
             0.2222222222222222,
             "#7201a8"
            ],
            [
             0.3333333333333333,
             "#9c179e"
            ],
            [
             0.4444444444444444,
             "#bd3786"
            ],
            [
             0.5555555555555556,
             "#d8576b"
            ],
            [
             0.6666666666666666,
             "#ed7953"
            ],
            [
             0.7777777777777778,
             "#fb9f3a"
            ],
            [
             0.8888888888888888,
             "#fdca26"
            ],
            [
             1,
             "#f0f921"
            ]
           ]
          },
          "colorway": [
           "#636efa",
           "#EF553B",
           "#00cc96",
           "#ab63fa",
           "#FFA15A",
           "#19d3f3",
           "#FF6692",
           "#B6E880",
           "#FF97FF",
           "#FECB52"
          ],
          "font": {
           "color": "#2a3f5f"
          },
          "geo": {
           "bgcolor": "white",
           "lakecolor": "white",
           "landcolor": "#E5ECF6",
           "showlakes": true,
           "showland": true,
           "subunitcolor": "white"
          },
          "hoverlabel": {
           "align": "left"
          },
          "hovermode": "closest",
          "mapbox": {
           "style": "light"
          },
          "paper_bgcolor": "white",
          "plot_bgcolor": "#E5ECF6",
          "polar": {
           "angularaxis": {
            "gridcolor": "white",
            "linecolor": "white",
            "ticks": ""
           },
           "bgcolor": "#E5ECF6",
           "radialaxis": {
            "gridcolor": "white",
            "linecolor": "white",
            "ticks": ""
           }
          },
          "scene": {
           "xaxis": {
            "backgroundcolor": "#E5ECF6",
            "gridcolor": "white",
            "gridwidth": 2,
            "linecolor": "white",
            "showbackground": true,
            "ticks": "",
            "zerolinecolor": "white"
           },
           "yaxis": {
            "backgroundcolor": "#E5ECF6",
            "gridcolor": "white",
            "gridwidth": 2,
            "linecolor": "white",
            "showbackground": true,
            "ticks": "",
            "zerolinecolor": "white"
           },
           "zaxis": {
            "backgroundcolor": "#E5ECF6",
            "gridcolor": "white",
            "gridwidth": 2,
            "linecolor": "white",
            "showbackground": true,
            "ticks": "",
            "zerolinecolor": "white"
           }
          },
          "shapedefaults": {
           "line": {
            "color": "#2a3f5f"
           }
          },
          "ternary": {
           "aaxis": {
            "gridcolor": "white",
            "linecolor": "white",
            "ticks": ""
           },
           "baxis": {
            "gridcolor": "white",
            "linecolor": "white",
            "ticks": ""
           },
           "bgcolor": "#E5ECF6",
           "caxis": {
            "gridcolor": "white",
            "linecolor": "white",
            "ticks": ""
           }
          },
          "title": {
           "x": 0.05
          },
          "xaxis": {
           "automargin": true,
           "gridcolor": "white",
           "linecolor": "white",
           "ticks": "",
           "title": {
            "standoff": 15
           },
           "zerolinecolor": "white",
           "zerolinewidth": 2
          },
          "yaxis": {
           "automargin": true,
           "gridcolor": "white",
           "linecolor": "white",
           "ticks": "",
           "title": {
            "standoff": 15
           },
           "zerolinecolor": "white",
           "zerolinewidth": 2
          }
         }
        },
        "xaxis": {
         "anchor": "y",
         "autorange": true,
         "domain": [
          0,
          1
         ],
         "range": [
          "2024-10-11 00:04",
          "2024-10-11 15:24"
         ],
         "title": {
          "text": "Timestamp"
         },
         "type": "date"
        },
        "yaxis": {
         "anchor": "x",
         "autorange": true,
         "domain": [
          0,
          1
         ],
         "range": [
          26.38888888888889,
          78.61111111111111
         ],
         "title": {
          "text": "Humidity"
         },
         "type": "linear"
        }
       }
      },
      "image/png": "[encoded data removed]",
      "text/html": [
       "<div>                            <div id=\"3dc7791b-b8b0-44b8-9703-dcf9474eedbd\" class=\"plotly-graph-div\" style=\"height:525px; width:100%;\"></div>            <script type=\"text/javascript\">                require([\"plotly\"], function(Plotly) {                    window.PLOTLYENV=window.PLOTLYENV || {};                                    if (document.getElementById(\"3dc7791b-b8b0-44b8-9703-dcf9474eedbd\")) {                    Plotly.newPlot(                        \"3dc7791b-b8b0-44b8-9703-dcf9474eedbd\",                        [{\"hovertemplate\":\"Timestamp=%{x}\\u003cbr\\u003eHumidity=%{y}\\u003cextra\\u003e\\u003c\\u002fextra\\u003e\",\"legendgroup\":\"\",\"line\":{\"color\":\"#636efa\",\"dash\":\"solid\"},\"marker\":{\"symbol\":\"circle\"},\"mode\":\"lines\",\"name\":\"\",\"orientation\":\"v\",\"showlegend\":false,\"x\":[\"2024-10-11T00:04:00\",\"2024-10-11T00:09:00\",\"2024-10-11T00:14:00\",\"2024-10-11T00:19:00\",\"2024-10-11T00:24:00\",\"2024-10-11T00:29:00\",\"2024-10-11T00:34:00\",\"2024-10-11T00:39:00\",\"2024-10-11T00:44:00\",\"2024-10-11T00:49:00\",\"2024-10-11T00:54:00\",\"2024-10-11T00:59:00\",\"2024-10-11T01:04:00\",\"2024-10-11T01:09:00\",\"2024-10-11T01:14:00\",\"2024-10-11T01:19:00\",\"2024-10-11T01:24:00\",\"2024-10-11T01:29:00\",\"2024-10-11T01:34:00\",\"2024-10-11T01:39:00\",\"2024-10-11T01:44:00\",\"2024-10-11T01:49:00\",\"2024-10-11T01:54:00\",\"2024-10-11T01:59:00\",\"2024-10-11T02:04:00\",\"2024-10-11T02:09:00\",\"2024-10-11T02:14:00\",\"2024-10-11T02:19:00\",\"2024-10-11T02:24:00\",\"2024-10-11T02:29:00\",\"2024-10-11T02:34:00\",\"2024-10-11T02:39:00\",\"2024-10-11T02:44:00\",\"2024-10-11T02:49:00\",\"2024-10-11T02:54:00\",\"2024-10-11T02:59:00\",\"2024-10-11T03:04:00\",\"2024-10-11T03:09:00\",\"2024-10-11T03:14:00\",\"2024-10-11T03:19:00\",\"2024-10-11T03:24:00\",\"2024-10-11T03:29:00\",\"2024-10-11T03:34:00\",\"2024-10-11T03:39:00\",\"2024-10-11T03:44:00\",\"2024-10-11T03:49:00\",\"2024-10-11T03:54:00\",\"2024-10-11T03:59:00\",\"2024-10-11T04:04:00\",\"2024-10-11T04:09:00\",\"2024-10-11T04:14:00\",\"2024-10-11T04:19:00\",\"2024-10-11T04:24:00\",\"2024-10-11T04:29:00\",\"2024-10-11T04:34:00\",\"2024-10-11T04:39:00\",\"2024-10-11T04:44:00\",\"2024-10-11T04:49:00\",\"2024-10-11T04:54:00\",\"2024-10-11T04:59:00\",\"2024-10-11T05:04:00\",\"2024-10-11T05:09:00\",\"2024-10-11T05:14:00\",\"2024-10-11T05:19:00\",\"2024-10-11T05:24:00\",\"2024-10-11T05:29:00\",\"2024-10-11T05:34:00\",\"2024-10-11T05:39:00\",\"2024-10-11T05:44:00\",\"2024-10-11T05:49:00\",\"2024-10-11T05:54:00\",\"2024-10-11T05:59:00\",\"2024-10-11T06:04:00\",\"2024-10-11T06:09:00\",\"2024-10-11T06:14:00\",\"2024-10-11T06:19:00\",\"2024-10-11T06:24:00\",\"2024-10-11T06:29:00\",\"2024-10-11T06:34:00\",\"2024-10-11T06:39:00\",\"2024-10-11T06:44:00\",\"2024-10-11T06:49:00\",\"2024-10-11T06:54:00\",\"2024-10-11T06:59:00\",\"2024-10-11T07:04:00\",\"2024-10-11T07:09:00\",\"2024-10-11T07:14:00\",\"2024-10-11T07:19:00\",\"2024-10-11T07:24:00\",\"2024-10-11T07:29:00\",\"2024-10-11T07:34:00\",\"2024-10-11T07:39:00\",\"2024-10-11T07:44:00\",\"2024-10-11T07:49:00\",\"2024-10-11T07:54:00\",\"2024-10-11T07:59:00\",\"2024-10-11T08:04:00\",\"2024-10-11T08:09:00\",\"2024-10-11T08:14:00\",\"2024-10-11T08:19:00\",\"2024-10-11T08:24:00\",\"2024-10-11T08:29:00\",\"2024-10-11T08:34:00\",\"2024-10-11T08:39:00\",\"2024-10-11T08:44:00\",\"2024-10-11T08:49:00\",\"2024-10-11T08:54:00\",\"2024-10-11T08:59:00\",\"2024-10-11T09:04:00\",\"2024-10-11T09:09:00\",\"2024-10-11T09:14:00\",\"2024-10-11T09:19:00\",\"2024-10-11T09:24:00\",\"2024-10-11T09:29:00\",\"2024-10-11T09:34:00\",\"2024-10-11T09:39:00\",\"2024-10-11T09:44:00\",\"2024-10-11T09:49:00\",\"2024-10-11T09:54:00\",\"2024-10-11T09:59:00\",\"2024-10-11T10:04:00\",\"2024-10-11T10:09:00\",\"2024-10-11T10:14:00\",\"2024-10-11T10:19:00\",\"2024-10-11T10:24:00\",\"2024-10-11T10:29:00\",\"2024-10-11T10:34:00\",\"2024-10-11T10:39:00\",\"2024-10-11T10:44:00\",\"2024-10-11T10:49:00\",\"2024-10-11T10:54:00\",\"2024-10-11T10:59:00\",\"2024-10-11T11:04:00\",\"2024-10-11T11:09:00\",\"2024-10-11T11:14:00\",\"2024-10-11T11:19:00\",\"2024-10-11T11:24:00\",\"2024-10-11T11:29:00\",\"2024-10-11T11:34:00\",\"2024-10-11T11:39:00\",\"2024-10-11T11:44:00\",\"2024-10-11T11:49:00\",\"2024-10-11T11:54:00\",\"2024-10-11T11:59:00\",\"2024-10-11T12:04:00\",\"2024-10-11T12:09:00\",\"2024-10-11T12:14:00\",\"2024-10-11T12:19:00\",\"2024-10-11T12:24:00\",\"2024-10-11T12:29:00\",\"2024-10-11T12:34:00\",\"2024-10-11T12:39:00\",\"2024-10-11T12:44:00\",\"2024-10-11T12:49:00\",\"2024-10-11T12:54:00\",\"2024-10-11T12:59:00\",\"2024-10-11T13:04:00\",\"2024-10-11T13:09:00\",\"2024-10-11T13:14:00\",\"2024-10-11T13:19:00\",\"2024-10-11T13:24:00\",\"2024-10-11T13:29:00\",\"2024-10-11T13:34:00\",\"2024-10-11T13:39:00\",\"2024-10-11T13:44:00\",\"2024-10-11T13:49:00\",\"2024-10-11T13:54:00\",\"2024-10-11T13:59:00\",\"2024-10-11T14:04:00\",\"2024-10-11T14:09:00\",\"2024-10-11T14:14:00\",\"2024-10-11T14:19:00\",\"2024-10-11T14:24:00\",\"2024-10-11T14:29:00\",\"2024-10-11T14:34:00\",\"2024-10-11T14:39:00\",\"2024-10-11T14:44:00\",\"2024-10-11T14:49:00\",\"2024-10-11T14:54:00\",\"2024-10-11T14:59:00\",\"2024-10-11T15:04:00\",\"2024-10-11T15:09:00\",\"2024-10-11T15:14:00\",\"2024-10-11T15:19:00\",\"2024-10-11T15:24:00\"],\"xaxis\":\"x\",\"y\":[61.0,61.0,59.0,60.0,59.0,59.0,59.0,58.0,59.0,61.0,61.0,60.0,59.0,60.0,60.0,60.0,61.0,61.0,61.0,62.0,61.0,61.0,61.0,61.0,62.0,63.0,63.0,63.0,64.0,63.0,65.0,65.0,65.0,66.0,66.0,66.0,67.0,67.0,67.0,66.0,65.0,65.0,65.0,64.0,65.0,64.0,64.0,64.0,64.0,64.0,64.0,64.0,64.0,64.0,64.0,65.0,65.0,65.0,67.0,67.0,66.0,68.0,69.0,69.0,70.0,71.0,72.0,71.0,70.0,70.0,70.0,70.0,70.0,70.0,70.0,71.0,70.0,68.0,66.0,65.0,64.0,63.0,63.0,63.0,63.0,64.0,63.0,64.0,65.0,66.0,68.0,67.0,68.0,70.0,73.0,74.0,75.0,75.0,74.0,76.0,76.0,73.0,70.0,67.0,65.0,64.0,62.0,59.0,57.0,56.0,55.0,54.0,53.0,52.0,51.0,50.0,49.0,49.0,48.0,48.0,48.0,47.0,46.0,46.0,44.0,45.0,43.0,43.0,42.0,42.0,42.0,42.0,41.0,41.0,40.0,40.0,39.0,39.0,39.0,39.0,39.0,39.0,39.0,39.0,39.0,39.0,38.0,39.0,38.0,37.0,37.0,37.0,36.0,36.0,37.0,36.0,36.0,35.0,35.0,35.0,35.0,34.0,34.0,34.0,34.0,33.0,34.0,32.0,32.0,32.0,32.0,32.0,31.0,31.0,31.0,31.0,31.0,30.0,30.0,31.0,29.0,29.0,29.0,30.0,30.0],\"yaxis\":\"y\",\"type\":\"scatter\"}],                        {\"template\":{\"data\":{\"histogram2dcontour\":[{\"type\":\"histogram2dcontour\",\"colorbar\":{\"outlinewidth\":0,\"ticks\":\"\"},\"colorscale\":[[0.0,\"#0d0887\"],[0.1111111111111111,\"#46039f\"],[0.2222222222222222,\"#7201a8\"],[0.3333333333333333,\"#9c179e\"],[0.4444444444444444,\"#bd3786\"],[0.5555555555555556,\"#d8576b\"],[0.6666666666666666,\"#ed7953\"],[0.7777777777777778,\"#fb9f3a\"],[0.8888888888888888,\"#fdca26\"],[1.0,\"#f0f921\"]]}],\"choropleth\":[{\"type\":\"choropleth\",\"colorbar\":{\"outlinewidth\":0,\"ticks\":\"\"}}],\"histogram2d\":[{\"type\":\"histogram2d\",\"colorbar\":{\"outlinewidth\":0,\"ticks\":\"\"},\"colorscale\":[[0.0,\"#0d0887\"],[0.1111111111111111,\"#46039f\"],[0.2222222222222222,\"#7201a8\"],[0.3333333333333333,\"#9c179e\"],[0.4444444444444444,\"#bd3786\"],[0.5555555555555556,\"#d8576b\"],[0.6666666666666666,\"#ed7953\"],[0.7777777777777778,\"#fb9f3a\"],[0.8888888888888888,\"#fdca26\"],[1.0,\"#f0f921\"]]}],\"heatmap\":[{\"type\":\"heatmap\",\"colorbar\":{\"outlinewidth\":0,\"ticks\":\"\"},\"colorscale\":[[0.0,\"#0d0887\"],[0.1111111111111111,\"#46039f\"],[0.2222222222222222,\"#7201a8\"],[0.3333333333333333,\"#9c179e\"],[0.4444444444444444,\"#bd3786\"],[0.5555555555555556,\"#d8576b\"],[0.6666666666666666,\"#ed7953\"],[0.7777777777777778,\"#fb9f3a\"],[0.8888888888888888,\"#fdca26\"],[1.0,\"#f0f921\"]]}],\"heatmapgl\":[{\"type\":\"heatmapgl\",\"colorbar\":{\"outlinewidth\":0,\"ticks\":\"\"},\"colorscale\":[[0.0,\"#0d0887\"],[0.1111111111111111,\"#46039f\"],[0.2222222222222222,\"#7201a8\"],[0.3333333333333333,\"#9c179e\"],[0.4444444444444444,\"#bd3786\"],[0.5555555555555556,\"#d8576b\"],[0.6666666666666666,\"#ed7953\"],[0.7777777777777778,\"#fb9f3a\"],[0.8888888888888888,\"#fdca26\"],[1.0,\"#f0f921\"]]}],\"contourcarpet\":[{\"type\":\"contourcarpet\",\"colorbar\":{\"outlinewidth\":0,\"ticks\":\"\"}}],\"contour\":[{\"type\":\"contour\",\"colorbar\":{\"outlinewidth\":0,\"ticks\":\"\"},\"colorscale\":[[0.0,\"#0d0887\"],[0.1111111111111111,\"#46039f\"],[0.2222222222222222,\"#7201a8\"],[0.3333333333333333,\"#9c179e\"],[0.4444444444444444,\"#bd3786\"],[0.5555555555555556,\"#d8576b\"],[0.6666666666666666,\"#ed7953\"],[0.7777777777777778,\"#fb9f3a\"],[0.8888888888888888,\"#fdca26\"],[1.0,\"#f0f921\"]]}],\"surface\":[{\"type\":\"surface\",\"colorbar\":{\"outlinewidth\":0,\"ticks\":\"\"},\"colorscale\":[[0.0,\"#0d0887\"],[0.1111111111111111,\"#46039f\"],[0.2222222222222222,\"#7201a8\"],[0.3333333333333333,\"#9c179e\"],[0.4444444444444444,\"#bd3786\"],[0.5555555555555556,\"#d8576b\"],[0.6666666666666666,\"#ed7953\"],[0.7777777777777778,\"#fb9f3a\"],[0.8888888888888888,\"#fdca26\"],[1.0,\"#f0f921\"]]}],\"mesh3d\":[{\"type\":\"mesh3d\",\"colorbar\":{\"outlinewidth\":0,\"ticks\":\"\"}}],\"scatter\":[{\"fillpattern\":{\"fillmode\":\"overlay\",\"size\":10,\"solidity\":0.2},\"type\":\"scatter\"}],\"parcoords\":[{\"type\":\"parcoords\",\"line\":{\"colorbar\":{\"outlinewidth\":0,\"ticks\":\"\"}}}],\"scatterpolargl\":[{\"type\":\"scatterpolargl\",\"marker\":{\"colorbar\":{\"outlinewidth\":0,\"ticks\":\"\"}}}],\"bar\":[{\"error_x\":{\"color\":\"#2a3f5f\"},\"error_y\":{\"color\":\"#2a3f5f\"},\"marker\":{\"line\":{\"color\":\"#E5ECF6\",\"width\":0.5},\"pattern\":{\"fillmode\":\"overlay\",\"size\":10,\"solidity\":0.2}},\"type\":\"bar\"}],\"scattergeo\":[{\"type\":\"scattergeo\",\"marker\":{\"colorbar\":{\"outlinewidth\":0,\"ticks\":\"\"}}}],\"scatterpolar\":[{\"type\":\"scatterpolar\",\"marker\":{\"colorbar\":{\"outlinewidth\":0,\"ticks\":\"\"}}}],\"histogram\":[{\"marker\":{\"pattern\":{\"fillmode\":\"overlay\",\"size\":10,\"solidity\":0.2}},\"type\":\"histogram\"}],\"scattergl\":[{\"type\":\"scattergl\",\"marker\":{\"colorbar\":{\"outlinewidth\":0,\"ticks\":\"\"}}}],\"scatter3d\":[{\"type\":\"scatter3d\",\"line\":{\"colorbar\":{\"outlinewidth\":0,\"ticks\":\"\"}},\"marker\":{\"colorbar\":{\"outlinewidth\":0,\"ticks\":\"\"}}}],\"scattermapbox\":[{\"type\":\"scattermapbox\",\"marker\":{\"colorbar\":{\"outlinewidth\":0,\"ticks\":\"\"}}}],\"scatterternary\":[{\"type\":\"scatterternary\",\"marker\":{\"colorbar\":{\"outlinewidth\":0,\"ticks\":\"\"}}}],\"scattercarpet\":[{\"type\":\"scattercarpet\",\"marker\":{\"colorbar\":{\"outlinewidth\":0,\"ticks\":\"\"}}}],\"carpet\":[{\"aaxis\":{\"endlinecolor\":\"#2a3f5f\",\"gridcolor\":\"white\",\"linecolor\":\"white\",\"minorgridcolor\":\"white\",\"startlinecolor\":\"#2a3f5f\"},\"baxis\":{\"endlinecolor\":\"#2a3f5f\",\"gridcolor\":\"white\",\"linecolor\":\"white\",\"minorgridcolor\":\"white\",\"startlinecolor\":\"#2a3f5f\"},\"type\":\"carpet\"}],\"table\":[{\"cells\":{\"fill\":{\"color\":\"#EBF0F8\"},\"line\":{\"color\":\"white\"}},\"header\":{\"fill\":{\"color\":\"#C8D4E3\"},\"line\":{\"color\":\"white\"}},\"type\":\"table\"}],\"barpolar\":[{\"marker\":{\"line\":{\"color\":\"#E5ECF6\",\"width\":0.5},\"pattern\":{\"fillmode\":\"overlay\",\"size\":10,\"solidity\":0.2}},\"type\":\"barpolar\"}],\"pie\":[{\"automargin\":true,\"type\":\"pie\"}]},\"layout\":{\"autotypenumbers\":\"strict\",\"colorway\":[\"#636efa\",\"#EF553B\",\"#00cc96\",\"#ab63fa\",\"#FFA15A\",\"#19d3f3\",\"#FF6692\",\"#B6E880\",\"#FF97FF\",\"#FECB52\"],\"font\":{\"color\":\"#2a3f5f\"},\"hovermode\":\"closest\",\"hoverlabel\":{\"align\":\"left\"},\"paper_bgcolor\":\"white\",\"plot_bgcolor\":\"#E5ECF6\",\"polar\":{\"bgcolor\":\"#E5ECF6\",\"angularaxis\":{\"gridcolor\":\"white\",\"linecolor\":\"white\",\"ticks\":\"\"},\"radialaxis\":{\"gridcolor\":\"white\",\"linecolor\":\"white\",\"ticks\":\"\"}},\"ternary\":{\"bgcolor\":\"#E5ECF6\",\"aaxis\":{\"gridcolor\":\"white\",\"linecolor\":\"white\",\"ticks\":\"\"},\"baxis\":{\"gridcolor\":\"white\",\"linecolor\":\"white\",\"ticks\":\"\"},\"caxis\":{\"gridcolor\":\"white\",\"linecolor\":\"white\",\"ticks\":\"\"}},\"coloraxis\":{\"colorbar\":{\"outlinewidth\":0,\"ticks\":\"\"}},\"colorscale\":{\"sequential\":[[0.0,\"#0d0887\"],[0.1111111111111111,\"#46039f\"],[0.2222222222222222,\"#7201a8\"],[0.3333333333333333,\"#9c179e\"],[0.4444444444444444,\"#bd3786\"],[0.5555555555555556,\"#d8576b\"],[0.6666666666666666,\"#ed7953\"],[0.7777777777777778,\"#fb9f3a\"],[0.8888888888888888,\"#fdca26\"],[1.0,\"#f0f921\"]],\"sequentialminus\":[[0.0,\"#0d0887\"],[0.1111111111111111,\"#46039f\"],[0.2222222222222222,\"#7201a8\"],[0.3333333333333333,\"#9c179e\"],[0.4444444444444444,\"#bd3786\"],[0.5555555555555556,\"#d8576b\"],[0.6666666666666666,\"#ed7953\"],[0.7777777777777778,\"#fb9f3a\"],[0.8888888888888888,\"#fdca26\"],[1.0,\"#f0f921\"]],\"diverging\":[[0,\"#8e0152\"],[0.1,\"#c51b7d\"],[0.2,\"#de77ae\"],[0.3,\"#f1b6da\"],[0.4,\"#fde0ef\"],[0.5,\"#f7f7f7\"],[0.6,\"#e6f5d0\"],[0.7,\"#b8e186\"],[0.8,\"#7fbc41\"],[0.9,\"#4d9221\"],[1,\"#276419\"]]},\"xaxis\":{\"gridcolor\":\"white\",\"linecolor\":\"white\",\"ticks\":\"\",\"title\":{\"standoff\":15},\"zerolinecolor\":\"white\",\"automargin\":true,\"zerolinewidth\":2},\"yaxis\":{\"gridcolor\":\"white\",\"linecolor\":\"white\",\"ticks\":\"\",\"title\":{\"standoff\":15},\"zerolinecolor\":\"white\",\"automargin\":true,\"zerolinewidth\":2},\"scene\":{\"xaxis\":{\"backgroundcolor\":\"#E5ECF6\",\"gridcolor\":\"white\",\"linecolor\":\"white\",\"showbackground\":true,\"ticks\":\"\",\"zerolinecolor\":\"white\",\"gridwidth\":2},\"yaxis\":{\"backgroundcolor\":\"#E5ECF6\",\"gridcolor\":\"white\",\"linecolor\":\"white\",\"showbackground\":true,\"ticks\":\"\",\"zerolinecolor\":\"white\",\"gridwidth\":2},\"zaxis\":{\"backgroundcolor\":\"#E5ECF6\",\"gridcolor\":\"white\",\"linecolor\":\"white\",\"showbackground\":true,\"ticks\":\"\",\"zerolinecolor\":\"white\",\"gridwidth\":2}},\"shapedefaults\":{\"line\":{\"color\":\"#2a3f5f\"}},\"annotationdefaults\":{\"arrowcolor\":\"#2a3f5f\",\"arrowhead\":0,\"arrowwidth\":1},\"geo\":{\"bgcolor\":\"white\",\"landcolor\":\"#E5ECF6\",\"subunitcolor\":\"white\",\"showland\":true,\"showlakes\":true,\"lakecolor\":\"white\"},\"title\":{\"x\":0.05},\"mapbox\":{\"style\":\"light\"}}},\"xaxis\":{\"anchor\":\"y\",\"domain\":[0.0,1.0],\"title\":{\"text\":\"Timestamp\"}},\"yaxis\":{\"anchor\":\"x\",\"domain\":[0.0,1.0],\"title\":{\"text\":\"Humidity\"}},\"legend\":{\"tracegroupgap\":0},\"margin\":{\"t\":60}},                        {\"responsive\": true}                    ).then(function(){\n",
       "                            \n",
       "var gd = document.getElementById('3dc7791b-b8b0-44b8-9703-dcf9474eedbd');\n",
       "var x = new MutationObserver(function (mutations, observer) {{\n",
       "        var display = window.getComputedStyle(gd).display;\n",
       "        if (!display || display === 'none') {{\n",
       "            console.log([gd, 'removed!']);\n",
       "            Plotly.purge(gd);\n",
       "            observer.disconnect();\n",
       "        }}\n",
       "}});\n",
       "\n",
       "// Listen for the removal of the full notebook cells\n",
       "var notebookContainer = gd.closest('#notebook-container');\n",
       "if (notebookContainer) {{\n",
       "    x.observe(notebookContainer, {childList: true});\n",
       "}}\n",
       "\n",
       "// Listen for the clearing of the current output cell\n",
       "var outputEl = gd.closest('.output');\n",
       "if (outputEl) {{\n",
       "    x.observe(outputEl, {childList: true});\n",
       "}}\n",
       "\n",
       "                        })                };                });            </script>        </div>"
      ]
     },
     "metadata": {},
     "output_type": "display_data"
    },
    {
     "data": {
      "application/vnd.plotly.v1+json": {
       "config": {
        "plotlyServerURL": "https://plot.ly"
       },
       "data": [
        {
         "hovertemplate": "Timestamp=%{x}<br>Wind Speed=%{y}<extra></extra>",
         "legendgroup": "",
         "line": {
          "color": "#636efa",
          "dash": "solid"
         },
         "marker": {
          "symbol": "circle"
         },
         "mode": "lines",
         "name": "",
         "orientation": "v",
         "showlegend": false,
         "type": "scatter",
         "x": [
          "2024-10-11T00:04:00",
          "2024-10-11T00:09:00",
          "2024-10-11T00:14:00",
          "2024-10-11T00:19:00",
          "2024-10-11T00:24:00",
          "2024-10-11T00:29:00",
          "2024-10-11T00:34:00",
          "2024-10-11T00:39:00",
          "2024-10-11T00:44:00",
          "2024-10-11T00:49:00",
          "2024-10-11T00:54:00",
          "2024-10-11T00:59:00",
          "2024-10-11T01:04:00",
          "2024-10-11T01:09:00",
          "2024-10-11T01:14:00",
          "2024-10-11T01:19:00",
          "2024-10-11T01:24:00",
          "2024-10-11T01:29:00",
          "2024-10-11T01:34:00",
          "2024-10-11T01:39:00",
          "2024-10-11T01:44:00",
          "2024-10-11T01:49:00",
          "2024-10-11T01:54:00",
          "2024-10-11T01:59:00",
          "2024-10-11T02:04:00",
          "2024-10-11T02:09:00",
          "2024-10-11T02:14:00",
          "2024-10-11T02:19:00",
          "2024-10-11T02:24:00",
          "2024-10-11T02:29:00",
          "2024-10-11T02:34:00",
          "2024-10-11T02:39:00",
          "2024-10-11T02:44:00",
          "2024-10-11T02:49:00",
          "2024-10-11T02:54:00",
          "2024-10-11T02:59:00",
          "2024-10-11T03:04:00",
          "2024-10-11T03:09:00",
          "2024-10-11T03:14:00",
          "2024-10-11T03:19:00",
          "2024-10-11T03:24:00",
          "2024-10-11T03:29:00",
          "2024-10-11T03:34:00",
          "2024-10-11T03:39:00",
          "2024-10-11T03:44:00",
          "2024-10-11T03:49:00",
          "2024-10-11T03:54:00",
          "2024-10-11T03:59:00",
          "2024-10-11T04:04:00",
          "2024-10-11T04:09:00",
          "2024-10-11T04:14:00",
          "2024-10-11T04:19:00",
          "2024-10-11T04:24:00",
          "2024-10-11T04:29:00",
          "2024-10-11T04:34:00",
          "2024-10-11T04:39:00",
          "2024-10-11T04:44:00",
          "2024-10-11T04:49:00",
          "2024-10-11T04:54:00",
          "2024-10-11T04:59:00",
          "2024-10-11T05:04:00",
          "2024-10-11T05:09:00",
          "2024-10-11T05:14:00",
          "2024-10-11T05:19:00",
          "2024-10-11T05:24:00",
          "2024-10-11T05:29:00",
          "2024-10-11T05:34:00",
          "2024-10-11T05:39:00",
          "2024-10-11T05:44:00",
          "2024-10-11T05:49:00",
          "2024-10-11T05:54:00",
          "2024-10-11T05:59:00",
          "2024-10-11T06:04:00",
          "2024-10-11T06:09:00",
          "2024-10-11T06:14:00",
          "2024-10-11T06:19:00",
          "2024-10-11T06:24:00",
          "2024-10-11T06:29:00",
          "2024-10-11T06:34:00",
          "2024-10-11T06:39:00",
          "2024-10-11T06:44:00",
          "2024-10-11T06:49:00",
          "2024-10-11T06:54:00",
          "2024-10-11T06:59:00",
          "2024-10-11T07:04:00",
          "2024-10-11T07:09:00",
          "2024-10-11T07:14:00",
          "2024-10-11T07:19:00",
          "2024-10-11T07:24:00",
          "2024-10-11T07:29:00",
          "2024-10-11T07:34:00",
          "2024-10-11T07:39:00",
          "2024-10-11T07:44:00",
          "2024-10-11T07:49:00",
          "2024-10-11T07:54:00",
          "2024-10-11T07:59:00",
          "2024-10-11T08:04:00",
          "2024-10-11T08:09:00",
          "2024-10-11T08:14:00",
          "2024-10-11T08:19:00",
          "2024-10-11T08:24:00",
          "2024-10-11T08:29:00",
          "2024-10-11T08:34:00",
          "2024-10-11T08:39:00",
          "2024-10-11T08:44:00",
          "2024-10-11T08:49:00",
          "2024-10-11T08:54:00",
          "2024-10-11T08:59:00",
          "2024-10-11T09:04:00",
          "2024-10-11T09:09:00",
          "2024-10-11T09:14:00",
          "2024-10-11T09:19:00",
          "2024-10-11T09:24:00",
          "2024-10-11T09:29:00",
          "2024-10-11T09:34:00",
          "2024-10-11T09:39:00",
          "2024-10-11T09:44:00",
          "2024-10-11T09:49:00",
          "2024-10-11T09:54:00",
          "2024-10-11T09:59:00",
          "2024-10-11T10:04:00",
          "2024-10-11T10:09:00",
          "2024-10-11T10:14:00",
          "2024-10-11T10:19:00",
          "2024-10-11T10:24:00",
          "2024-10-11T10:29:00",
          "2024-10-11T10:34:00",
          "2024-10-11T10:39:00",
          "2024-10-11T10:44:00",
          "2024-10-11T10:49:00",
          "2024-10-11T10:54:00",
          "2024-10-11T10:59:00",
          "2024-10-11T11:04:00",
          "2024-10-11T11:09:00",
          "2024-10-11T11:14:00",
          "2024-10-11T11:19:00",
          "2024-10-11T11:24:00",
          "2024-10-11T11:29:00",
          "2024-10-11T11:34:00",
          "2024-10-11T11:39:00",
          "2024-10-11T11:44:00",
          "2024-10-11T11:49:00",
          "2024-10-11T11:54:00",
          "2024-10-11T11:59:00",
          "2024-10-11T12:04:00",
          "2024-10-11T12:09:00",
          "2024-10-11T12:14:00",
          "2024-10-11T12:19:00",
          "2024-10-11T12:24:00",
          "2024-10-11T12:29:00",
          "2024-10-11T12:34:00",
          "2024-10-11T12:39:00",
          "2024-10-11T12:44:00",
          "2024-10-11T12:49:00",
          "2024-10-11T12:54:00",
          "2024-10-11T12:59:00",
          "2024-10-11T13:04:00",
          "2024-10-11T13:09:00",
          "2024-10-11T13:14:00",
          "2024-10-11T13:19:00",
          "2024-10-11T13:24:00",
          "2024-10-11T13:29:00",
          "2024-10-11T13:34:00",
          "2024-10-11T13:39:00",
          "2024-10-11T13:44:00",
          "2024-10-11T13:49:00",
          "2024-10-11T13:54:00",
          "2024-10-11T13:59:00",
          "2024-10-11T14:04:00",
          "2024-10-11T14:09:00",
          "2024-10-11T14:14:00",
          "2024-10-11T14:19:00",
          "2024-10-11T14:24:00",
          "2024-10-11T14:29:00",
          "2024-10-11T14:34:00",
          "2024-10-11T14:39:00",
          "2024-10-11T14:44:00",
          "2024-10-11T14:49:00",
          "2024-10-11T14:54:00",
          "2024-10-11T14:59:00",
          "2024-10-11T15:04:00",
          "2024-10-11T15:09:00",
          "2024-10-11T15:14:00",
          "2024-10-11T15:19:00",
          "2024-10-11T15:24:00"
         ],
         "xaxis": "x",
         "y": [
          0,
          0,
          0,
          0,
          0,
          0,
          0.1,
          0.1,
          0,
          0,
          0.7,
          0,
          0,
          0,
          0,
          0,
          0,
          0,
          0,
          0,
          0.1,
          0.1,
          0,
          0,
          0,
          0,
          0.6,
          0.3,
          0,
          0.1,
          0,
          0,
          0,
          0,
          0,
          0.1,
          0,
          0,
          0,
          0.1,
          0.2,
          0.4,
          0.2,
          0.1,
          0,
          0,
          0,
          0,
          0,
          0,
          0.4,
          1.3,
          0.4,
          0.2,
          0.3,
          0.4,
          0.6,
          0,
          0,
          0.1,
          0,
          0,
          0,
          0,
          0,
          0,
          0,
          0.1,
          0.2,
          0.1,
          0,
          0,
          0,
          0,
          0,
          0,
          0,
          0.1,
          0.1,
          0,
          0,
          0,
          0,
          0,
          0,
          0.1,
          0,
          0,
          0,
          0,
          0,
          0,
          0,
          0,
          0,
          0,
          0,
          0,
          0,
          0,
          0,
          0,
          0,
          0,
          0,
          0,
          0,
          0.5,
          0,
          0,
          0,
          0.1,
          0,
          0,
          0.1,
          0.1,
          0.4,
          2.1,
          2.1,
          1.9,
          1.8,
          2.1,
          1.8,
          0.5,
          1.8,
          0.7,
          2.5,
          1.4,
          3.5,
          1.5,
          2.7,
          1.6,
          2.7,
          1.6,
          1.2,
          3,
          3.9,
          2.6,
          2,
          2.7,
          2.9,
          2.1,
          2.2,
          2,
          1.7,
          2.2,
          2.6,
          2.6,
          2.2,
          2.7,
          2,
          1.2,
          1.7,
          2.9,
          1.2,
          1.4,
          0.2,
          2.1,
          1.8,
          0.8,
          2.3,
          0.7,
          1.4,
          2.6,
          1.7,
          2.3,
          2.1,
          3,
          2.1,
          2,
          1.7,
          1.3,
          1.7,
          1.5,
          1.5,
          1.3,
          0.1,
          0,
          0.1,
          0.2,
          2.1,
          2.9,
          2.5,
          1,
          1.4
         ],
         "yaxis": "y"
        },
        {
         "hovertemplate": "Timestamp=%{x}<br>Wind Gust=%{y}<extra></extra>",
         "legendgroup": "",
         "marker": {
          "color": "#636efa",
          "symbol": "circle"
         },
         "mode": "markers",
         "name": "",
         "orientation": "v",
         "showlegend": false,
         "type": "scatter",
         "x": [
          "2024-10-11T00:04:00",
          "2024-10-11T00:09:00",
          "2024-10-11T00:14:00",
          "2024-10-11T00:19:00",
          "2024-10-11T00:24:00",
          "2024-10-11T00:29:00",
          "2024-10-11T00:34:00",
          "2024-10-11T00:39:00",
          "2024-10-11T00:44:00",
          "2024-10-11T00:49:00",
          "2024-10-11T00:54:00",
          "2024-10-11T00:59:00",
          "2024-10-11T01:04:00",
          "2024-10-11T01:09:00",
          "2024-10-11T01:14:00",
          "2024-10-11T01:19:00",
          "2024-10-11T01:24:00",
          "2024-10-11T01:29:00",
          "2024-10-11T01:34:00",
          "2024-10-11T01:39:00",
          "2024-10-11T01:44:00",
          "2024-10-11T01:49:00",
          "2024-10-11T01:54:00",
          "2024-10-11T01:59:00",
          "2024-10-11T02:04:00",
          "2024-10-11T02:09:00",
          "2024-10-11T02:14:00",
          "2024-10-11T02:19:00",
          "2024-10-11T02:24:00",
          "2024-10-11T02:29:00",
          "2024-10-11T02:34:00",
          "2024-10-11T02:39:00",
          "2024-10-11T02:44:00",
          "2024-10-11T02:49:00",
          "2024-10-11T02:54:00",
          "2024-10-11T02:59:00",
          "2024-10-11T03:04:00",
          "2024-10-11T03:09:00",
          "2024-10-11T03:14:00",
          "2024-10-11T03:19:00",
          "2024-10-11T03:24:00",
          "2024-10-11T03:29:00",
          "2024-10-11T03:34:00",
          "2024-10-11T03:39:00",
          "2024-10-11T03:44:00",
          "2024-10-11T03:49:00",
          "2024-10-11T03:54:00",
          "2024-10-11T03:59:00",
          "2024-10-11T04:04:00",
          "2024-10-11T04:09:00",
          "2024-10-11T04:14:00",
          "2024-10-11T04:19:00",
          "2024-10-11T04:24:00",
          "2024-10-11T04:29:00",
          "2024-10-11T04:34:00",
          "2024-10-11T04:39:00",
          "2024-10-11T04:44:00",
          "2024-10-11T04:49:00",
          "2024-10-11T04:54:00",
          "2024-10-11T04:59:00",
          "2024-10-11T05:04:00",
          "2024-10-11T05:09:00",
          "2024-10-11T05:14:00",
          "2024-10-11T05:19:00",
          "2024-10-11T05:24:00",
          "2024-10-11T05:29:00",
          "2024-10-11T05:34:00",
          "2024-10-11T05:39:00",
          "2024-10-11T05:44:00",
          "2024-10-11T05:49:00",
          "2024-10-11T05:54:00",
          "2024-10-11T05:59:00",
          "2024-10-11T06:04:00",
          "2024-10-11T06:09:00",
          "2024-10-11T06:14:00",
          "2024-10-11T06:19:00",
          "2024-10-11T06:24:00",
          "2024-10-11T06:29:00",
          "2024-10-11T06:34:00",
          "2024-10-11T06:39:00",
          "2024-10-11T06:44:00",
          "2024-10-11T06:49:00",
          "2024-10-11T06:54:00",
          "2024-10-11T06:59:00",
          "2024-10-11T07:04:00",
          "2024-10-11T07:09:00",
          "2024-10-11T07:14:00",
          "2024-10-11T07:19:00",
          "2024-10-11T07:24:00",
          "2024-10-11T07:29:00",
          "2024-10-11T07:34:00",
          "2024-10-11T07:39:00",
          "2024-10-11T07:44:00",
          "2024-10-11T07:49:00",
          "2024-10-11T07:54:00",
          "2024-10-11T07:59:00",
          "2024-10-11T08:04:00",
          "2024-10-11T08:09:00",
          "2024-10-11T08:14:00",
          "2024-10-11T08:19:00",
          "2024-10-11T08:24:00",
          "2024-10-11T08:29:00",
          "2024-10-11T08:34:00",
          "2024-10-11T08:39:00",
          "2024-10-11T08:44:00",
          "2024-10-11T08:49:00",
          "2024-10-11T08:54:00",
          "2024-10-11T08:59:00",
          "2024-10-11T09:04:00",
          "2024-10-11T09:09:00",
          "2024-10-11T09:14:00",
          "2024-10-11T09:19:00",
          "2024-10-11T09:24:00",
          "2024-10-11T09:29:00",
          "2024-10-11T09:34:00",
          "2024-10-11T09:39:00",
          "2024-10-11T09:44:00",
          "2024-10-11T09:49:00",
          "2024-10-11T09:54:00",
          "2024-10-11T09:59:00",
          "2024-10-11T10:04:00",
          "2024-10-11T10:09:00",
          "2024-10-11T10:14:00",
          "2024-10-11T10:19:00",
          "2024-10-11T10:24:00",
          "2024-10-11T10:29:00",
          "2024-10-11T10:34:00",
          "2024-10-11T10:39:00",
          "2024-10-11T10:44:00",
          "2024-10-11T10:49:00",
          "2024-10-11T10:54:00",
          "2024-10-11T10:59:00",
          "2024-10-11T11:04:00",
          "2024-10-11T11:09:00",
          "2024-10-11T11:14:00",
          "2024-10-11T11:19:00",
          "2024-10-11T11:24:00",
          "2024-10-11T11:29:00",
          "2024-10-11T11:34:00",
          "2024-10-11T11:39:00",
          "2024-10-11T11:44:00",
          "2024-10-11T11:49:00",
          "2024-10-11T11:54:00",
          "2024-10-11T11:59:00",
          "2024-10-11T12:04:00",
          "2024-10-11T12:09:00",
          "2024-10-11T12:14:00",
          "2024-10-11T12:19:00",
          "2024-10-11T12:24:00",
          "2024-10-11T12:29:00",
          "2024-10-11T12:34:00",
          "2024-10-11T12:39:00",
          "2024-10-11T12:44:00",
          "2024-10-11T12:49:00",
          "2024-10-11T12:54:00",
          "2024-10-11T12:59:00",
          "2024-10-11T13:04:00",
          "2024-10-11T13:09:00",
          "2024-10-11T13:14:00",
          "2024-10-11T13:19:00",
          "2024-10-11T13:24:00",
          "2024-10-11T13:29:00",
          "2024-10-11T13:34:00",
          "2024-10-11T13:39:00",
          "2024-10-11T13:44:00",
          "2024-10-11T13:49:00",
          "2024-10-11T13:54:00",
          "2024-10-11T13:59:00",
          "2024-10-11T14:04:00",
          "2024-10-11T14:09:00",
          "2024-10-11T14:14:00",
          "2024-10-11T14:19:00",
          "2024-10-11T14:24:00",
          "2024-10-11T14:29:00",
          "2024-10-11T14:34:00",
          "2024-10-11T14:39:00",
          "2024-10-11T14:44:00",
          "2024-10-11T14:49:00",
          "2024-10-11T14:54:00",
          "2024-10-11T14:59:00",
          "2024-10-11T15:04:00",
          "2024-10-11T15:09:00",
          "2024-10-11T15:14:00",
          "2024-10-11T15:19:00",
          "2024-10-11T15:24:00"
         ],
         "xaxis": "x",
         "y": [
          0,
          0,
          0,
          0,
          0,
          0.1,
          0.5,
          0.6,
          0,
          0.1,
          1.2,
          0,
          0,
          0,
          0,
          0,
          0,
          0,
          0,
          0,
          0.3,
          0.1,
          0.1,
          0,
          0,
          0,
          1.1,
          0.8,
          0.1,
          0.3,
          0,
          0,
          0,
          0,
          0,
          0.1,
          0,
          0,
          0,
          0.5,
          0.6,
          1.1,
          0.5,
          0.4,
          0,
          0,
          0,
          0,
          0,
          0,
          0.8,
          2,
          0.6,
          0.7,
          0.6,
          0.6,
          1.2,
          0.3,
          0,
          0.3,
          0,
          0,
          0,
          0,
          0,
          0,
          0,
          0.3,
          0.4,
          0.5,
          0,
          0,
          0,
          0,
          0,
          0,
          0,
          0.3,
          0.3,
          0,
          0,
          0,
          0,
          0,
          0,
          0.5,
          0,
          0,
          0,
          0,
          0,
          0,
          0,
          0,
          0,
          0,
          0,
          0,
          0,
          0,
          0,
          0,
          0,
          0,
          0,
          0,
          0,
          1.1,
          0.3,
          0.3,
          0.4,
          0.5,
          0,
          0.1,
          0.6,
          0.5,
          1.4,
          3.6,
          2.8,
          3.1,
          2.5,
          2.9,
          3.1,
          1.3,
          2.6,
          1.6,
          3.8,
          2.8,
          4.7,
          2.3,
          3.7,
          3.3,
          4,
          2.4,
          3.1,
          4.5,
          5.1,
          4,
          3.1,
          4,
          4.6,
          3.4,
          3.4,
          3.7,
          3.1,
          3.4,
          3.5,
          3.4,
          3.6,
          4,
          3,
          1.8,
          3.1,
          4.2,
          1.8,
          2.2,
          0.9,
          3.1,
          2.8,
          1.6,
          3.1,
          1.7,
          2.1,
          3.4,
          2.4,
          3.1,
          2.9,
          4.6,
          3.4,
          3,
          2.2,
          1.7,
          2.4,
          2.4,
          2.5,
          2.2,
          0.4,
          0,
          0.6,
          1,
          3.1,
          3.7,
          3.3,
          1.8,
          2
         ],
         "yaxis": "y"
        }
       ],
       "layout": {
        "autosize": true,
        "template": {
         "data": {
          "bar": [
           {
            "error_x": {
             "color": "#2a3f5f"
            },
            "error_y": {
             "color": "#2a3f5f"
            },
            "marker": {
             "line": {
              "color": "#E5ECF6",
              "width": 0.5
             },
             "pattern": {
              "fillmode": "overlay",
              "size": 10,
              "solidity": 0.2
             }
            },
            "type": "bar"
           }
          ],
          "barpolar": [
           {
            "marker": {
             "line": {
              "color": "#E5ECF6",
              "width": 0.5
             },
             "pattern": {
              "fillmode": "overlay",
              "size": 10,
              "solidity": 0.2
             }
            },
            "type": "barpolar"
           }
          ],
          "carpet": [
           {
            "aaxis": {
             "endlinecolor": "#2a3f5f",
             "gridcolor": "white",
             "linecolor": "white",
             "minorgridcolor": "white",
             "startlinecolor": "#2a3f5f"
            },
            "baxis": {
             "endlinecolor": "#2a3f5f",
             "gridcolor": "white",
             "linecolor": "white",
             "minorgridcolor": "white",
             "startlinecolor": "#2a3f5f"
            },
            "type": "carpet"
           }
          ],
          "choropleth": [
           {
            "colorbar": {
             "outlinewidth": 0,
             "ticks": ""
            },
            "type": "choropleth"
           }
          ],
          "contour": [
           {
            "colorbar": {
             "outlinewidth": 0,
             "ticks": ""
            },
            "colorscale": [
             [
              0,
              "#0d0887"
             ],
             [
              0.1111111111111111,
              "#46039f"
             ],
             [
              0.2222222222222222,
              "#7201a8"
             ],
             [
              0.3333333333333333,
              "#9c179e"
             ],
             [
              0.4444444444444444,
              "#bd3786"
             ],
             [
              0.5555555555555556,
              "#d8576b"
             ],
             [
              0.6666666666666666,
              "#ed7953"
             ],
             [
              0.7777777777777778,
              "#fb9f3a"
             ],
             [
              0.8888888888888888,
              "#fdca26"
             ],
             [
              1,
              "#f0f921"
             ]
            ],
            "type": "contour"
           }
          ],
          "contourcarpet": [
           {
            "colorbar": {
             "outlinewidth": 0,
             "ticks": ""
            },
            "type": "contourcarpet"
           }
          ],
          "heatmap": [
           {
            "colorbar": {
             "outlinewidth": 0,
             "ticks": ""
            },
            "colorscale": [
             [
              0,
              "#0d0887"
             ],
             [
              0.1111111111111111,
              "#46039f"
             ],
             [
              0.2222222222222222,
              "#7201a8"
             ],
             [
              0.3333333333333333,
              "#9c179e"
             ],
             [
              0.4444444444444444,
              "#bd3786"
             ],
             [
              0.5555555555555556,
              "#d8576b"
             ],
             [
              0.6666666666666666,
              "#ed7953"
             ],
             [
              0.7777777777777778,
              "#fb9f3a"
             ],
             [
              0.8888888888888888,
              "#fdca26"
             ],
             [
              1,
              "#f0f921"
             ]
            ],
            "type": "heatmap"
           }
          ],
          "heatmapgl": [
           {
            "colorbar": {
             "outlinewidth": 0,
             "ticks": ""
            },
            "colorscale": [
             [
              0,
              "#0d0887"
             ],
             [
              0.1111111111111111,
              "#46039f"
             ],
             [
              0.2222222222222222,
              "#7201a8"
             ],
             [
              0.3333333333333333,
              "#9c179e"
             ],
             [
              0.4444444444444444,
              "#bd3786"
             ],
             [
              0.5555555555555556,
              "#d8576b"
             ],
             [
              0.6666666666666666,
              "#ed7953"
             ],
             [
              0.7777777777777778,
              "#fb9f3a"
             ],
             [
              0.8888888888888888,
              "#fdca26"
             ],
             [
              1,
              "#f0f921"
             ]
            ],
            "type": "heatmapgl"
           }
          ],
          "histogram": [
           {
            "marker": {
             "pattern": {
              "fillmode": "overlay",
              "size": 10,
              "solidity": 0.2
             }
            },
            "type": "histogram"
           }
          ],
          "histogram2d": [
           {
            "colorbar": {
             "outlinewidth": 0,
             "ticks": ""
            },
            "colorscale": [
             [
              0,
              "#0d0887"
             ],
             [
              0.1111111111111111,
              "#46039f"
             ],
             [
              0.2222222222222222,
              "#7201a8"
             ],
             [
              0.3333333333333333,
              "#9c179e"
             ],
             [
              0.4444444444444444,
              "#bd3786"
             ],
             [
              0.5555555555555556,
              "#d8576b"
             ],
             [
              0.6666666666666666,
              "#ed7953"
             ],
             [
              0.7777777777777778,
              "#fb9f3a"
             ],
             [
              0.8888888888888888,
              "#fdca26"
             ],
             [
              1,
              "#f0f921"
             ]
            ],
            "type": "histogram2d"
           }
          ],
          "histogram2dcontour": [
           {
            "colorbar": {
             "outlinewidth": 0,
             "ticks": ""
            },
            "colorscale": [
             [
              0,
              "#0d0887"
             ],
             [
              0.1111111111111111,
              "#46039f"
             ],
             [
              0.2222222222222222,
              "#7201a8"
             ],
             [
              0.3333333333333333,
              "#9c179e"
             ],
             [
              0.4444444444444444,
              "#bd3786"
             ],
             [
              0.5555555555555556,
              "#d8576b"
             ],
             [
              0.6666666666666666,
              "#ed7953"
             ],
             [
              0.7777777777777778,
              "#fb9f3a"
             ],
             [
              0.8888888888888888,
              "#fdca26"
             ],
             [
              1,
              "#f0f921"
             ]
            ],
            "type": "histogram2dcontour"
           }
          ],
          "mesh3d": [
           {
            "colorbar": {
             "outlinewidth": 0,
             "ticks": ""
            },
            "type": "mesh3d"
           }
          ],
          "parcoords": [
           {
            "line": {
             "colorbar": {
              "outlinewidth": 0,
              "ticks": ""
             }
            },
            "type": "parcoords"
           }
          ],
          "pie": [
           {
            "automargin": true,
            "type": "pie"
           }
          ],
          "scatter": [
           {
            "fillpattern": {
             "fillmode": "overlay",
             "size": 10,
             "solidity": 0.2
            },
            "type": "scatter"
           }
          ],
          "scatter3d": [
           {
            "line": {
             "colorbar": {
              "outlinewidth": 0,
              "ticks": ""
             }
            },
            "marker": {
             "colorbar": {
              "outlinewidth": 0,
              "ticks": ""
             }
            },
            "type": "scatter3d"
           }
          ],
          "scattercarpet": [
           {
            "marker": {
             "colorbar": {
              "outlinewidth": 0,
              "ticks": ""
             }
            },
            "type": "scattercarpet"
           }
          ],
          "scattergeo": [
           {
            "marker": {
             "colorbar": {
              "outlinewidth": 0,
              "ticks": ""
             }
            },
            "type": "scattergeo"
           }
          ],
          "scattergl": [
           {
            "marker": {
             "colorbar": {
              "outlinewidth": 0,
              "ticks": ""
             }
            },
            "type": "scattergl"
           }
          ],
          "scattermapbox": [
           {
            "marker": {
             "colorbar": {
              "outlinewidth": 0,
              "ticks": ""
             }
            },
            "type": "scattermapbox"
           }
          ],
          "scatterpolar": [
           {
            "marker": {
             "colorbar": {
              "outlinewidth": 0,
              "ticks": ""
             }
            },
            "type": "scatterpolar"
           }
          ],
          "scatterpolargl": [
           {
            "marker": {
             "colorbar": {
              "outlinewidth": 0,
              "ticks": ""
             }
            },
            "type": "scatterpolargl"
           }
          ],
          "scatterternary": [
           {
            "marker": {
             "colorbar": {
              "outlinewidth": 0,
              "ticks": ""
             }
            },
            "type": "scatterternary"
           }
          ],
          "surface": [
           {
            "colorbar": {
             "outlinewidth": 0,
             "ticks": ""
            },
            "colorscale": [
             [
              0,
              "#0d0887"
             ],
             [
              0.1111111111111111,
              "#46039f"
             ],
             [
              0.2222222222222222,
              "#7201a8"
             ],
             [
              0.3333333333333333,
              "#9c179e"
             ],
             [
              0.4444444444444444,
              "#bd3786"
             ],
             [
              0.5555555555555556,
              "#d8576b"
             ],
             [
              0.6666666666666666,
              "#ed7953"
             ],
             [
              0.7777777777777778,
              "#fb9f3a"
             ],
             [
              0.8888888888888888,
              "#fdca26"
             ],
             [
              1,
              "#f0f921"
             ]
            ],
            "type": "surface"
           }
          ],
          "table": [
           {
            "cells": {
             "fill": {
              "color": "#EBF0F8"
             },
             "line": {
              "color": "white"
             }
            },
            "header": {
             "fill": {
              "color": "#C8D4E3"
             },
             "line": {
              "color": "white"
             }
            },
            "type": "table"
           }
          ]
         },
         "layout": {
          "annotationdefaults": {
           "arrowcolor": "#2a3f5f",
           "arrowhead": 0,
           "arrowwidth": 1
          },
          "autotypenumbers": "strict",
          "coloraxis": {
           "colorbar": {
            "outlinewidth": 0,
            "ticks": ""
           }
          },
          "colorscale": {
           "diverging": [
            [
             0,
             "#8e0152"
            ],
            [
             0.1,
             "#c51b7d"
            ],
            [
             0.2,
             "#de77ae"
            ],
            [
             0.3,
             "#f1b6da"
            ],
            [
             0.4,
             "#fde0ef"
            ],
            [
             0.5,
             "#f7f7f7"
            ],
            [
             0.6,
             "#e6f5d0"
            ],
            [
             0.7,
             "#b8e186"
            ],
            [
             0.8,
             "#7fbc41"
            ],
            [
             0.9,
             "#4d9221"
            ],
            [
             1,
             "#276419"
            ]
           ],
           "sequential": [
            [
             0,
             "#0d0887"
            ],
            [
             0.1111111111111111,
             "#46039f"
            ],
            [
             0.2222222222222222,
             "#7201a8"
            ],
            [
             0.3333333333333333,
             "#9c179e"
            ],
            [
             0.4444444444444444,
             "#bd3786"
            ],
            [
             0.5555555555555556,
             "#d8576b"
            ],
            [
             0.6666666666666666,
             "#ed7953"
            ],
            [
             0.7777777777777778,
             "#fb9f3a"
            ],
            [
             0.8888888888888888,
             "#fdca26"
            ],
            [
             1,
             "#f0f921"
            ]
           ],
           "sequentialminus": [
            [
             0,
             "#0d0887"
            ],
            [
             0.1111111111111111,
             "#46039f"
            ],
            [
             0.2222222222222222,
             "#7201a8"
            ],
            [
             0.3333333333333333,
             "#9c179e"
            ],
            [
             0.4444444444444444,
             "#bd3786"
            ],
            [
             0.5555555555555556,
             "#d8576b"
            ],
            [
             0.6666666666666666,
             "#ed7953"
            ],
            [
             0.7777777777777778,
             "#fb9f3a"
            ],
            [
             0.8888888888888888,
             "#fdca26"
            ],
            [
             1,
             "#f0f921"
            ]
           ]
          },
          "colorway": [
           "#636efa",
           "#EF553B",
           "#00cc96",
           "#ab63fa",
           "#FFA15A",
           "#19d3f3",
           "#FF6692",
           "#B6E880",
           "#FF97FF",
           "#FECB52"
          ],
          "font": {
           "color": "#2a3f5f"
          },
          "geo": {
           "bgcolor": "white",
           "lakecolor": "white",
           "landcolor": "#E5ECF6",
           "showlakes": true,
           "showland": true,
           "subunitcolor": "white"
          },
          "hoverlabel": {
           "align": "left"
          },
          "hovermode": "closest",
          "mapbox": {
           "style": "light"
          },
          "paper_bgcolor": "white",
          "plot_bgcolor": "#E5ECF6",
          "polar": {
           "angularaxis": {
            "gridcolor": "white",
            "linecolor": "white",
            "ticks": ""
           },
           "bgcolor": "#E5ECF6",
           "radialaxis": {
            "gridcolor": "white",
            "linecolor": "white",
            "ticks": ""
           }
          },
          "scene": {
           "xaxis": {
            "backgroundcolor": "#E5ECF6",
            "gridcolor": "white",
            "gridwidth": 2,
            "linecolor": "white",
            "showbackground": true,
            "ticks": "",
            "zerolinecolor": "white"
           },
           "yaxis": {
            "backgroundcolor": "#E5ECF6",
            "gridcolor": "white",
            "gridwidth": 2,
            "linecolor": "white",
            "showbackground": true,
            "ticks": "",
            "zerolinecolor": "white"
           },
           "zaxis": {
            "backgroundcolor": "#E5ECF6",
            "gridcolor": "white",
            "gridwidth": 2,
            "linecolor": "white",
            "showbackground": true,
            "ticks": "",
            "zerolinecolor": "white"
           }
          },
          "shapedefaults": {
           "line": {
            "color": "#2a3f5f"
           }
          },
          "ternary": {
           "aaxis": {
            "gridcolor": "white",
            "linecolor": "white",
            "ticks": ""
           },
           "baxis": {
            "gridcolor": "white",
            "linecolor": "white",
            "ticks": ""
           },
           "bgcolor": "#E5ECF6",
           "caxis": {
            "gridcolor": "white",
            "linecolor": "white",
            "ticks": ""
           }
          },
          "title": {
           "x": 0.05
          },
          "xaxis": {
           "automargin": true,
           "gridcolor": "white",
           "linecolor": "white",
           "ticks": "",
           "title": {
            "standoff": 15
           },
           "zerolinecolor": "white",
           "zerolinewidth": 2
          },
          "yaxis": {
           "automargin": true,
           "gridcolor": "white",
           "linecolor": "white",
           "ticks": "",
           "title": {
            "standoff": 15
           },
           "zerolinecolor": "white",
           "zerolinewidth": 2
          }
         }
        },
        "xaxis": {
         "autorange": true,
         "range": [
          "2024-10-10 23:10:35.4684",
          "2024-10-11 16:17:24.5316"
         ],
         "title": {
          "text": "Timestamp"
         },
         "type": "date"
        },
        "yaxis": {
         "autorange": true,
         "range": [
          -0.42087378640776696,
          5.520873786407766
         ],
         "title": {
          "text": "MPH"
         },
         "type": "linear"
        }
       }
      },
      "image/png": "[encoded data removed]",
      "text/html": [
       "<div>                            <div id=\"85a799ac-2002-4ffb-a236-5ba206a1a668\" class=\"plotly-graph-div\" style=\"height:525px; width:100%;\"></div>            <script type=\"text/javascript\">                require([\"plotly\"], function(Plotly) {                    window.PLOTLYENV=window.PLOTLYENV || {};                                    if (document.getElementById(\"85a799ac-2002-4ffb-a236-5ba206a1a668\")) {                    Plotly.newPlot(                        \"85a799ac-2002-4ffb-a236-5ba206a1a668\",                        [{\"hovertemplate\":\"Timestamp=%{x}\\u003cbr\\u003eWind Speed=%{y}\\u003cextra\\u003e\\u003c\\u002fextra\\u003e\",\"legendgroup\":\"\",\"line\":{\"color\":\"#636efa\",\"dash\":\"solid\"},\"marker\":{\"symbol\":\"circle\"},\"mode\":\"lines\",\"name\":\"\",\"orientation\":\"v\",\"showlegend\":false,\"x\":[\"2024-10-11T00:04:00\",\"2024-10-11T00:09:00\",\"2024-10-11T00:14:00\",\"2024-10-11T00:19:00\",\"2024-10-11T00:24:00\",\"2024-10-11T00:29:00\",\"2024-10-11T00:34:00\",\"2024-10-11T00:39:00\",\"2024-10-11T00:44:00\",\"2024-10-11T00:49:00\",\"2024-10-11T00:54:00\",\"2024-10-11T00:59:00\",\"2024-10-11T01:04:00\",\"2024-10-11T01:09:00\",\"2024-10-11T01:14:00\",\"2024-10-11T01:19:00\",\"2024-10-11T01:24:00\",\"2024-10-11T01:29:00\",\"2024-10-11T01:34:00\",\"2024-10-11T01:39:00\",\"2024-10-11T01:44:00\",\"2024-10-11T01:49:00\",\"2024-10-11T01:54:00\",\"2024-10-11T01:59:00\",\"2024-10-11T02:04:00\",\"2024-10-11T02:09:00\",\"2024-10-11T02:14:00\",\"2024-10-11T02:19:00\",\"2024-10-11T02:24:00\",\"2024-10-11T02:29:00\",\"2024-10-11T02:34:00\",\"2024-10-11T02:39:00\",\"2024-10-11T02:44:00\",\"2024-10-11T02:49:00\",\"2024-10-11T02:54:00\",\"2024-10-11T02:59:00\",\"2024-10-11T03:04:00\",\"2024-10-11T03:09:00\",\"2024-10-11T03:14:00\",\"2024-10-11T03:19:00\",\"2024-10-11T03:24:00\",\"2024-10-11T03:29:00\",\"2024-10-11T03:34:00\",\"2024-10-11T03:39:00\",\"2024-10-11T03:44:00\",\"2024-10-11T03:49:00\",\"2024-10-11T03:54:00\",\"2024-10-11T03:59:00\",\"2024-10-11T04:04:00\",\"2024-10-11T04:09:00\",\"2024-10-11T04:14:00\",\"2024-10-11T04:19:00\",\"2024-10-11T04:24:00\",\"2024-10-11T04:29:00\",\"2024-10-11T04:34:00\",\"2024-10-11T04:39:00\",\"2024-10-11T04:44:00\",\"2024-10-11T04:49:00\",\"2024-10-11T04:54:00\",\"2024-10-11T04:59:00\",\"2024-10-11T05:04:00\",\"2024-10-11T05:09:00\",\"2024-10-11T05:14:00\",\"2024-10-11T05:19:00\",\"2024-10-11T05:24:00\",\"2024-10-11T05:29:00\",\"2024-10-11T05:34:00\",\"2024-10-11T05:39:00\",\"2024-10-11T05:44:00\",\"2024-10-11T05:49:00\",\"2024-10-11T05:54:00\",\"2024-10-11T05:59:00\",\"2024-10-11T06:04:00\",\"2024-10-11T06:09:00\",\"2024-10-11T06:14:00\",\"2024-10-11T06:19:00\",\"2024-10-11T06:24:00\",\"2024-10-11T06:29:00\",\"2024-10-11T06:34:00\",\"2024-10-11T06:39:00\",\"2024-10-11T06:44:00\",\"2024-10-11T06:49:00\",\"2024-10-11T06:54:00\",\"2024-10-11T06:59:00\",\"2024-10-11T07:04:00\",\"2024-10-11T07:09:00\",\"2024-10-11T07:14:00\",\"2024-10-11T07:19:00\",\"2024-10-11T07:24:00\",\"2024-10-11T07:29:00\",\"2024-10-11T07:34:00\",\"2024-10-11T07:39:00\",\"2024-10-11T07:44:00\",\"2024-10-11T07:49:00\",\"2024-10-11T07:54:00\",\"2024-10-11T07:59:00\",\"2024-10-11T08:04:00\",\"2024-10-11T08:09:00\",\"2024-10-11T08:14:00\",\"2024-10-11T08:19:00\",\"2024-10-11T08:24:00\",\"2024-10-11T08:29:00\",\"2024-10-11T08:34:00\",\"2024-10-11T08:39:00\",\"2024-10-11T08:44:00\",\"2024-10-11T08:49:00\",\"2024-10-11T08:54:00\",\"2024-10-11T08:59:00\",\"2024-10-11T09:04:00\",\"2024-10-11T09:09:00\",\"2024-10-11T09:14:00\",\"2024-10-11T09:19:00\",\"2024-10-11T09:24:00\",\"2024-10-11T09:29:00\",\"2024-10-11T09:34:00\",\"2024-10-11T09:39:00\",\"2024-10-11T09:44:00\",\"2024-10-11T09:49:00\",\"2024-10-11T09:54:00\",\"2024-10-11T09:59:00\",\"2024-10-11T10:04:00\",\"2024-10-11T10:09:00\",\"2024-10-11T10:14:00\",\"2024-10-11T10:19:00\",\"2024-10-11T10:24:00\",\"2024-10-11T10:29:00\",\"2024-10-11T10:34:00\",\"2024-10-11T10:39:00\",\"2024-10-11T10:44:00\",\"2024-10-11T10:49:00\",\"2024-10-11T10:54:00\",\"2024-10-11T10:59:00\",\"2024-10-11T11:04:00\",\"2024-10-11T11:09:00\",\"2024-10-11T11:14:00\",\"2024-10-11T11:19:00\",\"2024-10-11T11:24:00\",\"2024-10-11T11:29:00\",\"2024-10-11T11:34:00\",\"2024-10-11T11:39:00\",\"2024-10-11T11:44:00\",\"2024-10-11T11:49:00\",\"2024-10-11T11:54:00\",\"2024-10-11T11:59:00\",\"2024-10-11T12:04:00\",\"2024-10-11T12:09:00\",\"2024-10-11T12:14:00\",\"2024-10-11T12:19:00\",\"2024-10-11T12:24:00\",\"2024-10-11T12:29:00\",\"2024-10-11T12:34:00\",\"2024-10-11T12:39:00\",\"2024-10-11T12:44:00\",\"2024-10-11T12:49:00\",\"2024-10-11T12:54:00\",\"2024-10-11T12:59:00\",\"2024-10-11T13:04:00\",\"2024-10-11T13:09:00\",\"2024-10-11T13:14:00\",\"2024-10-11T13:19:00\",\"2024-10-11T13:24:00\",\"2024-10-11T13:29:00\",\"2024-10-11T13:34:00\",\"2024-10-11T13:39:00\",\"2024-10-11T13:44:00\",\"2024-10-11T13:49:00\",\"2024-10-11T13:54:00\",\"2024-10-11T13:59:00\",\"2024-10-11T14:04:00\",\"2024-10-11T14:09:00\",\"2024-10-11T14:14:00\",\"2024-10-11T14:19:00\",\"2024-10-11T14:24:00\",\"2024-10-11T14:29:00\",\"2024-10-11T14:34:00\",\"2024-10-11T14:39:00\",\"2024-10-11T14:44:00\",\"2024-10-11T14:49:00\",\"2024-10-11T14:54:00\",\"2024-10-11T14:59:00\",\"2024-10-11T15:04:00\",\"2024-10-11T15:09:00\",\"2024-10-11T15:14:00\",\"2024-10-11T15:19:00\",\"2024-10-11T15:24:00\"],\"xaxis\":\"x\",\"y\":[0.0,0.0,0.0,0.0,0.0,0.0,0.1,0.1,0.0,0.0,0.7,0.0,0.0,0.0,0.0,0.0,0.0,0.0,0.0,0.0,0.1,0.1,0.0,0.0,0.0,0.0,0.6,0.3,0.0,0.1,0.0,0.0,0.0,0.0,0.0,0.1,0.0,0.0,0.0,0.1,0.2,0.4,0.2,0.1,0.0,0.0,0.0,0.0,0.0,0.0,0.4,1.3,0.4,0.2,0.3,0.4,0.6,0.0,0.0,0.1,0.0,0.0,0.0,0.0,0.0,0.0,0.0,0.1,0.2,0.1,0.0,0.0,0.0,0.0,0.0,0.0,0.0,0.1,0.1,0.0,0.0,0.0,0.0,0.0,0.0,0.1,0.0,0.0,0.0,0.0,0.0,0.0,0.0,0.0,0.0,0.0,0.0,0.0,0.0,0.0,0.0,0.0,0.0,0.0,0.0,0.0,0.0,0.5,0.0,0.0,0.0,0.1,0.0,0.0,0.1,0.1,0.4,2.1,2.1,1.9,1.8,2.1,1.8,0.5,1.8,0.7,2.5,1.4,3.5,1.5,2.7,1.6,2.7,1.6,1.2,3.0,3.9,2.6,2.0,2.7,2.9,2.1,2.2,2.0,1.7,2.2,2.6,2.6,2.2,2.7,2.0,1.2,1.7,2.9,1.2,1.4,0.2,2.1,1.8,0.8,2.3,0.7,1.4,2.6,1.7,2.3,2.1,3.0,2.1,2.0,1.7,1.3,1.7,1.5,1.5,1.3,0.1,0.0,0.1,0.2,2.1,2.9,2.5,1.0,1.4],\"yaxis\":\"y\",\"type\":\"scatter\"},{\"hovertemplate\":\"Timestamp=%{x}\\u003cbr\\u003eWind Gust=%{y}\\u003cextra\\u003e\\u003c\\u002fextra\\u003e\",\"legendgroup\":\"\",\"marker\":{\"color\":\"#636efa\",\"symbol\":\"circle\"},\"mode\":\"markers\",\"name\":\"\",\"orientation\":\"v\",\"showlegend\":false,\"x\":[\"2024-10-11T00:04:00\",\"2024-10-11T00:09:00\",\"2024-10-11T00:14:00\",\"2024-10-11T00:19:00\",\"2024-10-11T00:24:00\",\"2024-10-11T00:29:00\",\"2024-10-11T00:34:00\",\"2024-10-11T00:39:00\",\"2024-10-11T00:44:00\",\"2024-10-11T00:49:00\",\"2024-10-11T00:54:00\",\"2024-10-11T00:59:00\",\"2024-10-11T01:04:00\",\"2024-10-11T01:09:00\",\"2024-10-11T01:14:00\",\"2024-10-11T01:19:00\",\"2024-10-11T01:24:00\",\"2024-10-11T01:29:00\",\"2024-10-11T01:34:00\",\"2024-10-11T01:39:00\",\"2024-10-11T01:44:00\",\"2024-10-11T01:49:00\",\"2024-10-11T01:54:00\",\"2024-10-11T01:59:00\",\"2024-10-11T02:04:00\",\"2024-10-11T02:09:00\",\"2024-10-11T02:14:00\",\"2024-10-11T02:19:00\",\"2024-10-11T02:24:00\",\"2024-10-11T02:29:00\",\"2024-10-11T02:34:00\",\"2024-10-11T02:39:00\",\"2024-10-11T02:44:00\",\"2024-10-11T02:49:00\",\"2024-10-11T02:54:00\",\"2024-10-11T02:59:00\",\"2024-10-11T03:04:00\",\"2024-10-11T03:09:00\",\"2024-10-11T03:14:00\",\"2024-10-11T03:19:00\",\"2024-10-11T03:24:00\",\"2024-10-11T03:29:00\",\"2024-10-11T03:34:00\",\"2024-10-11T03:39:00\",\"2024-10-11T03:44:00\",\"2024-10-11T03:49:00\",\"2024-10-11T03:54:00\",\"2024-10-11T03:59:00\",\"2024-10-11T04:04:00\",\"2024-10-11T04:09:00\",\"2024-10-11T04:14:00\",\"2024-10-11T04:19:00\",\"2024-10-11T04:24:00\",\"2024-10-11T04:29:00\",\"2024-10-11T04:34:00\",\"2024-10-11T04:39:00\",\"2024-10-11T04:44:00\",\"2024-10-11T04:49:00\",\"2024-10-11T04:54:00\",\"2024-10-11T04:59:00\",\"2024-10-11T05:04:00\",\"2024-10-11T05:09:00\",\"2024-10-11T05:14:00\",\"2024-10-11T05:19:00\",\"2024-10-11T05:24:00\",\"2024-10-11T05:29:00\",\"2024-10-11T05:34:00\",\"2024-10-11T05:39:00\",\"2024-10-11T05:44:00\",\"2024-10-11T05:49:00\",\"2024-10-11T05:54:00\",\"2024-10-11T05:59:00\",\"2024-10-11T06:04:00\",\"2024-10-11T06:09:00\",\"2024-10-11T06:14:00\",\"2024-10-11T06:19:00\",\"2024-10-11T06:24:00\",\"2024-10-11T06:29:00\",\"2024-10-11T06:34:00\",\"2024-10-11T06:39:00\",\"2024-10-11T06:44:00\",\"2024-10-11T06:49:00\",\"2024-10-11T06:54:00\",\"2024-10-11T06:59:00\",\"2024-10-11T07:04:00\",\"2024-10-11T07:09:00\",\"2024-10-11T07:14:00\",\"2024-10-11T07:19:00\",\"2024-10-11T07:24:00\",\"2024-10-11T07:29:00\",\"2024-10-11T07:34:00\",\"2024-10-11T07:39:00\",\"2024-10-11T07:44:00\",\"2024-10-11T07:49:00\",\"2024-10-11T07:54:00\",\"2024-10-11T07:59:00\",\"2024-10-11T08:04:00\",\"2024-10-11T08:09:00\",\"2024-10-11T08:14:00\",\"2024-10-11T08:19:00\",\"2024-10-11T08:24:00\",\"2024-10-11T08:29:00\",\"2024-10-11T08:34:00\",\"2024-10-11T08:39:00\",\"2024-10-11T08:44:00\",\"2024-10-11T08:49:00\",\"2024-10-11T08:54:00\",\"2024-10-11T08:59:00\",\"2024-10-11T09:04:00\",\"2024-10-11T09:09:00\",\"2024-10-11T09:14:00\",\"2024-10-11T09:19:00\",\"2024-10-11T09:24:00\",\"2024-10-11T09:29:00\",\"2024-10-11T09:34:00\",\"2024-10-11T09:39:00\",\"2024-10-11T09:44:00\",\"2024-10-11T09:49:00\",\"2024-10-11T09:54:00\",\"2024-10-11T09:59:00\",\"2024-10-11T10:04:00\",\"2024-10-11T10:09:00\",\"2024-10-11T10:14:00\",\"2024-10-11T10:19:00\",\"2024-10-11T10:24:00\",\"2024-10-11T10:29:00\",\"2024-10-11T10:34:00\",\"2024-10-11T10:39:00\",\"2024-10-11T10:44:00\",\"2024-10-11T10:49:00\",\"2024-10-11T10:54:00\",\"2024-10-11T10:59:00\",\"2024-10-11T11:04:00\",\"2024-10-11T11:09:00\",\"2024-10-11T11:14:00\",\"2024-10-11T11:19:00\",\"2024-10-11T11:24:00\",\"2024-10-11T11:29:00\",\"2024-10-11T11:34:00\",\"2024-10-11T11:39:00\",\"2024-10-11T11:44:00\",\"2024-10-11T11:49:00\",\"2024-10-11T11:54:00\",\"2024-10-11T11:59:00\",\"2024-10-11T12:04:00\",\"2024-10-11T12:09:00\",\"2024-10-11T12:14:00\",\"2024-10-11T12:19:00\",\"2024-10-11T12:24:00\",\"2024-10-11T12:29:00\",\"2024-10-11T12:34:00\",\"2024-10-11T12:39:00\",\"2024-10-11T12:44:00\",\"2024-10-11T12:49:00\",\"2024-10-11T12:54:00\",\"2024-10-11T12:59:00\",\"2024-10-11T13:04:00\",\"2024-10-11T13:09:00\",\"2024-10-11T13:14:00\",\"2024-10-11T13:19:00\",\"2024-10-11T13:24:00\",\"2024-10-11T13:29:00\",\"2024-10-11T13:34:00\",\"2024-10-11T13:39:00\",\"2024-10-11T13:44:00\",\"2024-10-11T13:49:00\",\"2024-10-11T13:54:00\",\"2024-10-11T13:59:00\",\"2024-10-11T14:04:00\",\"2024-10-11T14:09:00\",\"2024-10-11T14:14:00\",\"2024-10-11T14:19:00\",\"2024-10-11T14:24:00\",\"2024-10-11T14:29:00\",\"2024-10-11T14:34:00\",\"2024-10-11T14:39:00\",\"2024-10-11T14:44:00\",\"2024-10-11T14:49:00\",\"2024-10-11T14:54:00\",\"2024-10-11T14:59:00\",\"2024-10-11T15:04:00\",\"2024-10-11T15:09:00\",\"2024-10-11T15:14:00\",\"2024-10-11T15:19:00\",\"2024-10-11T15:24:00\"],\"xaxis\":\"x\",\"y\":[0.0,0.0,0.0,0.0,0.0,0.1,0.5,0.6,0.0,0.1,1.2,0.0,0.0,0.0,0.0,0.0,0.0,0.0,0.0,0.0,0.3,0.1,0.1,0.0,0.0,0.0,1.1,0.8,0.1,0.3,0.0,0.0,0.0,0.0,0.0,0.1,0.0,0.0,0.0,0.5,0.6,1.1,0.5,0.4,0.0,0.0,0.0,0.0,0.0,0.0,0.8,2.0,0.6,0.7,0.6,0.6,1.2,0.3,0.0,0.3,0.0,0.0,0.0,0.0,0.0,0.0,0.0,0.3,0.4,0.5,0.0,0.0,0.0,0.0,0.0,0.0,0.0,0.3,0.3,0.0,0.0,0.0,0.0,0.0,0.0,0.5,0.0,0.0,0.0,0.0,0.0,0.0,0.0,0.0,0.0,0.0,0.0,0.0,0.0,0.0,0.0,0.0,0.0,0.0,0.0,0.0,0.0,1.1,0.3,0.3,0.4,0.5,0.0,0.1,0.6,0.5,1.4,3.6,2.8,3.1,2.5,2.9,3.1,1.3,2.6,1.6,3.8,2.8,4.7,2.3,3.7,3.3,4.0,2.4,3.1,4.5,5.1,4.0,3.1,4.0,4.6,3.4,3.4,3.7,3.1,3.4,3.5,3.4,3.6,4.0,3.0,1.8,3.1,4.2,1.8,2.2,0.9,3.1,2.8,1.6,3.1,1.7,2.1,3.4,2.4,3.1,2.9,4.6,3.4,3.0,2.2,1.7,2.4,2.4,2.5,2.2,0.4,0.0,0.6,1.0,3.1,3.7,3.3,1.8,2.0],\"yaxis\":\"y\",\"type\":\"scatter\"}],                        {\"template\":{\"data\":{\"histogram2dcontour\":[{\"type\":\"histogram2dcontour\",\"colorbar\":{\"outlinewidth\":0,\"ticks\":\"\"},\"colorscale\":[[0.0,\"#0d0887\"],[0.1111111111111111,\"#46039f\"],[0.2222222222222222,\"#7201a8\"],[0.3333333333333333,\"#9c179e\"],[0.4444444444444444,\"#bd3786\"],[0.5555555555555556,\"#d8576b\"],[0.6666666666666666,\"#ed7953\"],[0.7777777777777778,\"#fb9f3a\"],[0.8888888888888888,\"#fdca26\"],[1.0,\"#f0f921\"]]}],\"choropleth\":[{\"type\":\"choropleth\",\"colorbar\":{\"outlinewidth\":0,\"ticks\":\"\"}}],\"histogram2d\":[{\"type\":\"histogram2d\",\"colorbar\":{\"outlinewidth\":0,\"ticks\":\"\"},\"colorscale\":[[0.0,\"#0d0887\"],[0.1111111111111111,\"#46039f\"],[0.2222222222222222,\"#7201a8\"],[0.3333333333333333,\"#9c179e\"],[0.4444444444444444,\"#bd3786\"],[0.5555555555555556,\"#d8576b\"],[0.6666666666666666,\"#ed7953\"],[0.7777777777777778,\"#fb9f3a\"],[0.8888888888888888,\"#fdca26\"],[1.0,\"#f0f921\"]]}],\"heatmap\":[{\"type\":\"heatmap\",\"colorbar\":{\"outlinewidth\":0,\"ticks\":\"\"},\"colorscale\":[[0.0,\"#0d0887\"],[0.1111111111111111,\"#46039f\"],[0.2222222222222222,\"#7201a8\"],[0.3333333333333333,\"#9c179e\"],[0.4444444444444444,\"#bd3786\"],[0.5555555555555556,\"#d8576b\"],[0.6666666666666666,\"#ed7953\"],[0.7777777777777778,\"#fb9f3a\"],[0.8888888888888888,\"#fdca26\"],[1.0,\"#f0f921\"]]}],\"heatmapgl\":[{\"type\":\"heatmapgl\",\"colorbar\":{\"outlinewidth\":0,\"ticks\":\"\"},\"colorscale\":[[0.0,\"#0d0887\"],[0.1111111111111111,\"#46039f\"],[0.2222222222222222,\"#7201a8\"],[0.3333333333333333,\"#9c179e\"],[0.4444444444444444,\"#bd3786\"],[0.5555555555555556,\"#d8576b\"],[0.6666666666666666,\"#ed7953\"],[0.7777777777777778,\"#fb9f3a\"],[0.8888888888888888,\"#fdca26\"],[1.0,\"#f0f921\"]]}],\"contourcarpet\":[{\"type\":\"contourcarpet\",\"colorbar\":{\"outlinewidth\":0,\"ticks\":\"\"}}],\"contour\":[{\"type\":\"contour\",\"colorbar\":{\"outlinewidth\":0,\"ticks\":\"\"},\"colorscale\":[[0.0,\"#0d0887\"],[0.1111111111111111,\"#46039f\"],[0.2222222222222222,\"#7201a8\"],[0.3333333333333333,\"#9c179e\"],[0.4444444444444444,\"#bd3786\"],[0.5555555555555556,\"#d8576b\"],[0.6666666666666666,\"#ed7953\"],[0.7777777777777778,\"#fb9f3a\"],[0.8888888888888888,\"#fdca26\"],[1.0,\"#f0f921\"]]}],\"surface\":[{\"type\":\"surface\",\"colorbar\":{\"outlinewidth\":0,\"ticks\":\"\"},\"colorscale\":[[0.0,\"#0d0887\"],[0.1111111111111111,\"#46039f\"],[0.2222222222222222,\"#7201a8\"],[0.3333333333333333,\"#9c179e\"],[0.4444444444444444,\"#bd3786\"],[0.5555555555555556,\"#d8576b\"],[0.6666666666666666,\"#ed7953\"],[0.7777777777777778,\"#fb9f3a\"],[0.8888888888888888,\"#fdca26\"],[1.0,\"#f0f921\"]]}],\"mesh3d\":[{\"type\":\"mesh3d\",\"colorbar\":{\"outlinewidth\":0,\"ticks\":\"\"}}],\"scatter\":[{\"fillpattern\":{\"fillmode\":\"overlay\",\"size\":10,\"solidity\":0.2},\"type\":\"scatter\"}],\"parcoords\":[{\"type\":\"parcoords\",\"line\":{\"colorbar\":{\"outlinewidth\":0,\"ticks\":\"\"}}}],\"scatterpolargl\":[{\"type\":\"scatterpolargl\",\"marker\":{\"colorbar\":{\"outlinewidth\":0,\"ticks\":\"\"}}}],\"bar\":[{\"error_x\":{\"color\":\"#2a3f5f\"},\"error_y\":{\"color\":\"#2a3f5f\"},\"marker\":{\"line\":{\"color\":\"#E5ECF6\",\"width\":0.5},\"pattern\":{\"fillmode\":\"overlay\",\"size\":10,\"solidity\":0.2}},\"type\":\"bar\"}],\"scattergeo\":[{\"type\":\"scattergeo\",\"marker\":{\"colorbar\":{\"outlinewidth\":0,\"ticks\":\"\"}}}],\"scatterpolar\":[{\"type\":\"scatterpolar\",\"marker\":{\"colorbar\":{\"outlinewidth\":0,\"ticks\":\"\"}}}],\"histogram\":[{\"marker\":{\"pattern\":{\"fillmode\":\"overlay\",\"size\":10,\"solidity\":0.2}},\"type\":\"histogram\"}],\"scattergl\":[{\"type\":\"scattergl\",\"marker\":{\"colorbar\":{\"outlinewidth\":0,\"ticks\":\"\"}}}],\"scatter3d\":[{\"type\":\"scatter3d\",\"line\":{\"colorbar\":{\"outlinewidth\":0,\"ticks\":\"\"}},\"marker\":{\"colorbar\":{\"outlinewidth\":0,\"ticks\":\"\"}}}],\"scattermapbox\":[{\"type\":\"scattermapbox\",\"marker\":{\"colorbar\":{\"outlinewidth\":0,\"ticks\":\"\"}}}],\"scatterternary\":[{\"type\":\"scatterternary\",\"marker\":{\"colorbar\":{\"outlinewidth\":0,\"ticks\":\"\"}}}],\"scattercarpet\":[{\"type\":\"scattercarpet\",\"marker\":{\"colorbar\":{\"outlinewidth\":0,\"ticks\":\"\"}}}],\"carpet\":[{\"aaxis\":{\"endlinecolor\":\"#2a3f5f\",\"gridcolor\":\"white\",\"linecolor\":\"white\",\"minorgridcolor\":\"white\",\"startlinecolor\":\"#2a3f5f\"},\"baxis\":{\"endlinecolor\":\"#2a3f5f\",\"gridcolor\":\"white\",\"linecolor\":\"white\",\"minorgridcolor\":\"white\",\"startlinecolor\":\"#2a3f5f\"},\"type\":\"carpet\"}],\"table\":[{\"cells\":{\"fill\":{\"color\":\"#EBF0F8\"},\"line\":{\"color\":\"white\"}},\"header\":{\"fill\":{\"color\":\"#C8D4E3\"},\"line\":{\"color\":\"white\"}},\"type\":\"table\"}],\"barpolar\":[{\"marker\":{\"line\":{\"color\":\"#E5ECF6\",\"width\":0.5},\"pattern\":{\"fillmode\":\"overlay\",\"size\":10,\"solidity\":0.2}},\"type\":\"barpolar\"}],\"pie\":[{\"automargin\":true,\"type\":\"pie\"}]},\"layout\":{\"autotypenumbers\":\"strict\",\"colorway\":[\"#636efa\",\"#EF553B\",\"#00cc96\",\"#ab63fa\",\"#FFA15A\",\"#19d3f3\",\"#FF6692\",\"#B6E880\",\"#FF97FF\",\"#FECB52\"],\"font\":{\"color\":\"#2a3f5f\"},\"hovermode\":\"closest\",\"hoverlabel\":{\"align\":\"left\"},\"paper_bgcolor\":\"white\",\"plot_bgcolor\":\"#E5ECF6\",\"polar\":{\"bgcolor\":\"#E5ECF6\",\"angularaxis\":{\"gridcolor\":\"white\",\"linecolor\":\"white\",\"ticks\":\"\"},\"radialaxis\":{\"gridcolor\":\"white\",\"linecolor\":\"white\",\"ticks\":\"\"}},\"ternary\":{\"bgcolor\":\"#E5ECF6\",\"aaxis\":{\"gridcolor\":\"white\",\"linecolor\":\"white\",\"ticks\":\"\"},\"baxis\":{\"gridcolor\":\"white\",\"linecolor\":\"white\",\"ticks\":\"\"},\"caxis\":{\"gridcolor\":\"white\",\"linecolor\":\"white\",\"ticks\":\"\"}},\"coloraxis\":{\"colorbar\":{\"outlinewidth\":0,\"ticks\":\"\"}},\"colorscale\":{\"sequential\":[[0.0,\"#0d0887\"],[0.1111111111111111,\"#46039f\"],[0.2222222222222222,\"#7201a8\"],[0.3333333333333333,\"#9c179e\"],[0.4444444444444444,\"#bd3786\"],[0.5555555555555556,\"#d8576b\"],[0.6666666666666666,\"#ed7953\"],[0.7777777777777778,\"#fb9f3a\"],[0.8888888888888888,\"#fdca26\"],[1.0,\"#f0f921\"]],\"sequentialminus\":[[0.0,\"#0d0887\"],[0.1111111111111111,\"#46039f\"],[0.2222222222222222,\"#7201a8\"],[0.3333333333333333,\"#9c179e\"],[0.4444444444444444,\"#bd3786\"],[0.5555555555555556,\"#d8576b\"],[0.6666666666666666,\"#ed7953\"],[0.7777777777777778,\"#fb9f3a\"],[0.8888888888888888,\"#fdca26\"],[1.0,\"#f0f921\"]],\"diverging\":[[0,\"#8e0152\"],[0.1,\"#c51b7d\"],[0.2,\"#de77ae\"],[0.3,\"#f1b6da\"],[0.4,\"#fde0ef\"],[0.5,\"#f7f7f7\"],[0.6,\"#e6f5d0\"],[0.7,\"#b8e186\"],[0.8,\"#7fbc41\"],[0.9,\"#4d9221\"],[1,\"#276419\"]]},\"xaxis\":{\"gridcolor\":\"white\",\"linecolor\":\"white\",\"ticks\":\"\",\"title\":{\"standoff\":15},\"zerolinecolor\":\"white\",\"automargin\":true,\"zerolinewidth\":2},\"yaxis\":{\"gridcolor\":\"white\",\"linecolor\":\"white\",\"ticks\":\"\",\"title\":{\"standoff\":15},\"zerolinecolor\":\"white\",\"automargin\":true,\"zerolinewidth\":2},\"scene\":{\"xaxis\":{\"backgroundcolor\":\"#E5ECF6\",\"gridcolor\":\"white\",\"linecolor\":\"white\",\"showbackground\":true,\"ticks\":\"\",\"zerolinecolor\":\"white\",\"gridwidth\":2},\"yaxis\":{\"backgroundcolor\":\"#E5ECF6\",\"gridcolor\":\"white\",\"linecolor\":\"white\",\"showbackground\":true,\"ticks\":\"\",\"zerolinecolor\":\"white\",\"gridwidth\":2},\"zaxis\":{\"backgroundcolor\":\"#E5ECF6\",\"gridcolor\":\"white\",\"linecolor\":\"white\",\"showbackground\":true,\"ticks\":\"\",\"zerolinecolor\":\"white\",\"gridwidth\":2}},\"shapedefaults\":{\"line\":{\"color\":\"#2a3f5f\"}},\"annotationdefaults\":{\"arrowcolor\":\"#2a3f5f\",\"arrowhead\":0,\"arrowwidth\":1},\"geo\":{\"bgcolor\":\"white\",\"landcolor\":\"#E5ECF6\",\"subunitcolor\":\"white\",\"showland\":true,\"showlakes\":true,\"lakecolor\":\"white\"},\"title\":{\"x\":0.05},\"mapbox\":{\"style\":\"light\"}}},\"xaxis\":{\"title\":{\"text\":\"Timestamp\"}},\"yaxis\":{\"title\":{\"text\":\"MPH\"}}},                        {\"responsive\": true}                    ).then(function(){\n",
       "                            \n",
       "var gd = document.getElementById('85a799ac-2002-4ffb-a236-5ba206a1a668');\n",
       "var x = new MutationObserver(function (mutations, observer) {{\n",
       "        var display = window.getComputedStyle(gd).display;\n",
       "        if (!display || display === 'none') {{\n",
       "            console.log([gd, 'removed!']);\n",
       "            Plotly.purge(gd);\n",
       "            observer.disconnect();\n",
       "        }}\n",
       "}});\n",
       "\n",
       "// Listen for the removal of the full notebook cells\n",
       "var notebookContainer = gd.closest('#notebook-container');\n",
       "if (notebookContainer) {{\n",
       "    x.observe(notebookContainer, {childList: true});\n",
       "}}\n",
       "\n",
       "// Listen for the clearing of the current output cell\n",
       "var outputEl = gd.closest('.output');\n",
       "if (outputEl) {{\n",
       "    x.observe(outputEl, {childList: true});\n",
       "}}\n",
       "\n",
       "                        })                };                });            </script>        </div>"
      ]
     },
     "metadata": {},
     "output_type": "display_data"
    },
    {
     "data": {
      "application/vnd.plotly.v1+json": {
       "config": {
        "plotlyServerURL": "https://plot.ly"
       },
       "data": [
        {
         "hovertemplate": "Timestamp=%{x}<br>Pressure=%{y}<extra></extra>",
         "legendgroup": "",
         "line": {
          "color": "#636efa",
          "dash": "solid"
         },
         "marker": {
          "symbol": "circle"
         },
         "mode": "lines",
         "name": "",
         "orientation": "v",
         "showlegend": false,
         "type": "scatter",
         "x": [
          "2024-10-11T00:04:00",
          "2024-10-11T00:09:00",
          "2024-10-11T00:14:00",
          "2024-10-11T00:19:00",
          "2024-10-11T00:24:00",
          "2024-10-11T00:29:00",
          "2024-10-11T00:34:00",
          "2024-10-11T00:39:00",
          "2024-10-11T00:44:00",
          "2024-10-11T00:49:00",
          "2024-10-11T00:54:00",
          "2024-10-11T00:59:00",
          "2024-10-11T01:04:00",
          "2024-10-11T01:09:00",
          "2024-10-11T01:14:00",
          "2024-10-11T01:19:00",
          "2024-10-11T01:24:00",
          "2024-10-11T01:29:00",
          "2024-10-11T01:34:00",
          "2024-10-11T01:39:00",
          "2024-10-11T01:44:00",
          "2024-10-11T01:49:00",
          "2024-10-11T01:54:00",
          "2024-10-11T01:59:00",
          "2024-10-11T02:04:00",
          "2024-10-11T02:09:00",
          "2024-10-11T02:14:00",
          "2024-10-11T02:19:00",
          "2024-10-11T02:24:00",
          "2024-10-11T02:29:00",
          "2024-10-11T02:34:00",
          "2024-10-11T02:39:00",
          "2024-10-11T02:44:00",
          "2024-10-11T02:49:00",
          "2024-10-11T02:54:00",
          "2024-10-11T02:59:00",
          "2024-10-11T03:04:00",
          "2024-10-11T03:09:00",
          "2024-10-11T03:14:00",
          "2024-10-11T03:19:00",
          "2024-10-11T03:24:00",
          "2024-10-11T03:29:00",
          "2024-10-11T03:34:00",
          "2024-10-11T03:39:00",
          "2024-10-11T03:44:00",
          "2024-10-11T03:49:00",
          "2024-10-11T03:54:00",
          "2024-10-11T03:59:00",
          "2024-10-11T04:04:00",
          "2024-10-11T04:09:00",
          "2024-10-11T04:14:00",
          "2024-10-11T04:19:00",
          "2024-10-11T04:24:00",
          "2024-10-11T04:29:00",
          "2024-10-11T04:34:00",
          "2024-10-11T04:39:00",
          "2024-10-11T04:44:00",
          "2024-10-11T04:49:00",
          "2024-10-11T04:54:00",
          "2024-10-11T04:59:00",
          "2024-10-11T05:04:00",
          "2024-10-11T05:09:00",
          "2024-10-11T05:14:00",
          "2024-10-11T05:19:00",
          "2024-10-11T05:24:00",
          "2024-10-11T05:29:00",
          "2024-10-11T05:34:00",
          "2024-10-11T05:39:00",
          "2024-10-11T05:44:00",
          "2024-10-11T05:49:00",
          "2024-10-11T05:54:00",
          "2024-10-11T05:59:00",
          "2024-10-11T06:04:00",
          "2024-10-11T06:09:00",
          "2024-10-11T06:14:00",
          "2024-10-11T06:19:00",
          "2024-10-11T06:24:00",
          "2024-10-11T06:29:00",
          "2024-10-11T06:34:00",
          "2024-10-11T06:39:00",
          "2024-10-11T06:44:00",
          "2024-10-11T06:49:00",
          "2024-10-11T06:54:00",
          "2024-10-11T06:59:00",
          "2024-10-11T07:04:00",
          "2024-10-11T07:09:00",
          "2024-10-11T07:14:00",
          "2024-10-11T07:19:00",
          "2024-10-11T07:24:00",
          "2024-10-11T07:29:00",
          "2024-10-11T07:34:00",
          "2024-10-11T07:39:00",
          "2024-10-11T07:44:00",
          "2024-10-11T07:49:00",
          "2024-10-11T07:54:00",
          "2024-10-11T07:59:00",
          "2024-10-11T08:04:00",
          "2024-10-11T08:09:00",
          "2024-10-11T08:14:00",
          "2024-10-11T08:19:00",
          "2024-10-11T08:24:00",
          "2024-10-11T08:29:00",
          "2024-10-11T08:34:00",
          "2024-10-11T08:39:00",
          "2024-10-11T08:44:00",
          "2024-10-11T08:49:00",
          "2024-10-11T08:54:00",
          "2024-10-11T08:59:00",
          "2024-10-11T09:04:00",
          "2024-10-11T09:09:00",
          "2024-10-11T09:14:00",
          "2024-10-11T09:19:00",
          "2024-10-11T09:24:00",
          "2024-10-11T09:29:00",
          "2024-10-11T09:34:00",
          "2024-10-11T09:39:00",
          "2024-10-11T09:44:00",
          "2024-10-11T09:49:00",
          "2024-10-11T09:54:00",
          "2024-10-11T09:59:00",
          "2024-10-11T10:04:00",
          "2024-10-11T10:09:00",
          "2024-10-11T10:14:00",
          "2024-10-11T10:19:00",
          "2024-10-11T10:24:00",
          "2024-10-11T10:29:00",
          "2024-10-11T10:34:00",
          "2024-10-11T10:39:00",
          "2024-10-11T10:44:00",
          "2024-10-11T10:49:00",
          "2024-10-11T10:54:00",
          "2024-10-11T10:59:00",
          "2024-10-11T11:04:00",
          "2024-10-11T11:09:00",
          "2024-10-11T11:14:00",
          "2024-10-11T11:19:00",
          "2024-10-11T11:24:00",
          "2024-10-11T11:29:00",
          "2024-10-11T11:34:00",
          "2024-10-11T11:39:00",
          "2024-10-11T11:44:00",
          "2024-10-11T11:49:00",
          "2024-10-11T11:54:00",
          "2024-10-11T11:59:00",
          "2024-10-11T12:04:00",
          "2024-10-11T12:09:00",
          "2024-10-11T12:14:00",
          "2024-10-11T12:19:00",
          "2024-10-11T12:24:00",
          "2024-10-11T12:29:00",
          "2024-10-11T12:34:00",
          "2024-10-11T12:39:00",
          "2024-10-11T12:44:00",
          "2024-10-11T12:49:00",
          "2024-10-11T12:54:00",
          "2024-10-11T12:59:00",
          "2024-10-11T13:04:00",
          "2024-10-11T13:09:00",
          "2024-10-11T13:14:00",
          "2024-10-11T13:19:00",
          "2024-10-11T13:24:00",
          "2024-10-11T13:29:00",
          "2024-10-11T13:34:00",
          "2024-10-11T13:39:00",
          "2024-10-11T13:44:00",
          "2024-10-11T13:49:00",
          "2024-10-11T13:54:00",
          "2024-10-11T13:59:00",
          "2024-10-11T14:04:00",
          "2024-10-11T14:09:00",
          "2024-10-11T14:14:00",
          "2024-10-11T14:19:00",
          "2024-10-11T14:24:00",
          "2024-10-11T14:29:00",
          "2024-10-11T14:34:00",
          "2024-10-11T14:39:00",
          "2024-10-11T14:44:00",
          "2024-10-11T14:49:00",
          "2024-10-11T14:54:00",
          "2024-10-11T14:59:00",
          "2024-10-11T15:04:00",
          "2024-10-11T15:09:00",
          "2024-10-11T15:14:00",
          "2024-10-11T15:19:00",
          "2024-10-11T15:24:00"
         ],
         "xaxis": "x",
         "y": [
          30.2,
          30.2,
          30.2,
          30.2,
          30.2,
          30.2,
          30.2,
          30.2,
          30.21,
          30.2,
          30.2,
          30.2,
          30.2,
          30.2,
          30.2,
          30.2,
          30.2,
          30.2,
          30.2,
          30.2,
          30.2,
          30.2,
          30.2,
          30.2,
          30.2,
          30.2,
          30.2,
          30.2,
          30.21,
          30.2,
          30.21,
          30.21,
          30.21,
          30.21,
          30.21,
          30.21,
          30.21,
          30.21,
          30.21,
          30.21,
          30.2,
          30.2,
          30.21,
          30.2,
          30.2,
          30.21,
          30.21,
          30.22,
          30.22,
          30.21,
          30.21,
          30.21,
          30.21,
          30.21,
          30.21,
          30.21,
          30.22,
          30.22,
          30.21,
          30.22,
          30.22,
          30.22,
          30.22,
          30.22,
          30.22,
          30.22,
          30.22,
          30.22,
          30.22,
          30.22,
          30.22,
          30.22,
          30.22,
          30.22,
          30.22,
          30.22,
          30.23,
          30.23,
          30.22,
          30.23,
          30.23,
          30.23,
          30.23,
          30.23,
          30.23,
          30.23,
          30.23,
          30.23,
          30.23,
          30.23,
          30.23,
          30.24,
          30.24,
          30.24,
          30.24,
          30.24,
          30.24,
          30.24,
          30.24,
          30.24,
          30.25,
          30.24,
          30.24,
          30.25,
          30.24,
          30.24,
          30.24,
          30.25,
          30.25,
          30.25,
          30.25,
          30.26,
          30.26,
          30.26,
          30.26,
          30.26,
          30.26,
          30.27,
          30.27,
          30.27,
          30.26,
          30.27,
          30.26,
          30.26,
          30.26,
          30.26,
          30.26,
          30.26,
          30.26,
          30.26,
          30.26,
          30.26,
          30.26,
          30.27,
          30.26,
          30.25,
          30.25,
          30.25,
          30.25,
          30.25,
          30.24,
          30.24,
          30.24,
          30.24,
          30.24,
          30.24,
          30.24,
          30.24,
          30.23,
          30.23,
          30.23,
          30.22,
          30.23,
          30.23,
          30.22,
          30.22,
          30.22,
          30.22,
          30.22,
          30.21,
          30.21,
          30.21,
          30.2,
          30.2,
          30.2,
          30.19,
          30.19,
          30.19,
          30.19,
          30.19,
          30.19,
          30.18,
          30.18,
          30.18,
          30.17,
          30.17,
          30.17,
          30.17,
          30.17,
          30.17,
          30.16,
          30.16,
          30.16,
          30.16,
          30.15
         ],
         "yaxis": "y"
        }
       ],
       "layout": {
        "autosize": true,
        "legend": {
         "tracegroupgap": 0
        },
        "margin": {
         "t": 60
        },
        "template": {
         "data": {
          "bar": [
           {
            "error_x": {
             "color": "#2a3f5f"
            },
            "error_y": {
             "color": "#2a3f5f"
            },
            "marker": {
             "line": {
              "color": "#E5ECF6",
              "width": 0.5
             },
             "pattern": {
              "fillmode": "overlay",
              "size": 10,
              "solidity": 0.2
             }
            },
            "type": "bar"
           }
          ],
          "barpolar": [
           {
            "marker": {
             "line": {
              "color": "#E5ECF6",
              "width": 0.5
             },
             "pattern": {
              "fillmode": "overlay",
              "size": 10,
              "solidity": 0.2
             }
            },
            "type": "barpolar"
           }
          ],
          "carpet": [
           {
            "aaxis": {
             "endlinecolor": "#2a3f5f",
             "gridcolor": "white",
             "linecolor": "white",
             "minorgridcolor": "white",
             "startlinecolor": "#2a3f5f"
            },
            "baxis": {
             "endlinecolor": "#2a3f5f",
             "gridcolor": "white",
             "linecolor": "white",
             "minorgridcolor": "white",
             "startlinecolor": "#2a3f5f"
            },
            "type": "carpet"
           }
          ],
          "choropleth": [
           {
            "colorbar": {
             "outlinewidth": 0,
             "ticks": ""
            },
            "type": "choropleth"
           }
          ],
          "contour": [
           {
            "colorbar": {
             "outlinewidth": 0,
             "ticks": ""
            },
            "colorscale": [
             [
              0,
              "#0d0887"
             ],
             [
              0.1111111111111111,
              "#46039f"
             ],
             [
              0.2222222222222222,
              "#7201a8"
             ],
             [
              0.3333333333333333,
              "#9c179e"
             ],
             [
              0.4444444444444444,
              "#bd3786"
             ],
             [
              0.5555555555555556,
              "#d8576b"
             ],
             [
              0.6666666666666666,
              "#ed7953"
             ],
             [
              0.7777777777777778,
              "#fb9f3a"
             ],
             [
              0.8888888888888888,
              "#fdca26"
             ],
             [
              1,
              "#f0f921"
             ]
            ],
            "type": "contour"
           }
          ],
          "contourcarpet": [
           {
            "colorbar": {
             "outlinewidth": 0,
             "ticks": ""
            },
            "type": "contourcarpet"
           }
          ],
          "heatmap": [
           {
            "colorbar": {
             "outlinewidth": 0,
             "ticks": ""
            },
            "colorscale": [
             [
              0,
              "#0d0887"
             ],
             [
              0.1111111111111111,
              "#46039f"
             ],
             [
              0.2222222222222222,
              "#7201a8"
             ],
             [
              0.3333333333333333,
              "#9c179e"
             ],
             [
              0.4444444444444444,
              "#bd3786"
             ],
             [
              0.5555555555555556,
              "#d8576b"
             ],
             [
              0.6666666666666666,
              "#ed7953"
             ],
             [
              0.7777777777777778,
              "#fb9f3a"
             ],
             [
              0.8888888888888888,
              "#fdca26"
             ],
             [
              1,
              "#f0f921"
             ]
            ],
            "type": "heatmap"
           }
          ],
          "heatmapgl": [
           {
            "colorbar": {
             "outlinewidth": 0,
             "ticks": ""
            },
            "colorscale": [
             [
              0,
              "#0d0887"
             ],
             [
              0.1111111111111111,
              "#46039f"
             ],
             [
              0.2222222222222222,
              "#7201a8"
             ],
             [
              0.3333333333333333,
              "#9c179e"
             ],
             [
              0.4444444444444444,
              "#bd3786"
             ],
             [
              0.5555555555555556,
              "#d8576b"
             ],
             [
              0.6666666666666666,
              "#ed7953"
             ],
             [
              0.7777777777777778,
              "#fb9f3a"
             ],
             [
              0.8888888888888888,
              "#fdca26"
             ],
             [
              1,
              "#f0f921"
             ]
            ],
            "type": "heatmapgl"
           }
          ],
          "histogram": [
           {
            "marker": {
             "pattern": {
              "fillmode": "overlay",
              "size": 10,
              "solidity": 0.2
             }
            },
            "type": "histogram"
           }
          ],
          "histogram2d": [
           {
            "colorbar": {
             "outlinewidth": 0,
             "ticks": ""
            },
            "colorscale": [
             [
              0,
              "#0d0887"
             ],
             [
              0.1111111111111111,
              "#46039f"
             ],
             [
              0.2222222222222222,
              "#7201a8"
             ],
             [
              0.3333333333333333,
              "#9c179e"
             ],
             [
              0.4444444444444444,
              "#bd3786"
             ],
             [
              0.5555555555555556,
              "#d8576b"
             ],
             [
              0.6666666666666666,
              "#ed7953"
             ],
             [
              0.7777777777777778,
              "#fb9f3a"
             ],
             [
              0.8888888888888888,
              "#fdca26"
             ],
             [
              1,
              "#f0f921"
             ]
            ],
            "type": "histogram2d"
           }
          ],
          "histogram2dcontour": [
           {
            "colorbar": {
             "outlinewidth": 0,
             "ticks": ""
            },
            "colorscale": [
             [
              0,
              "#0d0887"
             ],
             [
              0.1111111111111111,
              "#46039f"
             ],
             [
              0.2222222222222222,
              "#7201a8"
             ],
             [
              0.3333333333333333,
              "#9c179e"
             ],
             [
              0.4444444444444444,
              "#bd3786"
             ],
             [
              0.5555555555555556,
              "#d8576b"
             ],
             [
              0.6666666666666666,
              "#ed7953"
             ],
             [
              0.7777777777777778,
              "#fb9f3a"
             ],
             [
              0.8888888888888888,
              "#fdca26"
             ],
             [
              1,
              "#f0f921"
             ]
            ],
            "type": "histogram2dcontour"
           }
          ],
          "mesh3d": [
           {
            "colorbar": {
             "outlinewidth": 0,
             "ticks": ""
            },
            "type": "mesh3d"
           }
          ],
          "parcoords": [
           {
            "line": {
             "colorbar": {
              "outlinewidth": 0,
              "ticks": ""
             }
            },
            "type": "parcoords"
           }
          ],
          "pie": [
           {
            "automargin": true,
            "type": "pie"
           }
          ],
          "scatter": [
           {
            "fillpattern": {
             "fillmode": "overlay",
             "size": 10,
             "solidity": 0.2
            },
            "type": "scatter"
           }
          ],
          "scatter3d": [
           {
            "line": {
             "colorbar": {
              "outlinewidth": 0,
              "ticks": ""
             }
            },
            "marker": {
             "colorbar": {
              "outlinewidth": 0,
              "ticks": ""
             }
            },
            "type": "scatter3d"
           }
          ],
          "scattercarpet": [
           {
            "marker": {
             "colorbar": {
              "outlinewidth": 0,
              "ticks": ""
             }
            },
            "type": "scattercarpet"
           }
          ],
          "scattergeo": [
           {
            "marker": {
             "colorbar": {
              "outlinewidth": 0,
              "ticks": ""
             }
            },
            "type": "scattergeo"
           }
          ],
          "scattergl": [
           {
            "marker": {
             "colorbar": {
              "outlinewidth": 0,
              "ticks": ""
             }
            },
            "type": "scattergl"
           }
          ],
          "scattermapbox": [
           {
            "marker": {
             "colorbar": {
              "outlinewidth": 0,
              "ticks": ""
             }
            },
            "type": "scattermapbox"
           }
          ],
          "scatterpolar": [
           {
            "marker": {
             "colorbar": {
              "outlinewidth": 0,
              "ticks": ""
             }
            },
            "type": "scatterpolar"
           }
          ],
          "scatterpolargl": [
           {
            "marker": {
             "colorbar": {
              "outlinewidth": 0,
              "ticks": ""
             }
            },
            "type": "scatterpolargl"
           }
          ],
          "scatterternary": [
           {
            "marker": {
             "colorbar": {
              "outlinewidth": 0,
              "ticks": ""
             }
            },
            "type": "scatterternary"
           }
          ],
          "surface": [
           {
            "colorbar": {
             "outlinewidth": 0,
             "ticks": ""
            },
            "colorscale": [
             [
              0,
              "#0d0887"
             ],
             [
              0.1111111111111111,
              "#46039f"
             ],
             [
              0.2222222222222222,
              "#7201a8"
             ],
             [
              0.3333333333333333,
              "#9c179e"
             ],
             [
              0.4444444444444444,
              "#bd3786"
             ],
             [
              0.5555555555555556,
              "#d8576b"
             ],
             [
              0.6666666666666666,
              "#ed7953"
             ],
             [
              0.7777777777777778,
              "#fb9f3a"
             ],
             [
              0.8888888888888888,
              "#fdca26"
             ],
             [
              1,
              "#f0f921"
             ]
            ],
            "type": "surface"
           }
          ],
          "table": [
           {
            "cells": {
             "fill": {
              "color": "#EBF0F8"
             },
             "line": {
              "color": "white"
             }
            },
            "header": {
             "fill": {
              "color": "#C8D4E3"
             },
             "line": {
              "color": "white"
             }
            },
            "type": "table"
           }
          ]
         },
         "layout": {
          "annotationdefaults": {
           "arrowcolor": "#2a3f5f",
           "arrowhead": 0,
           "arrowwidth": 1
          },
          "autotypenumbers": "strict",
          "coloraxis": {
           "colorbar": {
            "outlinewidth": 0,
            "ticks": ""
           }
          },
          "colorscale": {
           "diverging": [
            [
             0,
             "#8e0152"
            ],
            [
             0.1,
             "#c51b7d"
            ],
            [
             0.2,
             "#de77ae"
            ],
            [
             0.3,
             "#f1b6da"
            ],
            [
             0.4,
             "#fde0ef"
            ],
            [
             0.5,
             "#f7f7f7"
            ],
            [
             0.6,
             "#e6f5d0"
            ],
            [
             0.7,
             "#b8e186"
            ],
            [
             0.8,
             "#7fbc41"
            ],
            [
             0.9,
             "#4d9221"
            ],
            [
             1,
             "#276419"
            ]
           ],
           "sequential": [
            [
             0,
             "#0d0887"
            ],
            [
             0.1111111111111111,
             "#46039f"
            ],
            [
             0.2222222222222222,
             "#7201a8"
            ],
            [
             0.3333333333333333,
             "#9c179e"
            ],
            [
             0.4444444444444444,
             "#bd3786"
            ],
            [
             0.5555555555555556,
             "#d8576b"
            ],
            [
             0.6666666666666666,
             "#ed7953"
            ],
            [
             0.7777777777777778,
             "#fb9f3a"
            ],
            [
             0.8888888888888888,
             "#fdca26"
            ],
            [
             1,
             "#f0f921"
            ]
           ],
           "sequentialminus": [
            [
             0,
             "#0d0887"
            ],
            [
             0.1111111111111111,
             "#46039f"
            ],
            [
             0.2222222222222222,
             "#7201a8"
            ],
            [
             0.3333333333333333,
             "#9c179e"
            ],
            [
             0.4444444444444444,
             "#bd3786"
            ],
            [
             0.5555555555555556,
             "#d8576b"
            ],
            [
             0.6666666666666666,
             "#ed7953"
            ],
            [
             0.7777777777777778,
             "#fb9f3a"
            ],
            [
             0.8888888888888888,
             "#fdca26"
            ],
            [
             1,
             "#f0f921"
            ]
           ]
          },
          "colorway": [
           "#636efa",
           "#EF553B",
           "#00cc96",
           "#ab63fa",
           "#FFA15A",
           "#19d3f3",
           "#FF6692",
           "#B6E880",
           "#FF97FF",
           "#FECB52"
          ],
          "font": {
           "color": "#2a3f5f"
          },
          "geo": {
           "bgcolor": "white",
           "lakecolor": "white",
           "landcolor": "#E5ECF6",
           "showlakes": true,
           "showland": true,
           "subunitcolor": "white"
          },
          "hoverlabel": {
           "align": "left"
          },
          "hovermode": "closest",
          "mapbox": {
           "style": "light"
          },
          "paper_bgcolor": "white",
          "plot_bgcolor": "#E5ECF6",
          "polar": {
           "angularaxis": {
            "gridcolor": "white",
            "linecolor": "white",
            "ticks": ""
           },
           "bgcolor": "#E5ECF6",
           "radialaxis": {
            "gridcolor": "white",
            "linecolor": "white",
            "ticks": ""
           }
          },
          "scene": {
           "xaxis": {
            "backgroundcolor": "#E5ECF6",
            "gridcolor": "white",
            "gridwidth": 2,
            "linecolor": "white",
            "showbackground": true,
            "ticks": "",
            "zerolinecolor": "white"
           },
           "yaxis": {
            "backgroundcolor": "#E5ECF6",
            "gridcolor": "white",
            "gridwidth": 2,
            "linecolor": "white",
            "showbackground": true,
            "ticks": "",
            "zerolinecolor": "white"
           },
           "zaxis": {
            "backgroundcolor": "#E5ECF6",
            "gridcolor": "white",
            "gridwidth": 2,
            "linecolor": "white",
            "showbackground": true,
            "ticks": "",
            "zerolinecolor": "white"
           }
          },
          "shapedefaults": {
           "line": {
            "color": "#2a3f5f"
           }
          },
          "ternary": {
           "aaxis": {
            "gridcolor": "white",
            "linecolor": "white",
            "ticks": ""
           },
           "baxis": {
            "gridcolor": "white",
            "linecolor": "white",
            "ticks": ""
           },
           "bgcolor": "#E5ECF6",
           "caxis": {
            "gridcolor": "white",
            "linecolor": "white",
            "ticks": ""
           }
          },
          "title": {
           "x": 0.05
          },
          "xaxis": {
           "automargin": true,
           "gridcolor": "white",
           "linecolor": "white",
           "ticks": "",
           "title": {
            "standoff": 15
           },
           "zerolinecolor": "white",
           "zerolinewidth": 2
          },
          "yaxis": {
           "automargin": true,
           "gridcolor": "white",
           "linecolor": "white",
           "ticks": "",
           "title": {
            "standoff": 15
           },
           "zerolinecolor": "white",
           "zerolinewidth": 2
          }
         }
        },
        "xaxis": {
         "anchor": "y",
         "autorange": true,
         "domain": [
          0,
          1
         ],
         "range": [
          "2024-10-11 00:04",
          "2024-10-11 15:24"
         ],
         "title": {
          "text": "Timestamp"
         },
         "type": "date"
        },
        "yaxis": {
         "anchor": "x",
         "autorange": true,
         "domain": [
          0,
          1
         ],
         "range": [
          30.14333333333333,
          30.276666666666667
         ],
         "title": {
          "text": "Pressure"
         },
         "type": "linear"
        }
       }
      },
      "image/png": "[encoded data removed]",
      "text/html": [
       "<div>                            <div id=\"e8fcef50-7e4b-4242-8173-048dac2b242e\" class=\"plotly-graph-div\" style=\"height:525px; width:100%;\"></div>            <script type=\"text/javascript\">                require([\"plotly\"], function(Plotly) {                    window.PLOTLYENV=window.PLOTLYENV || {};                                    if (document.getElementById(\"e8fcef50-7e4b-4242-8173-048dac2b242e\")) {                    Plotly.newPlot(                        \"e8fcef50-7e4b-4242-8173-048dac2b242e\",                        [{\"hovertemplate\":\"Timestamp=%{x}\\u003cbr\\u003ePressure=%{y}\\u003cextra\\u003e\\u003c\\u002fextra\\u003e\",\"legendgroup\":\"\",\"line\":{\"color\":\"#636efa\",\"dash\":\"solid\"},\"marker\":{\"symbol\":\"circle\"},\"mode\":\"lines\",\"name\":\"\",\"orientation\":\"v\",\"showlegend\":false,\"x\":[\"2024-10-11T00:04:00\",\"2024-10-11T00:09:00\",\"2024-10-11T00:14:00\",\"2024-10-11T00:19:00\",\"2024-10-11T00:24:00\",\"2024-10-11T00:29:00\",\"2024-10-11T00:34:00\",\"2024-10-11T00:39:00\",\"2024-10-11T00:44:00\",\"2024-10-11T00:49:00\",\"2024-10-11T00:54:00\",\"2024-10-11T00:59:00\",\"2024-10-11T01:04:00\",\"2024-10-11T01:09:00\",\"2024-10-11T01:14:00\",\"2024-10-11T01:19:00\",\"2024-10-11T01:24:00\",\"2024-10-11T01:29:00\",\"2024-10-11T01:34:00\",\"2024-10-11T01:39:00\",\"2024-10-11T01:44:00\",\"2024-10-11T01:49:00\",\"2024-10-11T01:54:00\",\"2024-10-11T01:59:00\",\"2024-10-11T02:04:00\",\"2024-10-11T02:09:00\",\"2024-10-11T02:14:00\",\"2024-10-11T02:19:00\",\"2024-10-11T02:24:00\",\"2024-10-11T02:29:00\",\"2024-10-11T02:34:00\",\"2024-10-11T02:39:00\",\"2024-10-11T02:44:00\",\"2024-10-11T02:49:00\",\"2024-10-11T02:54:00\",\"2024-10-11T02:59:00\",\"2024-10-11T03:04:00\",\"2024-10-11T03:09:00\",\"2024-10-11T03:14:00\",\"2024-10-11T03:19:00\",\"2024-10-11T03:24:00\",\"2024-10-11T03:29:00\",\"2024-10-11T03:34:00\",\"2024-10-11T03:39:00\",\"2024-10-11T03:44:00\",\"2024-10-11T03:49:00\",\"2024-10-11T03:54:00\",\"2024-10-11T03:59:00\",\"2024-10-11T04:04:00\",\"2024-10-11T04:09:00\",\"2024-10-11T04:14:00\",\"2024-10-11T04:19:00\",\"2024-10-11T04:24:00\",\"2024-10-11T04:29:00\",\"2024-10-11T04:34:00\",\"2024-10-11T04:39:00\",\"2024-10-11T04:44:00\",\"2024-10-11T04:49:00\",\"2024-10-11T04:54:00\",\"2024-10-11T04:59:00\",\"2024-10-11T05:04:00\",\"2024-10-11T05:09:00\",\"2024-10-11T05:14:00\",\"2024-10-11T05:19:00\",\"2024-10-11T05:24:00\",\"2024-10-11T05:29:00\",\"2024-10-11T05:34:00\",\"2024-10-11T05:39:00\",\"2024-10-11T05:44:00\",\"2024-10-11T05:49:00\",\"2024-10-11T05:54:00\",\"2024-10-11T05:59:00\",\"2024-10-11T06:04:00\",\"2024-10-11T06:09:00\",\"2024-10-11T06:14:00\",\"2024-10-11T06:19:00\",\"2024-10-11T06:24:00\",\"2024-10-11T06:29:00\",\"2024-10-11T06:34:00\",\"2024-10-11T06:39:00\",\"2024-10-11T06:44:00\",\"2024-10-11T06:49:00\",\"2024-10-11T06:54:00\",\"2024-10-11T06:59:00\",\"2024-10-11T07:04:00\",\"2024-10-11T07:09:00\",\"2024-10-11T07:14:00\",\"2024-10-11T07:19:00\",\"2024-10-11T07:24:00\",\"2024-10-11T07:29:00\",\"2024-10-11T07:34:00\",\"2024-10-11T07:39:00\",\"2024-10-11T07:44:00\",\"2024-10-11T07:49:00\",\"2024-10-11T07:54:00\",\"2024-10-11T07:59:00\",\"2024-10-11T08:04:00\",\"2024-10-11T08:09:00\",\"2024-10-11T08:14:00\",\"2024-10-11T08:19:00\",\"2024-10-11T08:24:00\",\"2024-10-11T08:29:00\",\"2024-10-11T08:34:00\",\"2024-10-11T08:39:00\",\"2024-10-11T08:44:00\",\"2024-10-11T08:49:00\",\"2024-10-11T08:54:00\",\"2024-10-11T08:59:00\",\"2024-10-11T09:04:00\",\"2024-10-11T09:09:00\",\"2024-10-11T09:14:00\",\"2024-10-11T09:19:00\",\"2024-10-11T09:24:00\",\"2024-10-11T09:29:00\",\"2024-10-11T09:34:00\",\"2024-10-11T09:39:00\",\"2024-10-11T09:44:00\",\"2024-10-11T09:49:00\",\"2024-10-11T09:54:00\",\"2024-10-11T09:59:00\",\"2024-10-11T10:04:00\",\"2024-10-11T10:09:00\",\"2024-10-11T10:14:00\",\"2024-10-11T10:19:00\",\"2024-10-11T10:24:00\",\"2024-10-11T10:29:00\",\"2024-10-11T10:34:00\",\"2024-10-11T10:39:00\",\"2024-10-11T10:44:00\",\"2024-10-11T10:49:00\",\"2024-10-11T10:54:00\",\"2024-10-11T10:59:00\",\"2024-10-11T11:04:00\",\"2024-10-11T11:09:00\",\"2024-10-11T11:14:00\",\"2024-10-11T11:19:00\",\"2024-10-11T11:24:00\",\"2024-10-11T11:29:00\",\"2024-10-11T11:34:00\",\"2024-10-11T11:39:00\",\"2024-10-11T11:44:00\",\"2024-10-11T11:49:00\",\"2024-10-11T11:54:00\",\"2024-10-11T11:59:00\",\"2024-10-11T12:04:00\",\"2024-10-11T12:09:00\",\"2024-10-11T12:14:00\",\"2024-10-11T12:19:00\",\"2024-10-11T12:24:00\",\"2024-10-11T12:29:00\",\"2024-10-11T12:34:00\",\"2024-10-11T12:39:00\",\"2024-10-11T12:44:00\",\"2024-10-11T12:49:00\",\"2024-10-11T12:54:00\",\"2024-10-11T12:59:00\",\"2024-10-11T13:04:00\",\"2024-10-11T13:09:00\",\"2024-10-11T13:14:00\",\"2024-10-11T13:19:00\",\"2024-10-11T13:24:00\",\"2024-10-11T13:29:00\",\"2024-10-11T13:34:00\",\"2024-10-11T13:39:00\",\"2024-10-11T13:44:00\",\"2024-10-11T13:49:00\",\"2024-10-11T13:54:00\",\"2024-10-11T13:59:00\",\"2024-10-11T14:04:00\",\"2024-10-11T14:09:00\",\"2024-10-11T14:14:00\",\"2024-10-11T14:19:00\",\"2024-10-11T14:24:00\",\"2024-10-11T14:29:00\",\"2024-10-11T14:34:00\",\"2024-10-11T14:39:00\",\"2024-10-11T14:44:00\",\"2024-10-11T14:49:00\",\"2024-10-11T14:54:00\",\"2024-10-11T14:59:00\",\"2024-10-11T15:04:00\",\"2024-10-11T15:09:00\",\"2024-10-11T15:14:00\",\"2024-10-11T15:19:00\",\"2024-10-11T15:24:00\"],\"xaxis\":\"x\",\"y\":[30.2,30.2,30.2,30.2,30.2,30.2,30.2,30.2,30.21,30.2,30.2,30.2,30.2,30.2,30.2,30.2,30.2,30.2,30.2,30.2,30.2,30.2,30.2,30.2,30.2,30.2,30.2,30.2,30.21,30.2,30.21,30.21,30.21,30.21,30.21,30.21,30.21,30.21,30.21,30.21,30.2,30.2,30.21,30.2,30.2,30.21,30.21,30.22,30.22,30.21,30.21,30.21,30.21,30.21,30.21,30.21,30.22,30.22,30.21,30.22,30.22,30.22,30.22,30.22,30.22,30.22,30.22,30.22,30.22,30.22,30.22,30.22,30.22,30.22,30.22,30.22,30.23,30.23,30.22,30.23,30.23,30.23,30.23,30.23,30.23,30.23,30.23,30.23,30.23,30.23,30.23,30.24,30.24,30.24,30.24,30.24,30.24,30.24,30.24,30.24,30.25,30.24,30.24,30.25,30.24,30.24,30.24,30.25,30.25,30.25,30.25,30.26,30.26,30.26,30.26,30.26,30.26,30.27,30.27,30.27,30.26,30.27,30.26,30.26,30.26,30.26,30.26,30.26,30.26,30.26,30.26,30.26,30.26,30.27,30.26,30.25,30.25,30.25,30.25,30.25,30.24,30.24,30.24,30.24,30.24,30.24,30.24,30.24,30.23,30.23,30.23,30.22,30.23,30.23,30.22,30.22,30.22,30.22,30.22,30.21,30.21,30.21,30.2,30.2,30.2,30.19,30.19,30.19,30.19,30.19,30.19,30.18,30.18,30.18,30.17,30.17,30.17,30.17,30.17,30.17,30.16,30.16,30.16,30.16,30.15],\"yaxis\":\"y\",\"type\":\"scatter\"}],                        {\"template\":{\"data\":{\"histogram2dcontour\":[{\"type\":\"histogram2dcontour\",\"colorbar\":{\"outlinewidth\":0,\"ticks\":\"\"},\"colorscale\":[[0.0,\"#0d0887\"],[0.1111111111111111,\"#46039f\"],[0.2222222222222222,\"#7201a8\"],[0.3333333333333333,\"#9c179e\"],[0.4444444444444444,\"#bd3786\"],[0.5555555555555556,\"#d8576b\"],[0.6666666666666666,\"#ed7953\"],[0.7777777777777778,\"#fb9f3a\"],[0.8888888888888888,\"#fdca26\"],[1.0,\"#f0f921\"]]}],\"choropleth\":[{\"type\":\"choropleth\",\"colorbar\":{\"outlinewidth\":0,\"ticks\":\"\"}}],\"histogram2d\":[{\"type\":\"histogram2d\",\"colorbar\":{\"outlinewidth\":0,\"ticks\":\"\"},\"colorscale\":[[0.0,\"#0d0887\"],[0.1111111111111111,\"#46039f\"],[0.2222222222222222,\"#7201a8\"],[0.3333333333333333,\"#9c179e\"],[0.4444444444444444,\"#bd3786\"],[0.5555555555555556,\"#d8576b\"],[0.6666666666666666,\"#ed7953\"],[0.7777777777777778,\"#fb9f3a\"],[0.8888888888888888,\"#fdca26\"],[1.0,\"#f0f921\"]]}],\"heatmap\":[{\"type\":\"heatmap\",\"colorbar\":{\"outlinewidth\":0,\"ticks\":\"\"},\"colorscale\":[[0.0,\"#0d0887\"],[0.1111111111111111,\"#46039f\"],[0.2222222222222222,\"#7201a8\"],[0.3333333333333333,\"#9c179e\"],[0.4444444444444444,\"#bd3786\"],[0.5555555555555556,\"#d8576b\"],[0.6666666666666666,\"#ed7953\"],[0.7777777777777778,\"#fb9f3a\"],[0.8888888888888888,\"#fdca26\"],[1.0,\"#f0f921\"]]}],\"heatmapgl\":[{\"type\":\"heatmapgl\",\"colorbar\":{\"outlinewidth\":0,\"ticks\":\"\"},\"colorscale\":[[0.0,\"#0d0887\"],[0.1111111111111111,\"#46039f\"],[0.2222222222222222,\"#7201a8\"],[0.3333333333333333,\"#9c179e\"],[0.4444444444444444,\"#bd3786\"],[0.5555555555555556,\"#d8576b\"],[0.6666666666666666,\"#ed7953\"],[0.7777777777777778,\"#fb9f3a\"],[0.8888888888888888,\"#fdca26\"],[1.0,\"#f0f921\"]]}],\"contourcarpet\":[{\"type\":\"contourcarpet\",\"colorbar\":{\"outlinewidth\":0,\"ticks\":\"\"}}],\"contour\":[{\"type\":\"contour\",\"colorbar\":{\"outlinewidth\":0,\"ticks\":\"\"},\"colorscale\":[[0.0,\"#0d0887\"],[0.1111111111111111,\"#46039f\"],[0.2222222222222222,\"#7201a8\"],[0.3333333333333333,\"#9c179e\"],[0.4444444444444444,\"#bd3786\"],[0.5555555555555556,\"#d8576b\"],[0.6666666666666666,\"#ed7953\"],[0.7777777777777778,\"#fb9f3a\"],[0.8888888888888888,\"#fdca26\"],[1.0,\"#f0f921\"]]}],\"surface\":[{\"type\":\"surface\",\"colorbar\":{\"outlinewidth\":0,\"ticks\":\"\"},\"colorscale\":[[0.0,\"#0d0887\"],[0.1111111111111111,\"#46039f\"],[0.2222222222222222,\"#7201a8\"],[0.3333333333333333,\"#9c179e\"],[0.4444444444444444,\"#bd3786\"],[0.5555555555555556,\"#d8576b\"],[0.6666666666666666,\"#ed7953\"],[0.7777777777777778,\"#fb9f3a\"],[0.8888888888888888,\"#fdca26\"],[1.0,\"#f0f921\"]]}],\"mesh3d\":[{\"type\":\"mesh3d\",\"colorbar\":{\"outlinewidth\":0,\"ticks\":\"\"}}],\"scatter\":[{\"fillpattern\":{\"fillmode\":\"overlay\",\"size\":10,\"solidity\":0.2},\"type\":\"scatter\"}],\"parcoords\":[{\"type\":\"parcoords\",\"line\":{\"colorbar\":{\"outlinewidth\":0,\"ticks\":\"\"}}}],\"scatterpolargl\":[{\"type\":\"scatterpolargl\",\"marker\":{\"colorbar\":{\"outlinewidth\":0,\"ticks\":\"\"}}}],\"bar\":[{\"error_x\":{\"color\":\"#2a3f5f\"},\"error_y\":{\"color\":\"#2a3f5f\"},\"marker\":{\"line\":{\"color\":\"#E5ECF6\",\"width\":0.5},\"pattern\":{\"fillmode\":\"overlay\",\"size\":10,\"solidity\":0.2}},\"type\":\"bar\"}],\"scattergeo\":[{\"type\":\"scattergeo\",\"marker\":{\"colorbar\":{\"outlinewidth\":0,\"ticks\":\"\"}}}],\"scatterpolar\":[{\"type\":\"scatterpolar\",\"marker\":{\"colorbar\":{\"outlinewidth\":0,\"ticks\":\"\"}}}],\"histogram\":[{\"marker\":{\"pattern\":{\"fillmode\":\"overlay\",\"size\":10,\"solidity\":0.2}},\"type\":\"histogram\"}],\"scattergl\":[{\"type\":\"scattergl\",\"marker\":{\"colorbar\":{\"outlinewidth\":0,\"ticks\":\"\"}}}],\"scatter3d\":[{\"type\":\"scatter3d\",\"line\":{\"colorbar\":{\"outlinewidth\":0,\"ticks\":\"\"}},\"marker\":{\"colorbar\":{\"outlinewidth\":0,\"ticks\":\"\"}}}],\"scattermapbox\":[{\"type\":\"scattermapbox\",\"marker\":{\"colorbar\":{\"outlinewidth\":0,\"ticks\":\"\"}}}],\"scatterternary\":[{\"type\":\"scatterternary\",\"marker\":{\"colorbar\":{\"outlinewidth\":0,\"ticks\":\"\"}}}],\"scattercarpet\":[{\"type\":\"scattercarpet\",\"marker\":{\"colorbar\":{\"outlinewidth\":0,\"ticks\":\"\"}}}],\"carpet\":[{\"aaxis\":{\"endlinecolor\":\"#2a3f5f\",\"gridcolor\":\"white\",\"linecolor\":\"white\",\"minorgridcolor\":\"white\",\"startlinecolor\":\"#2a3f5f\"},\"baxis\":{\"endlinecolor\":\"#2a3f5f\",\"gridcolor\":\"white\",\"linecolor\":\"white\",\"minorgridcolor\":\"white\",\"startlinecolor\":\"#2a3f5f\"},\"type\":\"carpet\"}],\"table\":[{\"cells\":{\"fill\":{\"color\":\"#EBF0F8\"},\"line\":{\"color\":\"white\"}},\"header\":{\"fill\":{\"color\":\"#C8D4E3\"},\"line\":{\"color\":\"white\"}},\"type\":\"table\"}],\"barpolar\":[{\"marker\":{\"line\":{\"color\":\"#E5ECF6\",\"width\":0.5},\"pattern\":{\"fillmode\":\"overlay\",\"size\":10,\"solidity\":0.2}},\"type\":\"barpolar\"}],\"pie\":[{\"automargin\":true,\"type\":\"pie\"}]},\"layout\":{\"autotypenumbers\":\"strict\",\"colorway\":[\"#636efa\",\"#EF553B\",\"#00cc96\",\"#ab63fa\",\"#FFA15A\",\"#19d3f3\",\"#FF6692\",\"#B6E880\",\"#FF97FF\",\"#FECB52\"],\"font\":{\"color\":\"#2a3f5f\"},\"hovermode\":\"closest\",\"hoverlabel\":{\"align\":\"left\"},\"paper_bgcolor\":\"white\",\"plot_bgcolor\":\"#E5ECF6\",\"polar\":{\"bgcolor\":\"#E5ECF6\",\"angularaxis\":{\"gridcolor\":\"white\",\"linecolor\":\"white\",\"ticks\":\"\"},\"radialaxis\":{\"gridcolor\":\"white\",\"linecolor\":\"white\",\"ticks\":\"\"}},\"ternary\":{\"bgcolor\":\"#E5ECF6\",\"aaxis\":{\"gridcolor\":\"white\",\"linecolor\":\"white\",\"ticks\":\"\"},\"baxis\":{\"gridcolor\":\"white\",\"linecolor\":\"white\",\"ticks\":\"\"},\"caxis\":{\"gridcolor\":\"white\",\"linecolor\":\"white\",\"ticks\":\"\"}},\"coloraxis\":{\"colorbar\":{\"outlinewidth\":0,\"ticks\":\"\"}},\"colorscale\":{\"sequential\":[[0.0,\"#0d0887\"],[0.1111111111111111,\"#46039f\"],[0.2222222222222222,\"#7201a8\"],[0.3333333333333333,\"#9c179e\"],[0.4444444444444444,\"#bd3786\"],[0.5555555555555556,\"#d8576b\"],[0.6666666666666666,\"#ed7953\"],[0.7777777777777778,\"#fb9f3a\"],[0.8888888888888888,\"#fdca26\"],[1.0,\"#f0f921\"]],\"sequentialminus\":[[0.0,\"#0d0887\"],[0.1111111111111111,\"#46039f\"],[0.2222222222222222,\"#7201a8\"],[0.3333333333333333,\"#9c179e\"],[0.4444444444444444,\"#bd3786\"],[0.5555555555555556,\"#d8576b\"],[0.6666666666666666,\"#ed7953\"],[0.7777777777777778,\"#fb9f3a\"],[0.8888888888888888,\"#fdca26\"],[1.0,\"#f0f921\"]],\"diverging\":[[0,\"#8e0152\"],[0.1,\"#c51b7d\"],[0.2,\"#de77ae\"],[0.3,\"#f1b6da\"],[0.4,\"#fde0ef\"],[0.5,\"#f7f7f7\"],[0.6,\"#e6f5d0\"],[0.7,\"#b8e186\"],[0.8,\"#7fbc41\"],[0.9,\"#4d9221\"],[1,\"#276419\"]]},\"xaxis\":{\"gridcolor\":\"white\",\"linecolor\":\"white\",\"ticks\":\"\",\"title\":{\"standoff\":15},\"zerolinecolor\":\"white\",\"automargin\":true,\"zerolinewidth\":2},\"yaxis\":{\"gridcolor\":\"white\",\"linecolor\":\"white\",\"ticks\":\"\",\"title\":{\"standoff\":15},\"zerolinecolor\":\"white\",\"automargin\":true,\"zerolinewidth\":2},\"scene\":{\"xaxis\":{\"backgroundcolor\":\"#E5ECF6\",\"gridcolor\":\"white\",\"linecolor\":\"white\",\"showbackground\":true,\"ticks\":\"\",\"zerolinecolor\":\"white\",\"gridwidth\":2},\"yaxis\":{\"backgroundcolor\":\"#E5ECF6\",\"gridcolor\":\"white\",\"linecolor\":\"white\",\"showbackground\":true,\"ticks\":\"\",\"zerolinecolor\":\"white\",\"gridwidth\":2},\"zaxis\":{\"backgroundcolor\":\"#E5ECF6\",\"gridcolor\":\"white\",\"linecolor\":\"white\",\"showbackground\":true,\"ticks\":\"\",\"zerolinecolor\":\"white\",\"gridwidth\":2}},\"shapedefaults\":{\"line\":{\"color\":\"#2a3f5f\"}},\"annotationdefaults\":{\"arrowcolor\":\"#2a3f5f\",\"arrowhead\":0,\"arrowwidth\":1},\"geo\":{\"bgcolor\":\"white\",\"landcolor\":\"#E5ECF6\",\"subunitcolor\":\"white\",\"showland\":true,\"showlakes\":true,\"lakecolor\":\"white\"},\"title\":{\"x\":0.05},\"mapbox\":{\"style\":\"light\"}}},\"xaxis\":{\"anchor\":\"y\",\"domain\":[0.0,1.0],\"title\":{\"text\":\"Timestamp\"}},\"yaxis\":{\"anchor\":\"x\",\"domain\":[0.0,1.0],\"title\":{\"text\":\"Pressure\"}},\"legend\":{\"tracegroupgap\":0},\"margin\":{\"t\":60}},                        {\"responsive\": true}                    ).then(function(){\n",
       "                            \n",
       "var gd = document.getElementById('e8fcef50-7e4b-4242-8173-048dac2b242e');\n",
       "var x = new MutationObserver(function (mutations, observer) {{\n",
       "        var display = window.getComputedStyle(gd).display;\n",
       "        if (!display || display === 'none') {{\n",
       "            console.log([gd, 'removed!']);\n",
       "            Plotly.purge(gd);\n",
       "            observer.disconnect();\n",
       "        }}\n",
       "}});\n",
       "\n",
       "// Listen for the removal of the full notebook cells\n",
       "var notebookContainer = gd.closest('#notebook-container');\n",
       "if (notebookContainer) {{\n",
       "    x.observe(notebookContainer, {childList: true});\n",
       "}}\n",
       "\n",
       "// Listen for the clearing of the current output cell\n",
       "var outputEl = gd.closest('.output');\n",
       "if (outputEl) {{\n",
       "    x.observe(outputEl, {childList: true});\n",
       "}}\n",
       "\n",
       "                        })                };                });            </script>        </div>"
      ]
     },
     "metadata": {},
     "output_type": "display_data"
    },
    {
     "data": {
      "application/vnd.plotly.v1+json": {
       "config": {
        "plotlyServerURL": "https://plot.ly"
       },
       "data": [
        {
         "alignmentgroup": "True",
         "hovertemplate": "variable=Precip. Rate<br>Timestamp=%{x}<br>Inches=%{y}<extra></extra>",
         "legendgroup": "Precip. Rate",
         "marker": {
          "color": "green",
          "pattern": {
           "shape": ""
          }
         },
         "name": "Precip. Rate",
         "offsetgroup": "Precip. Rate",
         "orientation": "v",
         "showlegend": true,
         "textposition": "auto",
         "type": "bar",
         "x": [
          "2024-10-11T00:04:00",
          "2024-10-11T00:09:00",
          "2024-10-11T00:14:00",
          "2024-10-11T00:19:00",
          "2024-10-11T00:24:00",
          "2024-10-11T00:29:00",
          "2024-10-11T00:34:00",
          "2024-10-11T00:39:00",
          "2024-10-11T00:44:00",
          "2024-10-11T00:49:00",
          "2024-10-11T00:54:00",
          "2024-10-11T00:59:00",
          "2024-10-11T01:04:00",
          "2024-10-11T01:09:00",
          "2024-10-11T01:14:00",
          "2024-10-11T01:19:00",
          "2024-10-11T01:24:00",
          "2024-10-11T01:29:00",
          "2024-10-11T01:34:00",
          "2024-10-11T01:39:00",
          "2024-10-11T01:44:00",
          "2024-10-11T01:49:00",
          "2024-10-11T01:54:00",
          "2024-10-11T01:59:00",
          "2024-10-11T02:04:00",
          "2024-10-11T02:09:00",
          "2024-10-11T02:14:00",
          "2024-10-11T02:19:00",
          "2024-10-11T02:24:00",
          "2024-10-11T02:29:00",
          "2024-10-11T02:34:00",
          "2024-10-11T02:39:00",
          "2024-10-11T02:44:00",
          "2024-10-11T02:49:00",
          "2024-10-11T02:54:00",
          "2024-10-11T02:59:00",
          "2024-10-11T03:04:00",
          "2024-10-11T03:09:00",
          "2024-10-11T03:14:00",
          "2024-10-11T03:19:00",
          "2024-10-11T03:24:00",
          "2024-10-11T03:29:00",
          "2024-10-11T03:34:00",
          "2024-10-11T03:39:00",
          "2024-10-11T03:44:00",
          "2024-10-11T03:49:00",
          "2024-10-11T03:54:00",
          "2024-10-11T03:59:00",
          "2024-10-11T04:04:00",
          "2024-10-11T04:09:00",
          "2024-10-11T04:14:00",
          "2024-10-11T04:19:00",
          "2024-10-11T04:24:00",
          "2024-10-11T04:29:00",
          "2024-10-11T04:34:00",
          "2024-10-11T04:39:00",
          "2024-10-11T04:44:00",
          "2024-10-11T04:49:00",
          "2024-10-11T04:54:00",
          "2024-10-11T04:59:00",
          "2024-10-11T05:04:00",
          "2024-10-11T05:09:00",
          "2024-10-11T05:14:00",
          "2024-10-11T05:19:00",
          "2024-10-11T05:24:00",
          "2024-10-11T05:29:00",
          "2024-10-11T05:34:00",
          "2024-10-11T05:39:00",
          "2024-10-11T05:44:00",
          "2024-10-11T05:49:00",
          "2024-10-11T05:54:00",
          "2024-10-11T05:59:00",
          "2024-10-11T06:04:00",
          "2024-10-11T06:09:00",
          "2024-10-11T06:14:00",
          "2024-10-11T06:19:00",
          "2024-10-11T06:24:00",
          "2024-10-11T06:29:00",
          "2024-10-11T06:34:00",
          "2024-10-11T06:39:00",
          "2024-10-11T06:44:00",
          "2024-10-11T06:49:00",
          "2024-10-11T06:54:00",
          "2024-10-11T06:59:00",
          "2024-10-11T07:04:00",
          "2024-10-11T07:09:00",
          "2024-10-11T07:14:00",
          "2024-10-11T07:19:00",
          "2024-10-11T07:24:00",
          "2024-10-11T07:29:00",
          "2024-10-11T07:34:00",
          "2024-10-11T07:39:00",
          "2024-10-11T07:44:00",
          "2024-10-11T07:49:00",
          "2024-10-11T07:54:00",
          "2024-10-11T07:59:00",
          "2024-10-11T08:04:00",
          "2024-10-11T08:09:00",
          "2024-10-11T08:14:00",
          "2024-10-11T08:19:00",
          "2024-10-11T08:24:00",
          "2024-10-11T08:29:00",
          "2024-10-11T08:34:00",
          "2024-10-11T08:39:00",
          "2024-10-11T08:44:00",
          "2024-10-11T08:49:00",
          "2024-10-11T08:54:00",
          "2024-10-11T08:59:00",
          "2024-10-11T09:04:00",
          "2024-10-11T09:09:00",
          "2024-10-11T09:14:00",
          "2024-10-11T09:19:00",
          "2024-10-11T09:24:00",
          "2024-10-11T09:29:00",
          "2024-10-11T09:34:00",
          "2024-10-11T09:39:00",
          "2024-10-11T09:44:00",
          "2024-10-11T09:49:00",
          "2024-10-11T09:54:00",
          "2024-10-11T09:59:00",
          "2024-10-11T10:04:00",
          "2024-10-11T10:09:00",
          "2024-10-11T10:14:00",
          "2024-10-11T10:19:00",
          "2024-10-11T10:24:00",
          "2024-10-11T10:29:00",
          "2024-10-11T10:34:00",
          "2024-10-11T10:39:00",
          "2024-10-11T10:44:00",
          "2024-10-11T10:49:00",
          "2024-10-11T10:54:00",
          "2024-10-11T10:59:00",
          "2024-10-11T11:04:00",
          "2024-10-11T11:09:00",
          "2024-10-11T11:14:00",
          "2024-10-11T11:19:00",
          "2024-10-11T11:24:00",
          "2024-10-11T11:29:00",
          "2024-10-11T11:34:00",
          "2024-10-11T11:39:00",
          "2024-10-11T11:44:00",
          "2024-10-11T11:49:00",
          "2024-10-11T11:54:00",
          "2024-10-11T11:59:00",
          "2024-10-11T12:04:00",
          "2024-10-11T12:09:00",
          "2024-10-11T12:14:00",
          "2024-10-11T12:19:00",
          "2024-10-11T12:24:00",
          "2024-10-11T12:29:00",
          "2024-10-11T12:34:00",
          "2024-10-11T12:39:00",
          "2024-10-11T12:44:00",
          "2024-10-11T12:49:00",
          "2024-10-11T12:54:00",
          "2024-10-11T12:59:00",
          "2024-10-11T13:04:00",
          "2024-10-11T13:09:00",
          "2024-10-11T13:14:00",
          "2024-10-11T13:19:00",
          "2024-10-11T13:24:00",
          "2024-10-11T13:29:00",
          "2024-10-11T13:34:00",
          "2024-10-11T13:39:00",
          "2024-10-11T13:44:00",
          "2024-10-11T13:49:00",
          "2024-10-11T13:54:00",
          "2024-10-11T13:59:00",
          "2024-10-11T14:04:00",
          "2024-10-11T14:09:00",
          "2024-10-11T14:14:00",
          "2024-10-11T14:19:00",
          "2024-10-11T14:24:00",
          "2024-10-11T14:29:00",
          "2024-10-11T14:34:00",
          "2024-10-11T14:39:00",
          "2024-10-11T14:44:00",
          "2024-10-11T14:49:00",
          "2024-10-11T14:54:00",
          "2024-10-11T14:59:00",
          "2024-10-11T15:04:00",
          "2024-10-11T15:09:00",
          "2024-10-11T15:14:00",
          "2024-10-11T15:19:00",
          "2024-10-11T15:24:00"
         ],
         "xaxis": "x",
         "y": [
          0,
          0,
          0,
          0,
          0,
          0,
          0,
          0,
          0,
          0,
          0,
          0,
          0,
          0,
          0,
          0,
          0,
          0,
          0,
          0,
          0,
          0,
          0,
          0,
          0,
          0,
          0,
          0,
          0,
          0,
          0,
          0,
          0,
          0,
          0,
          0,
          0,
          0,
          0,
          0,
          0,
          0,
          0,
          0,
          0,
          0,
          0,
          0,
          0,
          0,
          0,
          0,
          0,
          0,
          0,
          0,
          0,
          0,
          0,
          0,
          0,
          0,
          0,
          0,
          0,
          0,
          0,
          0,
          0,
          0,
          0,
          0,
          0,
          0,
          0,
          0,
          0,
          0,
          0,
          0,
          0,
          0,
          0,
          0,
          0,
          0,
          0,
          0,
          0,
          0,
          0,
          0,
          0,
          0,
          0,
          0,
          0,
          0,
          0,
          0,
          0,
          0,
          0,
          0,
          0,
          0,
          0,
          0,
          0,
          0,
          0,
          0,
          0,
          0,
          0,
          0,
          0,
          0,
          0,
          0,
          0,
          0,
          0,
          0,
          0,
          0,
          0,
          0,
          0,
          0,
          0,
          0,
          0,
          0,
          0,
          0,
          0,
          0,
          0,
          0,
          0,
          0,
          0,
          0,
          0,
          0,
          0,
          0,
          0,
          0,
          0,
          0,
          0,
          0,
          0,
          0,
          0,
          0,
          0,
          0,
          0,
          0,
          0,
          0,
          0,
          0,
          0,
          0,
          0,
          0,
          0,
          0,
          0,
          0,
          0,
          0,
          0,
          0,
          0,
          0,
          0,
          0,
          0,
          0,
          0
         ],
         "yaxis": "y"
        },
        {
         "alignmentgroup": "True",
         "hovertemplate": "variable=Precip. Accum.<br>Timestamp=%{x}<br>Inches=%{y}<extra></extra>",
         "legendgroup": "Precip. Accum.",
         "marker": {
          "color": "blue",
          "pattern": {
           "shape": ""
          }
         },
         "name": "Precip. Accum.",
         "offsetgroup": "Precip. Accum.",
         "orientation": "v",
         "showlegend": true,
         "textposition": "auto",
         "type": "bar",
         "x": [
          "2024-10-11T00:04:00",
          "2024-10-11T00:09:00",
          "2024-10-11T00:14:00",
          "2024-10-11T00:19:00",
          "2024-10-11T00:24:00",
          "2024-10-11T00:29:00",
          "2024-10-11T00:34:00",
          "2024-10-11T00:39:00",
          "2024-10-11T00:44:00",
          "2024-10-11T00:49:00",
          "2024-10-11T00:54:00",
          "2024-10-11T00:59:00",
          "2024-10-11T01:04:00",
          "2024-10-11T01:09:00",
          "2024-10-11T01:14:00",
          "2024-10-11T01:19:00",
          "2024-10-11T01:24:00",
          "2024-10-11T01:29:00",
          "2024-10-11T01:34:00",
          "2024-10-11T01:39:00",
          "2024-10-11T01:44:00",
          "2024-10-11T01:49:00",
          "2024-10-11T01:54:00",
          "2024-10-11T01:59:00",
          "2024-10-11T02:04:00",
          "2024-10-11T02:09:00",
          "2024-10-11T02:14:00",
          "2024-10-11T02:19:00",
          "2024-10-11T02:24:00",
          "2024-10-11T02:29:00",
          "2024-10-11T02:34:00",
          "2024-10-11T02:39:00",
          "2024-10-11T02:44:00",
          "2024-10-11T02:49:00",
          "2024-10-11T02:54:00",
          "2024-10-11T02:59:00",
          "2024-10-11T03:04:00",
          "2024-10-11T03:09:00",
          "2024-10-11T03:14:00",
          "2024-10-11T03:19:00",
          "2024-10-11T03:24:00",
          "2024-10-11T03:29:00",
          "2024-10-11T03:34:00",
          "2024-10-11T03:39:00",
          "2024-10-11T03:44:00",
          "2024-10-11T03:49:00",
          "2024-10-11T03:54:00",
          "2024-10-11T03:59:00",
          "2024-10-11T04:04:00",
          "2024-10-11T04:09:00",
          "2024-10-11T04:14:00",
          "2024-10-11T04:19:00",
          "2024-10-11T04:24:00",
          "2024-10-11T04:29:00",
          "2024-10-11T04:34:00",
          "2024-10-11T04:39:00",
          "2024-10-11T04:44:00",
          "2024-10-11T04:49:00",
          "2024-10-11T04:54:00",
          "2024-10-11T04:59:00",
          "2024-10-11T05:04:00",
          "2024-10-11T05:09:00",
          "2024-10-11T05:14:00",
          "2024-10-11T05:19:00",
          "2024-10-11T05:24:00",
          "2024-10-11T05:29:00",
          "2024-10-11T05:34:00",
          "2024-10-11T05:39:00",
          "2024-10-11T05:44:00",
          "2024-10-11T05:49:00",
          "2024-10-11T05:54:00",
          "2024-10-11T05:59:00",
          "2024-10-11T06:04:00",
          "2024-10-11T06:09:00",
          "2024-10-11T06:14:00",
          "2024-10-11T06:19:00",
          "2024-10-11T06:24:00",
          "2024-10-11T06:29:00",
          "2024-10-11T06:34:00",
          "2024-10-11T06:39:00",
          "2024-10-11T06:44:00",
          "2024-10-11T06:49:00",
          "2024-10-11T06:54:00",
          "2024-10-11T06:59:00",
          "2024-10-11T07:04:00",
          "2024-10-11T07:09:00",
          "2024-10-11T07:14:00",
          "2024-10-11T07:19:00",
          "2024-10-11T07:24:00",
          "2024-10-11T07:29:00",
          "2024-10-11T07:34:00",
          "2024-10-11T07:39:00",
          "2024-10-11T07:44:00",
          "2024-10-11T07:49:00",
          "2024-10-11T07:54:00",
          "2024-10-11T07:59:00",
          "2024-10-11T08:04:00",
          "2024-10-11T08:09:00",
          "2024-10-11T08:14:00",
          "2024-10-11T08:19:00",
          "2024-10-11T08:24:00",
          "2024-10-11T08:29:00",
          "2024-10-11T08:34:00",
          "2024-10-11T08:39:00",
          "2024-10-11T08:44:00",
          "2024-10-11T08:49:00",
          "2024-10-11T08:54:00",
          "2024-10-11T08:59:00",
          "2024-10-11T09:04:00",
          "2024-10-11T09:09:00",
          "2024-10-11T09:14:00",
          "2024-10-11T09:19:00",
          "2024-10-11T09:24:00",
          "2024-10-11T09:29:00",
          "2024-10-11T09:34:00",
          "2024-10-11T09:39:00",
          "2024-10-11T09:44:00",
          "2024-10-11T09:49:00",
          "2024-10-11T09:54:00",
          "2024-10-11T09:59:00",
          "2024-10-11T10:04:00",
          "2024-10-11T10:09:00",
          "2024-10-11T10:14:00",
          "2024-10-11T10:19:00",
          "2024-10-11T10:24:00",
          "2024-10-11T10:29:00",
          "2024-10-11T10:34:00",
          "2024-10-11T10:39:00",
          "2024-10-11T10:44:00",
          "2024-10-11T10:49:00",
          "2024-10-11T10:54:00",
          "2024-10-11T10:59:00",
          "2024-10-11T11:04:00",
          "2024-10-11T11:09:00",
          "2024-10-11T11:14:00",
          "2024-10-11T11:19:00",
          "2024-10-11T11:24:00",
          "2024-10-11T11:29:00",
          "2024-10-11T11:34:00",
          "2024-10-11T11:39:00",
          "2024-10-11T11:44:00",
          "2024-10-11T11:49:00",
          "2024-10-11T11:54:00",
          "2024-10-11T11:59:00",
          "2024-10-11T12:04:00",
          "2024-10-11T12:09:00",
          "2024-10-11T12:14:00",
          "2024-10-11T12:19:00",
          "2024-10-11T12:24:00",
          "2024-10-11T12:29:00",
          "2024-10-11T12:34:00",
          "2024-10-11T12:39:00",
          "2024-10-11T12:44:00",
          "2024-10-11T12:49:00",
          "2024-10-11T12:54:00",
          "2024-10-11T12:59:00",
          "2024-10-11T13:04:00",
          "2024-10-11T13:09:00",
          "2024-10-11T13:14:00",
          "2024-10-11T13:19:00",
          "2024-10-11T13:24:00",
          "2024-10-11T13:29:00",
          "2024-10-11T13:34:00",
          "2024-10-11T13:39:00",
          "2024-10-11T13:44:00",
          "2024-10-11T13:49:00",
          "2024-10-11T13:54:00",
          "2024-10-11T13:59:00",
          "2024-10-11T14:04:00",
          "2024-10-11T14:09:00",
          "2024-10-11T14:14:00",
          "2024-10-11T14:19:00",
          "2024-10-11T14:24:00",
          "2024-10-11T14:29:00",
          "2024-10-11T14:34:00",
          "2024-10-11T14:39:00",
          "2024-10-11T14:44:00",
          "2024-10-11T14:49:00",
          "2024-10-11T14:54:00",
          "2024-10-11T14:59:00",
          "2024-10-11T15:04:00",
          "2024-10-11T15:09:00",
          "2024-10-11T15:14:00",
          "2024-10-11T15:19:00",
          "2024-10-11T15:24:00"
         ],
         "xaxis": "x",
         "y": [
          0,
          0,
          0,
          0,
          0,
          0,
          0,
          0,
          0,
          0,
          0,
          0,
          0,
          0,
          0,
          0,
          0,
          0,
          0,
          0,
          0,
          0,
          0,
          0,
          0,
          0,
          0,
          0,
          0,
          0,
          0,
          0,
          0,
          0,
          0,
          0,
          0,
          0,
          0,
          0,
          0,
          0,
          0,
          0,
          0,
          0,
          0,
          0,
          0,
          0,
          0,
          0,
          0,
          0,
          0,
          0,
          0,
          0,
          0,
          0,
          0,
          0,
          0,
          0,
          0,
          0,
          0,
          0,
          0,
          0,
          0,
          0,
          0,
          0,
          0,
          0,
          0,
          0,
          0,
          0,
          0,
          0,
          0,
          0,
          0,
          0,
          0,
          0,
          0,
          0,
          0,
          0,
          0,
          0,
          0,
          0,
          0,
          0,
          0,
          0,
          0,
          0,
          0,
          0,
          0,
          0,
          0,
          0,
          0,
          0,
          0,
          0,
          0,
          0,
          0,
          0,
          0,
          0,
          0,
          0,
          0,
          0,
          0,
          0,
          0,
          0,
          0,
          0,
          0,
          0,
          0,
          0,
          0,
          0,
          0,
          0,
          0,
          0,
          0,
          0,
          0,
          0,
          0,
          0,
          0,
          0,
          0,
          0,
          0,
          0,
          0,
          0,
          0,
          0,
          0,
          0,
          0,
          0,
          0,
          0,
          0,
          0,
          0,
          0,
          0,
          0,
          0,
          0,
          0,
          0,
          0,
          0,
          0,
          0,
          0,
          0,
          0,
          0,
          0,
          0,
          0,
          0,
          0,
          0,
          0
         ],
         "yaxis": "y"
        }
       ],
       "layout": {
        "autosize": true,
        "barmode": "group",
        "legend": {
         "title": {
          "text": "variable"
         },
         "tracegroupgap": 0
        },
        "margin": {
         "t": 60
        },
        "template": {
         "data": {
          "bar": [
           {
            "error_x": {
             "color": "#2a3f5f"
            },
            "error_y": {
             "color": "#2a3f5f"
            },
            "marker": {
             "line": {
              "color": "#E5ECF6",
              "width": 0.5
             },
             "pattern": {
              "fillmode": "overlay",
              "size": 10,
              "solidity": 0.2
             }
            },
            "type": "bar"
           }
          ],
          "barpolar": [
           {
            "marker": {
             "line": {
              "color": "#E5ECF6",
              "width": 0.5
             },
             "pattern": {
              "fillmode": "overlay",
              "size": 10,
              "solidity": 0.2
             }
            },
            "type": "barpolar"
           }
          ],
          "carpet": [
           {
            "aaxis": {
             "endlinecolor": "#2a3f5f",
             "gridcolor": "white",
             "linecolor": "white",
             "minorgridcolor": "white",
             "startlinecolor": "#2a3f5f"
            },
            "baxis": {
             "endlinecolor": "#2a3f5f",
             "gridcolor": "white",
             "linecolor": "white",
             "minorgridcolor": "white",
             "startlinecolor": "#2a3f5f"
            },
            "type": "carpet"
           }
          ],
          "choropleth": [
           {
            "colorbar": {
             "outlinewidth": 0,
             "ticks": ""
            },
            "type": "choropleth"
           }
          ],
          "contour": [
           {
            "colorbar": {
             "outlinewidth": 0,
             "ticks": ""
            },
            "colorscale": [
             [
              0,
              "#0d0887"
             ],
             [
              0.1111111111111111,
              "#46039f"
             ],
             [
              0.2222222222222222,
              "#7201a8"
             ],
             [
              0.3333333333333333,
              "#9c179e"
             ],
             [
              0.4444444444444444,
              "#bd3786"
             ],
             [
              0.5555555555555556,
              "#d8576b"
             ],
             [
              0.6666666666666666,
              "#ed7953"
             ],
             [
              0.7777777777777778,
              "#fb9f3a"
             ],
             [
              0.8888888888888888,
              "#fdca26"
             ],
             [
              1,
              "#f0f921"
             ]
            ],
            "type": "contour"
           }
          ],
          "contourcarpet": [
           {
            "colorbar": {
             "outlinewidth": 0,
             "ticks": ""
            },
            "type": "contourcarpet"
           }
          ],
          "heatmap": [
           {
            "colorbar": {
             "outlinewidth": 0,
             "ticks": ""
            },
            "colorscale": [
             [
              0,
              "#0d0887"
             ],
             [
              0.1111111111111111,
              "#46039f"
             ],
             [
              0.2222222222222222,
              "#7201a8"
             ],
             [
              0.3333333333333333,
              "#9c179e"
             ],
             [
              0.4444444444444444,
              "#bd3786"
             ],
             [
              0.5555555555555556,
              "#d8576b"
             ],
             [
              0.6666666666666666,
              "#ed7953"
             ],
             [
              0.7777777777777778,
              "#fb9f3a"
             ],
             [
              0.8888888888888888,
              "#fdca26"
             ],
             [
              1,
              "#f0f921"
             ]
            ],
            "type": "heatmap"
           }
          ],
          "heatmapgl": [
           {
            "colorbar": {
             "outlinewidth": 0,
             "ticks": ""
            },
            "colorscale": [
             [
              0,
              "#0d0887"
             ],
             [
              0.1111111111111111,
              "#46039f"
             ],
             [
              0.2222222222222222,
              "#7201a8"
             ],
             [
              0.3333333333333333,
              "#9c179e"
             ],
             [
              0.4444444444444444,
              "#bd3786"
             ],
             [
              0.5555555555555556,
              "#d8576b"
             ],
             [
              0.6666666666666666,
              "#ed7953"
             ],
             [
              0.7777777777777778,
              "#fb9f3a"
             ],
             [
              0.8888888888888888,
              "#fdca26"
             ],
             [
              1,
              "#f0f921"
             ]
            ],
            "type": "heatmapgl"
           }
          ],
          "histogram": [
           {
            "marker": {
             "pattern": {
              "fillmode": "overlay",
              "size": 10,
              "solidity": 0.2
             }
            },
            "type": "histogram"
           }
          ],
          "histogram2d": [
           {
            "colorbar": {
             "outlinewidth": 0,
             "ticks": ""
            },
            "colorscale": [
             [
              0,
              "#0d0887"
             ],
             [
              0.1111111111111111,
              "#46039f"
             ],
             [
              0.2222222222222222,
              "#7201a8"
             ],
             [
              0.3333333333333333,
              "#9c179e"
             ],
             [
              0.4444444444444444,
              "#bd3786"
             ],
             [
              0.5555555555555556,
              "#d8576b"
             ],
             [
              0.6666666666666666,
              "#ed7953"
             ],
             [
              0.7777777777777778,
              "#fb9f3a"
             ],
             [
              0.8888888888888888,
              "#fdca26"
             ],
             [
              1,
              "#f0f921"
             ]
            ],
            "type": "histogram2d"
           }
          ],
          "histogram2dcontour": [
           {
            "colorbar": {
             "outlinewidth": 0,
             "ticks": ""
            },
            "colorscale": [
             [
              0,
              "#0d0887"
             ],
             [
              0.1111111111111111,
              "#46039f"
             ],
             [
              0.2222222222222222,
              "#7201a8"
             ],
             [
              0.3333333333333333,
              "#9c179e"
             ],
             [
              0.4444444444444444,
              "#bd3786"
             ],
             [
              0.5555555555555556,
              "#d8576b"
             ],
             [
              0.6666666666666666,
              "#ed7953"
             ],
             [
              0.7777777777777778,
              "#fb9f3a"
             ],
             [
              0.8888888888888888,
              "#fdca26"
             ],
             [
              1,
              "#f0f921"
             ]
            ],
            "type": "histogram2dcontour"
           }
          ],
          "mesh3d": [
           {
            "colorbar": {
             "outlinewidth": 0,
             "ticks": ""
            },
            "type": "mesh3d"
           }
          ],
          "parcoords": [
           {
            "line": {
             "colorbar": {
              "outlinewidth": 0,
              "ticks": ""
             }
            },
            "type": "parcoords"
           }
          ],
          "pie": [
           {
            "automargin": true,
            "type": "pie"
           }
          ],
          "scatter": [
           {
            "fillpattern": {
             "fillmode": "overlay",
             "size": 10,
             "solidity": 0.2
            },
            "type": "scatter"
           }
          ],
          "scatter3d": [
           {
            "line": {
             "colorbar": {
              "outlinewidth": 0,
              "ticks": ""
             }
            },
            "marker": {
             "colorbar": {
              "outlinewidth": 0,
              "ticks": ""
             }
            },
            "type": "scatter3d"
           }
          ],
          "scattercarpet": [
           {
            "marker": {
             "colorbar": {
              "outlinewidth": 0,
              "ticks": ""
             }
            },
            "type": "scattercarpet"
           }
          ],
          "scattergeo": [
           {
            "marker": {
             "colorbar": {
              "outlinewidth": 0,
              "ticks": ""
             }
            },
            "type": "scattergeo"
           }
          ],
          "scattergl": [
           {
            "marker": {
             "colorbar": {
              "outlinewidth": 0,
              "ticks": ""
             }
            },
            "type": "scattergl"
           }
          ],
          "scattermapbox": [
           {
            "marker": {
             "colorbar": {
              "outlinewidth": 0,
              "ticks": ""
             }
            },
            "type": "scattermapbox"
           }
          ],
          "scatterpolar": [
           {
            "marker": {
             "colorbar": {
              "outlinewidth": 0,
              "ticks": ""
             }
            },
            "type": "scatterpolar"
           }
          ],
          "scatterpolargl": [
           {
            "marker": {
             "colorbar": {
              "outlinewidth": 0,
              "ticks": ""
             }
            },
            "type": "scatterpolargl"
           }
          ],
          "scatterternary": [
           {
            "marker": {
             "colorbar": {
              "outlinewidth": 0,
              "ticks": ""
             }
            },
            "type": "scatterternary"
           }
          ],
          "surface": [
           {
            "colorbar": {
             "outlinewidth": 0,
             "ticks": ""
            },
            "colorscale": [
             [
              0,
              "#0d0887"
             ],
             [
              0.1111111111111111,
              "#46039f"
             ],
             [
              0.2222222222222222,
              "#7201a8"
             ],
             [
              0.3333333333333333,
              "#9c179e"
             ],
             [
              0.4444444444444444,
              "#bd3786"
             ],
             [
              0.5555555555555556,
              "#d8576b"
             ],
             [
              0.6666666666666666,
              "#ed7953"
             ],
             [
              0.7777777777777778,
              "#fb9f3a"
             ],
             [
              0.8888888888888888,
              "#fdca26"
             ],
             [
              1,
              "#f0f921"
             ]
            ],
            "type": "surface"
           }
          ],
          "table": [
           {
            "cells": {
             "fill": {
              "color": "#EBF0F8"
             },
             "line": {
              "color": "white"
             }
            },
            "header": {
             "fill": {
              "color": "#C8D4E3"
             },
             "line": {
              "color": "white"
             }
            },
            "type": "table"
           }
          ]
         },
         "layout": {
          "annotationdefaults": {
           "arrowcolor": "#2a3f5f",
           "arrowhead": 0,
           "arrowwidth": 1
          },
          "autotypenumbers": "strict",
          "coloraxis": {
           "colorbar": {
            "outlinewidth": 0,
            "ticks": ""
           }
          },
          "colorscale": {
           "diverging": [
            [
             0,
             "#8e0152"
            ],
            [
             0.1,
             "#c51b7d"
            ],
            [
             0.2,
             "#de77ae"
            ],
            [
             0.3,
             "#f1b6da"
            ],
            [
             0.4,
             "#fde0ef"
            ],
            [
             0.5,
             "#f7f7f7"
            ],
            [
             0.6,
             "#e6f5d0"
            ],
            [
             0.7,
             "#b8e186"
            ],
            [
             0.8,
             "#7fbc41"
            ],
            [
             0.9,
             "#4d9221"
            ],
            [
             1,
             "#276419"
            ]
           ],
           "sequential": [
            [
             0,
             "#0d0887"
            ],
            [
             0.1111111111111111,
             "#46039f"
            ],
            [
             0.2222222222222222,
             "#7201a8"
            ],
            [
             0.3333333333333333,
             "#9c179e"
            ],
            [
             0.4444444444444444,
             "#bd3786"
            ],
            [
             0.5555555555555556,
             "#d8576b"
            ],
            [
             0.6666666666666666,
             "#ed7953"
            ],
            [
             0.7777777777777778,
             "#fb9f3a"
            ],
            [
             0.8888888888888888,
             "#fdca26"
            ],
            [
             1,
             "#f0f921"
            ]
           ],
           "sequentialminus": [
            [
             0,
             "#0d0887"
            ],
            [
             0.1111111111111111,
             "#46039f"
            ],
            [
             0.2222222222222222,
             "#7201a8"
            ],
            [
             0.3333333333333333,
             "#9c179e"
            ],
            [
             0.4444444444444444,
             "#bd3786"
            ],
            [
             0.5555555555555556,
             "#d8576b"
            ],
            [
             0.6666666666666666,
             "#ed7953"
            ],
            [
             0.7777777777777778,
             "#fb9f3a"
            ],
            [
             0.8888888888888888,
             "#fdca26"
            ],
            [
             1,
             "#f0f921"
            ]
           ]
          },
          "colorway": [
           "#636efa",
           "#EF553B",
           "#00cc96",
           "#ab63fa",
           "#FFA15A",
           "#19d3f3",
           "#FF6692",
           "#B6E880",
           "#FF97FF",
           "#FECB52"
          ],
          "font": {
           "color": "#2a3f5f"
          },
          "geo": {
           "bgcolor": "white",
           "lakecolor": "white",
           "landcolor": "#E5ECF6",
           "showlakes": true,
           "showland": true,
           "subunitcolor": "white"
          },
          "hoverlabel": {
           "align": "left"
          },
          "hovermode": "closest",
          "mapbox": {
           "style": "light"
          },
          "paper_bgcolor": "white",
          "plot_bgcolor": "#E5ECF6",
          "polar": {
           "angularaxis": {
            "gridcolor": "white",
            "linecolor": "white",
            "ticks": ""
           },
           "bgcolor": "#E5ECF6",
           "radialaxis": {
            "gridcolor": "white",
            "linecolor": "white",
            "ticks": ""
           }
          },
          "scene": {
           "xaxis": {
            "backgroundcolor": "#E5ECF6",
            "gridcolor": "white",
            "gridwidth": 2,
            "linecolor": "white",
            "showbackground": true,
            "ticks": "",
            "zerolinecolor": "white"
           },
           "yaxis": {
            "backgroundcolor": "#E5ECF6",
            "gridcolor": "white",
            "gridwidth": 2,
            "linecolor": "white",
            "showbackground": true,
            "ticks": "",
            "zerolinecolor": "white"
           },
           "zaxis": {
            "backgroundcolor": "#E5ECF6",
            "gridcolor": "white",
            "gridwidth": 2,
            "linecolor": "white",
            "showbackground": true,
            "ticks": "",
            "zerolinecolor": "white"
           }
          },
          "shapedefaults": {
           "line": {
            "color": "#2a3f5f"
           }
          },
          "ternary": {
           "aaxis": {
            "gridcolor": "white",
            "linecolor": "white",
            "ticks": ""
           },
           "baxis": {
            "gridcolor": "white",
            "linecolor": "white",
            "ticks": ""
           },
           "bgcolor": "#E5ECF6",
           "caxis": {
            "gridcolor": "white",
            "linecolor": "white",
            "ticks": ""
           }
          },
          "title": {
           "x": 0.05
          },
          "xaxis": {
           "automargin": true,
           "gridcolor": "white",
           "linecolor": "white",
           "ticks": "",
           "title": {
            "standoff": 15
           },
           "zerolinecolor": "white",
           "zerolinewidth": 2
          },
          "yaxis": {
           "automargin": true,
           "gridcolor": "white",
           "linecolor": "white",
           "ticks": "",
           "title": {
            "standoff": 15
           },
           "zerolinecolor": "white",
           "zerolinewidth": 2
          }
         }
        },
        "xaxis": {
         "anchor": "y",
         "autorange": true,
         "domain": [
          0,
          1
         ],
         "range": [
          "2024-10-11 00:01:30",
          "2024-10-11 15:26:30"
         ],
         "title": {
          "text": "Timestamp"
         },
         "type": "date"
        },
        "yaxis": {
         "anchor": "x",
         "autorange": true,
         "domain": [
          0,
          1
         ],
         "range": [
          -1,
          1
         ],
         "title": {
          "text": "Inches"
         },
         "type": "linear"
        }
       }
      },
      "image/png": "[encoded data removed]",
      "text/html": [
       "<div>                            <div id=\"9077452c-2440-4cf1-96d2-bbbdf63f3193\" class=\"plotly-graph-div\" style=\"height:525px; width:100%;\"></div>            <script type=\"text/javascript\">                require([\"plotly\"], function(Plotly) {                    window.PLOTLYENV=window.PLOTLYENV || {};                                    if (document.getElementById(\"9077452c-2440-4cf1-96d2-bbbdf63f3193\")) {                    Plotly.newPlot(                        \"9077452c-2440-4cf1-96d2-bbbdf63f3193\",                        [{\"alignmentgroup\":\"True\",\"hovertemplate\":\"variable=Precip. Rate\\u003cbr\\u003eTimestamp=%{x}\\u003cbr\\u003eInches=%{y}\\u003cextra\\u003e\\u003c\\u002fextra\\u003e\",\"legendgroup\":\"Precip. Rate\",\"marker\":{\"color\":\"green\",\"pattern\":{\"shape\":\"\"}},\"name\":\"Precip. Rate\",\"offsetgroup\":\"Precip. Rate\",\"orientation\":\"v\",\"showlegend\":true,\"textposition\":\"auto\",\"x\":[\"2024-10-11T00:04:00\",\"2024-10-11T00:09:00\",\"2024-10-11T00:14:00\",\"2024-10-11T00:19:00\",\"2024-10-11T00:24:00\",\"2024-10-11T00:29:00\",\"2024-10-11T00:34:00\",\"2024-10-11T00:39:00\",\"2024-10-11T00:44:00\",\"2024-10-11T00:49:00\",\"2024-10-11T00:54:00\",\"2024-10-11T00:59:00\",\"2024-10-11T01:04:00\",\"2024-10-11T01:09:00\",\"2024-10-11T01:14:00\",\"2024-10-11T01:19:00\",\"2024-10-11T01:24:00\",\"2024-10-11T01:29:00\",\"2024-10-11T01:34:00\",\"2024-10-11T01:39:00\",\"2024-10-11T01:44:00\",\"2024-10-11T01:49:00\",\"2024-10-11T01:54:00\",\"2024-10-11T01:59:00\",\"2024-10-11T02:04:00\",\"2024-10-11T02:09:00\",\"2024-10-11T02:14:00\",\"2024-10-11T02:19:00\",\"2024-10-11T02:24:00\",\"2024-10-11T02:29:00\",\"2024-10-11T02:34:00\",\"2024-10-11T02:39:00\",\"2024-10-11T02:44:00\",\"2024-10-11T02:49:00\",\"2024-10-11T02:54:00\",\"2024-10-11T02:59:00\",\"2024-10-11T03:04:00\",\"2024-10-11T03:09:00\",\"2024-10-11T03:14:00\",\"2024-10-11T03:19:00\",\"2024-10-11T03:24:00\",\"2024-10-11T03:29:00\",\"2024-10-11T03:34:00\",\"2024-10-11T03:39:00\",\"2024-10-11T03:44:00\",\"2024-10-11T03:49:00\",\"2024-10-11T03:54:00\",\"2024-10-11T03:59:00\",\"2024-10-11T04:04:00\",\"2024-10-11T04:09:00\",\"2024-10-11T04:14:00\",\"2024-10-11T04:19:00\",\"2024-10-11T04:24:00\",\"2024-10-11T04:29:00\",\"2024-10-11T04:34:00\",\"2024-10-11T04:39:00\",\"2024-10-11T04:44:00\",\"2024-10-11T04:49:00\",\"2024-10-11T04:54:00\",\"2024-10-11T04:59:00\",\"2024-10-11T05:04:00\",\"2024-10-11T05:09:00\",\"2024-10-11T05:14:00\",\"2024-10-11T05:19:00\",\"2024-10-11T05:24:00\",\"2024-10-11T05:29:00\",\"2024-10-11T05:34:00\",\"2024-10-11T05:39:00\",\"2024-10-11T05:44:00\",\"2024-10-11T05:49:00\",\"2024-10-11T05:54:00\",\"2024-10-11T05:59:00\",\"2024-10-11T06:04:00\",\"2024-10-11T06:09:00\",\"2024-10-11T06:14:00\",\"2024-10-11T06:19:00\",\"2024-10-11T06:24:00\",\"2024-10-11T06:29:00\",\"2024-10-11T06:34:00\",\"2024-10-11T06:39:00\",\"2024-10-11T06:44:00\",\"2024-10-11T06:49:00\",\"2024-10-11T06:54:00\",\"2024-10-11T06:59:00\",\"2024-10-11T07:04:00\",\"2024-10-11T07:09:00\",\"2024-10-11T07:14:00\",\"2024-10-11T07:19:00\",\"2024-10-11T07:24:00\",\"2024-10-11T07:29:00\",\"2024-10-11T07:34:00\",\"2024-10-11T07:39:00\",\"2024-10-11T07:44:00\",\"2024-10-11T07:49:00\",\"2024-10-11T07:54:00\",\"2024-10-11T07:59:00\",\"2024-10-11T08:04:00\",\"2024-10-11T08:09:00\",\"2024-10-11T08:14:00\",\"2024-10-11T08:19:00\",\"2024-10-11T08:24:00\",\"2024-10-11T08:29:00\",\"2024-10-11T08:34:00\",\"2024-10-11T08:39:00\",\"2024-10-11T08:44:00\",\"2024-10-11T08:49:00\",\"2024-10-11T08:54:00\",\"2024-10-11T08:59:00\",\"2024-10-11T09:04:00\",\"2024-10-11T09:09:00\",\"2024-10-11T09:14:00\",\"2024-10-11T09:19:00\",\"2024-10-11T09:24:00\",\"2024-10-11T09:29:00\",\"2024-10-11T09:34:00\",\"2024-10-11T09:39:00\",\"2024-10-11T09:44:00\",\"2024-10-11T09:49:00\",\"2024-10-11T09:54:00\",\"2024-10-11T09:59:00\",\"2024-10-11T10:04:00\",\"2024-10-11T10:09:00\",\"2024-10-11T10:14:00\",\"2024-10-11T10:19:00\",\"2024-10-11T10:24:00\",\"2024-10-11T10:29:00\",\"2024-10-11T10:34:00\",\"2024-10-11T10:39:00\",\"2024-10-11T10:44:00\",\"2024-10-11T10:49:00\",\"2024-10-11T10:54:00\",\"2024-10-11T10:59:00\",\"2024-10-11T11:04:00\",\"2024-10-11T11:09:00\",\"2024-10-11T11:14:00\",\"2024-10-11T11:19:00\",\"2024-10-11T11:24:00\",\"2024-10-11T11:29:00\",\"2024-10-11T11:34:00\",\"2024-10-11T11:39:00\",\"2024-10-11T11:44:00\",\"2024-10-11T11:49:00\",\"2024-10-11T11:54:00\",\"2024-10-11T11:59:00\",\"2024-10-11T12:04:00\",\"2024-10-11T12:09:00\",\"2024-10-11T12:14:00\",\"2024-10-11T12:19:00\",\"2024-10-11T12:24:00\",\"2024-10-11T12:29:00\",\"2024-10-11T12:34:00\",\"2024-10-11T12:39:00\",\"2024-10-11T12:44:00\",\"2024-10-11T12:49:00\",\"2024-10-11T12:54:00\",\"2024-10-11T12:59:00\",\"2024-10-11T13:04:00\",\"2024-10-11T13:09:00\",\"2024-10-11T13:14:00\",\"2024-10-11T13:19:00\",\"2024-10-11T13:24:00\",\"2024-10-11T13:29:00\",\"2024-10-11T13:34:00\",\"2024-10-11T13:39:00\",\"2024-10-11T13:44:00\",\"2024-10-11T13:49:00\",\"2024-10-11T13:54:00\",\"2024-10-11T13:59:00\",\"2024-10-11T14:04:00\",\"2024-10-11T14:09:00\",\"2024-10-11T14:14:00\",\"2024-10-11T14:19:00\",\"2024-10-11T14:24:00\",\"2024-10-11T14:29:00\",\"2024-10-11T14:34:00\",\"2024-10-11T14:39:00\",\"2024-10-11T14:44:00\",\"2024-10-11T14:49:00\",\"2024-10-11T14:54:00\",\"2024-10-11T14:59:00\",\"2024-10-11T15:04:00\",\"2024-10-11T15:09:00\",\"2024-10-11T15:14:00\",\"2024-10-11T15:19:00\",\"2024-10-11T15:24:00\"],\"xaxis\":\"x\",\"y\":[0.0,0.0,0.0,0.0,0.0,0.0,0.0,0.0,0.0,0.0,0.0,0.0,0.0,0.0,0.0,0.0,0.0,0.0,0.0,0.0,0.0,0.0,0.0,0.0,0.0,0.0,0.0,0.0,0.0,0.0,0.0,0.0,0.0,0.0,0.0,0.0,0.0,0.0,0.0,0.0,0.0,0.0,0.0,0.0,0.0,0.0,0.0,0.0,0.0,0.0,0.0,0.0,0.0,0.0,0.0,0.0,0.0,0.0,0.0,0.0,0.0,0.0,0.0,0.0,0.0,0.0,0.0,0.0,0.0,0.0,0.0,0.0,0.0,0.0,0.0,0.0,0.0,0.0,0.0,0.0,0.0,0.0,0.0,0.0,0.0,0.0,0.0,0.0,0.0,0.0,0.0,0.0,0.0,0.0,0.0,0.0,0.0,0.0,0.0,0.0,0.0,0.0,0.0,0.0,0.0,0.0,0.0,0.0,0.0,0.0,0.0,0.0,0.0,0.0,0.0,0.0,0.0,0.0,0.0,0.0,0.0,0.0,0.0,0.0,0.0,0.0,0.0,0.0,0.0,0.0,0.0,0.0,0.0,0.0,0.0,0.0,0.0,0.0,0.0,0.0,0.0,0.0,0.0,0.0,0.0,0.0,0.0,0.0,0.0,0.0,0.0,0.0,0.0,0.0,0.0,0.0,0.0,0.0,0.0,0.0,0.0,0.0,0.0,0.0,0.0,0.0,0.0,0.0,0.0,0.0,0.0,0.0,0.0,0.0,0.0,0.0,0.0,0.0,0.0,0.0,0.0,0.0,0.0,0.0,0.0],\"yaxis\":\"y\",\"type\":\"bar\"},{\"alignmentgroup\":\"True\",\"hovertemplate\":\"variable=Precip. Accum.\\u003cbr\\u003eTimestamp=%{x}\\u003cbr\\u003eInches=%{y}\\u003cextra\\u003e\\u003c\\u002fextra\\u003e\",\"legendgroup\":\"Precip. Accum.\",\"marker\":{\"color\":\"blue\",\"pattern\":{\"shape\":\"\"}},\"name\":\"Precip. Accum.\",\"offsetgroup\":\"Precip. Accum.\",\"orientation\":\"v\",\"showlegend\":true,\"textposition\":\"auto\",\"x\":[\"2024-10-11T00:04:00\",\"2024-10-11T00:09:00\",\"2024-10-11T00:14:00\",\"2024-10-11T00:19:00\",\"2024-10-11T00:24:00\",\"2024-10-11T00:29:00\",\"2024-10-11T00:34:00\",\"2024-10-11T00:39:00\",\"2024-10-11T00:44:00\",\"2024-10-11T00:49:00\",\"2024-10-11T00:54:00\",\"2024-10-11T00:59:00\",\"2024-10-11T01:04:00\",\"2024-10-11T01:09:00\",\"2024-10-11T01:14:00\",\"2024-10-11T01:19:00\",\"2024-10-11T01:24:00\",\"2024-10-11T01:29:00\",\"2024-10-11T01:34:00\",\"2024-10-11T01:39:00\",\"2024-10-11T01:44:00\",\"2024-10-11T01:49:00\",\"2024-10-11T01:54:00\",\"2024-10-11T01:59:00\",\"2024-10-11T02:04:00\",\"2024-10-11T02:09:00\",\"2024-10-11T02:14:00\",\"2024-10-11T02:19:00\",\"2024-10-11T02:24:00\",\"2024-10-11T02:29:00\",\"2024-10-11T02:34:00\",\"2024-10-11T02:39:00\",\"2024-10-11T02:44:00\",\"2024-10-11T02:49:00\",\"2024-10-11T02:54:00\",\"2024-10-11T02:59:00\",\"2024-10-11T03:04:00\",\"2024-10-11T03:09:00\",\"2024-10-11T03:14:00\",\"2024-10-11T03:19:00\",\"2024-10-11T03:24:00\",\"2024-10-11T03:29:00\",\"2024-10-11T03:34:00\",\"2024-10-11T03:39:00\",\"2024-10-11T03:44:00\",\"2024-10-11T03:49:00\",\"2024-10-11T03:54:00\",\"2024-10-11T03:59:00\",\"2024-10-11T04:04:00\",\"2024-10-11T04:09:00\",\"2024-10-11T04:14:00\",\"2024-10-11T04:19:00\",\"2024-10-11T04:24:00\",\"2024-10-11T04:29:00\",\"2024-10-11T04:34:00\",\"2024-10-11T04:39:00\",\"2024-10-11T04:44:00\",\"2024-10-11T04:49:00\",\"2024-10-11T04:54:00\",\"2024-10-11T04:59:00\",\"2024-10-11T05:04:00\",\"2024-10-11T05:09:00\",\"2024-10-11T05:14:00\",\"2024-10-11T05:19:00\",\"2024-10-11T05:24:00\",\"2024-10-11T05:29:00\",\"2024-10-11T05:34:00\",\"2024-10-11T05:39:00\",\"2024-10-11T05:44:00\",\"2024-10-11T05:49:00\",\"2024-10-11T05:54:00\",\"2024-10-11T05:59:00\",\"2024-10-11T06:04:00\",\"2024-10-11T06:09:00\",\"2024-10-11T06:14:00\",\"2024-10-11T06:19:00\",\"2024-10-11T06:24:00\",\"2024-10-11T06:29:00\",\"2024-10-11T06:34:00\",\"2024-10-11T06:39:00\",\"2024-10-11T06:44:00\",\"2024-10-11T06:49:00\",\"2024-10-11T06:54:00\",\"2024-10-11T06:59:00\",\"2024-10-11T07:04:00\",\"2024-10-11T07:09:00\",\"2024-10-11T07:14:00\",\"2024-10-11T07:19:00\",\"2024-10-11T07:24:00\",\"2024-10-11T07:29:00\",\"2024-10-11T07:34:00\",\"2024-10-11T07:39:00\",\"2024-10-11T07:44:00\",\"2024-10-11T07:49:00\",\"2024-10-11T07:54:00\",\"2024-10-11T07:59:00\",\"2024-10-11T08:04:00\",\"2024-10-11T08:09:00\",\"2024-10-11T08:14:00\",\"2024-10-11T08:19:00\",\"2024-10-11T08:24:00\",\"2024-10-11T08:29:00\",\"2024-10-11T08:34:00\",\"2024-10-11T08:39:00\",\"2024-10-11T08:44:00\",\"2024-10-11T08:49:00\",\"2024-10-11T08:54:00\",\"2024-10-11T08:59:00\",\"2024-10-11T09:04:00\",\"2024-10-11T09:09:00\",\"2024-10-11T09:14:00\",\"2024-10-11T09:19:00\",\"2024-10-11T09:24:00\",\"2024-10-11T09:29:00\",\"2024-10-11T09:34:00\",\"2024-10-11T09:39:00\",\"2024-10-11T09:44:00\",\"2024-10-11T09:49:00\",\"2024-10-11T09:54:00\",\"2024-10-11T09:59:00\",\"2024-10-11T10:04:00\",\"2024-10-11T10:09:00\",\"2024-10-11T10:14:00\",\"2024-10-11T10:19:00\",\"2024-10-11T10:24:00\",\"2024-10-11T10:29:00\",\"2024-10-11T10:34:00\",\"2024-10-11T10:39:00\",\"2024-10-11T10:44:00\",\"2024-10-11T10:49:00\",\"2024-10-11T10:54:00\",\"2024-10-11T10:59:00\",\"2024-10-11T11:04:00\",\"2024-10-11T11:09:00\",\"2024-10-11T11:14:00\",\"2024-10-11T11:19:00\",\"2024-10-11T11:24:00\",\"2024-10-11T11:29:00\",\"2024-10-11T11:34:00\",\"2024-10-11T11:39:00\",\"2024-10-11T11:44:00\",\"2024-10-11T11:49:00\",\"2024-10-11T11:54:00\",\"2024-10-11T11:59:00\",\"2024-10-11T12:04:00\",\"2024-10-11T12:09:00\",\"2024-10-11T12:14:00\",\"2024-10-11T12:19:00\",\"2024-10-11T12:24:00\",\"2024-10-11T12:29:00\",\"2024-10-11T12:34:00\",\"2024-10-11T12:39:00\",\"2024-10-11T12:44:00\",\"2024-10-11T12:49:00\",\"2024-10-11T12:54:00\",\"2024-10-11T12:59:00\",\"2024-10-11T13:04:00\",\"2024-10-11T13:09:00\",\"2024-10-11T13:14:00\",\"2024-10-11T13:19:00\",\"2024-10-11T13:24:00\",\"2024-10-11T13:29:00\",\"2024-10-11T13:34:00\",\"2024-10-11T13:39:00\",\"2024-10-11T13:44:00\",\"2024-10-11T13:49:00\",\"2024-10-11T13:54:00\",\"2024-10-11T13:59:00\",\"2024-10-11T14:04:00\",\"2024-10-11T14:09:00\",\"2024-10-11T14:14:00\",\"2024-10-11T14:19:00\",\"2024-10-11T14:24:00\",\"2024-10-11T14:29:00\",\"2024-10-11T14:34:00\",\"2024-10-11T14:39:00\",\"2024-10-11T14:44:00\",\"2024-10-11T14:49:00\",\"2024-10-11T14:54:00\",\"2024-10-11T14:59:00\",\"2024-10-11T15:04:00\",\"2024-10-11T15:09:00\",\"2024-10-11T15:14:00\",\"2024-10-11T15:19:00\",\"2024-10-11T15:24:00\"],\"xaxis\":\"x\",\"y\":[0.0,0.0,0.0,0.0,0.0,0.0,0.0,0.0,0.0,0.0,0.0,0.0,0.0,0.0,0.0,0.0,0.0,0.0,0.0,0.0,0.0,0.0,0.0,0.0,0.0,0.0,0.0,0.0,0.0,0.0,0.0,0.0,0.0,0.0,0.0,0.0,0.0,0.0,0.0,0.0,0.0,0.0,0.0,0.0,0.0,0.0,0.0,0.0,0.0,0.0,0.0,0.0,0.0,0.0,0.0,0.0,0.0,0.0,0.0,0.0,0.0,0.0,0.0,0.0,0.0,0.0,0.0,0.0,0.0,0.0,0.0,0.0,0.0,0.0,0.0,0.0,0.0,0.0,0.0,0.0,0.0,0.0,0.0,0.0,0.0,0.0,0.0,0.0,0.0,0.0,0.0,0.0,0.0,0.0,0.0,0.0,0.0,0.0,0.0,0.0,0.0,0.0,0.0,0.0,0.0,0.0,0.0,0.0,0.0,0.0,0.0,0.0,0.0,0.0,0.0,0.0,0.0,0.0,0.0,0.0,0.0,0.0,0.0,0.0,0.0,0.0,0.0,0.0,0.0,0.0,0.0,0.0,0.0,0.0,0.0,0.0,0.0,0.0,0.0,0.0,0.0,0.0,0.0,0.0,0.0,0.0,0.0,0.0,0.0,0.0,0.0,0.0,0.0,0.0,0.0,0.0,0.0,0.0,0.0,0.0,0.0,0.0,0.0,0.0,0.0,0.0,0.0,0.0,0.0,0.0,0.0,0.0,0.0,0.0,0.0,0.0,0.0,0.0,0.0,0.0,0.0,0.0,0.0,0.0,0.0],\"yaxis\":\"y\",\"type\":\"bar\"}],                        {\"template\":{\"data\":{\"histogram2dcontour\":[{\"type\":\"histogram2dcontour\",\"colorbar\":{\"outlinewidth\":0,\"ticks\":\"\"},\"colorscale\":[[0.0,\"#0d0887\"],[0.1111111111111111,\"#46039f\"],[0.2222222222222222,\"#7201a8\"],[0.3333333333333333,\"#9c179e\"],[0.4444444444444444,\"#bd3786\"],[0.5555555555555556,\"#d8576b\"],[0.6666666666666666,\"#ed7953\"],[0.7777777777777778,\"#fb9f3a\"],[0.8888888888888888,\"#fdca26\"],[1.0,\"#f0f921\"]]}],\"choropleth\":[{\"type\":\"choropleth\",\"colorbar\":{\"outlinewidth\":0,\"ticks\":\"\"}}],\"histogram2d\":[{\"type\":\"histogram2d\",\"colorbar\":{\"outlinewidth\":0,\"ticks\":\"\"},\"colorscale\":[[0.0,\"#0d0887\"],[0.1111111111111111,\"#46039f\"],[0.2222222222222222,\"#7201a8\"],[0.3333333333333333,\"#9c179e\"],[0.4444444444444444,\"#bd3786\"],[0.5555555555555556,\"#d8576b\"],[0.6666666666666666,\"#ed7953\"],[0.7777777777777778,\"#fb9f3a\"],[0.8888888888888888,\"#fdca26\"],[1.0,\"#f0f921\"]]}],\"heatmap\":[{\"type\":\"heatmap\",\"colorbar\":{\"outlinewidth\":0,\"ticks\":\"\"},\"colorscale\":[[0.0,\"#0d0887\"],[0.1111111111111111,\"#46039f\"],[0.2222222222222222,\"#7201a8\"],[0.3333333333333333,\"#9c179e\"],[0.4444444444444444,\"#bd3786\"],[0.5555555555555556,\"#d8576b\"],[0.6666666666666666,\"#ed7953\"],[0.7777777777777778,\"#fb9f3a\"],[0.8888888888888888,\"#fdca26\"],[1.0,\"#f0f921\"]]}],\"heatmapgl\":[{\"type\":\"heatmapgl\",\"colorbar\":{\"outlinewidth\":0,\"ticks\":\"\"},\"colorscale\":[[0.0,\"#0d0887\"],[0.1111111111111111,\"#46039f\"],[0.2222222222222222,\"#7201a8\"],[0.3333333333333333,\"#9c179e\"],[0.4444444444444444,\"#bd3786\"],[0.5555555555555556,\"#d8576b\"],[0.6666666666666666,\"#ed7953\"],[0.7777777777777778,\"#fb9f3a\"],[0.8888888888888888,\"#fdca26\"],[1.0,\"#f0f921\"]]}],\"contourcarpet\":[{\"type\":\"contourcarpet\",\"colorbar\":{\"outlinewidth\":0,\"ticks\":\"\"}}],\"contour\":[{\"type\":\"contour\",\"colorbar\":{\"outlinewidth\":0,\"ticks\":\"\"},\"colorscale\":[[0.0,\"#0d0887\"],[0.1111111111111111,\"#46039f\"],[0.2222222222222222,\"#7201a8\"],[0.3333333333333333,\"#9c179e\"],[0.4444444444444444,\"#bd3786\"],[0.5555555555555556,\"#d8576b\"],[0.6666666666666666,\"#ed7953\"],[0.7777777777777778,\"#fb9f3a\"],[0.8888888888888888,\"#fdca26\"],[1.0,\"#f0f921\"]]}],\"surface\":[{\"type\":\"surface\",\"colorbar\":{\"outlinewidth\":0,\"ticks\":\"\"},\"colorscale\":[[0.0,\"#0d0887\"],[0.1111111111111111,\"#46039f\"],[0.2222222222222222,\"#7201a8\"],[0.3333333333333333,\"#9c179e\"],[0.4444444444444444,\"#bd3786\"],[0.5555555555555556,\"#d8576b\"],[0.6666666666666666,\"#ed7953\"],[0.7777777777777778,\"#fb9f3a\"],[0.8888888888888888,\"#fdca26\"],[1.0,\"#f0f921\"]]}],\"mesh3d\":[{\"type\":\"mesh3d\",\"colorbar\":{\"outlinewidth\":0,\"ticks\":\"\"}}],\"scatter\":[{\"fillpattern\":{\"fillmode\":\"overlay\",\"size\":10,\"solidity\":0.2},\"type\":\"scatter\"}],\"parcoords\":[{\"type\":\"parcoords\",\"line\":{\"colorbar\":{\"outlinewidth\":0,\"ticks\":\"\"}}}],\"scatterpolargl\":[{\"type\":\"scatterpolargl\",\"marker\":{\"colorbar\":{\"outlinewidth\":0,\"ticks\":\"\"}}}],\"bar\":[{\"error_x\":{\"color\":\"#2a3f5f\"},\"error_y\":{\"color\":\"#2a3f5f\"},\"marker\":{\"line\":{\"color\":\"#E5ECF6\",\"width\":0.5},\"pattern\":{\"fillmode\":\"overlay\",\"size\":10,\"solidity\":0.2}},\"type\":\"bar\"}],\"scattergeo\":[{\"type\":\"scattergeo\",\"marker\":{\"colorbar\":{\"outlinewidth\":0,\"ticks\":\"\"}}}],\"scatterpolar\":[{\"type\":\"scatterpolar\",\"marker\":{\"colorbar\":{\"outlinewidth\":0,\"ticks\":\"\"}}}],\"histogram\":[{\"marker\":{\"pattern\":{\"fillmode\":\"overlay\",\"size\":10,\"solidity\":0.2}},\"type\":\"histogram\"}],\"scattergl\":[{\"type\":\"scattergl\",\"marker\":{\"colorbar\":{\"outlinewidth\":0,\"ticks\":\"\"}}}],\"scatter3d\":[{\"type\":\"scatter3d\",\"line\":{\"colorbar\":{\"outlinewidth\":0,\"ticks\":\"\"}},\"marker\":{\"colorbar\":{\"outlinewidth\":0,\"ticks\":\"\"}}}],\"scattermapbox\":[{\"type\":\"scattermapbox\",\"marker\":{\"colorbar\":{\"outlinewidth\":0,\"ticks\":\"\"}}}],\"scatterternary\":[{\"type\":\"scatterternary\",\"marker\":{\"colorbar\":{\"outlinewidth\":0,\"ticks\":\"\"}}}],\"scattercarpet\":[{\"type\":\"scattercarpet\",\"marker\":{\"colorbar\":{\"outlinewidth\":0,\"ticks\":\"\"}}}],\"carpet\":[{\"aaxis\":{\"endlinecolor\":\"#2a3f5f\",\"gridcolor\":\"white\",\"linecolor\":\"white\",\"minorgridcolor\":\"white\",\"startlinecolor\":\"#2a3f5f\"},\"baxis\":{\"endlinecolor\":\"#2a3f5f\",\"gridcolor\":\"white\",\"linecolor\":\"white\",\"minorgridcolor\":\"white\",\"startlinecolor\":\"#2a3f5f\"},\"type\":\"carpet\"}],\"table\":[{\"cells\":{\"fill\":{\"color\":\"#EBF0F8\"},\"line\":{\"color\":\"white\"}},\"header\":{\"fill\":{\"color\":\"#C8D4E3\"},\"line\":{\"color\":\"white\"}},\"type\":\"table\"}],\"barpolar\":[{\"marker\":{\"line\":{\"color\":\"#E5ECF6\",\"width\":0.5},\"pattern\":{\"fillmode\":\"overlay\",\"size\":10,\"solidity\":0.2}},\"type\":\"barpolar\"}],\"pie\":[{\"automargin\":true,\"type\":\"pie\"}]},\"layout\":{\"autotypenumbers\":\"strict\",\"colorway\":[\"#636efa\",\"#EF553B\",\"#00cc96\",\"#ab63fa\",\"#FFA15A\",\"#19d3f3\",\"#FF6692\",\"#B6E880\",\"#FF97FF\",\"#FECB52\"],\"font\":{\"color\":\"#2a3f5f\"},\"hovermode\":\"closest\",\"hoverlabel\":{\"align\":\"left\"},\"paper_bgcolor\":\"white\",\"plot_bgcolor\":\"#E5ECF6\",\"polar\":{\"bgcolor\":\"#E5ECF6\",\"angularaxis\":{\"gridcolor\":\"white\",\"linecolor\":\"white\",\"ticks\":\"\"},\"radialaxis\":{\"gridcolor\":\"white\",\"linecolor\":\"white\",\"ticks\":\"\"}},\"ternary\":{\"bgcolor\":\"#E5ECF6\",\"aaxis\":{\"gridcolor\":\"white\",\"linecolor\":\"white\",\"ticks\":\"\"},\"baxis\":{\"gridcolor\":\"white\",\"linecolor\":\"white\",\"ticks\":\"\"},\"caxis\":{\"gridcolor\":\"white\",\"linecolor\":\"white\",\"ticks\":\"\"}},\"coloraxis\":{\"colorbar\":{\"outlinewidth\":0,\"ticks\":\"\"}},\"colorscale\":{\"sequential\":[[0.0,\"#0d0887\"],[0.1111111111111111,\"#46039f\"],[0.2222222222222222,\"#7201a8\"],[0.3333333333333333,\"#9c179e\"],[0.4444444444444444,\"#bd3786\"],[0.5555555555555556,\"#d8576b\"],[0.6666666666666666,\"#ed7953\"],[0.7777777777777778,\"#fb9f3a\"],[0.8888888888888888,\"#fdca26\"],[1.0,\"#f0f921\"]],\"sequentialminus\":[[0.0,\"#0d0887\"],[0.1111111111111111,\"#46039f\"],[0.2222222222222222,\"#7201a8\"],[0.3333333333333333,\"#9c179e\"],[0.4444444444444444,\"#bd3786\"],[0.5555555555555556,\"#d8576b\"],[0.6666666666666666,\"#ed7953\"],[0.7777777777777778,\"#fb9f3a\"],[0.8888888888888888,\"#fdca26\"],[1.0,\"#f0f921\"]],\"diverging\":[[0,\"#8e0152\"],[0.1,\"#c51b7d\"],[0.2,\"#de77ae\"],[0.3,\"#f1b6da\"],[0.4,\"#fde0ef\"],[0.5,\"#f7f7f7\"],[0.6,\"#e6f5d0\"],[0.7,\"#b8e186\"],[0.8,\"#7fbc41\"],[0.9,\"#4d9221\"],[1,\"#276419\"]]},\"xaxis\":{\"gridcolor\":\"white\",\"linecolor\":\"white\",\"ticks\":\"\",\"title\":{\"standoff\":15},\"zerolinecolor\":\"white\",\"automargin\":true,\"zerolinewidth\":2},\"yaxis\":{\"gridcolor\":\"white\",\"linecolor\":\"white\",\"ticks\":\"\",\"title\":{\"standoff\":15},\"zerolinecolor\":\"white\",\"automargin\":true,\"zerolinewidth\":2},\"scene\":{\"xaxis\":{\"backgroundcolor\":\"#E5ECF6\",\"gridcolor\":\"white\",\"linecolor\":\"white\",\"showbackground\":true,\"ticks\":\"\",\"zerolinecolor\":\"white\",\"gridwidth\":2},\"yaxis\":{\"backgroundcolor\":\"#E5ECF6\",\"gridcolor\":\"white\",\"linecolor\":\"white\",\"showbackground\":true,\"ticks\":\"\",\"zerolinecolor\":\"white\",\"gridwidth\":2},\"zaxis\":{\"backgroundcolor\":\"#E5ECF6\",\"gridcolor\":\"white\",\"linecolor\":\"white\",\"showbackground\":true,\"ticks\":\"\",\"zerolinecolor\":\"white\",\"gridwidth\":2}},\"shapedefaults\":{\"line\":{\"color\":\"#2a3f5f\"}},\"annotationdefaults\":{\"arrowcolor\":\"#2a3f5f\",\"arrowhead\":0,\"arrowwidth\":1},\"geo\":{\"bgcolor\":\"white\",\"landcolor\":\"#E5ECF6\",\"subunitcolor\":\"white\",\"showland\":true,\"showlakes\":true,\"lakecolor\":\"white\"},\"title\":{\"x\":0.05},\"mapbox\":{\"style\":\"light\"}}},\"xaxis\":{\"anchor\":\"y\",\"domain\":[0.0,1.0],\"title\":{\"text\":\"Timestamp\"}},\"yaxis\":{\"anchor\":\"x\",\"domain\":[0.0,1.0],\"title\":{\"text\":\"Inches\"}},\"legend\":{\"title\":{\"text\":\"variable\"},\"tracegroupgap\":0},\"margin\":{\"t\":60},\"barmode\":\"group\"},                        {\"responsive\": true}                    ).then(function(){\n",
       "                            \n",
       "var gd = document.getElementById('9077452c-2440-4cf1-96d2-bbbdf63f3193');\n",
       "var x = new MutationObserver(function (mutations, observer) {{\n",
       "        var display = window.getComputedStyle(gd).display;\n",
       "        if (!display || display === 'none') {{\n",
       "            console.log([gd, 'removed!']);\n",
       "            Plotly.purge(gd);\n",
       "            observer.disconnect();\n",
       "        }}\n",
       "}});\n",
       "\n",
       "// Listen for the removal of the full notebook cells\n",
       "var notebookContainer = gd.closest('#notebook-container');\n",
       "if (notebookContainer) {{\n",
       "    x.observe(notebookContainer, {childList: true});\n",
       "}}\n",
       "\n",
       "// Listen for the clearing of the current output cell\n",
       "var outputEl = gd.closest('.output');\n",
       "if (outputEl) {{\n",
       "    x.observe(outputEl, {childList: true});\n",
       "}}\n",
       "\n",
       "                        })                };                });            </script>        </div>"
      ]
     },
     "metadata": {},
     "output_type": "display_data"
    }
   ],
   "source": [
    "import plotly.express as px\n",
    "\n",
    "df_temperature_dewpoint = df[['Timestamp', 'Temperature', 'Dew Point']]\n",
    "df_humidity = df[['Timestamp', 'Humidity']]\n",
    "df_wind = df[['Timestamp', 'Wind Speed', 'Wind Gust']]\n",
    "df_pressure = df[['Timestamp', 'Pressure']]\n",
    "df_rain = df[['Timestamp', 'Precip. Rate', 'Precip. Accum.']]\n",
    "\n",
    "\n",
    "temp_dewpoint_graph = px.line(\n",
    "    df_temperature_dewpoint,\n",
    "    x='Timestamp',\n",
    "    y=['Temperature', 'Dew Point'],\n",
    "    labels={'value': 'Degrees'},\n",
    "    color_discrete_map={\n",
    "        'Temperature': 'red',\n",
    "        'Dew Point': 'green'\n",
    "    }\n",
    ")\n",
    "\n",
    "humidity_graph = px.line(\n",
    "    df_humidity,\n",
    "    x='Timestamp',\n",
    "    y='Humidity',\n",
    "    labels={'value': 'Humidity'},\n",
    "    color_discrete_map={\n",
    "        'Humidity': 'red'\n",
    "    }\n",
    ")\n",
    "\n",
    "wind_speed_graph = px.line(\n",
    "    df_wind,\n",
    "    x='Timestamp',\n",
    "    y='Wind Speed',\n",
    "    labels={'value': 'MPH'},\n",
    "    color_discrete_map = {\n",
    "        'Wind Speed': 'blue'\n",
    "    }\n",
    ")\n",
    "\n",
    "wind_gust_graph = px.scatter(\n",
    "    df_wind,\n",
    "    x='Timestamp',\n",
    "    y='Wind Gust',\n",
    "    labels={'value': 'MPH'},\n",
    "    color_discrete_map = {\n",
    "        'Wind Gust': 'orange'\n",
    "    }\n",
    ")\n",
    "\n",
    "pressure_graph = px.line(\n",
    "    df_pressure,\n",
    "    x='Timestamp',\n",
    "    y='Pressure',\n",
    "    labels={'value': 'Inches'},\n",
    "    color_discrete_map = {\n",
    "        'Pressure': 'Black'\n",
    "    }\n",
    ")\n",
    "\n",
    "rain_graph = px.bar(\n",
    "    df_rain,\n",
    "    x='Timestamp',\n",
    "    y=['Precip. Rate', 'Precip. Accum.'],\n",
    "    labels={'value': 'Inches'},\n",
    "    color_discrete_map = {\n",
    "        'Precip. Rate': 'green',\n",
    "        'Precip. Accum.': 'blue'\n",
    "    }\n",
    ")\n",
    "\n",
    "temp_dewpoint_graph.show()\n",
    "humidity_graph.show()\n",
    "wind_graph = go.Figure(data=wind_speed_graph.data + wind_gust_graph.data)\n",
    "wind_graph.update_layout(xaxis_title='Timestamp', yaxis_title='MPH')\n",
    "wind_graph.show()\n",
    "pressure_graph.show()\n",
    "rain_graph.update_layout(barmode='group')\n",
    "rain_graph.show()"
   ]
  },
  {
   "cell_type": "code",
   "execution_count": null,
   "id": "18746a72-ea19-474f-94d8-310299e47a27",
   "metadata": {},
   "outputs": [],
   "source": []
  }
 ],
 "metadata": {
  "kernelspec": {
   "display_name": "Python 3 (ipykernel)",
   "language": "python",
   "name": "python3"
  },
  "language_info": {
   "codemirror_mode": {
    "name": "ipython",
    "version": 3
   },
   "file_extension": ".py",
   "mimetype": "text/x-python",
   "name": "python",
   "nbconvert_exporter": "python",
   "pygments_lexer": "ipython3",
   "version": "3.10.12"
  }
 },
 "nbformat": 4,
 "nbformat_minor": 5
}
